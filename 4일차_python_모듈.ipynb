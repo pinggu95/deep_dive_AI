{
  "nbformat": 4,
  "nbformat_minor": 0,
  "metadata": {
    "colab": {
      "provenance": [],
      "authorship_tag": "ABX9TyNSL0ooiHD95P6W7I0acrDp",
      "include_colab_link": true
    },
    "kernelspec": {
      "name": "python3",
      "display_name": "Python 3"
    },
    "language_info": {
      "name": "python"
    }
  },
  "cells": [
    {
      "cell_type": "markdown",
      "metadata": {
        "id": "view-in-github",
        "colab_type": "text"
      },
      "source": [
        "<a href=\"https://colab.research.google.com/github/pinggu95/deep_dive_AI/blob/main/4%EC%9D%BC%EC%B0%A8_python_%EB%AA%A8%EB%93%88.ipynb\" target=\"_parent\"><img src=\"https://colab.research.google.com/assets/colab-badge.svg\" alt=\"Open In Colab\"/></a>"
      ]
    },
    {
      "cell_type": "markdown",
      "source": [
        "## 모듈\n"
      ],
      "metadata": {
        "id": "wnQiLDetetz1"
      }
    },
    {
      "cell_type": "markdown",
      "source": [
        "```\n",
        "import tkinter\n",
        "tkinter.widget = tkinter.Label(None, text='Hello World')\n",
        "tkinter.widget.pack()\n",
        "```\n",
        "\n",
        "```\n",
        "from tkinter import *\n",
        "widget = Label(None, text='Hello World')\n",
        "widget.pack()\n",
        "```\n",
        "![image.png](data:image/png;base64,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)"
      ],
      "metadata": {
        "id": "1AqGhjWnUKYT"
      }
    },
    {
      "cell_type": "code",
      "source": [
        "import calendar\n",
        "print(dir(calendar))"
      ],
      "metadata": {
        "colab": {
          "base_uri": "https://localhost:8080/"
        },
        "id": "Ztb8hQ8XTVa7",
        "outputId": "6a1f5ae0-18ec-43c7-ca33-092bf15354f5"
      },
      "execution_count": null,
      "outputs": [
        {
          "output_type": "stream",
          "name": "stdout",
          "text": [
            "['Calendar', 'EPOCH', 'FRIDAY', 'February', 'HTMLCalendar', 'IllegalMonthError', 'IllegalWeekdayError', 'January', 'LocaleHTMLCalendar', 'LocaleTextCalendar', 'MONDAY', 'SATURDAY', 'SUNDAY', 'THURSDAY', 'TUESDAY', 'TextCalendar', 'WEDNESDAY', '_EPOCH_ORD', '__all__', '__builtins__', '__cached__', '__doc__', '__file__', '__loader__', '__name__', '__package__', '__spec__', '_colwidth', '_get_default_locale', '_locale', '_localized_day', '_localized_month', '_monthlen', '_nextmonth', '_prevmonth', '_spacing', 'c', 'calendar', 'datetime', 'day_abbr', 'day_name', 'different_locale', 'error', 'firstweekday', 'format', 'formatstring', 'isleap', 'leapdays', 'main', 'mdays', 'month', 'month_abbr', 'month_name', 'monthcalendar', 'monthrange', 'prcal', 'prmonth', 'prweek', 'repeat', 'setfirstweekday', 'sys', 'timegm', 'week', 'weekday', 'weekheader']\n"
          ]
        }
      ]
    },
    {
      "cell_type": "code",
      "source": [
        "# 문자열에 leap 들어가 있는걸 찾아보자\n",
        "a = [x for x in dir(calendar)if 'leap'in x]\n",
        "print(a)"
      ],
      "metadata": {
        "colab": {
          "base_uri": "https://localhost:8080/"
        },
        "id": "TdlXkvYiVB0D",
        "outputId": "327e9d90-88be-48a4-d22f-ccd711d922e9"
      },
      "execution_count": null,
      "outputs": [
        {
          "output_type": "stream",
          "name": "stdout",
          "text": [
            "['isleap', 'leapdays']\n"
          ]
        }
      ]
    },
    {
      "cell_type": "code",
      "source": [
        "#주어진 해가 윤년인지 아닌지 판별하는 함수를 사용해 2077년이 윤년인지 확인\n",
        "help(calendar.isleap) #leap year 윤년, leay day 윤달"
      ],
      "metadata": {
        "colab": {
          "base_uri": "https://localhost:8080/"
        },
        "id": "HatBKT-sVZ0R",
        "outputId": "62b416f5-916e-491e-fb5e-d2a5d650a0e2"
      },
      "execution_count": null,
      "outputs": [
        {
          "output_type": "stream",
          "name": "stdout",
          "text": [
            "Help on function isleap in module calendar:\n",
            "\n",
            "isleap(year)\n",
            "    Return True for leap years, False for non-leap years.\n",
            "\n"
          ]
        }
      ]
    },
    {
      "cell_type": "code",
      "source": [
        "print(calendar.isleap(2077)) # 2077은 윤년이 아니다"
      ],
      "metadata": {
        "colab": {
          "base_uri": "https://localhost:8080/"
        },
        "id": "z_xNnDdwWHAD",
        "outputId": "f50255f4-b3fb-40b2-e307-244236090f9e"
      },
      "execution_count": null,
      "outputs": [
        {
          "output_type": "stream",
          "name": "stdout",
          "text": [
            "False\n"
          ]
        }
      ]
    },
    {
      "cell_type": "markdown",
      "source": [
        "### random 모듈"
      ],
      "metadata": {
        "id": "szn5rgOWWyat"
      }
    },
    {
      "cell_type": "code",
      "source": [
        "import random\n",
        "random.random() # 0과1미만의 난수를 출력한다."
      ],
      "metadata": {
        "colab": {
          "base_uri": "https://localhost:8080/"
        },
        "id": "CN8z3kDoW2oF",
        "outputId": "8ad41f14-0c5f-406c-f9dc-05205bd0a6cb"
      },
      "execution_count": null,
      "outputs": [
        {
          "output_type": "execute_result",
          "data": {
            "text/plain": [
              "0.44510745208130664"
            ]
          },
          "metadata": {},
          "execution_count": 19
        }
      ]
    },
    {
      "cell_type": "code",
      "source": [
        "random.randrange(1,7) # 1이상 7미만의 난수를 출력한다"
      ],
      "metadata": {
        "colab": {
          "base_uri": "https://localhost:8080/"
        },
        "id": "vJhsAaMxW_fG",
        "outputId": "4f0e81a1-8164-4f02-9cad-ceb2e96eb196"
      },
      "execution_count": null,
      "outputs": [
        {
          "output_type": "execute_result",
          "data": {
            "text/plain": [
              "5"
            ]
          },
          "metadata": {},
          "execution_count": 20
        }
      ]
    },
    {
      "cell_type": "code",
      "source": [
        "a=['a','b','c','d','e']\n",
        "random.shuffle(a)   #shuffle은 시퀀스를 섞어 놓는 함수다 즉, 배열을 섞어 놓는다\n",
        "print(a)\n",
        "print(a[0])"
      ],
      "metadata": {
        "colab": {
          "base_uri": "https://localhost:8080/"
        },
        "id": "F8lbPmNFXM7G",
        "outputId": "5545e327-d5ac-44e2-848b-ea13f7ea5c73"
      },
      "execution_count": null,
      "outputs": [
        {
          "output_type": "stream",
          "name": "stdout",
          "text": [
            "['d', 'e', 'b', 'a', 'c']\n",
            "d\n"
          ]
        }
      ]
    },
    {
      "cell_type": "code",
      "source": [
        "# 색이름과 과일을 무작위로 뽑아서 밴드 이름을 지어주는 프로그램\n",
        "a=['빨강','노랑','주황','초록','파랑','보라']\n",
        "b=['사과','바나나','오렌지','라임','블루베리','포도']\n",
        "\n",
        "random.shuffle(a)\n",
        "random.shuffle(b)\n",
        "\n",
        "for i in range(len(a)):\n",
        "  print(a[i]+b[i])\n"
      ],
      "metadata": {
        "colab": {
          "base_uri": "https://localhost:8080/"
        },
        "id": "4nW5M4JsXmJd",
        "outputId": "fdf55dee-2822-4900-ec09-789537256e33"
      },
      "execution_count": null,
      "outputs": [
        {
          "output_type": "stream",
          "name": "stdout",
          "text": [
            "주황오렌지\n",
            "파랑블루베리\n",
            "초록사과\n",
            "노랑포도\n",
            "빨강라임\n",
            "보라바나나\n"
          ]
        }
      ]
    },
    {
      "cell_type": "markdown",
      "source": [
        "### 날짜와 시간"
      ],
      "metadata": {
        "id": "RndAlFVJZsOe"
      }
    },
    {
      "cell_type": "code",
      "source": [
        "from datetime import datetime\n",
        "specific_datetime = datetime(2025,5,16,13,55)\n",
        "print(specific_datetime)"
      ],
      "metadata": {
        "colab": {
          "base_uri": "https://localhost:8080/"
        },
        "id": "pCbrf6O_Zyty",
        "outputId": "84edb70b-6981-47b8-c776-eb884a7314fc"
      },
      "execution_count": 79,
      "outputs": [
        {
          "output_type": "stream",
          "name": "stdout",
          "text": [
            "2025-05-16 13:55:00\n"
          ]
        }
      ]
    },
    {
      "cell_type": "code",
      "source": [
        "#시간 차 구하기\n",
        "datetime1 = datetime(2024,2,27)\n",
        "datetime2 = datetime(2024,3,5)\n",
        "diff  = datetime2-datetime1\n",
        "print(diff)"
      ],
      "metadata": {
        "colab": {
          "base_uri": "https://localhost:8080/"
        },
        "id": "lzfK_ggEcwUA",
        "outputId": "79337d7b-f139-4de5-acd4-d5834655e62a"
      },
      "execution_count": 80,
      "outputs": [
        {
          "output_type": "stream",
          "name": "stdout",
          "text": [
            "7 days, 0:00:00\n"
          ]
        }
      ]
    },
    {
      "cell_type": "code",
      "source": [
        "# 시간을 문자열로 변환\n",
        "datenow = datetime.now()\n",
        "str_date = datenow.strftime(\"%Y %B %d\")\n",
        "print(str_date)"
      ],
      "metadata": {
        "colab": {
          "base_uri": "https://localhost:8080/"
        },
        "id": "L1nhGc8SdOSp",
        "outputId": "cf6b3c2a-f58f-4071-ca56-86f614590184"
      },
      "execution_count": 81,
      "outputs": [
        {
          "output_type": "stream",
          "name": "stdout",
          "text": [
            "2025 May 16\n"
          ]
        }
      ]
    },
    {
      "cell_type": "code",
      "source": [
        "#현재 날짜 시각 yyyy-mm-dd HH:MM:ss\n",
        "datenow = datetime.now()\n",
        "str_date = datenow.strftime(\"%Y-%m-%d %H:%M:%S\")\n",
        "print(str_date)"
      ],
      "metadata": {
        "colab": {
          "base_uri": "https://localhost:8080/"
        },
        "id": "PhbJIGD4eak6",
        "outputId": "a9c6b47c-661a-4fe4-cd59-acb467f8f925"
      },
      "execution_count": 82,
      "outputs": [
        {
          "output_type": "stream",
          "name": "stdout",
          "text": [
            "2025-05-16 08:16:25\n"
          ]
        }
      ]
    },
    {
      "cell_type": "markdown",
      "source": [
        "### map(), fliter()"
      ],
      "metadata": {
        "id": "ixN7-AXme1sa"
      }
    },
    {
      "cell_type": "code",
      "source": [
        "target = [1,2,3,4,5]\n",
        "\n",
        "def add_1(n):\n",
        "  return n+1\n",
        "\n",
        "result =[]\n",
        "\n",
        "for value in target:\n",
        "  result.append(add_1(value))\n",
        "\n",
        "print(result)"
      ],
      "metadata": {
        "colab": {
          "base_uri": "https://localhost:8080/"
        },
        "id": "lj4ALPcamTDn",
        "outputId": "506ddc14-0836-4889-c1ed-89ad5a77ab67"
      },
      "execution_count": 83,
      "outputs": [
        {
          "output_type": "stream",
          "name": "stdout",
          "text": [
            "[2, 3, 4, 5, 6]\n"
          ]
        }
      ]
    },
    {
      "cell_type": "code",
      "source": [
        "#map() 사용시\n",
        "\n",
        "def add_1(n):\n",
        "  return n+1\n",
        "\n",
        "target = [1,2,3,4,5]\n",
        "\n",
        "#결과를 확인할수 없다\n",
        "result = map(add_1,target)\n",
        "print(result)\n",
        "\n",
        "#방법1\n",
        "result = list(map(add_1,target))\n",
        "print(result)\n",
        "\n",
        "#방법2\n",
        "result = map(add_1,target)\n",
        "print(list(result))"
      ],
      "metadata": {
        "colab": {
          "base_uri": "https://localhost:8080/"
        },
        "id": "Aj0dshrVm6IV",
        "outputId": "2e006c4b-4a4a-486d-c0cc-64b4e764cae0"
      },
      "execution_count": 84,
      "outputs": [
        {
          "output_type": "stream",
          "name": "stdout",
          "text": [
            "<map object at 0x7da0c1b595a0>\n",
            "[2, 3, 4, 5, 6]\n",
            "[2, 3, 4, 5, 6]\n"
          ]
        }
      ]
    },
    {
      "cell_type": "code",
      "source": [
        "target = [1,2,3,4,5,6,7,8,9,10]\n",
        "result =[]\n",
        "\n",
        "def is_even(n):\n",
        "  return True if n%2==0 else False\n",
        "\n",
        "for value in target:\n",
        "  if is_even(value):\n",
        "    result.append(value)\n",
        "\n",
        "print(result)"
      ],
      "metadata": {
        "colab": {
          "base_uri": "https://localhost:8080/"
        },
        "id": "X0EF5sGYocRo",
        "outputId": "91bc49d9-6e24-4bbe-c94b-ecc1930d2461"
      },
      "execution_count": 85,
      "outputs": [
        {
          "output_type": "stream",
          "name": "stdout",
          "text": [
            "[2, 4, 6, 8, 10]\n"
          ]
        }
      ]
    },
    {
      "cell_type": "code",
      "source": [
        "target = [1,2,3,4,5,6,7,8,9,10]\n",
        "\n",
        "def is_even(n):\n",
        "  return True if n%2==0 else False\n",
        "\n",
        "result = filter(is_even,target)\n",
        "print(list(result))"
      ],
      "metadata": {
        "colab": {
          "base_uri": "https://localhost:8080/"
        },
        "id": "Sri9DGzcozrX",
        "outputId": "4d2e789a-0ff0-4fd5-a699-02ad83b4da2b"
      },
      "execution_count": 86,
      "outputs": [
        {
          "output_type": "stream",
          "name": "stdout",
          "text": [
            "[2, 4, 6, 8, 10]\n"
          ]
        }
      ]
    },
    {
      "cell_type": "code",
      "source": [
        "#루프문을 이용한 간단한 예외작업 만들어보기\n",
        "\n",
        "while True:\n",
        "    try:\n",
        "        num = int(input(\"숫자를 입력하세요(0~100까지 숫자중): \"))\n",
        "        if 0 <= num <= 100:\n",
        "            print(f\"입력한 숫자는 {num}입니다.\")\n",
        "            break\n",
        "        else:\n",
        "            print(\"0~100 사이의 숫자만 입력해주세요.\")\n",
        "    except ValueError:\n",
        "        print(\"유효한 숫자가 아닙니다. 다시 입력해주세요.\")\n"
      ],
      "metadata": {
        "colab": {
          "base_uri": "https://localhost:8080/"
        },
        "id": "c_-EuxW9pB6O",
        "outputId": "c6c42190-8988-4205-8933-ce455bff3584"
      },
      "execution_count": 87,
      "outputs": [
        {
          "output_type": "stream",
          "name": "stdout",
          "text": [
            "숫자를 입력하세요(0~100까지 숫자중): 15\n",
            "입력한 숫자는 15입니다.\n"
          ]
        }
      ]
    },
    {
      "cell_type": "markdown",
      "source": [
        "### 이터러블 객체, 이터레이터 **객체**"
      ],
      "metadata": {
        "id": "CDTsG5TQKOWH"
      }
    },
    {
      "cell_type": "code",
      "source": [
        "a = 1\n",
        "iter(a)"
      ],
      "metadata": {
        "colab": {
          "base_uri": "https://localhost:8080/",
          "height": 164
        },
        "id": "MKnYeU37zX7G",
        "outputId": "7f17eab8-9a59-47a4-c2ae-f8129a9f7b41"
      },
      "execution_count": 92,
      "outputs": [
        {
          "output_type": "error",
          "ename": "TypeError",
          "evalue": "'int' object is not iterable",
          "traceback": [
            "\u001b[0;31m---------------------------------------------------------------------------\u001b[0m",
            "\u001b[0;31mTypeError\u001b[0m                                 Traceback (most recent call last)",
            "\u001b[0;32m<ipython-input-92-f180d54baa82>\u001b[0m in \u001b[0;36m<cell line: 0>\u001b[0;34m()\u001b[0m\n\u001b[1;32m      1\u001b[0m \u001b[0ma\u001b[0m \u001b[0;34m=\u001b[0m \u001b[0;36m1\u001b[0m\u001b[0;34m\u001b[0m\u001b[0;34m\u001b[0m\u001b[0m\n\u001b[0;32m----> 2\u001b[0;31m \u001b[0miter\u001b[0m\u001b[0;34m(\u001b[0m\u001b[0ma\u001b[0m\u001b[0;34m)\u001b[0m\u001b[0;34m\u001b[0m\u001b[0;34m\u001b[0m\u001b[0m\n\u001b[0m",
            "\u001b[0;31mTypeError\u001b[0m: 'int' object is not iterable"
          ]
        }
      ]
    },
    {
      "cell_type": "code",
      "source": [
        "a =[1,2,3,4]\n",
        "print(iter(a))"
      ],
      "metadata": {
        "colab": {
          "base_uri": "https://localhost:8080/"
        },
        "id": "It7pOcy8zvB8",
        "outputId": "536b2622-d018-4387-c9a8-6df800cc52c3"
      },
      "execution_count": 90,
      "outputs": [
        {
          "output_type": "stream",
          "name": "stdout",
          "text": [
            "<list_iterator object at 0x7da0c1b58f40>\n"
          ]
        }
      ]
    },
    {
      "cell_type": "code",
      "source": [
        "a = 1\n",
        "for i in a:\n",
        "  print(i)"
      ],
      "metadata": {
        "colab": {
          "base_uri": "https://localhost:8080/",
          "height": 182
        },
        "id": "OrUG_GiX0Q2R",
        "outputId": "01e7aade-d3e6-48c4-c679-a132915cd69e"
      },
      "execution_count": 91,
      "outputs": [
        {
          "output_type": "error",
          "ename": "TypeError",
          "evalue": "'int' object is not iterable",
          "traceback": [
            "\u001b[0;31m---------------------------------------------------------------------------\u001b[0m",
            "\u001b[0;31mTypeError\u001b[0m                                 Traceback (most recent call last)",
            "\u001b[0;32m<ipython-input-91-073635e5b1b0>\u001b[0m in \u001b[0;36m<cell line: 0>\u001b[0;34m()\u001b[0m\n\u001b[1;32m      1\u001b[0m \u001b[0ma\u001b[0m \u001b[0;34m=\u001b[0m \u001b[0;36m1\u001b[0m\u001b[0;34m\u001b[0m\u001b[0;34m\u001b[0m\u001b[0m\n\u001b[0;32m----> 2\u001b[0;31m \u001b[0;32mfor\u001b[0m \u001b[0mi\u001b[0m \u001b[0;32min\u001b[0m \u001b[0ma\u001b[0m\u001b[0;34m:\u001b[0m\u001b[0;34m\u001b[0m\u001b[0;34m\u001b[0m\u001b[0m\n\u001b[0m\u001b[1;32m      3\u001b[0m   \u001b[0mprint\u001b[0m\u001b[0;34m(\u001b[0m\u001b[0mi\u001b[0m\u001b[0;34m)\u001b[0m\u001b[0;34m\u001b[0m\u001b[0;34m\u001b[0m\u001b[0m\n",
            "\u001b[0;31mTypeError\u001b[0m: 'int' object is not iterable"
          ]
        }
      ]
    },
    {
      "cell_type": "code",
      "source": [
        "lst = [1, 2, 3]       # 리스트\n",
        "s = \"hello\"           # 문자열\n",
        "t = (10, 20, 30)      # 튜플\n",
        "d = {\"a\": 1, \"b\": 2}  # 딕셔너리\n",
        "\n",
        "for char in lst:\n",
        "    print(char)\n",
        "\n",
        "print()\n",
        "\n",
        "for char in s:\n",
        "    print(char)\n",
        "\n",
        "print()\n",
        "\n",
        "for char in t:\n",
        "    print(char)\n",
        "\n",
        "print()\n",
        "\n",
        "for char in d:\n",
        "    print(char)\n",
        ""
      ],
      "metadata": {
        "colab": {
          "base_uri": "https://localhost:8080/"
        },
        "id": "E6K3IyEE2GqY",
        "outputId": "6aea5f17-1d62-4cda-e901-d52f5dbd431c"
      },
      "execution_count": 93,
      "outputs": [
        {
          "output_type": "stream",
          "name": "stdout",
          "text": [
            "1\n",
            "2\n",
            "3\n",
            "\n",
            "h\n",
            "e\n",
            "l\n",
            "l\n",
            "o\n",
            "\n",
            "10\n",
            "20\n",
            "30\n",
            "\n",
            "a\n",
            "b\n"
          ]
        }
      ]
    },
    {
      "cell_type": "code",
      "source": [
        "class MyIterator:\n",
        "  def __next__(self):\n",
        "    return 1\n",
        "class MyIterable:\n",
        "  def __iter__(self):\n",
        "    obj = MyIterator()\n",
        "    return obj\n",
        "\n",
        "m= MyIterable()\n",
        "r = iter(m)\n",
        "print(next(r))\n",
        "print(next(r))\n",
        "print(next(r))"
      ],
      "metadata": {
        "colab": {
          "base_uri": "https://localhost:8080/"
        },
        "id": "bWTcP5SI2J5R",
        "outputId": "0858e5bd-b63c-475b-9c3d-89481764bd79"
      },
      "execution_count": 94,
      "outputs": [
        {
          "output_type": "stream",
          "name": "stdout",
          "text": [
            "1\n",
            "1\n",
            "1\n"
          ]
        }
      ]
    },
    {
      "cell_type": "code",
      "source": [
        "class MyIterator:\n",
        "    def __init__(self):\n",
        "        self.data = [1, 2, 3]\n",
        "        self.index = 0\n",
        "\n",
        "    def __iter__(self):\n",
        "      return self\n",
        "\n",
        "    def __next__(self):\n",
        "        if self.index < len(self.data):\n",
        "            value = self.data[self.index]\n",
        "            self.index += 1\n",
        "            return value\n",
        "        else:\n",
        "            raise StopIteration\n",
        "\n",
        "m = MyIterable()\n",
        "r = iter(m)\n",
        "print(next(r))\n",
        "print(next(r))\n",
        "print(next(r))\n"
      ],
      "metadata": {
        "colab": {
          "base_uri": "https://localhost:8080/"
        },
        "id": "dgWQMiV2-HDp",
        "outputId": "98bfbe9b-67df-41b0-dc40-af37b5ca76fa"
      },
      "execution_count": 95,
      "outputs": [
        {
          "output_type": "stream",
          "name": "stdout",
          "text": [
            "1\n",
            "2\n",
            "3\n"
          ]
        }
      ]
    },
    {
      "cell_type": "markdown",
      "source": [
        "### 제너레이터"
      ],
      "metadata": {
        "id": "bbWhqu6uKYht"
      }
    },
    {
      "cell_type": "code",
      "source": [
        "def num_gen():\n",
        "  for i in range(3):\n",
        "    yield  i\n",
        "\n",
        "g= num_gen()\n",
        "\n",
        "print(type(g))\n",
        "print(next(g))\n",
        "print(next(g))\n",
        "print(next(g))"
      ],
      "metadata": {
        "colab": {
          "base_uri": "https://localhost:8080/"
        },
        "id": "07Q7yrtBIYHR",
        "outputId": "f3b6c509-0f2e-4036-cf0b-5af861809858"
      },
      "execution_count": 96,
      "outputs": [
        {
          "output_type": "stream",
          "name": "stdout",
          "text": [
            "<class 'generator'>\n",
            "0\n",
            "1\n",
            "2\n"
          ]
        }
      ]
    }
  ]
}