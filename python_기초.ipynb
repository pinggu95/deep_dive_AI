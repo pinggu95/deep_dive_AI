{
  "nbformat": 4,
  "nbformat_minor": 0,
  "metadata": {
    "colab": {
      "provenance": [],
      "authorship_tag": "ABX9TyNASOyygaK3Oea7wDcCDiiS",
      "include_colab_link": true
    },
    "kernelspec": {
      "name": "python3",
      "display_name": "Python 3"
    },
    "language_info": {
      "name": "python"
    }
  },
  "cells": [
    {
      "cell_type": "markdown",
      "metadata": {
        "id": "view-in-github",
        "colab_type": "text"
      },
      "source": [
        "<a href=\"https://colab.research.google.com/github/pinggu95/deep_dive_AI/blob/main/python_%EA%B8%B0%EC%B4%88.ipynb\" target=\"_parent\"><img src=\"https://colab.research.google.com/assets/colab-badge.svg\" alt=\"Open In Colab\"/></a>"
      ]
    },
    {
      "cell_type": "markdown",
      "source": [
        "# Python 기초"
      ],
      "metadata": {
        "id": "KzaovVOhQfaE"
      }
    },
    {
      "cell_type": "markdown",
      "source": [
        "## 문자열 포맷팅\n",
        "* c언어 스타일 문자열 포맷팅\n",
        "* python3 부터 지원하는 format 메서드 사용\n",
        "* python3.6 부터 지원하는 f-string"
      ],
      "metadata": {
        "id": "lT8RVXrbQ7g6"
      }
    },
    {
      "cell_type": "code",
      "source": [
        "name = \"jane\"\n",
        "score = 89\n",
        "print(\"%s의 수학 점수는 %d입니다\" % (name, score))"
      ],
      "metadata": {
        "colab": {
          "base_uri": "https://localhost:8080/"
        },
        "id": "9SA8sNMEQ6_4",
        "outputId": "04a935a5-b2d9-4ee6-9b6b-cb725ec88852"
      },
      "execution_count": 1,
      "outputs": [
        {
          "output_type": "stream",
          "name": "stdout",
          "text": [
            "jane의 수학 점수는 89입니다\n"
          ]
        }
      ]
    },
    {
      "cell_type": "code",
      "source": [
        "name = \"jane\"\n",
        "score = 89\n",
        "print(\"{}의 수학 점수는 {}입니다\".format(name, score))"
      ],
      "metadata": {
        "colab": {
          "base_uri": "https://localhost:8080/"
        },
        "id": "gPw93XDBRxsb",
        "outputId": "988bae6c-6530-4e17-dfce-5c336ec0871b"
      },
      "execution_count": 2,
      "outputs": [
        {
          "output_type": "stream",
          "name": "stdout",
          "text": [
            "jane의 수학 점수는 89입니다\n"
          ]
        }
      ]
    },
    {
      "cell_type": "code",
      "execution_count": 3,
      "metadata": {
        "colab": {
          "base_uri": "https://localhost:8080/"
        },
        "id": "6J1XaxFLSIRo",
        "outputId": "ea538bee-4cfa-4b77-8ba8-84f0feb10bfa"
      },
      "outputs": [
        {
          "output_type": "stream",
          "name": "stdout",
          "text": [
            "jane의 수학 점수는 89입니다\n"
          ]
        }
      ],
      "source": [
        "name = \"jane\"\n",
        "score = 89\n",
        "print(f\"{name}의 수학 점수는 {score}입니다\")"
      ]
    },
    {
      "cell_type": "markdown",
      "source": [
        "## 문자열"
      ],
      "metadata": {
        "id": "2zjDQieUSWbO"
      }
    },
    {
      "cell_type": "code",
      "source": [
        "  a = \"abcdefg\"\n",
        "  print(f\"{a:10}\")"
      ],
      "metadata": {
        "colab": {
          "base_uri": "https://localhost:8080/"
        },
        "id": "mNBoe0GHSfVO",
        "outputId": "8a7f1b7f-1ac2-44e3-ac36-ee45776c4ee9"
      },
      "execution_count": 10,
      "outputs": [
        {
          "output_type": "stream",
          "name": "stdout",
          "text": [
            "abcdefg   \n"
          ]
        }
      ]
    },
    {
      "cell_type": "code",
      "source": [
        "a=35.34543645\n",
        "print(f\"{a:10.4f}\")"
      ],
      "metadata": {
        "colab": {
          "base_uri": "https://localhost:8080/"
        },
        "id": "3XchglFjTceD",
        "outputId": "ecc7cd22-0d88-4e06-b168-254bf730e95c"
      },
      "execution_count": 12,
      "outputs": [
        {
          "output_type": "stream",
          "name": "stdout",
          "text": [
            "   35.3454\n"
          ]
        }
      ]
    },
    {
      "cell_type": "markdown",
      "source": [
        "## 리스트 컴프리헨션"
      ],
      "metadata": {
        "id": "-upLecIXT5yy"
      }
    },
    {
      "cell_type": "code",
      "source": [
        "for i in range(10):\n",
        "    print(i,end =\" \")"
      ],
      "metadata": {
        "colab": {
          "base_uri": "https://localhost:8080/"
        },
        "id": "4Nqf6a_IT4vp",
        "outputId": "d69469be-4ce8-40f6-c76a-ad9b9aaabcc8"
      },
      "execution_count": 16,
      "outputs": [
        {
          "output_type": "stream",
          "name": "stdout",
          "text": [
            "0 1 2 3 4 5 6 7 8 9 "
          ]
        }
      ]
    },
    {
      "cell_type": "code",
      "source": [
        "for i in range(10):\n",
        "    if i %2 == 0:  # 짝수만 출력\n",
        "      print(i,end =\" \") # 리스트로 출력x"
      ],
      "metadata": {
        "colab": {
          "base_uri": "https://localhost:8080/"
        },
        "id": "uLWnlD4TUJ0Y",
        "outputId": "847c43f6-803c-4623-f131-b42b7db145c6"
      },
      "execution_count": 18,
      "outputs": [
        {
          "output_type": "stream",
          "name": "stdout",
          "text": [
            "0 2 4 6 8 "
          ]
        }
      ]
    },
    {
      "cell_type": "code",
      "source": [
        "num =[]\n",
        "for i in range(10):\n",
        "    if i %2 == 0:  # 짝수만 출력\n",
        "      num.append(i) # 조건에 맞는 i를 하나씩 추가\n",
        "\n",
        "print(num)\n",
        "print(num[1:3])\n",
        "print(num[:])\n",
        "print(num[4])"
      ],
      "metadata": {
        "colab": {
          "base_uri": "https://localhost:8080/"
        },
        "id": "Mv17y7-PUiLg",
        "outputId": "3b14dd63-2ec8-4198-bd78-39ec72dab6cd"
      },
      "execution_count": 21,
      "outputs": [
        {
          "output_type": "stream",
          "name": "stdout",
          "text": [
            "[0, 2, 4, 6, 8]\n",
            "[2, 4]\n",
            "[0, 2, 4, 6, 8]\n",
            "8\n"
          ]
        }
      ]
    },
    {
      "cell_type": "code",
      "source": [
        "# 리스트 컴프리헨션\n",
        "num = [i for i in range(10) if i%2==0]\n",
        "print(num)"
      ],
      "metadata": {
        "colab": {
          "base_uri": "https://localhost:8080/"
        },
        "id": "uIwYuFmhVHqm",
        "outputId": "56d862fe-cb55-4e77-eb0d-794900e1f09c"
      },
      "execution_count": 23,
      "outputs": [
        {
          "output_type": "stream",
          "name": "stdout",
          "text": [
            "[0, 2, 4, 6, 8]\n"
          ]
        }
      ]
    },
    {
      "cell_type": "markdown",
      "source": [
        "## 리스트 딕셔녀리"
      ],
      "metadata": {
        "id": "str3KwdeVfgm"
      }
    },
    {
      "cell_type": "code",
      "source": [
        "name = [\"지민\", \"수연\", \"현우\"]\n",
        "age = [16, 17, 16]\n",
        "grade = [\"A\", \"B\", \"A+\"]\n",
        "\n",
        "students = [{\"name\": k, \"age\": v, \"grade\": s} for k, v, s in zip(name, age, grade)]\n",
        "\n",
        "for student in students:\n",
        "    print(f\"{student['name']} 학생은 {student['age']}살이고, 성적은 {student['grade']}입니다.\")\n"
      ],
      "metadata": {
        "colab": {
          "base_uri": "https://localhost:8080/"
        },
        "id": "Z7y1aUTPTmrt",
        "outputId": "f028b9fa-e2bf-4257-f774-8dd05eecea3f"
      },
      "execution_count": 31,
      "outputs": [
        {
          "output_type": "stream",
          "name": "stdout",
          "text": [
            "지민 학생은 16살이고, 성적은 A입니다.\n",
            "수연 학생은 17살이고, 성적은 B입니다.\n",
            "현우 학생은 16살이고, 성적은 A+입니다.\n"
          ]
        }
      ]
    }
  ]
}