{
  "nbformat": 4,
  "nbformat_minor": 0,
  "metadata": {
    "colab": {
      "provenance": [],
      "authorship_tag": "ABX9TyPW1mH0JV+XJ75j97s8yI0A",
      "include_colab_link": true
    },
    "kernelspec": {
      "name": "python3",
      "display_name": "Python 3"
    },
    "language_info": {
      "name": "python"
    }
  },
  "cells": [
    {
      "cell_type": "markdown",
      "metadata": {
        "id": "view-in-github",
        "colab_type": "text"
      },
      "source": [
        "<a href=\"https://colab.research.google.com/github/pinggu95/deep_dive_AI/blob/main/41%EC%9D%BC%EC%B0%A8_%EB%94%A5%EB%9F%AC%EB%8B%9D_RNN.ipynb\" target=\"_parent\"><img src=\"https://colab.research.google.com/assets/colab-badge.svg\" alt=\"Open In Colab\"/></a>"
      ]
    },
    {
      "cell_type": "markdown",
      "source": [
        "# 케라스 (Keras) 로 RNN 구현하기\n"
      ],
      "metadata": {
        "id": "Pnvnmrq0v5lJ"
      }
    },
    {
      "cell_type": "code",
      "source": [
        "from tensorflow.keras.models import Sequential\n",
        "from tensorflow.keras.layers import SimpleRNN"
      ],
      "metadata": {
        "id": "SNT96QoZxRFA"
      },
      "execution_count": 15,
      "outputs": []
    },
    {
      "cell_type": "code",
      "source": [
        "model = Sequential()\n",
        "model.add(SimpleRNN(3, input_shape=(2,10)))\n",
        "# model.add(SimpleRNN(3, input_length=2, input_dim=10))와 동일\n",
        "model.summary()"
      ],
      "metadata": {
        "colab": {
          "base_uri": "https://localhost:8080/",
          "height": 161
        },
        "id": "zhX-4RGlxSD4",
        "outputId": "12e45c57-22a1-43dc-a45c-a5c2f08cfe18"
      },
      "execution_count": 17,
      "outputs": [
        {
          "output_type": "display_data",
          "data": {
            "text/plain": [
              "\u001b[1mModel: \"sequential_4\"\u001b[0m\n"
            ],
            "text/html": [
              "<pre style=\"white-space:pre;overflow-x:auto;line-height:normal;font-family:Menlo,'DejaVu Sans Mono',consolas,'Courier New',monospace\"><span style=\"font-weight: bold\">Model: \"sequential_4\"</span>\n",
              "</pre>\n"
            ]
          },
          "metadata": {}
        },
        {
          "output_type": "display_data",
          "data": {
            "text/plain": [
              "┏━━━━━━━━━━━━━━━━━━━━━━━━━━━━━━━━━┳━━━━━━━━━━━━━━━━━━━━━━━━┳━━━━━━━━━━━━━━━┓\n",
              "┃\u001b[1m \u001b[0m\u001b[1mLayer (type)                   \u001b[0m\u001b[1m \u001b[0m┃\u001b[1m \u001b[0m\u001b[1mOutput Shape          \u001b[0m\u001b[1m \u001b[0m┃\u001b[1m \u001b[0m\u001b[1m      Param #\u001b[0m\u001b[1m \u001b[0m┃\n",
              "┡━━━━━━━━━━━━━━━━━━━━━━━━━━━━━━━━━╇━━━━━━━━━━━━━━━━━━━━━━━━╇━━━━━━━━━━━━━━━┩\n",
              "│ simple_rnn_4 (\u001b[38;5;33mSimpleRNN\u001b[0m)        │ (\u001b[38;5;45mNone\u001b[0m, \u001b[38;5;34m3\u001b[0m)              │            \u001b[38;5;34m42\u001b[0m │\n",
              "└─────────────────────────────────┴────────────────────────┴───────────────┘\n"
            ],
            "text/html": [
              "<pre style=\"white-space:pre;overflow-x:auto;line-height:normal;font-family:Menlo,'DejaVu Sans Mono',consolas,'Courier New',monospace\">┏━━━━━━━━━━━━━━━━━━━━━━━━━━━━━━━━━┳━━━━━━━━━━━━━━━━━━━━━━━━┳━━━━━━━━━━━━━━━┓\n",
              "┃<span style=\"font-weight: bold\"> Layer (type)                    </span>┃<span style=\"font-weight: bold\"> Output Shape           </span>┃<span style=\"font-weight: bold\">       Param # </span>┃\n",
              "┡━━━━━━━━━━━━━━━━━━━━━━━━━━━━━━━━━╇━━━━━━━━━━━━━━━━━━━━━━━━╇━━━━━━━━━━━━━━━┩\n",
              "│ simple_rnn_4 (<span style=\"color: #0087ff; text-decoration-color: #0087ff\">SimpleRNN</span>)        │ (<span style=\"color: #00d7ff; text-decoration-color: #00d7ff\">None</span>, <span style=\"color: #00af00; text-decoration-color: #00af00\">3</span>)              │            <span style=\"color: #00af00; text-decoration-color: #00af00\">42</span> │\n",
              "└─────────────────────────────────┴────────────────────────┴───────────────┘\n",
              "</pre>\n"
            ]
          },
          "metadata": {}
        },
        {
          "output_type": "display_data",
          "data": {
            "text/plain": [
              "\u001b[1m Total params: \u001b[0m\u001b[38;5;34m42\u001b[0m (168.00 B)\n"
            ],
            "text/html": [
              "<pre style=\"white-space:pre;overflow-x:auto;line-height:normal;font-family:Menlo,'DejaVu Sans Mono',consolas,'Courier New',monospace\"><span style=\"font-weight: bold\"> Total params: </span><span style=\"color: #00af00; text-decoration-color: #00af00\">42</span> (168.00 B)\n",
              "</pre>\n"
            ]
          },
          "metadata": {}
        },
        {
          "output_type": "display_data",
          "data": {
            "text/plain": [
              "\u001b[1m Trainable params: \u001b[0m\u001b[38;5;34m42\u001b[0m (168.00 B)\n"
            ],
            "text/html": [
              "<pre style=\"white-space:pre;overflow-x:auto;line-height:normal;font-family:Menlo,'DejaVu Sans Mono',consolas,'Courier New',monospace\"><span style=\"font-weight: bold\"> Trainable params: </span><span style=\"color: #00af00; text-decoration-color: #00af00\">42</span> (168.00 B)\n",
              "</pre>\n"
            ]
          },
          "metadata": {}
        },
        {
          "output_type": "display_data",
          "data": {
            "text/plain": [
              "\u001b[1m Non-trainable params: \u001b[0m\u001b[38;5;34m0\u001b[0m (0.00 B)\n"
            ],
            "text/html": [
              "<pre style=\"white-space:pre;overflow-x:auto;line-height:normal;font-family:Menlo,'DejaVu Sans Mono',consolas,'Courier New',monospace\"><span style=\"font-weight: bold\"> Non-trainable params: </span><span style=\"color: #00af00; text-decoration-color: #00af00\">0</span> (0.00 B)\n",
              "</pre>\n"
            ]
          },
          "metadata": {}
        }
      ]
    },
    {
      "cell_type": "markdown",
      "source": [
        "#  파이썬으로 RNN 구현하기"
      ],
      "metadata": {
        "id": "wuK5YWFCxRwb"
      }
    },
    {
      "cell_type": "code",
      "source": [
        "import numpy as np\n",
        "\n",
        "timesteps = 10\n",
        "input_dim = 4\n",
        "hidden_size = 8\n",
        "\n",
        "inputs = np.random.random((timesteps, input_dim))\n",
        "\n",
        "hidden_state_t = np.zeros((hidden_size,))"
      ],
      "metadata": {
        "id": "VBtm0sKBLRVY"
      },
      "execution_count": 19,
      "outputs": []
    },
    {
      "cell_type": "code",
      "source": [
        "print(hidden_state_t)"
      ],
      "metadata": {
        "colab": {
          "base_uri": "https://localhost:8080/"
        },
        "id": "f5lpkn6ZLYjo",
        "outputId": "dec07d22-d369-4b04-ac3a-5a172d86649d"
      },
      "execution_count": 20,
      "outputs": [
        {
          "output_type": "stream",
          "name": "stdout",
          "text": [
            "[0. 0. 0. 0. 0. 0. 0. 0.]\n"
          ]
        }
      ]
    },
    {
      "cell_type": "code",
      "source": [
        "Wx = np.random.random((hidden_size, input_dim))\n",
        "Wh = np.random.random((hidden_size, hidden_size))\n",
        "b = np.random.random((hidden_size,))"
      ],
      "metadata": {
        "id": "02LUlbLSLZPy"
      },
      "execution_count": 21,
      "outputs": []
    },
    {
      "cell_type": "code",
      "source": [
        "print(np.shape(Wx))\n",
        "print(np.shape(Wh))\n",
        "print(np.shape(b))"
      ],
      "metadata": {
        "colab": {
          "base_uri": "https://localhost:8080/"
        },
        "id": "ViIsx_syLfoL",
        "outputId": "2804e543-8df1-4426-8276-85d5a7106f6b"
      },
      "execution_count": 22,
      "outputs": [
        {
          "output_type": "stream",
          "name": "stdout",
          "text": [
            "(8, 4)\n",
            "(8, 8)\n",
            "(8,)\n"
          ]
        }
      ]
    },
    {
      "cell_type": "code",
      "source": [
        "total_hidden_states = []\n",
        "\n",
        "for input_t in inputs:\n",
        "  output_t = np.tanh(np.dot(Wx,input_t) + np.dot(Wh,hidden_state_t) + b)\n",
        "  total_hidden_states.append(list(output_t))\n",
        "  print(np.shape(total_hidden_states))\n",
        "  hidden_state_t = output_t\n",
        "\n",
        "total_hidden_states = np.stack(total_hidden_states, axis = 0)\n",
        "\n",
        "\n",
        "print(total_hidden_states)"
      ],
      "metadata": {
        "colab": {
          "base_uri": "https://localhost:8080/"
        },
        "id": "qXxeEk9BLive",
        "outputId": "6fd2f754-7e8e-4db9-8631-218a1fc18060"
      },
      "execution_count": 23,
      "outputs": [
        {
          "output_type": "stream",
          "name": "stdout",
          "text": [
            "(1, 8)\n",
            "(2, 8)\n",
            "(3, 8)\n",
            "(4, 8)\n",
            "(5, 8)\n",
            "(6, 8)\n",
            "(7, 8)\n",
            "(8, 8)\n",
            "(9, 8)\n",
            "(10, 8)\n",
            "[[0.98107114 0.99401403 0.94888862 0.98225208 0.9912386  0.92429952\n",
            "  0.98985238 0.97711894]\n",
            " [0.99997929 0.9999453  0.99997938 0.9999111  0.99997611 0.99999436\n",
            "  0.99999237 0.99999573]\n",
            " [0.99999126 0.99987456 0.99996839 0.99982487 0.99999098 0.99999713\n",
            "  0.99998504 0.99999799]\n",
            " [0.99999688 0.99997973 0.99998659 0.99995145 0.99999744 0.99999808\n",
            "  0.99999727 0.99999866]\n",
            " [0.9999674  0.99990179 0.99994852 0.99971878 0.99994912 0.99999365\n",
            "  0.99998447 0.99999212]\n",
            " [0.9999903  0.9999862  0.99998486 0.99993744 0.99998984 0.9999958\n",
            "  0.99999782 0.9999946 ]\n",
            " [0.99999145 0.99998473 0.99996949 0.99992531 0.99998779 0.999997\n",
            "  0.99999677 0.99999722]\n",
            " [0.99999821 0.99999463 0.9999943  0.99998894 0.99999858 0.99999883\n",
            "  0.99999907 0.99999953]\n",
            " [0.99999562 0.99999383 0.9999885  0.99998047 0.99999483 0.9999982\n",
            "  0.99999861 0.99999907]\n",
            " [0.99999206 0.99998353 0.99998376 0.99994621 0.99999122 0.9999969\n",
            "  0.99999721 0.9999973 ]]\n"
          ]
        }
      ]
    },
    {
      "cell_type": "markdown",
      "source": [
        "## 케라스의 SimpleRNN과 LSTM"
      ],
      "metadata": {
        "id": "-lIPxQ5-sdFC"
      }
    },
    {
      "cell_type": "code",
      "execution_count": 24,
      "metadata": {
        "id": "_n2VSxUysYtd"
      },
      "outputs": [],
      "source": [
        "import numpy as np\n",
        "import tensorflow as tf\n",
        "from tensorflow.keras.layers import SimpleRNN, GRU, LSTM, Bidirectional"
      ]
    },
    {
      "cell_type": "code",
      "source": [
        "train_X = [[0.1, 4.2, 1.5, 1.1, 2.8], [1.0, 3.1, 2.5, 0.7, 1.1], [0.3, 2.1, 1.5, 2.1, 0.1], [2.2, 1.4, 0.5, 0.9, 1.1]]\n",
        "print(np.shape(train_X))"
      ],
      "metadata": {
        "colab": {
          "base_uri": "https://localhost:8080/"
        },
        "id": "k9l3s2GPtkKE",
        "outputId": "31e17b96-0fa6-4531-f511-c05915aeed41"
      },
      "execution_count": 25,
      "outputs": [
        {
          "output_type": "stream",
          "name": "stdout",
          "text": [
            "(4, 5)\n"
          ]
        }
      ]
    },
    {
      "cell_type": "code",
      "source": [
        "train_X = [[[0.1, 4.2, 1.5, 1.1, 2.8], [1.0, 3.1, 2.5, 0.7, 1.1], [0.3, 2.1, 1.5, 2.1, 0.1], [2.2, 1.4, 0.5, 0.9, 1.1]]]\n",
        "train_X = np.array(train_X, dtype=np.float32)\n",
        "print(train_X.shape)"
      ],
      "metadata": {
        "id": "F2AqltlotrhT",
        "outputId": "e6a86dba-e8fb-4b0b-ba9f-57309eb498ba",
        "colab": {
          "base_uri": "https://localhost:8080/"
        }
      },
      "execution_count": 26,
      "outputs": [
        {
          "output_type": "stream",
          "name": "stdout",
          "text": [
            "(1, 4, 5)\n"
          ]
        }
      ]
    },
    {
      "cell_type": "markdown",
      "source": [
        "# Simple RNN 이해하기"
      ],
      "metadata": {
        "id": "9EaZJaD8L3Jr"
      }
    },
    {
      "cell_type": "code",
      "source": [
        "rnn = SimpleRNN(3)\n",
        "# rnn = SimpleRNN(3, return_sequences=False, return_state=False)와 동일.\n",
        "hidden_state = rnn(train_X)\n",
        "\n",
        "print('hidden state : {}, shape: {}'.format(hidden_state, hidden_state.shape))"
      ],
      "metadata": {
        "colab": {
          "base_uri": "https://localhost:8080/"
        },
        "id": "dNy_ac7XvZCQ",
        "outputId": "7f8b6d7a-9035-4ab0-9880-f8780bb8bb0f"
      },
      "execution_count": 27,
      "outputs": [
        {
          "output_type": "stream",
          "name": "stdout",
          "text": [
            "hidden state : [[-0.46898758 -0.63258106  0.12599225]], shape: (1, 3)\n"
          ]
        }
      ]
    },
    {
      "cell_type": "code",
      "source": [
        "rnn = SimpleRNN(3, return_sequences=True)\n",
        "hidden_states = rnn(train_X)\n",
        "\n",
        "print('hidden states : {}, shape: {}'.format(hidden_states, hidden_states.shape))"
      ],
      "metadata": {
        "colab": {
          "base_uri": "https://localhost:8080/"
        },
        "id": "1UMUSBmAL7kz",
        "outputId": "6ae3322d-a0ed-42a7-982c-386dd0c41ebc"
      },
      "execution_count": 28,
      "outputs": [
        {
          "output_type": "stream",
          "name": "stdout",
          "text": [
            "hidden states : [[[-0.9973816   0.99873173  0.97119355]\n",
            "  [-0.99860495  0.97716534 -0.7624205 ]\n",
            "  [-0.05681142  0.15127262 -0.8017479 ]\n",
            "  [ 0.75221825  0.99415934  0.90976006]]], shape: (1, 4, 3)\n"
          ]
        }
      ]
    },
    {
      "cell_type": "code",
      "source": [
        "rnn = SimpleRNN(3, return_sequences=True, return_state=True)\n",
        "hidden_states, last_state = rnn(train_X)\n",
        "\n",
        "print('hidden states : {}, shape: {}'.format(hidden_states, hidden_states.shape))\n",
        "print('last hidden state : {}, shape: {}'.format(last_state, last_state.shape))"
      ],
      "metadata": {
        "colab": {
          "base_uri": "https://localhost:8080/"
        },
        "id": "iKwV8AMCL8u3",
        "outputId": "8d844b81-1697-4c0a-9b55-09b28eb4b163"
      },
      "execution_count": 29,
      "outputs": [
        {
          "output_type": "stream",
          "name": "stdout",
          "text": [
            "hidden states : [[[-0.94969773 -0.60241437  0.99768484]\n",
            "  [-0.09823027 -0.24463496  0.9832724 ]\n",
            "  [-0.81966907  0.33353767  0.9021486 ]\n",
            "  [-0.7694764  -0.9139882   0.95540506]]], shape: (1, 4, 3)\n",
            "last hidden state : [[-0.7694764  -0.9139882   0.95540506]], shape: (1, 3)\n"
          ]
        }
      ]
    },
    {
      "cell_type": "code",
      "source": [
        "rnn = SimpleRNN(3, return_sequences=False, return_state=True)\n",
        "hidden_state, last_state = rnn(train_X)\n",
        "\n",
        "print('hidden state : {}, shape: {}'.format(hidden_state, hidden_state.shape))\n",
        "print('last hidden state : {}, shape: {}'.format(last_state, last_state.shape))"
      ],
      "metadata": {
        "colab": {
          "base_uri": "https://localhost:8080/"
        },
        "id": "vDRdkRb1L-vx",
        "outputId": "91247330-f073-49f1-89ad-32b13d21fee1"
      },
      "execution_count": 30,
      "outputs": [
        {
          "output_type": "stream",
          "name": "stdout",
          "text": [
            "hidden state : [[ 0.88627344 -0.9134083  -0.8724522 ]], shape: (1, 3)\n",
            "last hidden state : [[ 0.88627344 -0.9134083  -0.8724522 ]], shape: (1, 3)\n"
          ]
        }
      ]
    },
    {
      "cell_type": "code",
      "source": [
        "    gru = GRU(3, return_sequences=True, return_state=True)\n",
        "    output, state = gru(train_X)\n",
        "\n",
        "    print(output)\n",
        "    print(state)"
      ],
      "metadata": {
        "colab": {
          "base_uri": "https://localhost:8080/"
        },
        "id": "SB9qh2IWMAG0",
        "outputId": "1769973c-5bf3-4f27-cc62-5ea19bdef410"
      },
      "execution_count": 32,
      "outputs": [
        {
          "output_type": "stream",
          "name": "stdout",
          "text": [
            "tf.Tensor(\n",
            "[[[-0.44565508  0.961992    0.796467  ]\n",
            "  [-0.56257474  0.9385193   0.6323111 ]\n",
            "  [-0.5575061   0.8784026   0.8040022 ]\n",
            "  [-0.66267943  0.82041216  0.872684  ]]], shape=(1, 4, 3), dtype=float32)\n",
            "tf.Tensor([[-0.66267943  0.82041216  0.872684  ]], shape=(1, 3), dtype=float32)\n"
          ]
        }
      ]
    },
    {
      "cell_type": "markdown",
      "source": [
        "#LSTM 이해하기\n"
      ],
      "metadata": {
        "id": "sYBe2fmjMG1V"
      }
    },
    {
      "cell_type": "code",
      "source": [
        "lstm = LSTM(3, return_sequences=False, return_state=True)\n",
        "hidden_state, last_state, last_cell_state = lstm(train_X)\n",
        "\n",
        "print('hidden state : {}, shape: {}'.format(hidden_state, hidden_state.shape))\n",
        "print('last hidden state : {}, shape: {}'.format(last_state, last_state.shape))\n",
        "print('last cell state : {}, shape: {}'.format(last_cell_state, last_cell_state.shape))"
      ],
      "metadata": {
        "colab": {
          "base_uri": "https://localhost:8080/"
        },
        "id": "OmJuMI1OMHMB",
        "outputId": "e42b3a30-a49c-41d3-a4a3-35b161219792"
      },
      "execution_count": 34,
      "outputs": [
        {
          "output_type": "stream",
          "name": "stdout",
          "text": [
            "hidden state : [[0.10162421 0.51837635 0.5166035 ]], shape: (1, 3)\n",
            "last hidden state : [[0.10162421 0.51837635 0.5166035 ]], shape: (1, 3)\n",
            "last cell state : [[0.37140667 1.4710209  1.973133  ]], shape: (1, 3)\n"
          ]
        }
      ]
    },
    {
      "cell_type": "code",
      "source": [
        "lstm = LSTM(3, return_sequences=True, return_state=True)\n",
        "hidden_states, last_hidden_state, last_cell_state = lstm(train_X)\n",
        "\n",
        "print('hidden states : {}, shape: {}'.format(hidden_states, hidden_states.shape))\n",
        "print('last hidden state : {}, shape: {}'.format(last_hidden_state, last_hidden_state.shape))\n",
        "print('last cell state : {}, shape: {}'.format(last_cell_state, last_cell_state.shape))"
      ],
      "metadata": {
        "colab": {
          "base_uri": "https://localhost:8080/"
        },
        "id": "DgYB6tdGMX8_",
        "outputId": "c9a526f4-8448-418e-d274-98b2cbb3c517"
      },
      "execution_count": 35,
      "outputs": [
        {
          "output_type": "stream",
          "name": "stdout",
          "text": [
            "hidden states : [[[-1.3644033e-02  2.6572814e-02 -1.8635958e-04]\n",
            "  [-4.1522849e-02  1.3282141e-01 -5.3343532e-04]\n",
            "  [-2.1172307e-01  4.4040760e-01 -7.7331276e-03]\n",
            "  [-4.7638142e-01  2.2906469e-01 -1.7578406e-02]]], shape: (1, 4, 3)\n",
            "last hidden state : [[-0.47638142  0.22906469 -0.01757841]], shape: (1, 3)\n",
            "last cell state : [[-0.804614    0.48681438 -0.0789826 ]], shape: (1, 3)\n"
          ]
        }
      ]
    },
    {
      "cell_type": "markdown",
      "source": [
        "# BiLSTM 이해하기"
      ],
      "metadata": {
        "id": "YiNaJMcqPEMe"
      }
    },
    {
      "cell_type": "code",
      "source": [
        "k_init = tf.keras.initializers.Constant(value=0.1)\n",
        "b_init = tf.keras.initializers.Constant(value=0)\n",
        "r_init = tf.keras.initializers.Constant(value=0.1)"
      ],
      "metadata": {
        "id": "Ex2WmX59PDpe"
      },
      "execution_count": 36,
      "outputs": []
    },
    {
      "cell_type": "code",
      "source": [
        "bilstm = Bidirectional(LSTM(3, return_sequences=False, return_state=True, \\\n",
        "                            kernel_initializer=k_init, bias_initializer=b_init, recurrent_initializer=r_init))\n",
        "hidden_states, forward_h, forward_c, backward_h, backward_c = bilstm(train_X)\n",
        "\n",
        "print('hidden states : {}, shape: {}'.format(hidden_states, hidden_states.shape))\n",
        "print('forward state : {}, shape: {}'.format(forward_h, forward_h.shape))\n",
        "print('backward state : {}, shape: {}'.format(backward_h, backward_h.shape))"
      ],
      "metadata": {
        "colab": {
          "base_uri": "https://localhost:8080/"
        },
        "id": "ci_PRHJ8PGcM",
        "outputId": "53ca0866-1b32-49e8-8187-e448dbfbdca4"
      },
      "execution_count": 37,
      "outputs": [
        {
          "output_type": "stream",
          "name": "stdout",
          "text": [
            "hidden states : [[0.6303138 0.6303138 0.6303138 0.7038734 0.7038734 0.7038734]], shape: (1, 6)\n",
            "forward state : [[0.6303138 0.6303138 0.6303138]], shape: (1, 3)\n",
            "backward state : [[0.7038734 0.7038734 0.7038734]], shape: (1, 3)\n"
          ]
        }
      ]
    },
    {
      "cell_type": "code",
      "source": [
        "bilstm = Bidirectional(LSTM(3, return_sequences=True, return_state=True, \\\n",
        "                            kernel_initializer=k_init, bias_initializer=b_init, recurrent_initializer=r_init))\n",
        "hidden_states, forward_h, forward_c, backward_h, backward_c = bilstm(train_X)"
      ],
      "metadata": {
        "id": "384zBttfPI10"
      },
      "execution_count": 38,
      "outputs": []
    },
    {
      "cell_type": "code",
      "source": [
        "print('hidden states : {}, shape: {}'.format(hidden_states, hidden_states.shape))\n",
        "print('forward state : {}, shape: {}'.format(forward_h, forward_h.shape))\n",
        "print('backward state : {}, shape: {}'.format(backward_h, backward_h.shape))"
      ],
      "metadata": {
        "colab": {
          "base_uri": "https://localhost:8080/"
        },
        "id": "goTINfEAPJ_O",
        "outputId": "97fbb38d-518d-46c6-cac6-a036c2de593e"
      },
      "execution_count": 39,
      "outputs": [
        {
          "output_type": "stream",
          "name": "stdout",
          "text": [
            "hidden states : [[[0.35906473 0.35906473 0.35906473 0.7038734  0.7038734  0.7038734 ]\n",
            "  [0.55111325 0.55111325 0.55111325 0.58863586 0.58863586 0.58863586]\n",
            "  [0.59115744 0.59115744 0.59115744 0.3951699  0.3951699  0.3951699 ]\n",
            "  [0.6303138  0.6303138  0.6303138  0.21942244 0.21942244 0.21942244]]], shape: (1, 4, 6)\n",
            "forward state : [[0.6303138 0.6303138 0.6303138]], shape: (1, 3)\n",
            "backward state : [[0.7038734 0.7038734 0.7038734]], shape: (1, 3)\n"
          ]
        }
      ]
    },
    {
      "cell_type": "markdown",
      "source": [
        "#점검 Quiz\n",
        "![image.png](data:image/png;base64,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)"
      ],
      "metadata": {
        "id": "Stc-xPL9PYV1"
      }
    },
    {
      "cell_type": "code",
      "source": [
        "from tensorflow.keras.models import Sequential\n",
        "from tensorflow.keras.layers import Input, Embedding, SimpleRNN, Dense\n",
        "\n",
        "model = Sequential()\n",
        "model.add(Input(shape=(30,)))\n",
        "model.add(Embedding(input_dim=5000, output_dim=100,input_shape=(30,)))\n",
        "model.add(SimpleRNN(128))\n",
        "model.add(Dense(1, activation='sigmoid'))\n",
        "\n",
        "model.summary()\n"
      ],
      "metadata": {
        "colab": {
          "base_uri": "https://localhost:8080/",
          "height": 225
        },
        "id": "W_-i_9N7Pt2E",
        "outputId": "eb147524-ba26-4339-b54a-aaf178ff2fe5"
      },
      "execution_count": 49,
      "outputs": [
        {
          "output_type": "display_data",
          "data": {
            "text/plain": [
              "\u001b[1mModel: \"sequential_11\"\u001b[0m\n"
            ],
            "text/html": [
              "<pre style=\"white-space:pre;overflow-x:auto;line-height:normal;font-family:Menlo,'DejaVu Sans Mono',consolas,'Courier New',monospace\"><span style=\"font-weight: bold\">Model: \"sequential_11\"</span>\n",
              "</pre>\n"
            ]
          },
          "metadata": {}
        },
        {
          "output_type": "display_data",
          "data": {
            "text/plain": [
              "┏━━━━━━━━━━━━━━━━━━━━━━━━━━━━━━━━━┳━━━━━━━━━━━━━━━━━━━━━━━━┳━━━━━━━━━━━━━━━┓\n",
              "┃\u001b[1m \u001b[0m\u001b[1mLayer (type)                   \u001b[0m\u001b[1m \u001b[0m┃\u001b[1m \u001b[0m\u001b[1mOutput Shape          \u001b[0m\u001b[1m \u001b[0m┃\u001b[1m \u001b[0m\u001b[1m      Param #\u001b[0m\u001b[1m \u001b[0m┃\n",
              "┡━━━━━━━━━━━━━━━━━━━━━━━━━━━━━━━━━╇━━━━━━━━━━━━━━━━━━━━━━━━╇━━━━━━━━━━━━━━━┩\n",
              "│ embedding_3 (\u001b[38;5;33mEmbedding\u001b[0m)         │ (\u001b[38;5;45mNone\u001b[0m, \u001b[38;5;34m30\u001b[0m, \u001b[38;5;34m100\u001b[0m)        │       \u001b[38;5;34m500,000\u001b[0m │\n",
              "├─────────────────────────────────┼────────────────────────┼───────────────┤\n",
              "│ simple_rnn_18 (\u001b[38;5;33mSimpleRNN\u001b[0m)       │ (\u001b[38;5;45mNone\u001b[0m, \u001b[38;5;34m128\u001b[0m)            │        \u001b[38;5;34m29,312\u001b[0m │\n",
              "├─────────────────────────────────┼────────────────────────┼───────────────┤\n",
              "│ dense_4 (\u001b[38;5;33mDense\u001b[0m)                 │ (\u001b[38;5;45mNone\u001b[0m, \u001b[38;5;34m1\u001b[0m)              │           \u001b[38;5;34m129\u001b[0m │\n",
              "└─────────────────────────────────┴────────────────────────┴───────────────┘\n"
            ],
            "text/html": [
              "<pre style=\"white-space:pre;overflow-x:auto;line-height:normal;font-family:Menlo,'DejaVu Sans Mono',consolas,'Courier New',monospace\">┏━━━━━━━━━━━━━━━━━━━━━━━━━━━━━━━━━┳━━━━━━━━━━━━━━━━━━━━━━━━┳━━━━━━━━━━━━━━━┓\n",
              "┃<span style=\"font-weight: bold\"> Layer (type)                    </span>┃<span style=\"font-weight: bold\"> Output Shape           </span>┃<span style=\"font-weight: bold\">       Param # </span>┃\n",
              "┡━━━━━━━━━━━━━━━━━━━━━━━━━━━━━━━━━╇━━━━━━━━━━━━━━━━━━━━━━━━╇━━━━━━━━━━━━━━━┩\n",
              "│ embedding_3 (<span style=\"color: #0087ff; text-decoration-color: #0087ff\">Embedding</span>)         │ (<span style=\"color: #00d7ff; text-decoration-color: #00d7ff\">None</span>, <span style=\"color: #00af00; text-decoration-color: #00af00\">30</span>, <span style=\"color: #00af00; text-decoration-color: #00af00\">100</span>)        │       <span style=\"color: #00af00; text-decoration-color: #00af00\">500,000</span> │\n",
              "├─────────────────────────────────┼────────────────────────┼───────────────┤\n",
              "│ simple_rnn_18 (<span style=\"color: #0087ff; text-decoration-color: #0087ff\">SimpleRNN</span>)       │ (<span style=\"color: #00d7ff; text-decoration-color: #00d7ff\">None</span>, <span style=\"color: #00af00; text-decoration-color: #00af00\">128</span>)            │        <span style=\"color: #00af00; text-decoration-color: #00af00\">29,312</span> │\n",
              "├─────────────────────────────────┼────────────────────────┼───────────────┤\n",
              "│ dense_4 (<span style=\"color: #0087ff; text-decoration-color: #0087ff\">Dense</span>)                 │ (<span style=\"color: #00d7ff; text-decoration-color: #00d7ff\">None</span>, <span style=\"color: #00af00; text-decoration-color: #00af00\">1</span>)              │           <span style=\"color: #00af00; text-decoration-color: #00af00\">129</span> │\n",
              "└─────────────────────────────────┴────────────────────────┴───────────────┘\n",
              "</pre>\n"
            ]
          },
          "metadata": {}
        },
        {
          "output_type": "display_data",
          "data": {
            "text/plain": [
              "\u001b[1m Total params: \u001b[0m\u001b[38;5;34m529,441\u001b[0m (2.02 MB)\n"
            ],
            "text/html": [
              "<pre style=\"white-space:pre;overflow-x:auto;line-height:normal;font-family:Menlo,'DejaVu Sans Mono',consolas,'Courier New',monospace\"><span style=\"font-weight: bold\"> Total params: </span><span style=\"color: #00af00; text-decoration-color: #00af00\">529,441</span> (2.02 MB)\n",
              "</pre>\n"
            ]
          },
          "metadata": {}
        },
        {
          "output_type": "display_data",
          "data": {
            "text/plain": [
              "\u001b[1m Trainable params: \u001b[0m\u001b[38;5;34m529,441\u001b[0m (2.02 MB)\n"
            ],
            "text/html": [
              "<pre style=\"white-space:pre;overflow-x:auto;line-height:normal;font-family:Menlo,'DejaVu Sans Mono',consolas,'Courier New',monospace\"><span style=\"font-weight: bold\"> Trainable params: </span><span style=\"color: #00af00; text-decoration-color: #00af00\">529,441</span> (2.02 MB)\n",
              "</pre>\n"
            ]
          },
          "metadata": {}
        },
        {
          "output_type": "display_data",
          "data": {
            "text/plain": [
              "\u001b[1m Non-trainable params: \u001b[0m\u001b[38;5;34m0\u001b[0m (0.00 B)\n"
            ],
            "text/html": [
              "<pre style=\"white-space:pre;overflow-x:auto;line-height:normal;font-family:Menlo,'DejaVu Sans Mono',consolas,'Courier New',monospace\"><span style=\"font-weight: bold\"> Non-trainable params: </span><span style=\"color: #00af00; text-decoration-color: #00af00\">0</span> (0.00 B)\n",
              "</pre>\n"
            ]
          },
          "metadata": {}
        }
      ]
    },
    {
      "cell_type": "markdown",
      "source": [],
      "metadata": {
        "id": "pqKcpz8APa_n"
      }
    }
  ]
}