{
  "nbformat": 4,
  "nbformat_minor": 0,
  "metadata": {
    "colab": {
      "provenance": [],
      "authorship_tag": "ABX9TyNd7JRF7NBHSHIeUW+Oi6+E",
      "include_colab_link": true
    },
    "kernelspec": {
      "name": "python3",
      "display_name": "Python 3"
    },
    "language_info": {
      "name": "python"
    }
  },
  "cells": [
    {
      "cell_type": "markdown",
      "metadata": {
        "id": "view-in-github",
        "colab_type": "text"
      },
      "source": [
        "<a href=\"https://colab.research.google.com/github/pinggu95/deep_dive_AI/blob/main/%EC%95%8C%EA%B3%A0%EB%A6%AC%EC%A6%98_%EB%AC%B8%EC%A0%9C_%ED%92%80%EC%9D%B4_%EA%B8%B0%EC%B4%88_%EC%8B%AC%ED%99%94.ipynb\" target=\"_parent\"><img src=\"https://colab.research.google.com/assets/colab-badge.svg\" alt=\"Open In Colab\"/></a>"
      ]
    },
    {
      "cell_type": "markdown",
      "source": [
        "#이진 트리의 순회 방식 구현하기\n",
        "## 트리 순회\n",
        "<https://www.acmicpc.net/problem/1991>"
      ],
      "metadata": {
        "id": "6aop4Oz6xUXt"
      }
    },
    {
      "cell_type": "code",
      "source": [
        "n = int(input())\n",
        "tree = {}\n",
        "for _ in range(n):\n",
        "    root, left, right = input().split()\n",
        "    tree[root] = [left, right]\n",
        "\n",
        "# root -> left -> right 순서\n",
        "def preorder(root):\n",
        "    if root != '.':\n",
        "        print(root, end='') # root\n",
        "        preorder(tree[root][0]) # left\n",
        "        preorder(tree[root][1]) # right\n",
        "# left -> root -> right 순서\n",
        "def inorder(root):\n",
        "    if root != '.':\n",
        "        inorder(tree[root][0]) # left\n",
        "        print(root, end='') # root\n",
        "        inorder(tree[root][1]) # right\n",
        "# left -> right -> root 순서\n",
        "def postorder(root):\n",
        "    if root != '.':\n",
        "        postorder(tree[root][0]) # left\n",
        "        postorder(tree[root][1]) # right\n",
        "        print(root, end='') # root\n",
        "\n",
        "preorder('A')\n",
        "print()\n",
        "inorder('A')\n",
        "print()\n",
        "postorder('A')"
      ],
      "metadata": {
        "id": "jn9jEfhRxtt0"
      },
      "execution_count": null,
      "outputs": []
    },
    {
      "cell_type": "markdown",
      "source": [
        "#큐를 이용한 프린터 작업 스케줄링 시뮬레이션\n",
        "<https://www.acmicpc.net/problem/1966>"
      ],
      "metadata": {
        "id": "e-av84H00sM3"
      }
    },
    {
      "cell_type": "code",
      "source": [
        "t = int(input())\n",
        "\n",
        "for _ in range(t):\n",
        "    n, m = map(int, input().split())\n",
        "    data = list(map(int, input().split()))\n",
        "\n",
        "    result = 1\n",
        "    while data:\n",
        "        if data[0] < max(data):\n",
        "            data.append(data.pop(0))\n",
        "\n",
        "        else:\n",
        "            if m == 0: break\n",
        "\n",
        "            data.pop(0)\n",
        "            result += 1\n",
        "\n",
        "        if m > 0:\n",
        "           m = m - 1\n",
        "        else:\n",
        "           m = len(data) - 1\n",
        "\n",
        "    print(result)"
      ],
      "metadata": {
        "id": "MKAwjXY80siA"
      },
      "execution_count": null,
      "outputs": []
    },
    {
      "cell_type": "markdown",
      "source": [
        "# 두 수의 최대공약수 구하기"
      ],
      "metadata": {
        "id": "3mcSVBTA05GE"
      }
    },
    {
      "cell_type": "code",
      "source": [
        "def gcd(a, b):\n",
        "    while b != 0:\n",
        "        a, b = b, a % b\n",
        "    return a\n",
        "\n",
        "x = 48\n",
        "y = 18\n",
        "result = gcd(x, y)\n",
        "print(f\"{x}와 {y}의 최대공약수는 {result}입니다.\")\n"
      ],
      "metadata": {
        "colab": {
          "base_uri": "https://localhost:8080/"
        },
        "id": "glV74C_X05Y5",
        "outputId": "db9612db-7a1b-4c7a-a094-53db900e9cdf"
      },
      "execution_count": 1,
      "outputs": [
        {
          "output_type": "stream",
          "name": "stdout",
          "text": [
            "48와 18의 최대공약수는 6입니다.\n"
          ]
        }
      ]
    },
    {
      "cell_type": "markdown",
      "source": [
        "#두 수의 최소공배수 구하기"
      ],
      "metadata": {
        "id": "w3bjvKvt1OOu"
      }
    },
    {
      "cell_type": "code",
      "source": [
        "def gcd(a, b):\n",
        "    while b != 0:\n",
        "        a, b = b, a % b\n",
        "    return a\n",
        "\n",
        "def lcm(a, b):\n",
        "    return abs(a * b) // gcd(a, b)\n",
        "\n",
        "\n",
        "x = 48\n",
        "y = 18\n",
        "result = lcm(x, y)\n",
        "print(f\"{x}와 {y}의 최소공배수는 {result}입니다.\")"
      ],
      "metadata": {
        "colab": {
          "base_uri": "https://localhost:8080/"
        },
        "id": "2H2wcaq_1NWp",
        "outputId": "a134a79f-a993-4aad-cb74-7c8834091b2b"
      },
      "execution_count": 2,
      "outputs": [
        {
          "output_type": "stream",
          "name": "stdout",
          "text": [
            "48와 18의 최소공배수는 144입니다.\n"
          ]
        }
      ]
    }
  ]
}