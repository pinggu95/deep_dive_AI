{
  "cells": [
    {
      "cell_type": "markdown",
      "metadata": {
        "id": "view-in-github",
        "colab_type": "text"
      },
      "source": [
        "<a href=\"https://colab.research.google.com/github/pinggu95/deep_dive_AI/blob/main/%EA%B8%B0%EC%B4%88_%EC%88%98%ED%95%99_%EC%9D%B8%EA%B3%B5%EC%A7%80%EB%8A%A5_%EC%88%98%ED%95%99.ipynb\" target=\"_parent\"><img src=\"https://colab.research.google.com/assets/colab-badge.svg\" alt=\"Open In Colab\"/></a>"
      ]
    },
    {
      "cell_type": "markdown",
      "id": "9a2c8610",
      "metadata": {
        "id": "9a2c8610"
      },
      "source": [
        "## 1. 순열과 조합 (Permutations & Combinations)\n",
        "\n",
        "순열은 순서가 중요한 경우, 조합은 순서가 중요하지 않은 경우 사용합니다."
      ]
    },
    {
      "cell_type": "code",
      "execution_count": null,
      "id": "18de4346",
      "metadata": {
        "colab": {
          "base_uri": "https://localhost:8080/"
        },
        "id": "18de4346",
        "outputId": "0f3d169f-6ed2-468e-890c-d5e79d5e5f1c"
      },
      "outputs": [
        {
          "output_type": "execute_result",
          "data": {
            "text/plain": [
              "([(1, 2), (1, 3), (2, 1), (2, 3), (3, 1), (3, 2)], [(1, 2), (1, 3), (2, 3)])"
            ]
          },
          "metadata": {},
          "execution_count": 2
        }
      ],
      "source": [
        "from math import factorial\n",
        "from itertools import permutations, combinations\n",
        "\n",
        "# 순열: 3개 중 2개를 순서 있게 뽑기\n",
        "perm = list(permutations([1, 2, 3], 2))\n",
        "# 조합: 3개 중 2개를 순서 없이 뽑기\n",
        "comb = list(combinations([1, 2, 3], 2))\n",
        "\n",
        "perm, comb\n"
      ]
    },
    {
      "cell_type": "markdown",
      "id": "bade52a0",
      "metadata": {
        "id": "bade52a0"
      },
      "source": [
        "## 2. 조건부 확률 (Conditional Probability)\n",
        "\n",
        "P(A|B) = P(A ∩ B) / P(B)"
      ]
    },
    {
      "cell_type": "code",
      "execution_count": null,
      "id": "ce3d6b58",
      "metadata": {
        "colab": {
          "base_uri": "https://localhost:8080/"
        },
        "id": "ce3d6b58",
        "outputId": "51b58283-a93e-4715-dad7-7e07cd1f3c07"
      },
      "outputs": [
        {
          "output_type": "execute_result",
          "data": {
            "text/plain": [
              "0.5"
            ]
          },
          "metadata": {},
          "execution_count": 3
        }
      ],
      "source": [
        "# 예: 30명 중 18명은 A, 12명은 B, 그 중 6명은 A∩B\n",
        "P_A = 18 / 30\n",
        "P_B = 12 / 30\n",
        "P_A_and_B = 6 / 30\n",
        "P_A_given_B = P_A_and_B / P_B\n",
        "P_A_given_B\n"
      ]
    },
    {
      "cell_type": "markdown",
      "id": "4827669c",
      "metadata": {
        "id": "4827669c"
      },
      "source": [
        "## 3. 베이즈 정리 (Bayes' Theorem)\n",
        "\n",
        "P(A|B) = (P(B|A) * P(A)) / P(B)"
      ]
    },
    {
      "cell_type": "code",
      "execution_count": null,
      "id": "54462c26",
      "metadata": {
        "colab": {
          "base_uri": "https://localhost:8080/"
        },
        "id": "54462c26",
        "outputId": "f4603204-032e-4079-836b-34044084a5b6"
      },
      "outputs": [
        {
          "output_type": "execute_result",
          "data": {
            "text/plain": [
              "0.198"
            ]
          },
          "metadata": {},
          "execution_count": 4
        }
      ],
      "source": [
        "# 예: P(병|양성) = (P(양성|병) * P(병)) / P(양성)\n",
        "P_disease = 0.01\n",
        "P_positive_given_disease = 0.99\n",
        "P_positive = 0.05\n",
        "P_disease_given_positive = (P_positive_given_disease * P_disease) / P_positive\n",
        "P_disease_given_positive\n"
      ]
    },
    {
      "cell_type": "markdown",
      "id": "c4a030bc",
      "metadata": {
        "id": "c4a030bc"
      },
      "source": [
        "## 4. 기댓값/분산/표준편차\n",
        "\n",
        "기댓값은 평균, 분산은 편차의 제곱 평균, 표준편차는 분산의 제곱근"
      ]
    },
    {
      "cell_type": "code",
      "execution_count": null,
      "id": "ef3ebc8e",
      "metadata": {
        "colab": {
          "base_uri": "https://localhost:8080/"
        },
        "id": "ef3ebc8e",
        "outputId": "6398b71d-68da-467a-b407-617ac78ab000"
      },
      "outputs": [
        {
          "output_type": "execute_result",
          "data": {
            "text/plain": [
              "(np.float64(3.0), np.float64(2.0), np.float64(1.4142135623730951))"
            ]
          },
          "metadata": {},
          "execution_count": 5
        }
      ],
      "source": [
        "import numpy as np\n",
        "\n",
        "data = [1, 2, 3, 4, 5]\n",
        "mean = np.mean(data)\n",
        "var = np.var(data)\n",
        "std = np.std(data)\n",
        "\n",
        "mean, var, std\n"
      ]
    },
    {
      "cell_type": "markdown",
      "id": "d2e66a6d",
      "metadata": {
        "id": "d2e66a6d"
      },
      "source": [
        "## 5. 확률 밀도 함수 (PDF)\n",
        "\n",
        "확률 밀도 함수는 연속 확률변수의 확률 분포를 나타냅니다."
      ]
    },
    {
      "cell_type": "code",
      "execution_count": null,
      "id": "e5244ee2",
      "metadata": {
        "colab": {
          "base_uri": "https://localhost:8080/"
        },
        "id": "e5244ee2",
        "outputId": "51d679da-5c71-4883-d695-50743e0887fe"
      },
      "outputs": [
        {
          "output_type": "execute_result",
          "data": {
            "text/plain": [
              "array([0.        , 0.29097092, 0.5585502 , 0.80380642, 1.02777889])"
            ]
          },
          "metadata": {},
          "execution_count": 6
        }
      ],
      "source": [
        "import scipy.stats as stats\n",
        "import numpy as np\n",
        "\n",
        "x = np.linspace(0, 1, 100)\n",
        "pdf = stats.beta.pdf(x, a=2, b=5)\n",
        "pdf[:5]  # 일부 값만 출력\n"
      ]
    },
    {
      "cell_type": "markdown",
      "id": "f4bf3067",
      "metadata": {
        "id": "f4bf3067"
      },
      "source": [
        "## 6. 베르누이 분포 (Bernoulli Distribution)\n",
        "\n",
        "베르누이 분포는 두 가지 결과(성공/실패)를 가지는 분포입니다."
      ]
    },
    {
      "cell_type": "code",
      "execution_count": null,
      "id": "cc4f276a",
      "metadata": {
        "colab": {
          "base_uri": "https://localhost:8080/"
        },
        "id": "cc4f276a",
        "outputId": "e2ebe1d0-deaa-409c-92b1-d3ceaf7653fc"
      },
      "outputs": [
        {
          "output_type": "execute_result",
          "data": {
            "text/plain": [
              "array([0, 1, 0, 0, 0, 0, 0, 0, 0, 0])"
            ]
          },
          "metadata": {},
          "execution_count": 7
        }
      ],
      "source": [
        "from scipy.stats import bernoulli\n",
        "\n",
        "r = bernoulli.rvs(p=0.3, size=10)\n",
        "r\n"
      ]
    },
    {
      "cell_type": "markdown",
      "id": "beb78508",
      "metadata": {
        "id": "beb78508"
      },
      "source": [
        "## 7. 이항분포와 포아송분포\n",
        "\n",
        "이항분포: 고정된 시행에서 성공 횟수, 포아송: 단위시간당 사건 발생 횟수"
      ]
    },
    {
      "cell_type": "code",
      "execution_count": null,
      "id": "9e1ee1e0",
      "metadata": {
        "colab": {
          "base_uri": "https://localhost:8080/"
        },
        "id": "9e1ee1e0",
        "outputId": "3687e5b1-c615-45a2-ea7f-ccbad6b3f61e"
      },
      "outputs": [
        {
          "output_type": "execute_result",
          "data": {
            "text/plain": [
              "(array([4, 5, 3, 5, 5, 4, 8, 7, 5, 6]), array([5, 1, 1, 2, 2, 3, 1, 5, 6, 0]))"
            ]
          },
          "metadata": {},
          "execution_count": 8
        }
      ],
      "source": [
        "from scipy.stats import binom, poisson\n",
        "\n",
        "binomial = binom.rvs(n=10, p=0.5, size=10)\n",
        "poisson_dist = poisson.rvs(mu=3, size=10)\n",
        "\n",
        "binomial, poisson_dist\n"
      ]
    },
    {
      "cell_type": "markdown",
      "id": "4220c6db",
      "metadata": {
        "id": "4220c6db"
      },
      "source": [
        "## 8. 연속확률분포 - 균등분포 (Uniform)\n",
        "\n",
        "모든 값이 동일한 확률을 가지는 분포"
      ]
    },
    {
      "cell_type": "code",
      "execution_count": null,
      "id": "6fbdd78a",
      "metadata": {
        "colab": {
          "base_uri": "https://localhost:8080/"
        },
        "id": "6fbdd78a",
        "outputId": "9d9d0a53-4783-4ccf-d382-8bbf9f57df07"
      },
      "outputs": [
        {
          "output_type": "execute_result",
          "data": {
            "text/plain": [
              "array([5.11015577, 4.83354755, 5.58969328, 4.08271165, 4.43022828,\n",
              "       8.00660003, 1.23513738, 6.24167987, 8.69643558, 7.38760594])"
            ]
          },
          "metadata": {},
          "execution_count": 9
        }
      ],
      "source": [
        "from scipy.stats import uniform\n",
        "\n",
        "samples = uniform.rvs(loc=0, scale=10, size=10)\n",
        "samples\n"
      ]
    },
    {
      "cell_type": "markdown",
      "id": "a6b84c59",
      "metadata": {
        "id": "a6b84c59"
      },
      "source": [
        "## 9. 연속확률분포 - 균등분포 (다시)\n",
        "\n",
        "범위 내의 값이 동일한 확률로 발생"
      ]
    },
    {
      "cell_type": "code",
      "execution_count": null,
      "id": "b9db4210",
      "metadata": {
        "colab": {
          "base_uri": "https://localhost:8080/"
        },
        "id": "b9db4210",
        "outputId": "6c7c6f95-361b-4423-8ead-6fbc3d23257f"
      },
      "outputs": [
        {
          "output_type": "execute_result",
          "data": {
            "text/plain": [
              "array([1., 1., 1., 1., 1.])"
            ]
          },
          "metadata": {},
          "execution_count": 10
        }
      ],
      "source": [
        "x = np.linspace(0, 1, 100)\n",
        "pdf = uniform.pdf(x, loc=0, scale=1)\n",
        "pdf[:5]\n"
      ]
    },
    {
      "cell_type": "markdown",
      "id": "2d22520a",
      "metadata": {
        "id": "2d22520a"
      },
      "source": [
        "## 10. (표준)정규분포\n",
        "\n",
        "평균 0, 표준편차 1인 종모양 분포"
      ]
    },
    {
      "cell_type": "code",
      "execution_count": null,
      "id": "c6016e94",
      "metadata": {
        "colab": {
          "base_uri": "https://localhost:8080/"
        },
        "id": "c6016e94",
        "outputId": "62193440-d7f5-431f-e3c4-394c373c8ba4"
      },
      "outputs": [
        {
          "output_type": "execute_result",
          "data": {
            "text/plain": [
              "array([0.00443185, 0.00530579, 0.00632878, 0.00752133, 0.00890582])"
            ]
          },
          "metadata": {},
          "execution_count": 11
        }
      ],
      "source": [
        "x = np.linspace(-3, 3, 100)\n",
        "pdf = stats.norm.pdf(x, loc=0, scale=1)\n",
        "pdf[:5]\n"
      ]
    },
    {
      "cell_type": "markdown",
      "id": "ec66591f",
      "metadata": {
        "id": "ec66591f"
      },
      "source": [
        "## 11. 지수분포 (Exponential), 로그\n",
        "\n",
        "어떤 사건이 일어날 때까지 걸리는 시간 분포"
      ]
    },
    {
      "cell_type": "code",
      "execution_count": null,
      "id": "8c00b607",
      "metadata": {
        "colab": {
          "base_uri": "https://localhost:8080/"
        },
        "id": "8c00b607",
        "outputId": "cf01127b-6544-4cfc-8e31-4e1768522cbb"
      },
      "outputs": [
        {
          "output_type": "execute_result",
          "data": {
            "text/plain": [
              "array([2.08245243, 0.96144307, 1.03770236, 0.44312234, 0.13361052,\n",
              "       0.6475755 , 2.78851234, 0.90070413, 0.77663432, 1.30257987])"
            ]
          },
          "metadata": {},
          "execution_count": 12
        }
      ],
      "source": [
        "samples = stats.expon.rvs(scale=2, size=10)\n",
        "samples\n"
      ]
    },
    {
      "cell_type": "code",
      "source": [
        "import numpy as np\n",
        "\n",
        "x = 8\n",
        "\n",
        "# 자연로그 (밑 e)\n",
        "ln_x = np.log(x)\n",
        "print(\"자연로그 log_e(x):\", ln_x)\n",
        "\n",
        "# 밑 10 로그\n",
        "log10_x = np.log10(x)\n",
        "print(\"상용로그 log_10(x):\", log10_x)\n",
        "\n",
        "# 밑 2 로그\n",
        "log2_x = np.log2(x)\n",
        "print(\"이진로그 log_2(x):\", log2_x)"
      ],
      "metadata": {
        "colab": {
          "base_uri": "https://localhost:8080/"
        },
        "id": "yGp2kPf-vvcv",
        "outputId": "c5b2e761-0b89-4feb-c518-ccf707bfd85f"
      },
      "id": "yGp2kPf-vvcv",
      "execution_count": null,
      "outputs": [
        {
          "output_type": "stream",
          "name": "stdout",
          "text": [
            "자연로그 log_e(x): 2.0794415416798357\n",
            "상용로그 log_10(x): 0.9030899869919435\n",
            "이진로그 log_2(x): 3.0\n"
          ]
        }
      ]
    },
    {
      "cell_type": "markdown",
      "id": "199c7069",
      "metadata": {
        "id": "199c7069"
      },
      "source": [
        "## 12. 결합확률분포와 결합밀도함수\n",
        "\n",
        "두 변수의 결합된 확률 분포"
      ]
    },
    {
      "cell_type": "code",
      "execution_count": null,
      "id": "59a0a63b",
      "metadata": {
        "colab": {
          "base_uri": "https://localhost:8080/"
        },
        "id": "59a0a63b",
        "outputId": "a906ec93-4493-4ddb-9ad3-31a858cd6dc1"
      },
      "outputs": [
        {
          "output_type": "execute_result",
          "data": {
            "text/plain": [
              "array([[-0.56361775, -0.84589147],\n",
              "       [ 1.7550836 ,  1.16449971],\n",
              "       [-0.44364705, -0.34945163],\n",
              "       [-1.81743599, -2.42861649],\n",
              "       [-0.08471737,  0.95919032]])"
            ]
          },
          "metadata": {},
          "execution_count": 14
        }
      ],
      "source": [
        "mean = [0, 0]\n",
        "cov = [[1, 0.8], [0.8, 1]]\n",
        "samples = np.random.multivariate_normal(mean, cov, 100)\n",
        "samples[:5]\n"
      ]
    },
    {
      "cell_type": "markdown",
      "id": "701f0700",
      "metadata": {
        "id": "701f0700"
      },
      "source": [
        "## 13. 공분산과 상관관계, 공분산행렬\n",
        "\n",
        "공분산은 두 변수의 변화량 관계, 상관관계는 [-1, 1] 범위의 상관성"
      ]
    },
    {
      "cell_type": "code",
      "execution_count": null,
      "id": "9c3b0f8f",
      "metadata": {
        "colab": {
          "base_uri": "https://localhost:8080/"
        },
        "id": "9c3b0f8f",
        "outputId": "e8f32b81-a2d2-4f82-85fb-52ff4ffad51a"
      },
      "outputs": [
        {
          "output_type": "execute_result",
          "data": {
            "text/plain": [
              "(array([[0.89477348, 1.8939951 ],\n",
              "        [1.8939951 , 4.78126122]]),\n",
              " array([[1.        , 0.91569546],\n",
              "        [0.91569546, 1.        ]]))"
            ]
          },
          "metadata": {},
          "execution_count": 15
        }
      ],
      "source": [
        "x = np.random.randn(100)\n",
        "y = 2 * x + np.random.randn(100)\n",
        "cov_matrix = np.cov(x, y)\n",
        "corr = np.corrcoef(x, y)\n",
        "\n",
        "cov_matrix, corr\n"
      ]
    },
    {
      "cell_type": "markdown",
      "id": "5a79cfa3",
      "metadata": {
        "id": "5a79cfa3"
      },
      "source": [
        "## 14. 주성분 분석 (PCA)\n",
        "\n",
        "데이터의 차원을 축소하여 주요 성분 추출"
      ]
    },
    {
      "cell_type": "code",
      "execution_count": null,
      "id": "e756abab",
      "metadata": {
        "colab": {
          "base_uri": "https://localhost:8080/"
        },
        "id": "e756abab",
        "outputId": "c825ed55-3e0a-47c0-a9f4-7f866faad5db"
      },
      "outputs": [
        {
          "output_type": "execute_result",
          "data": {
            "text/plain": [
              "array([[ 1.21951599, -1.14164734],\n",
              "       [ 0.15095185,  0.02693268],\n",
              "       [ 0.42291129,  1.87833368],\n",
              "       [-0.96466015, -1.91806811],\n",
              "       [ 1.00006512,  0.95868506]])"
            ]
          },
          "metadata": {},
          "execution_count": 16
        }
      ],
      "source": [
        "from sklearn.decomposition import PCA\n",
        "\n",
        "X = np.random.randn(100, 3)\n",
        "pca = PCA(n_components=2)\n",
        "X_pca = pca.fit_transform(X)\n",
        "\n",
        "X_pca[:5]\n"
      ]
    }
  ],
  "metadata": {
    "colab": {
      "provenance": [],
      "include_colab_link": true
    },
    "language_info": {
      "name": "python"
    },
    "kernelspec": {
      "name": "python3",
      "display_name": "Python 3"
    }
  },
  "nbformat": 4,
  "nbformat_minor": 5
}