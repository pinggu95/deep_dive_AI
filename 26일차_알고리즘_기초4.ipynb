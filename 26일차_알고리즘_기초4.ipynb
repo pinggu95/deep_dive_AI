{
  "nbformat": 4,
  "nbformat_minor": 0,
  "metadata": {
    "colab": {
      "provenance": [],
      "authorship_tag": "ABX9TyMIYblnZQb3e2+65rrRXHYl",
      "include_colab_link": true
    },
    "kernelspec": {
      "name": "python3",
      "display_name": "Python 3"
    },
    "language_info": {
      "name": "python"
    }
  },
  "cells": [
    {
      "cell_type": "markdown",
      "metadata": {
        "id": "view-in-github",
        "colab_type": "text"
      },
      "source": [
        "<a href=\"https://colab.research.google.com/github/pinggu95/deep_dive_AI/blob/main/26%EC%9D%BC%EC%B0%A8_%EC%95%8C%EA%B3%A0%EB%A6%AC%EC%A6%98_%EA%B8%B0%EC%B4%884.ipynb\" target=\"_parent\"><img src=\"https://colab.research.google.com/assets/colab-badge.svg\" alt=\"Open In Colab\"/></a>"
      ]
    },
    {
      "cell_type": "markdown",
      "source": [
        "## 알고리즘"
      ],
      "metadata": {
        "id": "qxAfJaPr43H9"
      }
    },
    {
      "cell_type": "markdown",
      "source": [
        "### 버블 정렬"
      ],
      "metadata": {
        "id": "ht1_f-Xe45rX"
      }
    },
    {
      "cell_type": "code",
      "execution_count": 9,
      "metadata": {
        "colab": {
          "base_uri": "https://localhost:8080/"
        },
        "id": "xBQ5J_t14yA7",
        "outputId": "92eb00c5-e750-413c-bdfa-6f2d0f052baf"
      },
      "outputs": [
        {
          "output_type": "stream",
          "name": "stdout",
          "text": [
            "정렬 결과: [2, 3, 4, 5, 8]\n"
          ]
        }
      ],
      "source": [
        "def bubble_sort(arr):\n",
        "    n = len(arr)\n",
        "    for i in range(n - 1):\n",
        "        for j in range(n - i - 1):\n",
        "            if arr[j] > arr[j + 1]:\n",
        "                arr[j], arr[j + 1] = arr[j + 1], arr[j]  # swap\n",
        "\n",
        "    return arr\n",
        "\n",
        "\n",
        "data = [5, 3, 8, 4, 2]\n",
        "sorted_data = bubble_sort(data.copy())\n",
        "print(\"정렬 결과:\", sorted_data)"
      ]
    },
    {
      "cell_type": "markdown",
      "source": [
        "### 선택정렬"
      ],
      "metadata": {
        "id": "8IZGnoXW5SEv"
      }
    },
    {
      "cell_type": "code",
      "source": [
        "def selection_sort(arr):\n",
        "    n = len(arr)\n",
        "    for i in range(n - 1):\n",
        "        min_idx = i\n",
        "        for j in range(i + 1, n):\n",
        "            if arr[j] < arr[min_idx]:\n",
        "                min_idx = j\n",
        "        arr[i], arr[min_idx] = arr[min_idx], arr[i]\n",
        "\n",
        "    return arr\n",
        "\n",
        "\n",
        "data = [29, 10, 14, 37, 14]\n",
        "sorted_data = selection_sort(data.copy())\n",
        "print(\"정렬 결과:\", sorted_data)\n"
      ],
      "metadata": {
        "colab": {
          "base_uri": "https://localhost:8080/"
        },
        "id": "KXZPlwCq5Rg3",
        "outputId": "ffd91889-daa5-4254-a553-1287d110bc6d"
      },
      "execution_count": 8,
      "outputs": [
        {
          "output_type": "stream",
          "name": "stdout",
          "text": [
            "정렬 결과: [10, 14, 14, 29, 37]\n"
          ]
        }
      ]
    },
    {
      "cell_type": "markdown",
      "source": [
        "### 삽입정렬"
      ],
      "metadata": {
        "id": "STMLq4b-5nVm"
      }
    },
    {
      "cell_type": "code",
      "source": [
        "def insertion_sort(arr):\n",
        "    for i in range(1, len(arr)):\n",
        "        key = arr[i]\n",
        "        j = i - 1\n",
        "\n",
        "        while j >= 0 and arr[j] > key:\n",
        "            arr[j + 1] = arr[j]\n",
        "            j -= 1\n",
        "        arr[j + 1] = key\n",
        "\n",
        "    return arr\n",
        "\n",
        "\n",
        "data = [7, 3, 5, 2]\n",
        "sorted_data = insertion_sort(data.copy())\n",
        "print(\"정렬 결과:\", sorted_data)\n"
      ],
      "metadata": {
        "colab": {
          "base_uri": "https://localhost:8080/"
        },
        "id": "ah2Ou-5x5m-u",
        "outputId": "bf57c0de-bb73-418a-f362-b0d784a64d38"
      },
      "execution_count": 10,
      "outputs": [
        {
          "output_type": "stream",
          "name": "stdout",
          "text": [
            "정렬 결과: [2, 3, 5, 7]\n"
          ]
        }
      ]
    },
    {
      "cell_type": "markdown",
      "source": [
        "### 힙정렬"
      ],
      "metadata": {
        "id": "ZSycwkW95va4"
      }
    },
    {
      "cell_type": "code",
      "source": [
        "def heapify(arr, n, i):\n",
        "    largest = i\n",
        "    left = 2 * i + 1\n",
        "    right = 2 * i + 2\n",
        "\n",
        "    if left < n and arr[left] > arr[largest]:\n",
        "        largest = left\n",
        "\n",
        "    if right < n and arr[right] > arr[largest]:\n",
        "        largest = right\n",
        "\n",
        "    if largest != i:\n",
        "        arr[i], arr[largest] = arr[largest], arr[i]\n",
        "        heapify(arr, n, largest)\n",
        "\n",
        "def heap_sort(arr):\n",
        "    n = len(arr)\n",
        "\n",
        "\n",
        "    for i in range(n // 2 - 1, -1, -1):\n",
        "        heapify(arr, n, i)\n",
        "\n",
        "\n",
        "    for i in range(n - 1, 0, -1):\n",
        "        arr[0], arr[i] = arr[i], arr[0]\n",
        "        heapify(arr, i, 0)\n",
        "\n",
        "    return arr\n",
        "\n",
        "\n",
        "data = [4, 10, 3, 5, 1]\n",
        "heap_sort(data)\n",
        "print(\"정렬 결과:\",data)\n"
      ],
      "metadata": {
        "colab": {
          "base_uri": "https://localhost:8080/"
        },
        "id": "RE9Y9W4S5vJR",
        "outputId": "e40aec4f-4484-44ad-b4e8-79b35e56e04e"
      },
      "execution_count": 12,
      "outputs": [
        {
          "output_type": "stream",
          "name": "stdout",
          "text": [
            "정렬 결과: [1, 3, 4, 5, 10]\n"
          ]
        }
      ]
    },
    {
      "cell_type": "markdown",
      "source": [
        "### 퀵정렬"
      ],
      "metadata": {
        "id": "-lXUecyr6U3l"
      }
    },
    {
      "cell_type": "code",
      "source": [
        "def quick_sort(arr):\n",
        "    if len(arr) <= 1:\n",
        "        return arr\n",
        "\n",
        "    pivot = arr[0]\n",
        "    left = [x for x in arr[1:] if x <= pivot]\n",
        "    right = [x for x in arr[1:] if x > pivot]\n",
        "\n",
        "    return quick_sort(left) + [pivot] + quick_sort(right)\n",
        "\n",
        "\n",
        "data = [6, 3, 8, 5, 2]\n",
        "sorted_data = quick_sort(data)\n",
        "print(\"정렬 결과:\",sorted_data)\n"
      ],
      "metadata": {
        "colab": {
          "base_uri": "https://localhost:8080/"
        },
        "id": "WDyVEweG6eXv",
        "outputId": "b89371b4-f894-46a2-e2f0-9ece32fe42ce"
      },
      "execution_count": 13,
      "outputs": [
        {
          "output_type": "stream",
          "name": "stdout",
          "text": [
            "정렬 결과: [2, 3, 5, 6, 8]\n"
          ]
        }
      ]
    },
    {
      "cell_type": "markdown",
      "source": [
        "### 병합정렬\n"
      ],
      "metadata": {
        "id": "QPALrMUG66A0"
      }
    },
    {
      "cell_type": "code",
      "source": [
        "def merge_sort(arr):\n",
        "    if len(arr) <= 1:\n",
        "        return arr\n",
        "\n",
        "    mid = len(arr) // 2\n",
        "    left = merge_sort(arr[:mid])   # 왼쪽 절반 정렬\n",
        "    right = merge_sort(arr[mid:])  # 오른쪽 절반 정렬\n",
        "\n",
        "    return merge(left, right)      # 병합\n",
        "\n",
        "def merge(left, right):\n",
        "    result = []\n",
        "    i = j = 0\n",
        "\n",
        "    while i < len(left) and j < len(right):\n",
        "        if left[i] <= right[j]:\n",
        "            result.append(left[i])\n",
        "            i += 1\n",
        "        else:\n",
        "            result.append(right[j])\n",
        "            j += 1\n",
        "\n",
        "\n",
        "    result += left[i:]\n",
        "    result += right[j:]\n",
        "\n",
        "    return result\n",
        "\n",
        "\n",
        "data = [6, 3, 8, 5, 2]\n",
        "sorted_data = merge_sort(data)\n",
        "print(\"정렬 결과:\",sorted_data)\n"
      ],
      "metadata": {
        "colab": {
          "base_uri": "https://localhost:8080/"
        },
        "id": "MJ_fdmwx7Dfg",
        "outputId": "186791ae-e6e6-4cc2-bf3a-58a41cd88fde"
      },
      "execution_count": 14,
      "outputs": [
        {
          "output_type": "stream",
          "name": "stdout",
          "text": [
            "정렬 결과: [2, 3, 5, 6, 8]\n"
          ]
        }
      ]
    },
    {
      "cell_type": "markdown",
      "source": [
        "\n",
        "\n",
        "### 기수정렬\n",
        "\n"
      ],
      "metadata": {
        "id": "djVpT3ro6eFq"
      }
    },
    {
      "cell_type": "code",
      "source": [
        "def counting_sort(arr, exp):\n",
        "    n = len(arr)\n",
        "    output = [0] * n\n",
        "    count = [0] * 10\n",
        "\n",
        "\n",
        "    for i in range(n):\n",
        "        index = arr[i] // exp % 10\n",
        "        count[index] += 1\n",
        "\n",
        "\n",
        "    for i in range(1, 10):\n",
        "        count[i] += count[i - 1]\n",
        "\n",
        "\n",
        "    for i in reversed(range(n)):\n",
        "        index = arr[i] // exp % 10\n",
        "        output[count[index] - 1] = arr[i]\n",
        "        count[index] -= 1\n",
        "\n",
        "\n",
        "    for i in range(n):\n",
        "        arr[i] = output[i]\n",
        "\n",
        "\n",
        "def radix_sort(arr):\n",
        "    max_val = max(arr)\n",
        "    exp = 1\n",
        "    while max_val // exp > 0:\n",
        "        counting_sort(arr, exp)\n",
        "        exp *= 10\n",
        "    return arr\n",
        "\n",
        "\n",
        "data = [170, 45, 75, 90, 802, 24, 2, 66]\n",
        "radix_sort(data)\n",
        "print(\"정렬 결과:\",data)\n"
      ],
      "metadata": {
        "colab": {
          "base_uri": "https://localhost:8080/"
        },
        "id": "rH9H4_Fi7YAp",
        "outputId": "e74edee5-27e2-4dbe-ea09-c7bc9e6c438b"
      },
      "execution_count": 15,
      "outputs": [
        {
          "output_type": "stream",
          "name": "stdout",
          "text": [
            "정렬 결과: [2, 24, 45, 66, 75, 90, 170, 802]\n"
          ]
        }
      ]
    },
    {
      "cell_type": "markdown",
      "source": [
        "### 계수 정렬"
      ],
      "metadata": {
        "id": "-38W2dOx7rVl"
      }
    },
    {
      "cell_type": "code",
      "source": [
        "def counting_sort(arr):\n",
        "    max_val = max(arr)\n",
        "    count = [0] * (max_val + 1)\n",
        "\n",
        "    for num in arr:\n",
        "        count[num] += 1\n",
        "\n",
        "\n",
        "    result = []\n",
        "    for i in range(len(count)):\n",
        "        result.extend([i] * count[i])\n",
        "\n",
        "    return result\n",
        "\n",
        "\n",
        "data = [4, 2, 2, 8, 3, 3, 1]\n",
        "sorted_data = counting_sort(data)\n",
        "print(\"정렬 결과:\",sorted_data)\n"
      ],
      "metadata": {
        "colab": {
          "base_uri": "https://localhost:8080/"
        },
        "id": "szGwYEDP7rE7",
        "outputId": "e818b30c-d179-4645-f349-2956300af011"
      },
      "execution_count": 16,
      "outputs": [
        {
          "output_type": "stream",
          "name": "stdout",
          "text": [
            "정렬 결과: [1, 2, 2, 3, 3, 4, 8]\n"
          ]
        }
      ]
    },
    {
      "cell_type": "markdown",
      "source": [
        "### 이진 탐색"
      ],
      "metadata": {
        "id": "A7Ua7dnW8Cwu"
      }
    },
    {
      "cell_type": "code",
      "source": [
        "def binary_search(arr, target):\n",
        "    left = 0\n",
        "    right = len(arr) - 1\n",
        "\n",
        "    while left <= right:\n",
        "        mid = (left + right) // 2\n",
        "        if arr[mid] == target:\n",
        "            return mid\n",
        "        elif arr[mid] < target:\n",
        "            left = mid + 1\n",
        "        else:\n",
        "            right = mid - 1\n",
        "\n",
        "    return -1\n",
        "\n",
        "\n",
        "data = [1, 3, 5, 7, 9, 11, 13]\n",
        "target = 9\n",
        "index = binary_search(data, target)\n",
        "print(f\"{target}의 인덱스: {index}\")\n"
      ],
      "metadata": {
        "colab": {
          "base_uri": "https://localhost:8080/"
        },
        "id": "RCkPXPT-8Swt",
        "outputId": "0beee78f-5015-44f9-e91f-db4f653f508c"
      },
      "execution_count": 18,
      "outputs": [
        {
          "output_type": "stream",
          "name": "stdout",
          "text": [
            "9의 인덱스: 4\n"
          ]
        }
      ]
    },
    {
      "cell_type": "markdown",
      "source": [
        "\n",
        "### BFS / DFS"
      ],
      "metadata": {
        "id": "QwklgpWj8aKH"
      }
    },
    {
      "cell_type": "code",
      "source": [
        "from collections import deque\n",
        "\n",
        "graph = {\n",
        "    1: [2, 3],\n",
        "    2: [4, 5],\n",
        "    3: [6],\n",
        "    4: [],\n",
        "    5: [],\n",
        "    6: []\n",
        "}\n",
        "\n",
        "def dfs(graph, start, visited=None):\n",
        "    if visited is None:\n",
        "        visited = set()\n",
        "    visited.add(start)\n",
        "    print(start, end=' ')\n",
        "\n",
        "    for neighbor in graph[start]:\n",
        "        if neighbor not in visited:\n",
        "            dfs(graph, neighbor, visited)\n",
        "\n",
        "def bfs(graph, start):\n",
        "    visited = set()\n",
        "    queue = deque([start])\n",
        "\n",
        "    while queue:\n",
        "        node = queue.popleft()\n",
        "        if node not in visited:\n",
        "            print(node, end=' ')\n",
        "            visited.add(node)\n",
        "            queue.extend(graph[node])\n",
        "\n",
        "print(\"DFS 탐색 순서 (깊이 우선):\")\n",
        "dfs(graph, 1)  # 출력: 1 2 4 3 5\n",
        "\n",
        "print(\"\\nBFS 탐색 순서 (너비 우선):\")\n",
        "bfs(graph, 1)  # 출력: 1 2 3 4 5\n"
      ],
      "metadata": {
        "colab": {
          "base_uri": "https://localhost:8080/"
        },
        "id": "3RMet3Hx8fFG",
        "outputId": "cd5574c6-7749-40fd-ac9a-da4bda376a90"
      },
      "execution_count": 21,
      "outputs": [
        {
          "output_type": "stream",
          "name": "stdout",
          "text": [
            "DFS 탐색 순서 (깊이 우선):\n",
            "1 2 4 5 3 6 \n",
            "BFS 탐색 순서 (너비 우선):\n",
            "1 2 3 4 5 6 "
          ]
        }
      ]
    }
  ]
}