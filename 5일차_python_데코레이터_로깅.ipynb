{
  "nbformat": 4,
  "nbformat_minor": 0,
  "metadata": {
    "colab": {
      "provenance": [],
      "authorship_tag": "ABX9TyM/tQBHXSKJLiFP94Q90ao4",
      "include_colab_link": true
    },
    "kernelspec": {
      "name": "python3",
      "display_name": "Python 3"
    },
    "language_info": {
      "name": "python"
    }
  },
  "cells": [
    {
      "cell_type": "markdown",
      "metadata": {
        "id": "view-in-github",
        "colab_type": "text"
      },
      "source": [
        "<a href=\"https://colab.research.google.com/github/pinggu95/deep_dive_AI/blob/main/5%EC%9D%BC%EC%B0%A8_python_%EB%8D%B0%EC%BD%94%EB%A0%88%EC%9D%B4%ED%84%B0_%EB%A1%9C%EA%B9%85.ipynb\" target=\"_parent\"><img src=\"https://colab.research.google.com/assets/colab-badge.svg\" alt=\"Open In Colab\"/></a>"
      ]
    },
    {
      "cell_type": "markdown",
      "source": [
        "### 데코레이터"
      ],
      "metadata": {
        "id": "-3FmFF4EPFci"
      }
    },
    {
      "cell_type": "code",
      "execution_count": 1,
      "metadata": {
        "colab": {
          "base_uri": "https://localhost:8080/"
        },
        "id": "it6iOIavO9Ee",
        "outputId": "39b725a5-ae2b-4e57-d465-82ab4c0adcd5"
      },
      "outputs": [
        {
          "output_type": "stream",
          "name": "stdout",
          "text": [
            "********************\n",
            "hello\n",
            "********************\n"
          ]
        }
      ],
      "source": [
        "def hello():\n",
        "  print(\"hello\")\n",
        "\n",
        "def deco(fn):\n",
        "  def deco_hello():\n",
        "    print(\"*\" *20)\n",
        "    fn()\n",
        "    print(\"*\" *20)\n",
        "  return deco_hello\n",
        "\n",
        "\n",
        "deco_hello= deco(hello)\n",
        "deco_hello()\n",
        ""
      ]
    },
    {
      "cell_type": "code",
      "source": [
        "def deco(fn):\n",
        "  def deco_hello():\n",
        "    print(\"*\" *20)\n",
        "    fn()\n",
        "    print(\"*\" *20)\n",
        "  return deco_hello\n",
        "\n",
        "@deco\n",
        "def hello():\n",
        "  print(\"hello\")\n",
        "\n",
        "# deco_hello= deco(hello) <- @deco 사용시 이 코드가 빠진\n",
        "deco_hello()\n",
        ""
      ],
      "metadata": {
        "colab": {
          "base_uri": "https://localhost:8080/"
        },
        "id": "2jgwS7fzTJuz",
        "outputId": "00b32620-db52-4649-8498-5c6b2e2aa806"
      },
      "execution_count": 2,
      "outputs": [
        {
          "output_type": "stream",
          "name": "stdout",
          "text": [
            "********************\n",
            "hello\n",
            "********************\n"
          ]
        }
      ]
    },
    {
      "cell_type": "code",
      "source": [
        "import time\n",
        "\n",
        "def timer(func):\n",
        "    def wrapper(*args, **kwargs):\n",
        "        start = time.time()\n",
        "        result = func(*args, **kwargs)\n",
        "        end = time.time()\n",
        "        print(f\"실행 시간: {end - start:.4f}초\")\n",
        "        return result\n",
        "    return wrapper\n",
        "\n",
        "@timer\n",
        "def slow_function():\n",
        "    time.sleep(2)\n",
        "    print(\"실행 완료\")\n",
        "\n",
        "slow_function()"
      ],
      "metadata": {
        "colab": {
          "base_uri": "https://localhost:8080/"
        },
        "id": "7FLNIg0MyhdU",
        "outputId": "f30dbca0-545c-4a5d-c839-08851f2b38fa"
      },
      "execution_count": 23,
      "outputs": [
        {
          "output_type": "stream",
          "name": "stdout",
          "text": [
            "실행 완료\n",
            "실행 시간: 2.0002초\n"
          ]
        }
      ]
    },
    {
      "cell_type": "code",
      "source": [
        "# 클로저 복습\n",
        "\n",
        "def outer(out1):\n",
        "  def inner(in1):\n",
        "    print(\"inner call\")\n",
        "    print(\"outer argument: \", in1)\n",
        "    out1()\n",
        "  return inner\n",
        "\n",
        "def hello():\n",
        "  print(\"hello\")\n",
        "\n",
        "f = outer(hello)\n",
        "f(10)"
      ],
      "metadata": {
        "colab": {
          "base_uri": "https://localhost:8080/"
        },
        "id": "nvM-5J6PUAqe",
        "outputId": "843638da-87f4-4d86-feca-2eb7857d6ac2"
      },
      "execution_count": 3,
      "outputs": [
        {
          "output_type": "stream",
          "name": "stdout",
          "text": [
            "inner call\n",
            "outer argument:  10\n",
            "hello\n"
          ]
        }
      ]
    },
    {
      "cell_type": "markdown",
      "source": [
        "### 로깅"
      ],
      "metadata": {
        "id": "df36yDUMX8Fq"
      }
    },
    {
      "cell_type": "code",
      "source": [
        "%%python\n",
        "import logging\n",
        "\n",
        "logging.basicConfig(filename=\"mylog.txt\", level=logging.INFO)\n",
        "\n",
        "def hap(a,b):\n",
        "  ret = a+b\n",
        "  logging.info(f\"input: {a} {b}, output={ret}\")\n",
        "  return ret\n",
        "\n",
        "result = hap(3,4)\n",
        "print(result)"
      ],
      "metadata": {
        "colab": {
          "base_uri": "https://localhost:8080/"
        },
        "id": "46tDYeW9X7v2",
        "outputId": "6b518d4f-354f-47d5-fefd-bb64b47b2612"
      },
      "execution_count": 4,
      "outputs": [
        {
          "output_type": "stream",
          "name": "stdout",
          "text": [
            "7\n"
          ]
        }
      ]
    },
    {
      "cell_type": "markdown",
      "source": [
        "### 쓰레드"
      ],
      "metadata": {
        "id": "GMAIcasNYk4-"
      }
    },
    {
      "cell_type": "code",
      "source": [
        "import threading\n",
        "import time\n",
        "\n",
        "class Worker(threading.Thread):\n",
        "    def __init__(self, name):\n",
        "        super().__init__()\n",
        "        self.name = name\n",
        "\n",
        "    def run(self):\n",
        "        print(\"sub thread start\", threading.current_thread().name)\n",
        "        time.sleep(3)\n",
        "        print(\"sub thread end\", threading.current_thread().name)\n",
        "\n",
        "print(\"main thread start\")\n",
        "for i in range(5):\n",
        "    name = \"thread {}\".format(i)\n",
        "    t = Worker(name)\n",
        "    t.name = name\n",
        "    t.start()\n",
        "\n",
        "print(\"main thread end\")\n"
      ],
      "metadata": {
        "colab": {
          "base_uri": "https://localhost:8080/"
        },
        "id": "-NzyleI0YqIF",
        "outputId": "8311eb7f-ca32-40bf-da7f-ffea5f32d87c"
      },
      "execution_count": 8,
      "outputs": [
        {
          "output_type": "stream",
          "name": "stdout",
          "text": [
            "main thread start\n",
            "sub thread start thread 0\n",
            "sub thread start thread 1\n",
            "sub thread start thread 2\n",
            "sub thread start thread 3\n",
            "sub thread start thread 4\n",
            "main thread end\n"
          ]
        }
      ]
    },
    {
      "cell_type": "markdown",
      "source": [
        "### 데몬 쓰레드"
      ],
      "metadata": {
        "id": "_C25VCH2aVn2"
      }
    },
    {
      "cell_type": "code",
      "source": [
        "import threading\n",
        "import time\n",
        "\n",
        "class Worker(threading.Thread):\n",
        "    def __init__(self, name):\n",
        "        super().__init__()\n",
        "        self.name = name\n",
        "\n",
        "    def run(self):\n",
        "        print(\"sub thread start \", threading.current_thread().name)\n",
        "        time.sleep(3)\n",
        "        print(\"sub thread end \", threading.current_thread().name)\n",
        "\n",
        "print(\"main thread start\")\n",
        "for i in range(5):\n",
        "    name = \"thread {}\".format(i)\n",
        "    t = Worker(name)\n",
        "    t.demon = True\n",
        "    t.name = name\n",
        "    t.start()\n",
        "\n",
        "print(\"main thread end\")\n"
      ],
      "metadata": {
        "colab": {
          "base_uri": "https://localhost:8080/"
        },
        "id": "2mfjH6TQaZM0",
        "outputId": "dd61a91f-7637-4393-b083-b3c9a464044e"
      },
      "execution_count": 6,
      "outputs": [
        {
          "output_type": "stream",
          "name": "stdout",
          "text": [
            "main thread start\n",
            "sub thread start  thread 0\n",
            "sub thread start  thread 1\n",
            "sub thread start  thread 2\n",
            "sub thread start  thread 3\n",
            "sub thread start  thread 4\n",
            "main thread end\n"
          ]
        }
      ]
    },
    {
      "cell_type": "markdown",
      "source": [
        "###fork와 join"
      ],
      "metadata": {
        "id": "RtR7fp0GbNE2"
      }
    },
    {
      "cell_type": "code",
      "source": [
        "import threading\n",
        "import time\n",
        "\n",
        "\n",
        "class Worker(threading.Thread):\n",
        "    def __init__(self, name):\n",
        "        super().__init__(name=name)\n",
        "        self.custom_name = name\n",
        "\n",
        "    def run(self):\n",
        "        print(\"sub thread start\", threading.current_thread().name)\n",
        "        time.sleep(5)\n",
        "        print(\"sub thread end\", threading.current_thread().name)\n",
        "\n",
        "\n",
        "print(\"main thread start\")\n",
        "\n",
        "t1 = Worker(\"Thread-1\")\n",
        "t2 = Worker(\"Thread-2\")\n",
        "\n",
        "t1.start()\n",
        "t2.start()\n",
        "\n",
        "t1.join()\n",
        "t2.join()\n",
        "\n",
        "print(\"main thread post job\")\n",
        "print(\"main thread end\")\n"
      ],
      "metadata": {
        "colab": {
          "base_uri": "https://localhost:8080/"
        },
        "id": "Jo8xroaxbQuo",
        "outputId": "6dbc8acb-6870-4f46-8d51-db8aff5661a0"
      },
      "execution_count": 15,
      "outputs": [
        {
          "output_type": "stream",
          "name": "stdout",
          "text": [
            "main thread start\n",
            "sub thread start Thread-1\n",
            "sub thread start Thread-2\n",
            "sub thread end Thread-1\n",
            "sub thread end Thread-2\n",
            "main thread post job\n",
            "main thread end\n"
          ]
        }
      ]
    },
    {
      "cell_type": "markdown",
      "source": [
        "### 병렬성 프로그래밍"
      ],
      "metadata": {
        "id": "1f5etOweXA-L"
      }
    },
    {
      "cell_type": "code",
      "source": [
        "import multiprocessing as mp\n",
        "import time\n",
        "\n",
        "def worker():\n",
        "    proc = mp.current_process()\n",
        "    print(proc.name)\n",
        "    print(proc.pid)\n",
        "    time.sleep(5)\n",
        "    print(\"SubProcess End\")\n",
        "\n",
        "\n",
        "if __name__ == \"__main__\":\n",
        "    # main process\n",
        "    proc = mp.current_process()\n",
        "    print(proc.name)\n",
        "    print(proc.pid)\n",
        "\n",
        "    # process spawning\n",
        "    p = mp.Process(name=\"SubProcess\", target=worker)\n",
        "    p.start()\n",
        "\n",
        "    print(\"MainProcess End\")\n"
      ],
      "metadata": {
        "colab": {
          "base_uri": "https://localhost:8080/"
        },
        "id": "A-g7IpduXAwD",
        "outputId": "843c260e-13f4-4a4a-e426-2d6c619417a8"
      },
      "execution_count": 1,
      "outputs": [
        {
          "output_type": "stream",
          "name": "stdout",
          "text": [
            "MainProcess\n",
            "313\n",
            "MainProcess End\n",
            "SubProcess"
          ]
        }
      ]
    },
    {
      "cell_type": "markdown",
      "source": [
        "### 정규식 표현"
      ],
      "metadata": {
        "id": "Y7T9Frw-ujF-"
      }
    },
    {
      "cell_type": "code",
      "source": [
        "# 이메일주소 추출해보기\n",
        "\n",
        "import re\n",
        "\n",
        "text = \"문의: hello@example.com 또는 admin@site.org 로 연락주세요.\"\n",
        "pattern = r'\\b[\\w.-]+@[\\w.-]+\\.\\w+\\b'\n",
        "\n",
        "emails = re.findall(pattern, text)\n",
        "print(emails)\n"
      ],
      "metadata": {
        "colab": {
          "base_uri": "https://localhost:8080/"
        },
        "id": "VQo1XkETulcw",
        "outputId": "eed8d53d-a15c-4243-f84a-81816eba162b"
      },
      "execution_count": 17,
      "outputs": [
        {
          "output_type": "stream",
          "name": "stdout",
          "text": [
            "['hello@example.com', 'admin@site.org']\n"
          ]
        }
      ]
    },
    {
      "cell_type": "code",
      "source": [
        "data = \"2025/05/19\"\n",
        "\n",
        "m= re.sub(\"/\",\"-\", data)\n",
        "print(m)"
      ],
      "metadata": {
        "colab": {
          "base_uri": "https://localhost:8080/"
        },
        "id": "dnjlRjWAurXG",
        "outputId": "99725540-3dc8-4a2d-f33d-2bc1b2ba0cea"
      },
      "execution_count": 22,
      "outputs": [
        {
          "output_type": "stream",
          "name": "stdout",
          "text": [
            "2025-05-19\n"
          ]
        }
      ]
    },
    {
      "cell_type": "code",
      "source": [
        "text = \"연락처는 010-1234-5678 또는 02-987-6543입니다.\"\n",
        "pattern = r'\\d{2,3}-\\d{3,4}-\\d{4}'\n",
        "\n",
        "phones = re.findall(pattern, text)\n",
        "print(phones)"
      ],
      "metadata": {
        "colab": {
          "base_uri": "https://localhost:8080/"
        },
        "id": "F0xpzf6zu7ML",
        "outputId": "8311dce2-986c-4a73-c93a-dff3ca353c52"
      },
      "execution_count": 20,
      "outputs": [
        {
          "output_type": "stream",
          "name": "stdout",
          "text": [
            "['010-1234-5678', '02-987-6543']\n"
          ]
        }
      ]
    }
  ]
}