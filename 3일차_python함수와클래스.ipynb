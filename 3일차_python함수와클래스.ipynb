{
  "nbformat": 4,
  "nbformat_minor": 0,
  "metadata": {
    "colab": {
      "provenance": [],
      "toc_visible": true,
      "authorship_tag": "ABX9TyOZ2H+69yjWPm3mbrcCj8xM",
      "include_colab_link": true
    },
    "kernelspec": {
      "name": "python3",
      "display_name": "Python 3"
    },
    "language_info": {
      "name": "python"
    }
  },
  "cells": [
    {
      "cell_type": "markdown",
      "metadata": {
        "id": "view-in-github",
        "colab_type": "text"
      },
      "source": [
        "<a href=\"https://colab.research.google.com/github/pinggu95/deep_dive_AI/blob/main/3%EC%9D%BC%EC%B0%A8_python%ED%95%A8%EC%88%98%EC%99%80%ED%81%B4%EB%9E%98%EC%8A%A4.ipynb\" target=\"_parent\"><img src=\"https://colab.research.google.com/assets/colab-badge.svg\" alt=\"Open In Colab\"/></a>"
      ]
    },
    {
      "cell_type": "markdown",
      "source": [
        "## 함수와 클래스"
      ],
      "metadata": {
        "id": "2Y68Ve-Yp1-N"
      }
    },
    {
      "cell_type": "markdown",
      "source": [
        "### 함수"
      ],
      "metadata": {
        "id": "cbPjWc2Rp60p"
      }
    },
    {
      "cell_type": "code",
      "source": [
        "def hello():\n",
        "  print(\"hello\")\n",
        "\n",
        "hello()"
      ],
      "metadata": {
        "colab": {
          "base_uri": "https://localhost:8080/"
        },
        "id": "uQxN5Pp2p6Yf",
        "outputId": "05a370c5-d73a-4f26-a198-114251bd7a0f"
      },
      "execution_count": null,
      "outputs": [
        {
          "output_type": "stream",
          "name": "stdout",
          "text": [
            "hello\n",
            "136084570113264\n"
          ]
        }
      ]
    },
    {
      "cell_type": "code",
      "execution_count": null,
      "metadata": {
        "colab": {
          "base_uri": "https://localhost:8080/"
        },
        "id": "3x1ZGiJmpnc2",
        "outputId": "54bbd2de-6da1-4723-f339-f83ffc4f99df"
      },
      "outputs": [
        {
          "output_type": "stream",
          "name": "stdout",
          "text": [
            "hello\n"
          ]
        }
      ],
      "source": [
        "def hello():\n",
        "  print(\"hello\")\n",
        "\n",
        "f= hello\n",
        "f()"
      ]
    },
    {
      "cell_type": "code",
      "source": [
        "def hello():\n",
        "  print(\"hello\")\n",
        "\n",
        "f= hello()\n",
        "print(f)"
      ],
      "metadata": {
        "colab": {
          "base_uri": "https://localhost:8080/"
        },
        "id": "oGpujspqN5Mo",
        "outputId": "16a0b8d1-07c8-4797-e4da-f213a6ddbaf2"
      },
      "execution_count": null,
      "outputs": [
        {
          "output_type": "stream",
          "name": "stdout",
          "text": [
            "hello\n",
            "None\n"
          ]
        }
      ]
    },
    {
      "cell_type": "code",
      "source": [
        "def hello():\n",
        "    print(\"hello\")\n",
        "    return \"goorm\"\n",
        "\n",
        "f = hello      # 함수 객체 자체 저장\n",
        "g = hello()    # 함수 호출 -> print 실행 + \"goorm\" 리턴 → g에 저장\n",
        "\n",
        "# print(f())\n",
        "print(g)"
      ],
      "metadata": {
        "colab": {
          "base_uri": "https://localhost:8080/"
        },
        "id": "Yt0GaBm9OH0L",
        "outputId": "53de2aa1-0395-4b52-a526-5cf0acdb623b"
      },
      "execution_count": null,
      "outputs": [
        {
          "output_type": "stream",
          "name": "stdout",
          "text": [
            "hello\n",
            "goorm\n"
          ]
        }
      ]
    },
    {
      "cell_type": "code",
      "source": [
        "class Func:\n",
        "  def __call__(self):\n",
        "    print(\"call\")\n",
        "f =Func()\n",
        "f()"
      ],
      "metadata": {
        "colab": {
          "base_uri": "https://localhost:8080/"
        },
        "id": "Qkb65MlFGufJ",
        "outputId": "bb9de634-0e5d-4a04-9138-41450bba25a0"
      },
      "execution_count": null,
      "outputs": [
        {
          "output_type": "stream",
          "name": "stdout",
          "text": [
            "call\n"
          ]
        }
      ]
    },
    {
      "cell_type": "markdown",
      "source": [
        "## 위치인자"
      ],
      "metadata": {
        "id": "DukQ4pMIQZQl"
      }
    },
    {
      "cell_type": "code",
      "source": [
        "def print_num(a,b,c):\n",
        "  print(a,b,c)\n",
        "\n",
        "#1.\n",
        "print_num(*[7,8,9])\n",
        "\n",
        "#2.\n",
        "print_num(*(7,8,9))\n",
        "\n",
        "#3.\n",
        "x = [7,8,9]\n",
        "print_num(*x)"
      ],
      "metadata": {
        "colab": {
          "base_uri": "https://localhost:8080/"
        },
        "id": "FOYaOwrLQY50",
        "outputId": "907a87a7-6ab0-4808-fd24-f4f6939a6d51"
      },
      "execution_count": null,
      "outputs": [
        {
          "output_type": "stream",
          "name": "stdout",
          "text": [
            "7 8 9\n",
            "7 8 9\n",
            "7 8 9\n"
          ]
        }
      ]
    },
    {
      "cell_type": "markdown",
      "source": [
        "##가변인자"
      ],
      "metadata": {
        "id": "QCFDlaf2R1SY"
      }
    },
    {
      "cell_type": "code",
      "source": [
        "def foo(*a):\n",
        "  print(a)\n",
        "\n",
        "foo(1,2,3)\n",
        "foo(1,2,3,4)"
      ],
      "metadata": {
        "colab": {
          "base_uri": "https://localhost:8080/"
        },
        "id": "ApJOmX6eR3wA",
        "outputId": "52e74811-28d9-4b62-90ec-6ee3072e7945"
      },
      "execution_count": null,
      "outputs": [
        {
          "output_type": "stream",
          "name": "stdout",
          "text": [
            "(1, 2, 3)\n",
            "(1, 2, 3, 4)\n"
          ]
        }
      ]
    },
    {
      "cell_type": "markdown",
      "source": [
        "###키워드 가변인자"
      ],
      "metadata": {
        "id": "XDfEf5RvTw7A"
      }
    },
    {
      "cell_type": "code",
      "source": [
        "def foo(**a):\n",
        "  print(a)\n",
        "\n",
        "foo(a=1,b=2,c=3)\n",
        "foo(a=1,b=2,c=3,d=4)"
      ],
      "metadata": {
        "colab": {
          "base_uri": "https://localhost:8080/"
        },
        "id": "Tovdw54iTLWK",
        "outputId": "ffed75d1-5e00-4bb4-c4ad-d755452b6919"
      },
      "execution_count": null,
      "outputs": [
        {
          "output_type": "stream",
          "name": "stdout",
          "text": [
            "{'a': 1, 'b': 2, 'c': 3}\n",
            "{'a': 1, 'b': 2, 'c': 3, 'd': 4}\n"
          ]
        }
      ]
    },
    {
      "cell_type": "code",
      "source": [
        "def foo(*a,**b):\n",
        "  print(a)\n",
        "  print(b)\n",
        "\n",
        "foo(1,2,3,a=1,b=2,c=3)"
      ],
      "metadata": {
        "colab": {
          "base_uri": "https://localhost:8080/"
        },
        "id": "coFaAaU4TjWV",
        "outputId": "3ae76497-8eda-4ac1-9a9e-3dea7595658d"
      },
      "execution_count": null,
      "outputs": [
        {
          "output_type": "stream",
          "name": "stdout",
          "text": [
            "(1, 2, 3)\n",
            "{'a': 1, 'b': 2, 'c': 3}\n"
          ]
        }
      ]
    },
    {
      "cell_type": "markdown",
      "source": [
        "## lambda 함수\n",
        "\n"
      ],
      "metadata": {
        "id": "ieLKuuDQR3aZ"
      }
    },
    {
      "cell_type": "code",
      "source": [
        "def add(x, y):\n",
        "    return x + y\n",
        "\n",
        "add_lambda = lambda x, y: x + y\n",
        "\n",
        "print(add(3, 5))\n",
        "print(add_lambda(3, 5))\n"
      ],
      "metadata": {
        "colab": {
          "base_uri": "https://localhost:8080/"
        },
        "id": "2BKVq6_xV_ob",
        "outputId": "ca68407c-7223-45d7-d444-a8fec2dc262f"
      },
      "execution_count": null,
      "outputs": [
        {
          "output_type": "stream",
          "name": "stdout",
          "text": [
            "8\n",
            "8\n"
          ]
        }
      ]
    },
    {
      "cell_type": "markdown",
      "source": [
        "### LEGB 규칙"
      ],
      "metadata": {
        "id": "_Ja2RMVXYPww"
      }
    },
    {
      "cell_type": "code",
      "source": [
        "x = \"global\"\n",
        "\n",
        "def outer():\n",
        "    x = \"enclosing\"\n",
        "    def inner():\n",
        "        x = \"local\"\n",
        "        print(x)  # LEGB에 따라 local 찾음\n",
        "    inner()\n",
        "\n",
        "outer()\n"
      ],
      "metadata": {
        "colab": {
          "base_uri": "https://localhost:8080/"
        },
        "id": "G5561pgDYO7r",
        "outputId": "fb0bdbd0-c3d5-4ce3-8792-4260465f84e4"
      },
      "execution_count": null,
      "outputs": [
        {
          "output_type": "stream",
          "name": "stdout",
          "text": [
            "local\n"
          ]
        }
      ]
    },
    {
      "cell_type": "code",
      "source": [
        "x = \"global\"\n",
        "\n",
        "def outer():\n",
        "    x = \"enclosing\" # # LEGB에 따라\n",
        "    def inner():\n",
        "        print(x)\n",
        "    inner()\n",
        "\n",
        "outer()\n"
      ],
      "metadata": {
        "colab": {
          "base_uri": "https://localhost:8080/"
        },
        "id": "L_3I8CtcY4x8",
        "outputId": "267cda9a-9568-4e30-fb45-9c5b85963717"
      },
      "execution_count": null,
      "outputs": [
        {
          "output_type": "stream",
          "name": "stdout",
          "text": [
            "enclosing\n"
          ]
        }
      ]
    },
    {
      "cell_type": "code",
      "source": [
        "x = \"global\"\n",
        "\n",
        "def outer():\n",
        "    def inner():\n",
        "        print(x)\n",
        "    inner()\n",
        "\n",
        "outer()\n"
      ],
      "metadata": {
        "colab": {
          "base_uri": "https://localhost:8080/"
        },
        "id": "eZIBEG6CabWI",
        "outputId": "f8238cf7-5dba-454a-edbd-645b8aa2372f"
      },
      "execution_count": null,
      "outputs": [
        {
          "output_type": "stream",
          "name": "stdout",
          "text": [
            "global\n"
          ]
        }
      ]
    },
    {
      "cell_type": "markdown",
      "source": [
        "###클로저(Closure)"
      ],
      "metadata": {
        "id": "OYsPLHL1ieyt"
      }
    },
    {
      "cell_type": "code",
      "source": [
        "def outer(num):\n",
        "  def inner():\n",
        "    print(num)\n",
        "  return inner\n",
        "\n",
        "f1 = outer(3)\n",
        "f2 = outer(5)\n",
        "\n",
        "f1()\n",
        "f2()\n"
      ],
      "metadata": {
        "colab": {
          "base_uri": "https://localhost:8080/"
        },
        "id": "bnPgqCZ7jMqx",
        "outputId": "c2373161-c1a1-42bc-f391-3c5c336e1c2c"
      },
      "execution_count": null,
      "outputs": [
        {
          "output_type": "stream",
          "name": "stdout",
          "text": [
            "3\n",
            "5\n"
          ]
        }
      ]
    },
    {
      "cell_type": "code",
      "source": [
        "def calc():\n",
        "    a = 3\n",
        "    b = 5\n",
        "    def mul_add(x):\n",
        "        return a * x + b\n",
        "    return mul_add\n",
        "\n",
        "c = calc()\n",
        "print(c(1), c(2), c(3), c(4), c(5))"
      ],
      "metadata": {
        "colab": {
          "base_uri": "https://localhost:8080/"
        },
        "id": "34Q6kc0fi--i",
        "outputId": "97c999c7-419d-4be1-8036-89749a64c6d8"
      },
      "execution_count": null,
      "outputs": [
        {
          "output_type": "stream",
          "name": "stdout",
          "text": [
            "8 11 14 17 20\n"
          ]
        }
      ]
    },
    {
      "cell_type": "markdown",
      "source": [
        "## 클래스(class)\n",
        "* 생성자\n",
        "* 인스턴스"
      ],
      "metadata": {
        "id": "HnD1En64o_q2"
      }
    },
    {
      "cell_type": "code",
      "source": [
        "class person:\n",
        "  pass\n",
        "\n",
        "p = person()\n",
        "p.data = 3"
      ],
      "metadata": {
        "id": "uOYsd_9fo_Iu"
      },
      "execution_count": null,
      "outputs": []
    },
    {
      "cell_type": "code",
      "source": [
        "class Car:\n",
        "    def __init__(self, color):  # __init__  생성자\n",
        "        self.color = color  # 인스턴스 변수 생성\n",
        "        print(\"자동차가 만들어졌습니다.\")\n",
        "\n",
        "    def drive(self):\n",
        "        print(f\"{self.color} 자동차가 달립니다.\")\n",
        "\n",
        "my_car = Car(\"빨간색\")  # → 여기서 Car는 클래스, my_car는 인스턴스\n",
        "my_car.drive()"
      ],
      "metadata": {
        "colab": {
          "base_uri": "https://localhost:8080/"
        },
        "id": "rjdgwTvdqwc_",
        "outputId": "559649f8-e9e9-4f2c-c341-91faa0a686f6"
      },
      "execution_count": null,
      "outputs": [
        {
          "output_type": "stream",
          "name": "stdout",
          "text": [
            "자동차가 만들어졌습니다.\n",
            "빨간색 자동차가 달립니다.\n"
          ]
        }
      ]
    },
    {
      "cell_type": "markdown",
      "source": [
        "##객체속성과 관련된 함수\n",
        "* hasattr()\n",
        "* getattr()"
      ],
      "metadata": {
        "id": "23iikWaesTbc"
      }
    },
    {
      "cell_type": "code",
      "source": [
        "class Person:\n",
        "    def __init__(self, name):\n",
        "        self.name = name\n",
        "\n",
        "    def greet(self):\n",
        "        print(f\"Hi, I'm {self.name}\")\n",
        "\n",
        "p = Person(\"goorm\")\n",
        "\n",
        "print(hasattr(p, 'name'))     # True\n",
        "print(hasattr(p, 'greet'))    # True\n",
        "print(hasattr(p, 'age'))      # False\n"
      ],
      "metadata": {
        "colab": {
          "base_uri": "https://localhost:8080/"
        },
        "id": "h6RZ-SNFsT3X",
        "outputId": "630bf568-7097-4be9-959a-9946e8a43d0b"
      },
      "execution_count": null,
      "outputs": [
        {
          "output_type": "stream",
          "name": "stdout",
          "text": [
            "True\n",
            "True\n",
            "False\n"
          ]
        }
      ]
    }
  ]
}