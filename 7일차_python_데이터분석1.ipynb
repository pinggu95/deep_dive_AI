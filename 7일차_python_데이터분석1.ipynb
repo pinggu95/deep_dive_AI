{
  "nbformat": 4,
  "nbformat_minor": 0,
  "metadata": {
    "colab": {
      "provenance": [],
      "authorship_tag": "ABX9TyMUcE+cLFmUyG/LjAPmn7Hh",
      "include_colab_link": true
    },
    "kernelspec": {
      "name": "python3",
      "display_name": "Python 3"
    },
    "language_info": {
      "name": "python"
    }
  },
  "cells": [
    {
      "cell_type": "markdown",
      "metadata": {
        "id": "view-in-github",
        "colab_type": "text"
      },
      "source": [
        "<a href=\"https://colab.research.google.com/github/pinggu95/deep_dive_AI/blob/main/7%EC%9D%BC%EC%B0%A8_python_%EB%8D%B0%EC%9D%B4%ED%84%B0%EB%B6%84%EC%84%9D1.ipynb\" target=\"_parent\"><img src=\"https://colab.research.google.com/assets/colab-badge.svg\" alt=\"Open In Colab\"/></a>"
      ]
    },
    {
      "cell_type": "markdown",
      "source": [
        "## 데이터분석1"
      ],
      "metadata": {
        "id": "gQJvAwG3jsKS"
      }
    },
    {
      "cell_type": "markdown",
      "source": [
        "## pandas , numpy"
      ],
      "metadata": {
        "id": "Y11-k6Kcjval"
      }
    },
    {
      "cell_type": "code",
      "source": [
        "# pandas, numpy를 사용하기 위해서는 먼저 import를 해줘야한다\n",
        "import pandas as pd\n",
        "import numpy as np"
      ],
      "metadata": {
        "id": "gZk0-OUujvBR"
      },
      "execution_count": 103,
      "outputs": []
    },
    {
      "cell_type": "code",
      "execution_count": 104,
      "metadata": {
        "colab": {
          "base_uri": "https://localhost:8080/"
        },
        "id": "0PtvM-n0fuuW",
        "outputId": "1ecfff98-394b-48ea-c65f-de5ea2df5eac"
      },
      "outputs": [
        {
          "output_type": "stream",
          "name": "stdout",
          "text": [
            "   A  B\n",
            "0  1  3\n",
            "1  2  4\n"
          ]
        }
      ],
      "source": [
        "data = {'A' : [1,2], 'B': [3,4]}\n",
        "df = pd.DataFrame(data=data)\n",
        "print(df)"
      ]
    },
    {
      "cell_type": "code",
      "source": [
        "data = np.array([[1,2], [3,4]])\n",
        "df = pd.DataFrame(data=data, index=['row1','row2'], columns=['col1', 'col2'])\n",
        "print(df)"
      ],
      "metadata": {
        "colab": {
          "base_uri": "https://localhost:8080/"
        },
        "id": "F_CEaXbQkp86",
        "outputId": "a3fdac8f-e176-4e6e-ca14-eda21e9fcdcf"
      },
      "execution_count": 105,
      "outputs": [
        {
          "output_type": "stream",
          "name": "stdout",
          "text": [
            "      col1  col2\n",
            "row1     1     2\n",
            "row2     3     4\n"
          ]
        }
      ]
    },
    {
      "cell_type": "markdown",
      "source": [
        "### 덧셈\n",
        "1. DataFrame.add(other, axis='columns',\n",
        "level=None, fill_value=None)\n",
        "\n",
        "* add = df1+df2\n",
        "\n",
        "2. DataFrame.radd(other, axis='columns', level=None, fill_value=None)\n",
        "\n",
        "* radd = df2 +df1"
      ],
      "metadata": {
        "id": "uTDzaBmDlSJK"
      }
    },
    {
      "cell_type": "code",
      "source": [
        "data = [[1,10,100],[2,20,200],[3,30,300]]\n",
        "col = ['col1','col2','col3']\n",
        "row = ['row1','row2','row3']\n",
        "df = pd.DataFrame(data=data,index=row,columns=col)\n",
        "print(df)"
      ],
      "metadata": {
        "colab": {
          "base_uri": "https://localhost:8080/"
        },
        "id": "rzrK1rO1laC7",
        "outputId": "093056ca-b773-4e60-bbd7-78cbdb8146a0"
      },
      "execution_count": 106,
      "outputs": [
        {
          "output_type": "stream",
          "name": "stdout",
          "text": [
            "      col1  col2  col3\n",
            "row1     1    10   100\n",
            "row2     2    20   200\n",
            "row3     3    30   300\n"
          ]
        }
      ]
    },
    {
      "cell_type": "code",
      "source": [
        "result = df.add(1) #각 col마다 1씩 더함\n",
        "#result = df+1\n",
        "print(result)"
      ],
      "metadata": {
        "colab": {
          "base_uri": "https://localhost:8080/"
        },
        "id": "sLSpn8kDle1a",
        "outputId": "2d3fb27f-14aa-46f4-f7ba-63e6cc00a3b1"
      },
      "execution_count": 107,
      "outputs": [
        {
          "output_type": "stream",
          "name": "stdout",
          "text": [
            "      col1  col2  col3\n",
            "row1     2    11   101\n",
            "row2     3    21   201\n",
            "row3     4    31   301\n"
          ]
        }
      ]
    },
    {
      "cell_type": "code",
      "source": [
        "data2 = [[3],[4],[5]]\n",
        "col2 = ['col1']\n",
        "row2 = ['row1','row2','row3']\n",
        "df2 = pd.DataFrame(data=data2,index=row2,columns=col2)\n",
        "print(df2)"
      ],
      "metadata": {
        "colab": {
          "base_uri": "https://localhost:8080/"
        },
        "id": "bHL5Bm7ulwlI",
        "outputId": "0bcb6133-e677-49cf-b6d0-2150890314c5"
      },
      "execution_count": 108,
      "outputs": [
        {
          "output_type": "stream",
          "name": "stdout",
          "text": [
            "      col1\n",
            "row1     3\n",
            "row2     4\n",
            "row3     5\n"
          ]
        }
      ]
    },
    {
      "cell_type": "code",
      "source": [
        "result = df.add(df2) # df2에는 col2,col3가 없어서 NaN으로 출력된다\n",
        "print(result)"
      ],
      "metadata": {
        "colab": {
          "base_uri": "https://localhost:8080/"
        },
        "id": "2hI-L4m6mBRn",
        "outputId": "11bf5635-456d-49f5-fd1a-c763ae158254"
      },
      "execution_count": 109,
      "outputs": [
        {
          "output_type": "stream",
          "name": "stdout",
          "text": [
            "      col1  col2  col3\n",
            "row1     4   NaN   NaN\n",
            "row2     6   NaN   NaN\n",
            "row3     8   NaN   NaN\n"
          ]
        }
      ]
    },
    {
      "cell_type": "code",
      "source": [
        "result = df.add(df2,fill_value=0) #fill_value 인수를 통해 해당 오류를 출력 가능\n",
        "print(result)"
      ],
      "metadata": {
        "colab": {
          "base_uri": "https://localhost:8080/"
        },
        "id": "TUTAx-BJmWHB",
        "outputId": "5de7df0e-71c9-46c5-bc22-a84370ba9eab"
      },
      "execution_count": 110,
      "outputs": [
        {
          "output_type": "stream",
          "name": "stdout",
          "text": [
            "      col1  col2   col3\n",
            "row1     4  10.0  100.0\n",
            "row2     6  20.0  200.0\n",
            "row3     8  30.0  300.0\n"
          ]
        }
      ]
    },
    {
      "cell_type": "markdown",
      "source": [
        "### 뺄셈\n",
        "1. DataFrame.sub(other, axis='columns', level=None, fill_value=None)\n",
        "* sub = df1-df2\n",
        "2. DataFrame.rsub(other, axis='columns', level=None, fill_value=None)\n",
        "* rsub = df2-df1"
      ],
      "metadata": {
        "id": "soDYNa63ny31"
      }
    },
    {
      "cell_type": "code",
      "source": [
        "data = [[1,10,100],[2,20,200],[3,30,300]]\n",
        "col = ['col1','col2','col3']\n",
        "row = ['row1','row2','row3']\n",
        "df = pd.DataFrame(data=data,index=row,columns=col)\n",
        "print(df)"
      ],
      "metadata": {
        "colab": {
          "base_uri": "https://localhost:8080/"
        },
        "id": "kZyoqIfbnyic",
        "outputId": "7108c22d-d82e-4220-cd49-28866d5b8daa"
      },
      "execution_count": 111,
      "outputs": [
        {
          "output_type": "stream",
          "name": "stdout",
          "text": [
            "      col1  col2  col3\n",
            "row1     1    10   100\n",
            "row2     2    20   200\n",
            "row3     3    30   300\n"
          ]
        }
      ]
    },
    {
      "cell_type": "code",
      "source": [
        "result = df.sub(1)\n",
        "# result = df-1\n",
        "print(result)"
      ],
      "metadata": {
        "colab": {
          "base_uri": "https://localhost:8080/"
        },
        "id": "SvDjnIJWoDhy",
        "outputId": "3117d029-9fc7-4aaa-a7f7-48ee74cada8d"
      },
      "execution_count": 112,
      "outputs": [
        {
          "output_type": "stream",
          "name": "stdout",
          "text": [
            "      col1  col2  col3\n",
            "row1     0     9    99\n",
            "row2     1    19   199\n",
            "row3     2    29   299\n"
          ]
        }
      ]
    },
    {
      "cell_type": "markdown",
      "source": [
        "### 곱셈, 나눗셈, 나머지, 거듭제곱\n",
        "1. 곱셈 : mul, rmul\n",
        "2. 나눗셈 : div, rdiv\n",
        "3. 나머지 : mod, rmod\n",
        "4. 거듭제 : pow, rpow\n",
        "\n",
        "덧셈, 뺄셈이랑 같으므로 생략"
      ],
      "metadata": {
        "id": "EbHhwe71ocuq"
      }
    },
    {
      "cell_type": "markdown",
      "source": [
        "### 행렬곱\n",
        "DataFrame.dot(other)"
      ],
      "metadata": {
        "id": "hcMXJ7CnpAQu"
      }
    },
    {
      "cell_type": "markdown",
      "source": [
        "             col1 col2                col1 col2              col1   col2\n",
        "      row1    A    B     x     row1    a    b     =     row1  Aa+bc  Ab+Bd\n",
        "      row2    C    D           row2    c    d           row2  Ca+Dc  Cb+Dd\n"
      ],
      "metadata": {
        "id": "FXRQes2NpGgj"
      }
    },
    {
      "cell_type": "code",
      "source": [
        "col = ['col1','col2']\n",
        "row = ['row1','row2']\n",
        "data1 = [[1,2],[3,4]]\n",
        "data2 = [[5,6],[7,8]]\n",
        "df1 = pd.DataFrame(data=data1)\n",
        "df2 = pd.DataFrame(data=data2)\n",
        "print(df1)"
      ],
      "metadata": {
        "colab": {
          "base_uri": "https://localhost:8080/"
        },
        "id": "WJCqjPTyo_0w",
        "outputId": "f3994a6d-8ee4-4b8a-a709-5004bcd135c9"
      },
      "execution_count": 113,
      "outputs": [
        {
          "output_type": "stream",
          "name": "stdout",
          "text": [
            "   0  1\n",
            "0  1  2\n",
            "1  3  4\n"
          ]
        }
      ]
    },
    {
      "cell_type": "code",
      "source": [
        "df3 = df1.dot(df2)\n",
        "print(df3)"
      ],
      "metadata": {
        "colab": {
          "base_uri": "https://localhost:8080/"
        },
        "id": "4i8vgOV8ocOA",
        "outputId": "2872f6d6-6227-4d22-df10-3d28d4f09aa8"
      },
      "execution_count": 114,
      "outputs": [
        {
          "output_type": "stream",
          "name": "stdout",
          "text": [
            "    0   1\n",
            "0  19  22\n",
            "1  43  50\n"
          ]
        }
      ]
    },
    {
      "cell_type": "markdown",
      "source": [
        "         0  1          0  1            0        1               0   1\n",
        "      0  1  2   x   0  5  6   =   0  1*5+2*7  1*6+2*8   =   0  19  22\n",
        "      1  3  4       1  7  8       1  1*7+3*8  3*6+4*8       1  43  50\n"
      ],
      "metadata": {
        "id": "VW4GgNqtpjP8"
      }
    },
    {
      "cell_type": "markdown",
      "source": [
        "### 반올림\n",
        "DataFrame.round(decimals=0, args, kwargs)"
      ],
      "metadata": {
        "id": "QEDgaW6mp4qF"
      }
    },
    {
      "cell_type": "code",
      "source": [
        "col = ['col1','col2','col3']\n",
        "row = ['row1','row2','row3']\n",
        "data = np.random.rand(3,3)*100\n",
        "df = pd.DataFrame(data=data, index=row, columns=col)\n",
        "print(df)"
      ],
      "metadata": {
        "colab": {
          "base_uri": "https://localhost:8080/"
        },
        "id": "VvYBMvZ0oUXx",
        "outputId": "6d0930e4-3278-47f4-b9ca-992325337fe9"
      },
      "execution_count": 115,
      "outputs": [
        {
          "output_type": "stream",
          "name": "stdout",
          "text": [
            "           col1       col2       col3\n",
            "row1  12.873764  41.723401  42.774762\n",
            "row2  94.911063  26.045106  81.679223\n",
            "row3  36.311309  55.481367  32.333226\n"
          ]
        }
      ]
    },
    {
      "cell_type": "code",
      "source": [
        "print(df.round(3))\n",
        "print(df.round(0))\n",
        "print(df.round(-1))"
      ],
      "metadata": {
        "colab": {
          "base_uri": "https://localhost:8080/"
        },
        "id": "-jY3ctryqAyM",
        "outputId": "3de6ed0f-a25a-4083-b927-b3b86d65b5ee"
      },
      "execution_count": 116,
      "outputs": [
        {
          "output_type": "stream",
          "name": "stdout",
          "text": [
            "        col1    col2    col3\n",
            "row1  12.874  41.723  42.775\n",
            "row2  94.911  26.045  81.679\n",
            "row3  36.311  55.481  32.333\n",
            "      col1  col2  col3\n",
            "row1  13.0  42.0  43.0\n",
            "row2  95.0  26.0  82.0\n",
            "row3  36.0  55.0  32.0\n",
            "      col1  col2  col3\n",
            "row1  10.0  40.0  40.0\n",
            "row2  90.0  30.0  80.0\n",
            "row3  40.0  60.0  30.0\n"
          ]
        }
      ]
    },
    {
      "cell_type": "markdown",
      "source": [
        "### 합계(sum), 곱 (prod,product)\n",
        "1. DataFrame.sum(axis=None, skipna=None, level=None, numeric_only=None, min_count=0, kwargs)\n",
        "2. DataFrame.prod(axis=None, skipna=None, level=None, numeric_only=None, min_count=0, kwargs)\n",
        "DataFrame.product(axis=None, skipna=None, level=None, numeric_only=None, min_count=0, kwargs)\n",
        "\n",
        "* `axis` : { 0 : 행 / 1 : 열} 더할 레이블을 선택합니다.\n",
        "* `skipna` : {True or False} Na가 존재할 경우 무시할지의 여부입니다. 기본값은 True입니다.\n",
        "* `level` : Multi Index일 경우 레벨을 설정합니다.\n",
        "* `numeric_only` : 숫자 데이터만 사용할지의 여부 입니다.\n",
        "* `min_count` : 계산에 필요한 숫자의 최소 갯수입니다.\n",
        "<br>\n",
        "ex) min_count = 3 :그 행에 유효한 값  (=NaN이 아닌 값)이 3개 이상 있어야 합계를 계산"
      ],
      "metadata": {
        "id": "kIdLNYVSqdZj"
      }
    },
    {
      "cell_type": "code",
      "source": [
        "import pandas as pd\n",
        "import numpy as np\n",
        "\n",
        "col = ['col1','col2','col3']\n",
        "row = ['row1','row2','row3']\n",
        "data = [[1,2,3],[4,5,6],[7, np.nan,9]]\n",
        "df = pd.DataFrame(data=data,index=row,columns=col)\n",
        "print(df)"
      ],
      "metadata": {
        "colab": {
          "base_uri": "https://localhost:8080/"
        },
        "id": "oC5ImvmErMwf",
        "outputId": "094324d3-0955-4675-ff3f-ae44069a67c8"
      },
      "execution_count": 117,
      "outputs": [
        {
          "output_type": "stream",
          "name": "stdout",
          "text": [
            "      col1  col2  col3\n",
            "row1     1   2.0     3\n",
            "row2     4   5.0     6\n",
            "row3     7   NaN     9\n"
          ]
        }
      ]
    },
    {
      "cell_type": "code",
      "source": [
        "print(df.sum(axis=0)) # axis=0 열 가로\n",
        "print()\n",
        "print(df.sum(axis=1)) # axis=1 행 세로"
      ],
      "metadata": {
        "colab": {
          "base_uri": "https://localhost:8080/"
        },
        "id": "ze9XiSx3r98a",
        "outputId": "02fd1f80-bfab-4a14-b741-7504129a5b6e"
      },
      "execution_count": 118,
      "outputs": [
        {
          "output_type": "stream",
          "name": "stdout",
          "text": [
            "col1    12.0\n",
            "col2     7.0\n",
            "col3    18.0\n",
            "dtype: float64\n",
            "\n",
            "row1     6.0\n",
            "row2    15.0\n",
            "row3    16.0\n",
            "dtype: float64\n"
          ]
        }
      ]
    },
    {
      "cell_type": "code",
      "source": [
        "print(df.sum(axis=0,skipna =False))\n",
        "print()\n",
        "print(df.sum(axis=1,skipna =False))"
      ],
      "metadata": {
        "colab": {
          "base_uri": "https://localhost:8080/"
        },
        "id": "LfSSP3sKsSbR",
        "outputId": "a0d036bd-2542-4e86-ab41-bba45fdddc05"
      },
      "execution_count": 119,
      "outputs": [
        {
          "output_type": "stream",
          "name": "stdout",
          "text": [
            "col1    12.0\n",
            "col2     NaN\n",
            "col3    18.0\n",
            "dtype: float64\n",
            "\n",
            "row1     6.0\n",
            "row2    15.0\n",
            "row3     NaN\n",
            "dtype: float64\n"
          ]
        }
      ]
    },
    {
      "cell_type": "code",
      "source": [
        "print(df.sum(axis=0,min_count=3))\n",
        "print()\n",
        "print(df.sum(axis=1,min_count=3))\n",
        "\n",
        "# row1     6.0   # 1 + 2 + 3 (3개 → OK)\n",
        "# row2    15.0   # 4 + 5 + 6 (3개 → OK)\n",
        "# row3     NaN   # 7 + NaN + 9 → 유효한 값이 2개뿐 → NaN"
      ],
      "metadata": {
        "colab": {
          "base_uri": "https://localhost:8080/"
        },
        "id": "TSeDzhTAsfxR",
        "outputId": "065ba1fb-0230-47db-de6d-a6c27f5b3062"
      },
      "execution_count": 120,
      "outputs": [
        {
          "output_type": "stream",
          "name": "stdout",
          "text": [
            "col1    12.0\n",
            "col2     NaN\n",
            "col3    18.0\n",
            "dtype: float64\n",
            "\n",
            "row1     6.0\n",
            "row2    15.0\n",
            "row3     NaN\n",
            "dtype: float64\n"
          ]
        }
      ]
    },
    {
      "cell_type": "code",
      "source": [
        "print(df.prod(axis=0))\n",
        "print()\n",
        "print(df.product(axis=1))"
      ],
      "metadata": {
        "colab": {
          "base_uri": "https://localhost:8080/"
        },
        "id": "IdXM1QbwuozH",
        "outputId": "5f7e690e-9b59-4bda-a919-a4278096a0e7"
      },
      "execution_count": 121,
      "outputs": [
        {
          "output_type": "stream",
          "name": "stdout",
          "text": [
            "col1     28.0\n",
            "col2     10.0\n",
            "col3    162.0\n",
            "dtype: float64\n",
            "\n",
            "row1      6.0\n",
            "row2    120.0\n",
            "row3     63.0\n",
            "dtype: float64\n"
          ]
        }
      ]
    },
    {
      "cell_type": "markdown",
      "source": [
        "### 절댓값\n",
        "DataFrame.abs( )\n",
        "* 복소수 일경우 복소수의 크기로 반환\n",
        "* nan은 nan으로 그대로 출력"
      ],
      "metadata": {
        "id": "FkdmGRC4u0I9"
      }
    },
    {
      "cell_type": "code",
      "source": [
        "col = ['col1','col2','col3']\n",
        "row = ['row1','row2','row3']\n",
        "data = [[-1,2,-3.5],[4,-5.5, 3+4j],[7,np.nan,0]]\n",
        "df = pd.DataFrame(data=data,index=row,columns=col)\n",
        "print(df)"
      ],
      "metadata": {
        "colab": {
          "base_uri": "https://localhost:8080/"
        },
        "id": "sabWIm7buz5N",
        "outputId": "9c479593-5c7a-461d-8dd3-afec156aa12f"
      },
      "execution_count": 122,
      "outputs": [
        {
          "output_type": "stream",
          "name": "stdout",
          "text": [
            "      col1  col2      col3\n",
            "row1    -1   2.0 -3.5+0.0j\n",
            "row2     4  -5.5  3.0+4.0j\n",
            "row3     7   NaN  0.0+0.0j\n"
          ]
        }
      ]
    },
    {
      "cell_type": "code",
      "source": [
        "print(df.abs())"
      ],
      "metadata": {
        "colab": {
          "base_uri": "https://localhost:8080/"
        },
        "id": "CPsk1ZEt_1YJ",
        "outputId": "f314ca1b-a6f6-4dfe-d9d5-6028801f89d4"
      },
      "execution_count": 123,
      "outputs": [
        {
          "output_type": "stream",
          "name": "stdout",
          "text": [
            "      col1  col2  col3\n",
            "row1     1   2.0   3.5\n",
            "row2     4   5.5   5.0\n",
            "row3     7   NaN   0.0\n"
          ]
        }
      ]
    },
    {
      "cell_type": "markdown",
      "source": [
        "### 전치(transpose, T)\n",
        "* DataFrame.transpose(args, copy=False)\n",
        "* DataFrame.T(args, copy=False)"
      ],
      "metadata": {
        "id": "yDFoRPc0_5Y0"
      }
    },
    {
      "cell_type": "code",
      "source": [
        "col = ['col1','col2','col3']\n",
        "row = ['row1','row2','row3','row4']\n",
        "data = [['A',1,2],['B',3,4],['C',5,6],['D',7,8]]\n",
        "df = pd.DataFrame(data=data,index=row,columns=col)\n",
        "print(df)"
      ],
      "metadata": {
        "colab": {
          "base_uri": "https://localhost:8080/"
        },
        "id": "5f-HX5LpADEc",
        "outputId": "dd9244c6-79d5-4ad2-c558-b7e63814ae37"
      },
      "execution_count": 124,
      "outputs": [
        {
          "output_type": "stream",
          "name": "stdout",
          "text": [
            "     col1  col2  col3\n",
            "row1    A     1     2\n",
            "row2    B     3     4\n",
            "row3    C     5     6\n",
            "row4    D     7     8\n"
          ]
        }
      ]
    },
    {
      "cell_type": "code",
      "source": [
        "print(df.transpose())"
      ],
      "metadata": {
        "colab": {
          "base_uri": "https://localhost:8080/"
        },
        "id": "eJkKui2EAE9q",
        "outputId": "18a5a961-1536-4174-9654-5144cecaf54a"
      },
      "execution_count": 125,
      "outputs": [
        {
          "output_type": "stream",
          "name": "stdout",
          "text": [
            "     row1 row2 row3 row4\n",
            "col1    A    B    C    D\n",
            "col2    1    3    5    7\n",
            "col3    2    4    6    8\n"
          ]
        }
      ]
    },
    {
      "cell_type": "markdown",
      "source": [
        "### 순위(rank)\n",
        "DataFrame.rank(axis=0, method='average', numeric_only=None, na_option='keep', ascending=True, pct=False)\n",
        "\n",
        "* `axis` : {0 : index / 1 : columns} 순위를 매길 레이블입니다.\n",
        "* `method` : {'average' / 'min' / 'max' / 'first' / 'dense'} 동순위 일때 처리 방법입니다.\n",
        "* `average`는 평균, min은 낮은순위, max는 높은순위, first는 나타나는순서대로\n",
        "* `dense`의 경우는 min과 같지만 그룹간 순위는 항상 1씩 증가합니다.\n",
        "* `numeric_only`: {True / False} 숫자만 순위를 매길지 여부 입니다.\n",
        "* `na_option` : {'keep' / 'top' / 'bottom'} NaN값의 처리 방법입니다.\n",
        "* `keep`의 경우 NaN순위 할당, top의 경우 낮은순위 할당, bottom의 경우 높은 순위를 할당합니다.\n",
        "* `ascending` : {True / False} 오름차순으로 할지의 여부 입니다.\n",
        "* `pct` : {True / False} 순위를 백분위수형식으로 할지 여부입니다."
      ],
      "metadata": {
        "id": "-5w2ccaJAU7-"
      }
    },
    {
      "cell_type": "code",
      "source": [
        "data = [[5],[5],[pd.NA],[3],[-3.1],[5],[0.4],[6.7],[3]]\n",
        "row = ['A★','B★','C','D☆','E','F★','G','H','I☆']\n",
        "df = pd.DataFrame(data=data, index=row, columns=['Value'])\n",
        "print(df)"
      ],
      "metadata": {
        "colab": {
          "base_uri": "https://localhost:8080/"
        },
        "id": "OMM5F5KiA67x",
        "outputId": "3e2c676e-2c2c-4c7a-9a85-05b07050d9f3"
      },
      "execution_count": 126,
      "outputs": [
        {
          "output_type": "stream",
          "name": "stdout",
          "text": [
            "   Value\n",
            "A★     5\n",
            "B★     5\n",
            "C   <NA>\n",
            "D☆     3\n",
            "E   -3.1\n",
            "F★     5\n",
            "G    0.4\n",
            "H    6.7\n",
            "I☆     3\n"
          ]
        }
      ]
    },
    {
      "cell_type": "code",
      "source": [
        "df['average']=df['Value'].rank(method='average')\n",
        "df['min']=df['Value'].rank(method='min')\n",
        "df['max']=df['Value'].rank(method='max')\n",
        "df['first']=df['Value'].rank(method='first')\n",
        "df['dense']=df['Value'].rank(method='dense')\n",
        "print(df)"
      ],
      "metadata": {
        "colab": {
          "base_uri": "https://localhost:8080/"
        },
        "id": "kUWWERFrBGao",
        "outputId": "63859e5e-c9e9-4f1a-95f5-fb5cb93b1788"
      },
      "execution_count": 127,
      "outputs": [
        {
          "output_type": "stream",
          "name": "stdout",
          "text": [
            "   Value  average  min  max  first  dense\n",
            "A★     5      6.0  5.0  7.0    5.0    4.0\n",
            "B★     5      6.0  5.0  7.0    6.0    4.0\n",
            "C   <NA>      NaN  NaN  NaN    NaN    NaN\n",
            "D☆     3      3.5  3.0  4.0    3.0    3.0\n",
            "E   -3.1      1.0  1.0  1.0    1.0    1.0\n",
            "F★     5      6.0  5.0  7.0    7.0    4.0\n",
            "G    0.4      2.0  2.0  2.0    2.0    2.0\n",
            "H    6.7      8.0  8.0  8.0    8.0    5.0\n",
            "I☆     3      3.5  3.0  4.0    4.0    3.0\n"
          ]
        }
      ]
    },
    {
      "cell_type": "code",
      "source": [
        "df['keep']=df['Value'].rank(na_option='keep')\n",
        "df['top']=df['Value'].rank(na_option='top')\n",
        "df['bottom']=df['Value'].rank(na_option='bottom')\n",
        "df['pct']=df['Value'].rank(pct=True)\n",
        "print(df)"
      ],
      "metadata": {
        "colab": {
          "base_uri": "https://localhost:8080/"
        },
        "id": "-GH9Wk8MCiji",
        "outputId": "e9c3c434-6b9c-4986-fe76-ff0a8a92f2c6"
      },
      "execution_count": 128,
      "outputs": [
        {
          "output_type": "stream",
          "name": "stdout",
          "text": [
            "   Value  average  min  max  first  dense  keep  top  bottom     pct\n",
            "A★     5      6.0  5.0  7.0    5.0    4.0   6.0  7.0     6.0  0.7500\n",
            "B★     5      6.0  5.0  7.0    6.0    4.0   6.0  7.0     6.0  0.7500\n",
            "C   <NA>      NaN  NaN  NaN    NaN    NaN   NaN  1.0     9.0     NaN\n",
            "D☆     3      3.5  3.0  4.0    3.0    3.0   3.5  4.5     3.5  0.4375\n",
            "E   -3.1      1.0  1.0  1.0    1.0    1.0   1.0  2.0     1.0  0.1250\n",
            "F★     5      6.0  5.0  7.0    7.0    4.0   6.0  7.0     6.0  0.7500\n",
            "G    0.4      2.0  2.0  2.0    2.0    2.0   2.0  3.0     2.0  0.2500\n",
            "H    6.7      8.0  8.0  8.0    8.0    5.0   8.0  9.0     8.0  1.0000\n",
            "I☆     3      3.5  3.0  4.0    4.0    3.0   3.5  4.5     3.5  0.4375\n"
          ]
        }
      ]
    },
    {
      "cell_type": "markdown",
      "source": [
        "###차이[이산] (diff)"
      ],
      "metadata": {
        "id": "BvajtlEZDNt6"
      }
    },
    {
      "cell_type": "code",
      "source": [
        "a = [1,2,3,4,5,6,7,8]\n",
        "b = [1,2,4,8,16,32,64,128]\n",
        "c = [8,7,6,5,4,3,2,1]\n",
        "data = {\"col1\":a,\"col2\":b,\"col3\":c}\n",
        "df = pd.DataFrame(data)\n",
        "print(df)"
      ],
      "metadata": {
        "colab": {
          "base_uri": "https://localhost:8080/"
        },
        "id": "wereqYCLDYlY",
        "outputId": "547a8338-3315-458e-c56f-1e6b81e51668"
      },
      "execution_count": 129,
      "outputs": [
        {
          "output_type": "stream",
          "name": "stdout",
          "text": [
            "   col1  col2  col3\n",
            "0     1     1     8\n",
            "1     2     2     7\n",
            "2     3     4     6\n",
            "3     4     8     5\n",
            "4     5    16     4\n",
            "5     6    32     3\n",
            "6     7    64     2\n",
            "7     8   128     1\n"
          ]
        }
      ]
    },
    {
      "cell_type": "code",
      "source": [
        "print(df.diff()) # 기본 axis = 0\n",
        "\n",
        "# 행 - 바로 전행 --> '0행'은 뺄게 없으므로 nan\n",
        "#                    '1행 diff =  1행 - 0행"
      ],
      "metadata": {
        "colab": {
          "base_uri": "https://localhost:8080/"
        },
        "id": "xryKlDjaDatV",
        "outputId": "b1d3efdf-d7e9-4550-bdbc-b01e7b9536cc"
      },
      "execution_count": 130,
      "outputs": [
        {
          "output_type": "stream",
          "name": "stdout",
          "text": [
            "   col1  col2  col3\n",
            "0   NaN   NaN   NaN\n",
            "1   1.0   1.0  -1.0\n",
            "2   1.0   2.0  -1.0\n",
            "3   1.0   4.0  -1.0\n",
            "4   1.0   8.0  -1.0\n",
            "5   1.0  16.0  -1.0\n",
            "6   1.0  32.0  -1.0\n",
            "7   1.0  64.0  -1.0\n"
          ]
        }
      ]
    },
    {
      "cell_type": "code",
      "source": [
        "print(df.diff(axis=1))"
      ],
      "metadata": {
        "colab": {
          "base_uri": "https://localhost:8080/"
        },
        "id": "21f4qhJWDjLU",
        "outputId": "73e7481b-12a7-4661-8e74-66870a956e54"
      },
      "execution_count": 131,
      "outputs": [
        {
          "output_type": "stream",
          "name": "stdout",
          "text": [
            "   col1  col2  col3\n",
            "0   NaN     0     7\n",
            "1   NaN     0     5\n",
            "2   NaN     1     2\n",
            "3   NaN     4    -3\n",
            "4   NaN    11   -12\n",
            "5   NaN    26   -29\n",
            "6   NaN    57   -62\n",
            "7   NaN   120  -127\n"
          ]
        }
      ]
    },
    {
      "cell_type": "code",
      "source": [
        "print(df.diff(periods=2)) # 2칸 이전 값과 차를 출력,  행2 - 0의 값 출력"
      ],
      "metadata": {
        "colab": {
          "base_uri": "https://localhost:8080/"
        },
        "id": "FpTE0093EOTx",
        "outputId": "3a7a7975-f1a0-4247-b4b9-31ee531fd646"
      },
      "execution_count": 132,
      "outputs": [
        {
          "output_type": "stream",
          "name": "stdout",
          "text": [
            "   col1  col2  col3\n",
            "0   NaN   NaN   NaN\n",
            "1   NaN   NaN   NaN\n",
            "2   2.0   3.0  -2.0\n",
            "3   2.0   6.0  -2.0\n",
            "4   2.0  12.0  -2.0\n",
            "5   2.0  24.0  -2.0\n",
            "6   2.0  48.0  -2.0\n",
            "7   2.0  96.0  -2.0\n"
          ]
        }
      ]
    },
    {
      "cell_type": "markdown",
      "source": [
        "### 차이[백분률] (pct_change)\n",
        "DataFrame.pct_change(periods=1, fill_method='pad', limit=None, freq=None, kwargs)\n",
        "`(다음행 - 현재행)÷현재행`\n"
      ],
      "metadata": {
        "id": "Xy4tCVY9GbNQ"
      }
    },
    {
      "cell_type": "code",
      "source": [
        "a = [1,1,4,4,1,1]\n",
        "b = [1,2,4,8,16,32]\n",
        "c = [1,np.nan,np.nan,np.nan,16,64]\n",
        "data = {\"col1\":a,\"col2\":b,\"col3\":c}\n",
        "df = pd.DataFrame(data)\n",
        "print(df)"
      ],
      "metadata": {
        "colab": {
          "base_uri": "https://localhost:8080/"
        },
        "id": "b0kaxuk3GnHz",
        "outputId": "8b20526d-c598-4a74-9e58-88b308dbc9c9"
      },
      "execution_count": 133,
      "outputs": [
        {
          "output_type": "stream",
          "name": "stdout",
          "text": [
            "   col1  col2  col3\n",
            "0     1     1   1.0\n",
            "1     1     2   NaN\n",
            "2     4     4   NaN\n",
            "3     4     8   NaN\n",
            "4     1    16  16.0\n",
            "5     1    32  64.0\n"
          ]
        }
      ]
    },
    {
      "cell_type": "code",
      "source": [
        "print(df.pct_change()) #(다음행 - 현재행)÷현재행"
      ],
      "metadata": {
        "colab": {
          "base_uri": "https://localhost:8080/"
        },
        "id": "OrfeU4vSGxZ7",
        "outputId": "5f38b764-074e-428f-811d-4b08ce75aea4"
      },
      "execution_count": 134,
      "outputs": [
        {
          "output_type": "stream",
          "name": "stdout",
          "text": [
            "   col1  col2  col3\n",
            "0   NaN   NaN   NaN\n",
            "1  0.00   1.0   0.0\n",
            "2  3.00   1.0   0.0\n",
            "3  0.00   1.0   0.0\n",
            "4 -0.75   1.0  15.0\n",
            "5  0.00   1.0   3.0\n"
          ]
        },
        {
          "output_type": "stream",
          "name": "stderr",
          "text": [
            "<ipython-input-134-1c37ab36d3c1>:1: FutureWarning: The default fill_method='pad' in DataFrame.pct_change is deprecated and will be removed in a future version. Either fill in any non-leading NA values prior to calling pct_change or specify 'fill_method=None' to not fill NA values.\n",
            "  print(df.pct_change()) #(다음행 - 현재행)÷현재행\n"
          ]
        }
      ]
    },
    {
      "cell_type": "code",
      "source": [
        "#fill_method='ffill'인 경우는 기본값으로 바로 윗값으로 결측치를 대체합니다.\n",
        "#fill_method='bfill'인 경우는 바로 아랫값으로 결측치를 대체합니다.\n",
        "\n",
        "print(df.pct_change(fill_method='bfill'))\n",
        "print()\n",
        "print(df.pct_change(fill_method='ffill'))\n"
      ],
      "metadata": {
        "colab": {
          "base_uri": "https://localhost:8080/"
        },
        "id": "LHwpRKBwG8RA",
        "outputId": "cdacc977-6889-4d50-e930-22ff6998c8ff"
      },
      "execution_count": 135,
      "outputs": [
        {
          "output_type": "stream",
          "name": "stdout",
          "text": [
            "   col1  col2  col3\n",
            "0   NaN   NaN   NaN\n",
            "1  0.00   1.0  15.0\n",
            "2  3.00   1.0   0.0\n",
            "3  0.00   1.0   0.0\n",
            "4 -0.75   1.0   0.0\n",
            "5  0.00   1.0   3.0\n",
            "\n",
            "   col1  col2  col3\n",
            "0   NaN   NaN   NaN\n",
            "1  0.00   1.0   0.0\n",
            "2  3.00   1.0   0.0\n",
            "3  0.00   1.0   0.0\n",
            "4 -0.75   1.0  15.0\n",
            "5  0.00   1.0   3.0\n"
          ]
        },
        {
          "output_type": "stream",
          "name": "stderr",
          "text": [
            "<ipython-input-135-d1d75b03d3c6>:4: FutureWarning: The 'fill_method' keyword being not None and the 'limit' keyword in DataFrame.pct_change are deprecated and will be removed in a future version. Either fill in any non-leading NA values prior to calling pct_change or specify 'fill_method=None' to not fill NA values.\n",
            "  print(df.pct_change(fill_method='bfill'))\n",
            "<ipython-input-135-d1d75b03d3c6>:6: FutureWarning: The 'fill_method' keyword being not None and the 'limit' keyword in DataFrame.pct_change are deprecated and will be removed in a future version. Either fill in any non-leading NA values prior to calling pct_change or specify 'fill_method=None' to not fill NA values.\n",
            "  print(df.pct_change(fill_method='ffill'))\n"
          ]
        }
      ]
    },
    {
      "cell_type": "code",
      "source": [
        "print(df.pct_change(limit=2)) #결측치 2개까지 채워준"
      ],
      "metadata": {
        "colab": {
          "base_uri": "https://localhost:8080/"
        },
        "id": "JpW77zmEHNWn",
        "outputId": "de7f6a39-f741-47b0-e387-74d522e0d68e"
      },
      "execution_count": 136,
      "outputs": [
        {
          "output_type": "stream",
          "name": "stdout",
          "text": [
            "   col1  col2  col3\n",
            "0   NaN   NaN   NaN\n",
            "1  0.00   1.0   0.0\n",
            "2  3.00   1.0   0.0\n",
            "3  0.00   1.0   NaN\n",
            "4 -0.75   1.0   NaN\n",
            "5  0.00   1.0   3.0\n"
          ]
        },
        {
          "output_type": "stream",
          "name": "stderr",
          "text": [
            "<ipython-input-136-5cc8dd47bee0>:1: FutureWarning: The 'fill_method' keyword being not None and the 'limit' keyword in DataFrame.pct_change are deprecated and will be removed in a future version. Either fill in any non-leading NA values prior to calling pct_change or specify 'fill_method=None' to not fill NA values.\n",
            "  print(df.pct_change(limit=2)) #결측치 2개까지 채워준\n"
          ]
        }
      ]
    },
    {
      "cell_type": "markdown",
      "source": [
        "### 기간이동 계산(rolling)\n"
      ],
      "metadata": {
        "id": "8I0fbB7mACi7"
      }
    },
    {
      "cell_type": "code",
      "source": [
        "period = pd.period_range(start='2022-01-13 00:00:00', end='2022-01-13 02:30:00', freq='30T')\n",
        "data = {'col1': [1, 2, 3, 4, 5, 6], 'col2': period}\n",
        "idx = ['row1', 'row2', 'row3', 'row4', 'row5', 'row6']\n",
        "df = pd.DataFrame(data=data, index=idx)\n",
        "print(df)"
      ],
      "metadata": {
        "colab": {
          "base_uri": "https://localhost:8080/"
        },
        "id": "hd_XQx25IaX1",
        "outputId": "ebf5d8e5-2d1c-4043-f877-aecefcdc819c"
      },
      "execution_count": 137,
      "outputs": [
        {
          "output_type": "stream",
          "name": "stdout",
          "text": [
            "      col1              col2\n",
            "row1     1  2022-01-13 00:00\n",
            "row2     2  2022-01-13 00:30\n",
            "row3     3  2022-01-13 01:00\n",
            "row4     4  2022-01-13 01:30\n",
            "row5     5  2022-01-13 02:00\n",
            "row6     6  2022-01-13 02:30\n"
          ]
        },
        {
          "output_type": "stream",
          "name": "stderr",
          "text": [
            "<ipython-input-137-8d8d1de06d6f>:1: FutureWarning: 'T' is deprecated and will be removed in a future version, please use 'min' instead.\n",
            "  period = pd.period_range(start='2022-01-13 00:00:00', end='2022-01-13 02:30:00', freq='30T')\n"
          ]
        }
      ]
    },
    {
      "cell_type": "code",
      "source": [
        "#현재행 이전으로 윈도우 크기만큼 계산한다\n",
        "print(df[['col1']].rolling(window=3).sum())"
      ],
      "metadata": {
        "colab": {
          "base_uri": "https://localhost:8080/"
        },
        "id": "PKOfFzp1JPtJ",
        "outputId": "55f0cc84-57d9-4b73-c7a0-a7e8b9525b2f"
      },
      "execution_count": 138,
      "outputs": [
        {
          "output_type": "stream",
          "name": "stdout",
          "text": [
            "      col1\n",
            "row1   NaN\n",
            "row2   NaN\n",
            "row3   6.0\n",
            "row4   9.0\n",
            "row5  12.0\n",
            "row6  15.0\n"
          ]
        }
      ]
    },
    {
      "cell_type": "markdown",
      "source": [
        "closed는 계산의 닫는 위치를 지정합니다. 만약 6행을 기준으로 window=3을 계산한다고 하면 아래와 같은 범위로 window경계가 지정됩니다.\n",
        "\n",
        "* left : 3 ≤ x < 6\n",
        "* right : 3 < x ≤ 6\n",
        "* both : 3 ≤ x ≤ 6\n",
        "* neither : 3 < x < 6"
      ],
      "metadata": {
        "id": "R1K1nbG0KQIS"
      }
    },
    {
      "cell_type": "code",
      "source": [
        "print(df['col1'].rolling(window=3, closed='left').sum())\n",
        "print()\n",
        "print(df['col1'].rolling(window=3, closed='right').sum())\n",
        "print()\n",
        "print(df['col1'].rolling(window=3, closed='both').sum())\n",
        "print()\n",
        "print(df['col1'].rolling(window=3, closed='neither',min_periods=2).sum())"
      ],
      "metadata": {
        "colab": {
          "base_uri": "https://localhost:8080/"
        },
        "id": "MXqC6ckAKH9Q",
        "outputId": "058a45cf-9d6a-4c2f-c7bb-7277ed531bc9"
      },
      "execution_count": 139,
      "outputs": [
        {
          "output_type": "stream",
          "name": "stdout",
          "text": [
            "row1     NaN\n",
            "row2     NaN\n",
            "row3     NaN\n",
            "row4     6.0\n",
            "row5     9.0\n",
            "row6    12.0\n",
            "Name: col1, dtype: float64\n",
            "\n",
            "row1     NaN\n",
            "row2     NaN\n",
            "row3     6.0\n",
            "row4     9.0\n",
            "row5    12.0\n",
            "row6    15.0\n",
            "Name: col1, dtype: float64\n",
            "\n",
            "row1     NaN\n",
            "row2     NaN\n",
            "row3     6.0\n",
            "row4    10.0\n",
            "row5    14.0\n",
            "row6    18.0\n",
            "Name: col1, dtype: float64\n",
            "\n",
            "row1    NaN\n",
            "row2    NaN\n",
            "row3    3.0\n",
            "row4    5.0\n",
            "row5    7.0\n",
            "row6    9.0\n",
            "Name: col1, dtype: float64\n"
          ]
        }
      ]
    },
    {
      "cell_type": "markdown",
      "source": [
        "### 구룹화 계산 (groupby)"
      ],
      "metadata": {
        "id": "QwUJd2FHK-Qt"
      }
    },
    {
      "cell_type": "code",
      "source": [
        "idx=['A','A','B','B','B','C','C','C','D','D','D','D','E','E','E']\n",
        "col=['col1','col2','col3']\n",
        "data = np.random.randint(0,9,(15,3))\n",
        "df = pd.DataFrame(data=data, index=idx, columns=col).reset_index()\n",
        "print(df)"
      ],
      "metadata": {
        "colab": {
          "base_uri": "https://localhost:8080/"
        },
        "id": "y17aOez9LHHq",
        "outputId": "35b00fb1-6f30-447a-843f-cab4f035ca1b"
      },
      "execution_count": 140,
      "outputs": [
        {
          "output_type": "stream",
          "name": "stdout",
          "text": [
            "   index  col1  col2  col3\n",
            "0      A     3     0     1\n",
            "1      A     7     1     4\n",
            "2      B     0     0     5\n",
            "3      B     8     5     0\n",
            "4      B     8     1     3\n",
            "5      C     1     8     3\n",
            "6      C     0     1     1\n",
            "7      C     3     6     4\n",
            "8      D     7     0     2\n",
            "9      D     5     7     3\n",
            "10     D     6     5     0\n",
            "11     D     6     8     0\n",
            "12     E     2     6     1\n",
            "13     E     6     4     5\n",
            "14     E     3     6     4\n"
          ]
        }
      ]
    },
    {
      "cell_type": "code",
      "source": [
        "print(df.groupby('index').mean().round(2))"
      ],
      "metadata": {
        "colab": {
          "base_uri": "https://localhost:8080/"
        },
        "id": "K5oQDq4WLLAm",
        "outputId": "72cf697a-a622-4e3b-ca9b-d2b1ea752122"
      },
      "execution_count": 141,
      "outputs": [
        {
          "output_type": "stream",
          "name": "stdout",
          "text": [
            "       col1  col2  col3\n",
            "index                  \n",
            "A      5.00  0.50  2.50\n",
            "B      5.33  2.00  2.67\n",
            "C      1.33  5.00  2.67\n",
            "D      6.00  5.00  1.25\n",
            "E      3.67  5.33  3.33\n"
          ]
        }
      ]
    },
    {
      "cell_type": "code",
      "source": [
        "print(df.groupby('index').count())"
      ],
      "metadata": {
        "colab": {
          "base_uri": "https://localhost:8080/"
        },
        "id": "jbVcR8qbLSeL",
        "outputId": "3ce0e695-df2a-4af7-ab5c-51f736df44a5"
      },
      "execution_count": 142,
      "outputs": [
        {
          "output_type": "stream",
          "name": "stdout",
          "text": [
            "       col1  col2  col3\n",
            "index                  \n",
            "A         2     2     2\n",
            "B         3     3     3\n",
            "C         3     3     3\n",
            "D         4     4     4\n",
            "E         3     3     3\n"
          ]
        }
      ]
    },
    {
      "cell_type": "code",
      "source": [
        "print(df.groupby('index').agg(['sum','mean']).round(2))"
      ],
      "metadata": {
        "colab": {
          "base_uri": "https://localhost:8080/"
        },
        "id": "4S-UbdkQLWQ_",
        "outputId": "3db802a0-aea3-4d41-fca8-302f4ca75c2e"
      },
      "execution_count": 143,
      "outputs": [
        {
          "output_type": "stream",
          "name": "stdout",
          "text": [
            "      col1       col2       col3      \n",
            "       sum  mean  sum  mean  sum  mean\n",
            "index                                 \n",
            "A       10  5.00    1  0.50    5  2.50\n",
            "B       16  5.33    6  2.00    8  2.67\n",
            "C        4  1.33   15  5.00    8  2.67\n",
            "D       24  6.00   20  5.00    5  1.25\n",
            "E       11  3.67   16  5.33   10  3.33\n"
          ]
        }
      ]
    },
    {
      "cell_type": "code",
      "source": [
        "df.loc[6,'index'] = np.nan\n",
        "print(df)"
      ],
      "metadata": {
        "colab": {
          "base_uri": "https://localhost:8080/"
        },
        "id": "eOpwhP9DLkBy",
        "outputId": "214e0645-c31e-4100-c878-b4ee205e3755"
      },
      "execution_count": 144,
      "outputs": [
        {
          "output_type": "stream",
          "name": "stdout",
          "text": [
            "   index  col1  col2  col3\n",
            "0      A     3     0     1\n",
            "1      A     7     1     4\n",
            "2      B     0     0     5\n",
            "3      B     8     5     0\n",
            "4      B     8     1     3\n",
            "5      C     1     8     3\n",
            "6    NaN     0     1     1\n",
            "7      C     3     6     4\n",
            "8      D     7     0     2\n",
            "9      D     5     7     3\n",
            "10     D     6     5     0\n",
            "11     D     6     8     0\n",
            "12     E     2     6     1\n",
            "13     E     6     4     5\n",
            "14     E     3     6     4\n"
          ]
        }
      ]
    },
    {
      "cell_type": "markdown",
      "source": [
        "### 지수가중함수(ewm)"
      ],
      "metadata": {
        "id": "fovEA0HwLuAO"
      }
    },
    {
      "cell_type": "code",
      "source": [
        "data = {'val':[1,4,2,3,2,5,13,10,12,14,np.nan,16,12,20,22]}\n",
        "df = pd.DataFrame(data).reset_index()\n",
        "print(df)"
      ],
      "metadata": {
        "colab": {
          "base_uri": "https://localhost:8080/"
        },
        "id": "tXxENHM3L2gi",
        "outputId": "91df54a6-3e1e-4508-bb64-357b355740d0"
      },
      "execution_count": 145,
      "outputs": [
        {
          "output_type": "stream",
          "name": "stdout",
          "text": [
            "    index   val\n",
            "0       0   1.0\n",
            "1       1   4.0\n",
            "2       2   2.0\n",
            "3       3   3.0\n",
            "4       4   2.0\n",
            "5       5   5.0\n",
            "6       6  13.0\n",
            "7       7  10.0\n",
            "8       8  12.0\n",
            "9       9  14.0\n",
            "10     10   NaN\n",
            "11     11  16.0\n",
            "12     12  12.0\n",
            "13     13  20.0\n",
            "14     14  22.0\n"
          ]
        }
      ]
    },
    {
      "cell_type": "code",
      "source": [
        "import matplotlib.pyplot as plt\n",
        "plt.bar(df.index,df['val'])\n",
        "plt.show()"
      ],
      "metadata": {
        "colab": {
          "base_uri": "https://localhost:8080/",
          "height": 430
        },
        "id": "ja_bg6ScL--A",
        "outputId": "e57ea1d0-ff7f-4380-9f3c-c0708446f7f6"
      },
      "execution_count": 146,
      "outputs": [
        {
          "output_type": "display_data",
          "data": {
            "text/plain": [
              "<Figure size 640x480 with 1 Axes>"
            ],
            "image/png": "[encoded data removed]"
          },
          "metadata": {}
        }
      ]
    },
    {
      "cell_type": "code",
      "source": [
        "df2 = df.assign(ewm=df['val'].ewm(alpha=0.3).mean())\n",
        "ax = df.plot(kind='bar',x='index',y='val')\n",
        "ax2= df2.plot(kind='line',x='index', y='ewm', color='red', ax=ax)\n",
        "plt.show()"
      ],
      "metadata": {
        "colab": {
          "base_uri": "https://localhost:8080/",
          "height": 449
        },
        "id": "pURR7g4lMgE6",
        "outputId": "05af7f52-297b-4778-b803-0cd8f4d1fc85"
      },
      "execution_count": 147,
      "outputs": [
        {
          "output_type": "display_data",
          "data": {
            "text/plain": [
              "<Figure size 640x480 with 1 Axes>"
            ],
            "image/png": "[encoded data removed]"
          },
          "metadata": {}
        }
      ]
    }
  ]
}