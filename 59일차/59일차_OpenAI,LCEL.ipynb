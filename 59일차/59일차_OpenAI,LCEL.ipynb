{
  "cells": [
    {
      "cell_type": "markdown",
      "metadata": {
        "id": "view-in-github",
        "colab_type": "text"
      },
      "source": [
        "<a href=\"https://colab.research.google.com/github/pinggu95/deep_dive_AI/blob/main/59%EC%9D%BC%EC%B0%A8/59%EC%9D%BC%EC%B0%A8_OpenAI%2CLCEL.ipynb\" target=\"_parent\"><img src=\"https://colab.research.google.com/assets/colab-badge.svg\" alt=\"Open In Colab\"/></a>"
      ]
    },
    {
      "cell_type": "code",
      "execution_count": 1,
      "metadata": {
        "colab": {
          "base_uri": "https://localhost:8080/"
        },
        "id": "y64inl_We3wh",
        "outputId": "c71dd495-75c1-4373-e9d0-e20a5aceb065"
      },
      "outputs": [
        {
          "output_type": "stream",
          "name": "stdout",
          "text": [
            "Requirement already satisfied: langchain==0.3.21 in /usr/local/lib/python3.11/dist-packages (from -r https://raw.githubusercontent.com/teddylee777/langchain-kr/main/requirements.txt (line 1)) (0.3.21)\n",
            "Requirement already satisfied: langchain-core==0.3.46 in /usr/local/lib/python3.11/dist-packages (from -r https://raw.githubusercontent.com/teddylee777/langchain-kr/main/requirements.txt (line 2)) (0.3.46)\n",
            "Requirement already satisfied: langchain-experimental==0.3.4 in /usr/local/lib/python3.11/dist-packages (from -r https://raw.githubusercontent.com/teddylee777/langchain-kr/main/requirements.txt (line 3)) (0.3.4)\n",
            "Requirement already satisfied: langchain-community==0.3.20 in /usr/local/lib/python3.11/dist-packages (from -r https://raw.githubusercontent.com/teddylee777/langchain-kr/main/requirements.txt (line 4)) (0.3.20)\n",
            "Requirement already satisfied: langchain-openai==0.3.9 in /usr/local/lib/python3.11/dist-packages (from -r https://raw.githubusercontent.com/teddylee777/langchain-kr/main/requirements.txt (line 5)) (0.3.9)\n",
            "Requirement already satisfied: langchain-anthropic==0.3.10 in /usr/local/lib/python3.11/dist-packages (from -r https://raw.githubusercontent.com/teddylee777/langchain-kr/main/requirements.txt (line 6)) (0.3.10)\n",
            "Requirement already satisfied: langchain-text-splitters==0.3.7 in /usr/local/lib/python3.11/dist-packages (from -r https://raw.githubusercontent.com/teddylee777/langchain-kr/main/requirements.txt (line 7)) (0.3.7)\n",
            "Requirement already satisfied: langchain-elasticsearch==0.3.2 in /usr/local/lib/python3.11/dist-packages (from -r https://raw.githubusercontent.com/teddylee777/langchain-kr/main/requirements.txt (line 8)) (0.3.2)\n",
            "Requirement already satisfied: langchain-chroma==0.2.2 in /usr/local/lib/python3.11/dist-packages (from -r https://raw.githubusercontent.com/teddylee777/langchain-kr/main/requirements.txt (line 9)) (0.2.2)\n",
            "Requirement already satisfied: langchain-cohere==0.4.3 in /usr/local/lib/python3.11/dist-packages (from -r https://raw.githubusercontent.com/teddylee777/langchain-kr/main/requirements.txt (line 10)) (0.4.3)\n",
            "Requirement already satisfied: langchain-milvus==0.1.8 in /usr/local/lib/python3.11/dist-packages (from -r https://raw.githubusercontent.com/teddylee777/langchain-kr/main/requirements.txt (line 11)) (0.1.8)\n",
            "Requirement already satisfied: langchain-google-genai==2.1.0 in /usr/local/lib/python3.11/dist-packages (from -r https://raw.githubusercontent.com/teddylee777/langchain-kr/main/requirements.txt (line 12)) (2.1.0)\n",
            "Requirement already satisfied: langchain-huggingface==0.1.2 in /usr/local/lib/python3.11/dist-packages (from -r https://raw.githubusercontent.com/teddylee777/langchain-kr/main/requirements.txt (line 13)) (0.1.2)\n",
            "Requirement already satisfied: langchain-azure-ai==0.1.2 in /usr/local/lib/python3.11/dist-packages (from -r https://raw.githubusercontent.com/teddylee777/langchain-kr/main/requirements.txt (line 14)) (0.1.2)\n",
            "Requirement already satisfied: langchain-teddynote==0.3.44 in /usr/local/lib/python3.11/dist-packages (from -r https://raw.githubusercontent.com/teddylee777/langchain-kr/main/requirements.txt (line 15)) (0.3.44)\n",
            "Requirement already satisfied: langchainhub==0.1.21 in /usr/local/lib/python3.11/dist-packages (from -r https://raw.githubusercontent.com/teddylee777/langchain-kr/main/requirements.txt (line 16)) (0.1.21)\n",
            "Requirement already satisfied: langgraph==0.3.18 in /usr/local/lib/python3.11/dist-packages (from -r https://raw.githubusercontent.com/teddylee777/langchain-kr/main/requirements.txt (line 17)) (0.3.18)\n",
            "Requirement already satisfied: langsmith==0.3.18 in /usr/local/lib/python3.11/dist-packages (from -r https://raw.githubusercontent.com/teddylee777/langchain-kr/main/requirements.txt (line 18)) (0.3.18)\n",
            "Requirement already satisfied: huggingface-hub==0.29.3 in /usr/local/lib/python3.11/dist-packages (from -r https://raw.githubusercontent.com/teddylee777/langchain-kr/main/requirements.txt (line 19)) (0.29.3)\n",
            "Requirement already satisfied: openai==1.67.0 in /usr/local/lib/python3.11/dist-packages (from -r https://raw.githubusercontent.com/teddylee777/langchain-kr/main/requirements.txt (line 20)) (1.67.0)\n",
            "Requirement already satisfied: deepl==1.21.1 in /usr/local/lib/python3.11/dist-packages (from -r https://raw.githubusercontent.com/teddylee777/langchain-kr/main/requirements.txt (line 21)) (1.21.1)\n",
            "Requirement already satisfied: kiwipiepy==0.20.4 in /usr/local/lib/python3.11/dist-packages (from -r https://raw.githubusercontent.com/teddylee777/langchain-kr/main/requirements.txt (line 22)) (0.20.4)\n",
            "Requirement already satisfied: konlpy==0.6.0 in /usr/local/lib/python3.11/dist-packages (from -r https://raw.githubusercontent.com/teddylee777/langchain-kr/main/requirements.txt (line 23)) (0.6.0)\n",
            "Requirement already satisfied: pandas==2.2.3 in /usr/local/lib/python3.11/dist-packages (from -r https://raw.githubusercontent.com/teddylee777/langchain-kr/main/requirements.txt (line 25)) (2.2.3)\n",
            "Requirement already satisfied: rank-bm25==0.2.2 in /usr/local/lib/python3.11/dist-packages (from -r https://raw.githubusercontent.com/teddylee777/langchain-kr/main/requirements.txt (line 26)) (0.2.2)\n",
            "Requirement already satisfied: redis==5.2.1 in /usr/local/lib/python3.11/dist-packages (from -r https://raw.githubusercontent.com/teddylee777/langchain-kr/main/requirements.txt (line 28)) (5.2.1)\n",
            "Requirement already satisfied: chromadb==0.6.3 in /usr/local/lib/python3.11/dist-packages (from -r https://raw.githubusercontent.com/teddylee777/langchain-kr/main/requirements.txt (line 29)) (0.6.3)\n",
            "Requirement already satisfied: pymupdf==1.25.4 in /usr/local/lib/python3.11/dist-packages (from -r https://raw.githubusercontent.com/teddylee777/langchain-kr/main/requirements.txt (line 31)) (1.25.4)\n",
            "Requirement already satisfied: pypdf==4.3.1 in /usr/local/lib/python3.11/dist-packages (from -r https://raw.githubusercontent.com/teddylee777/langchain-kr/main/requirements.txt (line 32)) (4.3.1)\n",
            "Requirement already satisfied: pdfplumber==0.11.5 in /usr/local/lib/python3.11/dist-packages (from -r https://raw.githubusercontent.com/teddylee777/langchain-kr/main/requirements.txt (line 33)) (0.11.5)\n",
            "Requirement already satisfied: pdfminer-six==20231228 in /usr/local/lib/python3.11/dist-packages (from -r https://raw.githubusercontent.com/teddylee777/langchain-kr/main/requirements.txt (line 34)) (20231228)\n",
            "Requirement already satisfied: pymupdf4llm==0.0.17 in /usr/local/lib/python3.11/dist-packages (from -r https://raw.githubusercontent.com/teddylee777/langchain-kr/main/requirements.txt (line 35)) (0.0.17)\n",
            "Requirement already satisfied: matplotlib==3.10.1 in /usr/local/lib/python3.11/dist-packages (from -r https://raw.githubusercontent.com/teddylee777/langchain-kr/main/requirements.txt (line 37)) (3.10.1)\n",
            "Requirement already satisfied: streamlit==1.43.2 in /usr/local/lib/python3.11/dist-packages (from -r https://raw.githubusercontent.com/teddylee777/langchain-kr/main/requirements.txt (line 38)) (1.43.2)\n",
            "Requirement already satisfied: jupyter==1.1.1 in /usr/local/lib/python3.11/dist-packages (from -r https://raw.githubusercontent.com/teddylee777/langchain-kr/main/requirements.txt (line 39)) (1.1.1)\n",
            "Requirement already satisfied: notebook==7.3.3 in /usr/local/lib/python3.11/dist-packages (from -r https://raw.githubusercontent.com/teddylee777/langchain-kr/main/requirements.txt (line 40)) (7.3.3)\n",
            "Requirement already satisfied: torch==2.6.0 in /usr/local/lib/python3.11/dist-packages (from -r https://raw.githubusercontent.com/teddylee777/langchain-kr/main/requirements.txt (line 42)) (2.6.0+cu124)\n",
            "Requirement already satisfied: torchvision==0.21.0 in /usr/local/lib/python3.11/dist-packages (from -r https://raw.githubusercontent.com/teddylee777/langchain-kr/main/requirements.txt (line 43)) (0.21.0+cu124)\n",
            "Requirement already satisfied: faiss-cpu==1.10.0 in /usr/local/lib/python3.11/dist-packages (from -r https://raw.githubusercontent.com/teddylee777/langchain-kr/main/requirements.txt (line 44)) (1.10.0)\n",
            "Requirement already satisfied: open-clip-torch==2.31.0 in /usr/local/lib/python3.11/dist-packages (from -r https://raw.githubusercontent.com/teddylee777/langchain-kr/main/requirements.txt (line 45)) (2.31.0)\n",
            "Requirement already satisfied: python-dotenv==1.0.1 in /usr/local/lib/python3.11/dist-packages (from -r https://raw.githubusercontent.com/teddylee777/langchain-kr/main/requirements.txt (line 47)) (1.0.1)\n",
            "Requirement already satisfied: pydantic==2.10.6 in /usr/local/lib/python3.11/dist-packages (from -r https://raw.githubusercontent.com/teddylee777/langchain-kr/main/requirements.txt (line 48)) (2.10.6)\n",
            "Requirement already satisfied: lxml==5.3.1 in /usr/local/lib/python3.11/dist-packages (from -r https://raw.githubusercontent.com/teddylee777/langchain-kr/main/requirements.txt (line 49)) (5.3.1)\n",
            "Requirement already satisfied: pillow==10.4.0 in /usr/local/lib/python3.11/dist-packages (from -r https://raw.githubusercontent.com/teddylee777/langchain-kr/main/requirements.txt (line 50)) (10.4.0)\n",
            "Requirement already satisfied: lark==1.2.2 in /usr/local/lib/python3.11/dist-packages (from -r https://raw.githubusercontent.com/teddylee777/langchain-kr/main/requirements.txt (line 51)) (1.2.2)\n",
            "Requirement already satisfied: ragas==0.2.14 in /usr/local/lib/python3.11/dist-packages (from -r https://raw.githubusercontent.com/teddylee777/langchain-kr/main/requirements.txt (line 52)) (0.2.14)\n",
            "Requirement already satisfied: unstructured==0.17.0 in /usr/local/lib/python3.11/dist-packages (from -r https://raw.githubusercontent.com/teddylee777/langchain-kr/main/requirements.txt (line 53)) (0.17.0)\n",
            "Requirement already satisfied: arxiv==2.1.3 in /usr/local/lib/python3.11/dist-packages (from -r https://raw.githubusercontent.com/teddylee777/langchain-kr/main/requirements.txt (line 54)) (2.1.3)\n",
            "Requirement already satisfied: tiktoken==0.9.0 in /usr/local/lib/python3.11/dist-packages (from -r https://raw.githubusercontent.com/teddylee777/langchain-kr/main/requirements.txt (line 55)) (0.9.0)\n",
            "Requirement already satisfied: tenacity==8.5.0 in /usr/local/lib/python3.11/dist-packages (from -r https://raw.githubusercontent.com/teddylee777/langchain-kr/main/requirements.txt (line 56)) (8.5.0)\n",
            "Requirement already satisfied: pymilvus==2.5.5 in /usr/local/lib/python3.11/dist-packages (from -r https://raw.githubusercontent.com/teddylee777/langchain-kr/main/requirements.txt (line 57)) (2.5.5)\n",
            "Requirement already satisfied: google-search-results==2.4.2 in /usr/local/lib/python3.11/dist-packages (from -r https://raw.githubusercontent.com/teddylee777/langchain-kr/main/requirements.txt (line 58)) (2.4.2)\n",
            "Requirement already satisfied: protobuf==3.20.3 in /usr/local/lib/python3.11/dist-packages (from -r https://raw.githubusercontent.com/teddylee777/langchain-kr/main/requirements.txt (line 59)) (3.20.3)\n",
            "Requirement already satisfied: sqlalchemy==2.0.39 in /usr/local/lib/python3.11/dist-packages (from -r https://raw.githubusercontent.com/teddylee777/langchain-kr/main/requirements.txt (line 60)) (2.0.39)\n",
            "Requirement already satisfied: llama-index-core==0.11.23 in /usr/local/lib/python3.11/dist-packages (from -r https://raw.githubusercontent.com/teddylee777/langchain-kr/main/requirements.txt (line 61)) (0.11.23)\n",
            "Requirement already satisfied: llama-parse==0.6.4.post1 in /usr/local/lib/python3.11/dist-packages (from -r https://raw.githubusercontent.com/teddylee777/langchain-kr/main/requirements.txt (line 62)) (0.6.4.post1)\n",
            "Requirement already satisfied: llama-index-readers-file==0.2.2 in /usr/local/lib/python3.11/dist-packages (from -r https://raw.githubusercontent.com/teddylee777/langchain-kr/main/requirements.txt (line 63)) (0.2.2)\n",
            "Requirement already satisfied: flashrank==0.2.10 in /usr/local/lib/python3.11/dist-packages (from -r https://raw.githubusercontent.com/teddylee777/langchain-kr/main/requirements.txt (line 64)) (0.2.10)\n",
            "Requirement already satisfied: docx2txt==0.8 in /usr/local/lib/python3.11/dist-packages (from -r https://raw.githubusercontent.com/teddylee777/langchain-kr/main/requirements.txt (line 65)) (0.8)\n",
            "Requirement already satisfied: nest-asyncio==1.6.0 in /usr/local/lib/python3.11/dist-packages (from -r https://raw.githubusercontent.com/teddylee777/langchain-kr/main/requirements.txt (line 66)) (1.6.0)\n",
            "Requirement already satisfied: rapidocr-onnxruntime==1.4.4 in /usr/local/lib/python3.11/dist-packages (from -r https://raw.githubusercontent.com/teddylee777/langchain-kr/main/requirements.txt (line 67)) (1.4.4)\n",
            "Requirement already satisfied: seaborn==0.13.2 in /usr/local/lib/python3.11/dist-packages (from -r https://raw.githubusercontent.com/teddylee777/langchain-kr/main/requirements.txt (line 68)) (0.13.2)\n",
            "Requirement already satisfied: grandalf==0.8 in /usr/local/lib/python3.11/dist-packages (from -r https://raw.githubusercontent.com/teddylee777/langchain-kr/main/requirements.txt (line 69)) (0.8)\n",
            "Requirement already satisfied: rouge-score==0.1.2 in /usr/local/lib/python3.11/dist-packages (from -r https://raw.githubusercontent.com/teddylee777/langchain-kr/main/requirements.txt (line 70)) (0.1.2)\n",
            "Requirement already satisfied: langchain-ollama==0.2.3 in /usr/local/lib/python3.11/dist-packages (from -r https://raw.githubusercontent.com/teddylee777/langchain-kr/main/requirements.txt (line 71)) (0.2.3)\n",
            "Requirement already satisfied: mypy==1.15.0 in /usr/local/lib/python3.11/dist-packages (from -r https://raw.githubusercontent.com/teddylee777/langchain-kr/main/requirements.txt (line 72)) (1.15.0)\n",
            "Requirement already satisfied: pinecone==5.4.2 in /usr/local/lib/python3.11/dist-packages (from -r https://raw.githubusercontent.com/teddylee777/langchain-kr/main/requirements.txt (line 73)) (5.4.2)\n",
            "Requirement already satisfied: wikipedia==1.4.0 in /usr/local/lib/python3.11/dist-packages (from -r https://raw.githubusercontent.com/teddylee777/langchain-kr/main/requirements.txt (line 74)) (1.4.0)\n",
            "Requirement already satisfied: scikit-learn==1.6.1 in /usr/local/lib/python3.11/dist-packages (from -r https://raw.githubusercontent.com/teddylee777/langchain-kr/main/requirements.txt (line 75)) (1.6.1)\n",
            "Requirement already satisfied: requests<3,>=2 in /usr/local/lib/python3.11/dist-packages (from langchain==0.3.21->-r https://raw.githubusercontent.com/teddylee777/langchain-kr/main/requirements.txt (line 1)) (2.32.3)\n",
            "Requirement already satisfied: PyYAML>=5.3 in /usr/local/lib/python3.11/dist-packages (from langchain==0.3.21->-r https://raw.githubusercontent.com/teddylee777/langchain-kr/main/requirements.txt (line 1)) (6.0.2)\n",
            "Requirement already satisfied: jsonpatch<2.0,>=1.33 in /usr/local/lib/python3.11/dist-packages (from langchain-core==0.3.46->-r https://raw.githubusercontent.com/teddylee777/langchain-kr/main/requirements.txt (line 2)) (1.33)\n",
            "Requirement already satisfied: packaging<25,>=23.2 in /usr/local/lib/python3.11/dist-packages (from langchain-core==0.3.46->-r https://raw.githubusercontent.com/teddylee777/langchain-kr/main/requirements.txt (line 2)) (24.2)\n",
            "Requirement already satisfied: typing-extensions>=4.7 in /usr/local/lib/python3.11/dist-packages (from langchain-core==0.3.46->-r https://raw.githubusercontent.com/teddylee777/langchain-kr/main/requirements.txt (line 2)) (4.14.1)\n",
            "Requirement already satisfied: aiohttp<4.0.0,>=3.8.3 in /usr/local/lib/python3.11/dist-packages (from langchain-community==0.3.20->-r https://raw.githubusercontent.com/teddylee777/langchain-kr/main/requirements.txt (line 4)) (3.12.15)\n",
            "Requirement already satisfied: dataclasses-json<0.7,>=0.5.7 in /usr/local/lib/python3.11/dist-packages (from langchain-community==0.3.20->-r https://raw.githubusercontent.com/teddylee777/langchain-kr/main/requirements.txt (line 4)) (0.6.7)\n",
            "Requirement already satisfied: pydantic-settings<3.0.0,>=2.4.0 in /usr/local/lib/python3.11/dist-packages (from langchain-community==0.3.20->-r https://raw.githubusercontent.com/teddylee777/langchain-kr/main/requirements.txt (line 4)) (2.10.1)\n",
            "Requirement already satisfied: httpx-sse<1.0.0,>=0.4.0 in /usr/local/lib/python3.11/dist-packages (from langchain-community==0.3.20->-r https://raw.githubusercontent.com/teddylee777/langchain-kr/main/requirements.txt (line 4)) (0.4.0)\n",
            "Requirement already satisfied: numpy<3,>=1.26.2 in /usr/local/lib/python3.11/dist-packages (from langchain-community==0.3.20->-r https://raw.githubusercontent.com/teddylee777/langchain-kr/main/requirements.txt (line 4)) (1.26.4)\n",
            "Requirement already satisfied: anthropic<1,>=0.49.0 in /usr/local/lib/python3.11/dist-packages (from langchain-anthropic==0.3.10->-r https://raw.githubusercontent.com/teddylee777/langchain-kr/main/requirements.txt (line 6)) (0.62.0)\n",
            "Requirement already satisfied: elasticsearch<9.0.0,>=8.13.1 in /usr/local/lib/python3.11/dist-packages (from elasticsearch[vectorstore-mmr]<9.0.0,>=8.13.1->langchain-elasticsearch==0.3.2->-r https://raw.githubusercontent.com/teddylee777/langchain-kr/main/requirements.txt (line 8)) (8.19.0)\n",
            "Requirement already satisfied: cohere<6.0,>=5.12.0 in /usr/local/lib/python3.11/dist-packages (from langchain-cohere==0.4.3->-r https://raw.githubusercontent.com/teddylee777/langchain-kr/main/requirements.txt (line 10)) (5.16.3)\n",
            "Requirement already satisfied: types-pyyaml<7.0.0.0,>=6.0.12.20240917 in /usr/local/lib/python3.11/dist-packages (from langchain-cohere==0.4.3->-r https://raw.githubusercontent.com/teddylee777/langchain-kr/main/requirements.txt (line 10)) (6.0.12.20250809)\n",
            "Requirement already satisfied: filetype<2.0.0,>=1.2.0 in /usr/local/lib/python3.11/dist-packages (from langchain-google-genai==2.1.0->-r https://raw.githubusercontent.com/teddylee777/langchain-kr/main/requirements.txt (line 12)) (1.2.0)\n",
            "Requirement already satisfied: google-ai-generativelanguage<0.7.0,>=0.6.16 in /usr/local/lib/python3.11/dist-packages (from langchain-google-genai==2.1.0->-r https://raw.githubusercontent.com/teddylee777/langchain-kr/main/requirements.txt (line 12)) (0.6.18)\n",
            "Requirement already satisfied: sentence-transformers>=2.6.0 in /usr/local/lib/python3.11/dist-packages (from langchain-huggingface==0.1.2->-r https://raw.githubusercontent.com/teddylee777/langchain-kr/main/requirements.txt (line 13)) (5.0.0)\n",
            "Requirement already satisfied: tokenizers>=0.19.1 in /usr/local/lib/python3.11/dist-packages (from langchain-huggingface==0.1.2->-r https://raw.githubusercontent.com/teddylee777/langchain-kr/main/requirements.txt (line 13)) (0.21.4)\n",
            "Requirement already satisfied: transformers>=4.39.0 in /usr/local/lib/python3.11/dist-packages (from langchain-huggingface==0.1.2->-r https://raw.githubusercontent.com/teddylee777/langchain-kr/main/requirements.txt (line 13)) (4.50.3)\n",
            "Requirement already satisfied: azure-ai-inference<2.0.0,>=1.0.0b7 in /usr/local/lib/python3.11/dist-packages (from azure-ai-inference[opentelemetry]<2.0.0,>=1.0.0b7->langchain-azure-ai==0.1.2->-r https://raw.githubusercontent.com/teddylee777/langchain-kr/main/requirements.txt (line 14)) (1.0.0b9)\n",
            "Requirement already satisfied: azure-core<2.0.0,>=1.32.0 in /usr/local/lib/python3.11/dist-packages (from langchain-azure-ai==0.1.2->-r https://raw.githubusercontent.com/teddylee777/langchain-kr/main/requirements.txt (line 14)) (1.35.0)\n",
            "Requirement already satisfied: azure-cosmos<5.0.0,>=4.9.0 in /usr/local/lib/python3.11/dist-packages (from langchain-azure-ai==0.1.2->-r https://raw.githubusercontent.com/teddylee777/langchain-kr/main/requirements.txt (line 14)) (4.9.0)\n",
            "Requirement already satisfied: azure-identity<2.0.0,>=1.15.0 in /usr/local/lib/python3.11/dist-packages (from langchain-azure-ai==0.1.2->-r https://raw.githubusercontent.com/teddylee777/langchain-kr/main/requirements.txt (line 14)) (1.24.0)\n",
            "Requirement already satisfied: pymongo<5.0.0,>=4.5.0 in /usr/local/lib/python3.11/dist-packages (from langchain-azure-ai==0.1.2->-r https://raw.githubusercontent.com/teddylee777/langchain-kr/main/requirements.txt (line 14)) (4.14.0)\n",
            "Requirement already satisfied: simsimd<7.0.0,>=6.0.0 in /usr/local/lib/python3.11/dist-packages (from langchain-azure-ai==0.1.2->-r https://raw.githubusercontent.com/teddylee777/langchain-kr/main/requirements.txt (line 14)) (6.5.0)\n",
            "Requirement already satisfied: pinecone-client[grpc] in /usr/local/lib/python3.11/dist-packages (from langchain-teddynote==0.3.44->-r https://raw.githubusercontent.com/teddylee777/langchain-kr/main/requirements.txt (line 15)) (3.2.2)\n",
            "Requirement already satisfied: pinecone-text in /usr/local/lib/python3.11/dist-packages (from langchain-teddynote==0.3.44->-r https://raw.githubusercontent.com/teddylee777/langchain-kr/main/requirements.txt (line 15)) (0.11.0)\n",
            "Requirement already satisfied: olefile in /usr/local/lib/python3.11/dist-packages (from langchain-teddynote==0.3.44->-r https://raw.githubusercontent.com/teddylee777/langchain-kr/main/requirements.txt (line 15)) (0.47)\n",
            "Requirement already satisfied: pdf2image in /usr/local/lib/python3.11/dist-packages (from langchain-teddynote==0.3.44->-r https://raw.githubusercontent.com/teddylee777/langchain-kr/main/requirements.txt (line 15)) (1.17.0)\n",
            "Requirement already satisfied: feedparser in /usr/local/lib/python3.11/dist-packages (from langchain-teddynote==0.3.44->-r https://raw.githubusercontent.com/teddylee777/langchain-kr/main/requirements.txt (line 15)) (6.0.11)\n",
            "Requirement already satisfied: tavily-python in /usr/local/lib/python3.11/dist-packages (from langchain-teddynote==0.3.44->-r https://raw.githubusercontent.com/teddylee777/langchain-kr/main/requirements.txt (line 15)) (0.7.10)\n",
            "Requirement already satisfied: types-requests<3.0.0.0,>=2.31.0.2 in /usr/local/lib/python3.11/dist-packages (from langchainhub==0.1.21->-r https://raw.githubusercontent.com/teddylee777/langchain-kr/main/requirements.txt (line 16)) (2.32.4.20250809)\n",
            "Requirement already satisfied: langgraph-checkpoint<3.0.0,>=2.0.10 in /usr/local/lib/python3.11/dist-packages (from langgraph==0.3.18->-r https://raw.githubusercontent.com/teddylee777/langchain-kr/main/requirements.txt (line 17)) (2.1.1)\n",
            "Requirement already satisfied: langgraph-prebuilt<0.2,>=0.1.1 in /usr/local/lib/python3.11/dist-packages (from langgraph==0.3.18->-r https://raw.githubusercontent.com/teddylee777/langchain-kr/main/requirements.txt (line 17)) (0.1.8)\n",
            "Requirement already satisfied: langgraph-sdk<0.2.0,>=0.1.42 in /usr/local/lib/python3.11/dist-packages (from langgraph==0.3.18->-r https://raw.githubusercontent.com/teddylee777/langchain-kr/main/requirements.txt (line 17)) (0.1.74)\n",
            "Requirement already satisfied: httpx<1,>=0.23.0 in /usr/local/lib/python3.11/dist-packages (from langsmith==0.3.18->-r https://raw.githubusercontent.com/teddylee777/langchain-kr/main/requirements.txt (line 18)) (0.28.1)\n",
            "Requirement already satisfied: orjson<4.0.0,>=3.9.14 in /usr/local/lib/python3.11/dist-packages (from langsmith==0.3.18->-r https://raw.githubusercontent.com/teddylee777/langchain-kr/main/requirements.txt (line 18)) (3.11.1)\n",
            "Requirement already satisfied: requests-toolbelt<2.0.0,>=1.0.0 in /usr/local/lib/python3.11/dist-packages (from langsmith==0.3.18->-r https://raw.githubusercontent.com/teddylee777/langchain-kr/main/requirements.txt (line 18)) (1.0.0)\n",
            "Requirement already satisfied: zstandard<0.24.0,>=0.23.0 in /usr/local/lib/python3.11/dist-packages (from langsmith==0.3.18->-r https://raw.githubusercontent.com/teddylee777/langchain-kr/main/requirements.txt (line 18)) (0.23.0)\n",
            "Requirement already satisfied: filelock in /usr/local/lib/python3.11/dist-packages (from huggingface-hub==0.29.3->-r https://raw.githubusercontent.com/teddylee777/langchain-kr/main/requirements.txt (line 19)) (3.18.0)\n",
            "Requirement already satisfied: fsspec>=2023.5.0 in /usr/local/lib/python3.11/dist-packages (from huggingface-hub==0.29.3->-r https://raw.githubusercontent.com/teddylee777/langchain-kr/main/requirements.txt (line 19)) (2025.3.0)\n",
            "Requirement already satisfied: tqdm>=4.42.1 in /usr/local/lib/python3.11/dist-packages (from huggingface-hub==0.29.3->-r https://raw.githubusercontent.com/teddylee777/langchain-kr/main/requirements.txt (line 19)) (4.67.1)\n",
            "Requirement already satisfied: anyio<5,>=3.5.0 in /usr/local/lib/python3.11/dist-packages (from openai==1.67.0->-r https://raw.githubusercontent.com/teddylee777/langchain-kr/main/requirements.txt (line 20)) (4.10.0)\n",
            "Requirement already satisfied: distro<2,>=1.7.0 in /usr/local/lib/python3.11/dist-packages (from openai==1.67.0->-r https://raw.githubusercontent.com/teddylee777/langchain-kr/main/requirements.txt (line 20)) (1.9.0)\n",
            "Requirement already satisfied: jiter<1,>=0.4.0 in /usr/local/lib/python3.11/dist-packages (from openai==1.67.0->-r https://raw.githubusercontent.com/teddylee777/langchain-kr/main/requirements.txt (line 20)) (0.10.0)\n",
            "Requirement already satisfied: sniffio in /usr/local/lib/python3.11/dist-packages (from openai==1.67.0->-r https://raw.githubusercontent.com/teddylee777/langchain-kr/main/requirements.txt (line 20)) (1.3.1)\n",
            "Requirement already satisfied: kiwipiepy_model<0.21,>=0.20 in /usr/local/lib/python3.11/dist-packages (from kiwipiepy==0.20.4->-r https://raw.githubusercontent.com/teddylee777/langchain-kr/main/requirements.txt (line 22)) (0.20.0)\n",
            "Requirement already satisfied: JPype1>=0.7.0 in /usr/local/lib/python3.11/dist-packages (from konlpy==0.6.0->-r https://raw.githubusercontent.com/teddylee777/langchain-kr/main/requirements.txt (line 23)) (1.6.0)\n",
            "Requirement already satisfied: python-dateutil>=2.8.2 in /usr/local/lib/python3.11/dist-packages (from pandas==2.2.3->-r https://raw.githubusercontent.com/teddylee777/langchain-kr/main/requirements.txt (line 25)) (2.9.0.post0)\n",
            "Requirement already satisfied: pytz>=2020.1 in /usr/local/lib/python3.11/dist-packages (from pandas==2.2.3->-r https://raw.githubusercontent.com/teddylee777/langchain-kr/main/requirements.txt (line 25)) (2025.2)\n",
            "Requirement already satisfied: tzdata>=2022.7 in /usr/local/lib/python3.11/dist-packages (from pandas==2.2.3->-r https://raw.githubusercontent.com/teddylee777/langchain-kr/main/requirements.txt (line 25)) (2025.2)\n",
            "Requirement already satisfied: build>=1.0.3 in /usr/local/lib/python3.11/dist-packages (from chromadb==0.6.3->-r https://raw.githubusercontent.com/teddylee777/langchain-kr/main/requirements.txt (line 29)) (1.3.0)\n",
            "Requirement already satisfied: chroma-hnswlib==0.7.6 in /usr/local/lib/python3.11/dist-packages (from chromadb==0.6.3->-r https://raw.githubusercontent.com/teddylee777/langchain-kr/main/requirements.txt (line 29)) (0.7.6)\n",
            "Requirement already satisfied: fastapi>=0.95.2 in /usr/local/lib/python3.11/dist-packages (from chromadb==0.6.3->-r https://raw.githubusercontent.com/teddylee777/langchain-kr/main/requirements.txt (line 29)) (0.116.1)\n",
            "Requirement already satisfied: uvicorn>=0.18.3 in /usr/local/lib/python3.11/dist-packages (from uvicorn[standard]>=0.18.3->chromadb==0.6.3->-r https://raw.githubusercontent.com/teddylee777/langchain-kr/main/requirements.txt (line 29)) (0.35.0)\n",
            "Requirement already satisfied: posthog>=2.4.0 in /usr/local/lib/python3.11/dist-packages (from chromadb==0.6.3->-r https://raw.githubusercontent.com/teddylee777/langchain-kr/main/requirements.txt (line 29)) (6.5.0)\n",
            "Requirement already satisfied: onnxruntime>=1.14.1 in /usr/local/lib/python3.11/dist-packages (from chromadb==0.6.3->-r https://raw.githubusercontent.com/teddylee777/langchain-kr/main/requirements.txt (line 29)) (1.22.1)\n",
            "Requirement already satisfied: opentelemetry-api>=1.2.0 in /usr/local/lib/python3.11/dist-packages (from chromadb==0.6.3->-r https://raw.githubusercontent.com/teddylee777/langchain-kr/main/requirements.txt (line 29)) (1.27.0)\n",
            "Requirement already satisfied: opentelemetry-exporter-otlp-proto-grpc>=1.2.0 in /usr/local/lib/python3.11/dist-packages (from chromadb==0.6.3->-r https://raw.githubusercontent.com/teddylee777/langchain-kr/main/requirements.txt (line 29)) (1.27.0)\n",
            "Requirement already satisfied: opentelemetry-instrumentation-fastapi>=0.41b0 in /usr/local/lib/python3.11/dist-packages (from chromadb==0.6.3->-r https://raw.githubusercontent.com/teddylee777/langchain-kr/main/requirements.txt (line 29)) (0.48b0)\n",
            "Requirement already satisfied: opentelemetry-sdk>=1.2.0 in /usr/local/lib/python3.11/dist-packages (from chromadb==0.6.3->-r https://raw.githubusercontent.com/teddylee777/langchain-kr/main/requirements.txt (line 29)) (1.27.0)\n",
            "Requirement already satisfied: pypika>=0.48.9 in /usr/local/lib/python3.11/dist-packages (from chromadb==0.6.3->-r https://raw.githubusercontent.com/teddylee777/langchain-kr/main/requirements.txt (line 29)) (0.48.9)\n",
            "Requirement already satisfied: overrides>=7.3.1 in /usr/local/lib/python3.11/dist-packages (from chromadb==0.6.3->-r https://raw.githubusercontent.com/teddylee777/langchain-kr/main/requirements.txt (line 29)) (7.7.0)\n",
            "Requirement already satisfied: importlib-resources in /usr/local/lib/python3.11/dist-packages (from chromadb==0.6.3->-r https://raw.githubusercontent.com/teddylee777/langchain-kr/main/requirements.txt (line 29)) (6.5.2)\n",
            "Requirement already satisfied: grpcio>=1.58.0 in /usr/local/lib/python3.11/dist-packages (from chromadb==0.6.3->-r https://raw.githubusercontent.com/teddylee777/langchain-kr/main/requirements.txt (line 29)) (1.67.1)\n",
            "Requirement already satisfied: bcrypt>=4.0.1 in /usr/local/lib/python3.11/dist-packages (from chromadb==0.6.3->-r https://raw.githubusercontent.com/teddylee777/langchain-kr/main/requirements.txt (line 29)) (4.3.0)\n",
            "Requirement already satisfied: typer>=0.9.0 in /usr/local/lib/python3.11/dist-packages (from chromadb==0.6.3->-r https://raw.githubusercontent.com/teddylee777/langchain-kr/main/requirements.txt (line 29)) (0.16.0)\n",
            "Requirement already satisfied: kubernetes>=28.1.0 in /usr/local/lib/python3.11/dist-packages (from chromadb==0.6.3->-r https://raw.githubusercontent.com/teddylee777/langchain-kr/main/requirements.txt (line 29)) (33.1.0)\n",
            "Requirement already satisfied: mmh3>=4.0.1 in /usr/local/lib/python3.11/dist-packages (from chromadb==0.6.3->-r https://raw.githubusercontent.com/teddylee777/langchain-kr/main/requirements.txt (line 29)) (4.1.0)\n",
            "Requirement already satisfied: rich>=10.11.0 in /usr/local/lib/python3.11/dist-packages (from chromadb==0.6.3->-r https://raw.githubusercontent.com/teddylee777/langchain-kr/main/requirements.txt (line 29)) (13.9.4)\n",
            "Requirement already satisfied: pypdfium2>=4.18.0 in /usr/local/lib/python3.11/dist-packages (from pdfplumber==0.11.5->-r https://raw.githubusercontent.com/teddylee777/langchain-kr/main/requirements.txt (line 33)) (4.30.0)\n",
            "Requirement already satisfied: charset-normalizer>=2.0.0 in /usr/local/lib/python3.11/dist-packages (from pdfminer-six==20231228->-r https://raw.githubusercontent.com/teddylee777/langchain-kr/main/requirements.txt (line 34)) (3.4.2)\n",
            "Requirement already satisfied: cryptography>=36.0.0 in /usr/local/lib/python3.11/dist-packages (from pdfminer-six==20231228->-r https://raw.githubusercontent.com/teddylee777/langchain-kr/main/requirements.txt (line 34)) (43.0.3)\n",
            "Requirement already satisfied: contourpy>=1.0.1 in /usr/local/lib/python3.11/dist-packages (from matplotlib==3.10.1->-r https://raw.githubusercontent.com/teddylee777/langchain-kr/main/requirements.txt (line 37)) (1.3.3)\n",
            "Requirement already satisfied: cycler>=0.10 in /usr/local/lib/python3.11/dist-packages (from matplotlib==3.10.1->-r https://raw.githubusercontent.com/teddylee777/langchain-kr/main/requirements.txt (line 37)) (0.12.1)\n",
            "Requirement already satisfied: fonttools>=4.22.0 in /usr/local/lib/python3.11/dist-packages (from matplotlib==3.10.1->-r https://raw.githubusercontent.com/teddylee777/langchain-kr/main/requirements.txt (line 37)) (4.59.0)\n",
            "Requirement already satisfied: kiwisolver>=1.3.1 in /usr/local/lib/python3.11/dist-packages (from matplotlib==3.10.1->-r https://raw.githubusercontent.com/teddylee777/langchain-kr/main/requirements.txt (line 37)) (1.4.8)\n",
            "Requirement already satisfied: pyparsing>=2.3.1 in /usr/local/lib/python3.11/dist-packages (from matplotlib==3.10.1->-r https://raw.githubusercontent.com/teddylee777/langchain-kr/main/requirements.txt (line 37)) (3.2.3)\n",
            "Requirement already satisfied: altair<6,>=4.0 in /usr/local/lib/python3.11/dist-packages (from streamlit==1.43.2->-r https://raw.githubusercontent.com/teddylee777/langchain-kr/main/requirements.txt (line 38)) (5.5.0)\n",
            "Requirement already satisfied: blinker<2,>=1.0.0 in /usr/local/lib/python3.11/dist-packages (from streamlit==1.43.2->-r https://raw.githubusercontent.com/teddylee777/langchain-kr/main/requirements.txt (line 38)) (1.9.0)\n",
            "Requirement already satisfied: cachetools<6,>=4.0 in /usr/local/lib/python3.11/dist-packages (from streamlit==1.43.2->-r https://raw.githubusercontent.com/teddylee777/langchain-kr/main/requirements.txt (line 38)) (5.5.2)\n",
            "Requirement already satisfied: click<9,>=7.0 in /usr/local/lib/python3.11/dist-packages (from streamlit==1.43.2->-r https://raw.githubusercontent.com/teddylee777/langchain-kr/main/requirements.txt (line 38)) (8.2.1)\n",
            "Requirement already satisfied: pyarrow>=7.0 in /usr/local/lib/python3.11/dist-packages (from streamlit==1.43.2->-r https://raw.githubusercontent.com/teddylee777/langchain-kr/main/requirements.txt (line 38)) (18.1.0)\n",
            "Requirement already satisfied: toml<2,>=0.10.1 in /usr/local/lib/python3.11/dist-packages (from streamlit==1.43.2->-r https://raw.githubusercontent.com/teddylee777/langchain-kr/main/requirements.txt (line 38)) (0.10.2)\n",
            "Requirement already satisfied: watchdog<7,>=2.1.5 in /usr/local/lib/python3.11/dist-packages (from streamlit==1.43.2->-r https://raw.githubusercontent.com/teddylee777/langchain-kr/main/requirements.txt (line 38)) (6.0.0)\n",
            "Requirement already satisfied: gitpython!=3.1.19,<4,>=3.0.7 in /usr/local/lib/python3.11/dist-packages (from streamlit==1.43.2->-r https://raw.githubusercontent.com/teddylee777/langchain-kr/main/requirements.txt (line 38)) (3.1.45)\n",
            "Requirement already satisfied: pydeck<1,>=0.8.0b4 in /usr/local/lib/python3.11/dist-packages (from streamlit==1.43.2->-r https://raw.githubusercontent.com/teddylee777/langchain-kr/main/requirements.txt (line 38)) (0.9.1)\n",
            "Requirement already satisfied: tornado<7,>=6.0.3 in /usr/local/lib/python3.11/dist-packages (from streamlit==1.43.2->-r https://raw.githubusercontent.com/teddylee777/langchain-kr/main/requirements.txt (line 38)) (6.4.2)\n",
            "Requirement already satisfied: jupyter-console in /usr/local/lib/python3.11/dist-packages (from jupyter==1.1.1->-r https://raw.githubusercontent.com/teddylee777/langchain-kr/main/requirements.txt (line 39)) (6.1.0)\n",
            "Requirement already satisfied: nbconvert in /usr/local/lib/python3.11/dist-packages (from jupyter==1.1.1->-r https://raw.githubusercontent.com/teddylee777/langchain-kr/main/requirements.txt (line 39)) (7.16.6)\n",
            "Requirement already satisfied: ipykernel in /usr/local/lib/python3.11/dist-packages (from jupyter==1.1.1->-r https://raw.githubusercontent.com/teddylee777/langchain-kr/main/requirements.txt (line 39)) (6.17.1)\n",
            "Requirement already satisfied: ipywidgets in /usr/local/lib/python3.11/dist-packages (from jupyter==1.1.1->-r https://raw.githubusercontent.com/teddylee777/langchain-kr/main/requirements.txt (line 39)) (7.7.1)\n",
            "Requirement already satisfied: jupyterlab in /usr/local/lib/python3.11/dist-packages (from jupyter==1.1.1->-r https://raw.githubusercontent.com/teddylee777/langchain-kr/main/requirements.txt (line 39)) (4.3.8)\n",
            "Requirement already satisfied: jupyter-server<3,>=2.4.0 in /usr/local/lib/python3.11/dist-packages (from notebook==7.3.3->-r https://raw.githubusercontent.com/teddylee777/langchain-kr/main/requirements.txt (line 40)) (2.16.0)\n",
            "Requirement already satisfied: jupyterlab-server<3,>=2.27.1 in /usr/local/lib/python3.11/dist-packages (from notebook==7.3.3->-r https://raw.githubusercontent.com/teddylee777/langchain-kr/main/requirements.txt (line 40)) (2.27.3)\n",
            "Requirement already satisfied: notebook-shim<0.3,>=0.2 in /usr/local/lib/python3.11/dist-packages (from notebook==7.3.3->-r https://raw.githubusercontent.com/teddylee777/langchain-kr/main/requirements.txt (line 40)) (0.2.4)\n",
            "Requirement already satisfied: networkx in /usr/local/lib/python3.11/dist-packages (from torch==2.6.0->-r https://raw.githubusercontent.com/teddylee777/langchain-kr/main/requirements.txt (line 42)) (3.5)\n",
            "Requirement already satisfied: jinja2 in /usr/local/lib/python3.11/dist-packages (from torch==2.6.0->-r https://raw.githubusercontent.com/teddylee777/langchain-kr/main/requirements.txt (line 42)) (3.1.6)\n",
            "Requirement already satisfied: nvidia-cuda-nvrtc-cu12==12.4.127 in /usr/local/lib/python3.11/dist-packages (from torch==2.6.0->-r https://raw.githubusercontent.com/teddylee777/langchain-kr/main/requirements.txt (line 42)) (12.4.127)\n",
            "Requirement already satisfied: nvidia-cuda-runtime-cu12==12.4.127 in /usr/local/lib/python3.11/dist-packages (from torch==2.6.0->-r https://raw.githubusercontent.com/teddylee777/langchain-kr/main/requirements.txt (line 42)) (12.4.127)\n",
            "Requirement already satisfied: nvidia-cuda-cupti-cu12==12.4.127 in /usr/local/lib/python3.11/dist-packages (from torch==2.6.0->-r https://raw.githubusercontent.com/teddylee777/langchain-kr/main/requirements.txt (line 42)) (12.4.127)\n",
            "Requirement already satisfied: nvidia-cudnn-cu12==9.1.0.70 in /usr/local/lib/python3.11/dist-packages (from torch==2.6.0->-r https://raw.githubusercontent.com/teddylee777/langchain-kr/main/requirements.txt (line 42)) (9.1.0.70)\n",
            "Requirement already satisfied: nvidia-cublas-cu12==12.4.5.8 in /usr/local/lib/python3.11/dist-packages (from torch==2.6.0->-r https://raw.githubusercontent.com/teddylee777/langchain-kr/main/requirements.txt (line 42)) (12.4.5.8)\n",
            "Requirement already satisfied: nvidia-cufft-cu12==11.2.1.3 in /usr/local/lib/python3.11/dist-packages (from torch==2.6.0->-r https://raw.githubusercontent.com/teddylee777/langchain-kr/main/requirements.txt (line 42)) (11.2.1.3)\n",
            "Requirement already satisfied: nvidia-curand-cu12==10.3.5.147 in /usr/local/lib/python3.11/dist-packages (from torch==2.6.0->-r https://raw.githubusercontent.com/teddylee777/langchain-kr/main/requirements.txt (line 42)) (10.3.5.147)\n",
            "Requirement already satisfied: nvidia-cusolver-cu12==11.6.1.9 in /usr/local/lib/python3.11/dist-packages (from torch==2.6.0->-r https://raw.githubusercontent.com/teddylee777/langchain-kr/main/requirements.txt (line 42)) (11.6.1.9)\n",
            "Requirement already satisfied: nvidia-cusparse-cu12==12.3.1.170 in /usr/local/lib/python3.11/dist-packages (from torch==2.6.0->-r https://raw.githubusercontent.com/teddylee777/langchain-kr/main/requirements.txt (line 42)) (12.3.1.170)\n",
            "Requirement already satisfied: nvidia-cusparselt-cu12==0.6.2 in /usr/local/lib/python3.11/dist-packages (from torch==2.6.0->-r https://raw.githubusercontent.com/teddylee777/langchain-kr/main/requirements.txt (line 42)) (0.6.2)\n",
            "Requirement already satisfied: nvidia-nccl-cu12==2.21.5 in /usr/local/lib/python3.11/dist-packages (from torch==2.6.0->-r https://raw.githubusercontent.com/teddylee777/langchain-kr/main/requirements.txt (line 42)) (2.21.5)\n",
            "Requirement already satisfied: nvidia-nvtx-cu12==12.4.127 in /usr/local/lib/python3.11/dist-packages (from torch==2.6.0->-r https://raw.githubusercontent.com/teddylee777/langchain-kr/main/requirements.txt (line 42)) (12.4.127)\n",
            "Requirement already satisfied: nvidia-nvjitlink-cu12==12.4.127 in /usr/local/lib/python3.11/dist-packages (from torch==2.6.0->-r https://raw.githubusercontent.com/teddylee777/langchain-kr/main/requirements.txt (line 42)) (12.4.127)\n",
            "Requirement already satisfied: triton==3.2.0 in /usr/local/lib/python3.11/dist-packages (from torch==2.6.0->-r https://raw.githubusercontent.com/teddylee777/langchain-kr/main/requirements.txt (line 42)) (3.2.0)\n",
            "Requirement already satisfied: sympy==1.13.1 in /usr/local/lib/python3.11/dist-packages (from torch==2.6.0->-r https://raw.githubusercontent.com/teddylee777/langchain-kr/main/requirements.txt (line 42)) (1.13.1)\n",
            "Requirement already satisfied: regex in /usr/local/lib/python3.11/dist-packages (from open-clip-torch==2.31.0->-r https://raw.githubusercontent.com/teddylee777/langchain-kr/main/requirements.txt (line 45)) (2024.11.6)\n",
            "Requirement already satisfied: ftfy in /usr/local/lib/python3.11/dist-packages (from open-clip-torch==2.31.0->-r https://raw.githubusercontent.com/teddylee777/langchain-kr/main/requirements.txt (line 45)) (6.3.1)\n",
            "Requirement already satisfied: safetensors in /usr/local/lib/python3.11/dist-packages (from open-clip-torch==2.31.0->-r https://raw.githubusercontent.com/teddylee777/langchain-kr/main/requirements.txt (line 45)) (0.6.1)\n",
            "Requirement already satisfied: timm in /usr/local/lib/python3.11/dist-packages (from open-clip-torch==2.31.0->-r https://raw.githubusercontent.com/teddylee777/langchain-kr/main/requirements.txt (line 45)) (1.0.19)\n",
            "Requirement already satisfied: annotated-types>=0.6.0 in /usr/local/lib/python3.11/dist-packages (from pydantic==2.10.6->-r https://raw.githubusercontent.com/teddylee777/langchain-kr/main/requirements.txt (line 48)) (0.7.0)\n",
            "Requirement already satisfied: pydantic-core==2.27.2 in /usr/local/lib/python3.11/dist-packages (from pydantic==2.10.6->-r https://raw.githubusercontent.com/teddylee777/langchain-kr/main/requirements.txt (line 48)) (2.27.2)\n",
            "Requirement already satisfied: datasets in /usr/local/lib/python3.11/dist-packages (from ragas==0.2.14->-r https://raw.githubusercontent.com/teddylee777/langchain-kr/main/requirements.txt (line 52)) (4.0.0)\n",
            "Requirement already satisfied: appdirs in /usr/local/lib/python3.11/dist-packages (from ragas==0.2.14->-r https://raw.githubusercontent.com/teddylee777/langchain-kr/main/requirements.txt (line 52)) (1.4.4)\n",
            "Requirement already satisfied: diskcache>=5.6.3 in /usr/local/lib/python3.11/dist-packages (from ragas==0.2.14->-r https://raw.githubusercontent.com/teddylee777/langchain-kr/main/requirements.txt (line 52)) (5.6.3)\n",
            "Requirement already satisfied: chardet in /usr/local/lib/python3.11/dist-packages (from unstructured==0.17.0->-r https://raw.githubusercontent.com/teddylee777/langchain-kr/main/requirements.txt (line 53)) (5.2.0)\n",
            "Requirement already satisfied: python-magic in /usr/local/lib/python3.11/dist-packages (from unstructured==0.17.0->-r https://raw.githubusercontent.com/teddylee777/langchain-kr/main/requirements.txt (line 53)) (0.4.27)\n",
            "Requirement already satisfied: nltk in /usr/local/lib/python3.11/dist-packages (from unstructured==0.17.0->-r https://raw.githubusercontent.com/teddylee777/langchain-kr/main/requirements.txt (line 53)) (3.9.1)\n",
            "Requirement already satisfied: beautifulsoup4 in /usr/local/lib/python3.11/dist-packages (from unstructured==0.17.0->-r https://raw.githubusercontent.com/teddylee777/langchain-kr/main/requirements.txt (line 53)) (4.13.4)\n",
            "Requirement already satisfied: emoji in /usr/local/lib/python3.11/dist-packages (from unstructured==0.17.0->-r https://raw.githubusercontent.com/teddylee777/langchain-kr/main/requirements.txt (line 53)) (2.14.1)\n",
            "Requirement already satisfied: python-iso639 in /usr/local/lib/python3.11/dist-packages (from unstructured==0.17.0->-r https://raw.githubusercontent.com/teddylee777/langchain-kr/main/requirements.txt (line 53)) (2025.2.18)\n",
            "Requirement already satisfied: langdetect in /usr/local/lib/python3.11/dist-packages (from unstructured==0.17.0->-r https://raw.githubusercontent.com/teddylee777/langchain-kr/main/requirements.txt (line 53)) (1.0.9)\n",
            "Requirement already satisfied: rapidfuzz in /usr/local/lib/python3.11/dist-packages (from unstructured==0.17.0->-r https://raw.githubusercontent.com/teddylee777/langchain-kr/main/requirements.txt (line 53)) (3.13.0)\n",
            "Requirement already satisfied: backoff in /usr/local/lib/python3.11/dist-packages (from unstructured==0.17.0->-r https://raw.githubusercontent.com/teddylee777/langchain-kr/main/requirements.txt (line 53)) (2.2.1)\n",
            "Requirement already satisfied: unstructured-client in /usr/local/lib/python3.11/dist-packages (from unstructured==0.17.0->-r https://raw.githubusercontent.com/teddylee777/langchain-kr/main/requirements.txt (line 53)) (0.32.3)\n",
            "Requirement already satisfied: wrapt in /usr/local/lib/python3.11/dist-packages (from unstructured==0.17.0->-r https://raw.githubusercontent.com/teddylee777/langchain-kr/main/requirements.txt (line 53)) (1.17.2)\n",
            "Requirement already satisfied: psutil in /usr/local/lib/python3.11/dist-packages (from unstructured==0.17.0->-r https://raw.githubusercontent.com/teddylee777/langchain-kr/main/requirements.txt (line 53)) (5.9.5)\n",
            "Requirement already satisfied: python-oxmsg in /usr/local/lib/python3.11/dist-packages (from unstructured==0.17.0->-r https://raw.githubusercontent.com/teddylee777/langchain-kr/main/requirements.txt (line 53)) (0.0.2)\n",
            "Requirement already satisfied: html5lib in /usr/local/lib/python3.11/dist-packages (from unstructured==0.17.0->-r https://raw.githubusercontent.com/teddylee777/langchain-kr/main/requirements.txt (line 53)) (1.1)\n",
            "Requirement already satisfied: setuptools>69 in /usr/local/lib/python3.11/dist-packages (from pymilvus==2.5.5->-r https://raw.githubusercontent.com/teddylee777/langchain-kr/main/requirements.txt (line 57)) (75.2.0)\n",
            "Requirement already satisfied: ujson>=2.0.0 in /usr/local/lib/python3.11/dist-packages (from pymilvus==2.5.5->-r https://raw.githubusercontent.com/teddylee777/langchain-kr/main/requirements.txt (line 57)) (5.10.0)\n",
            "Requirement already satisfied: milvus-lite>=2.4.0 in /usr/local/lib/python3.11/dist-packages (from pymilvus==2.5.5->-r https://raw.githubusercontent.com/teddylee777/langchain-kr/main/requirements.txt (line 57)) (2.5.1)\n",
            "Requirement already satisfied: greenlet!=0.4.17 in /usr/local/lib/python3.11/dist-packages (from sqlalchemy==2.0.39->-r https://raw.githubusercontent.com/teddylee777/langchain-kr/main/requirements.txt (line 60)) (3.2.3)\n",
            "Requirement already satisfied: deprecated>=1.2.9.3 in /usr/local/lib/python3.11/dist-packages (from llama-index-core==0.11.23->-r https://raw.githubusercontent.com/teddylee777/langchain-kr/main/requirements.txt (line 61)) (1.2.18)\n",
            "Requirement already satisfied: dirtyjson<2.0.0,>=1.0.8 in /usr/local/lib/python3.11/dist-packages (from llama-index-core==0.11.23->-r https://raw.githubusercontent.com/teddylee777/langchain-kr/main/requirements.txt (line 61)) (1.0.8)\n",
            "Requirement already satisfied: typing-inspect>=0.8.0 in /usr/local/lib/python3.11/dist-packages (from llama-index-core==0.11.23->-r https://raw.githubusercontent.com/teddylee777/langchain-kr/main/requirements.txt (line 61)) (0.9.0)\n",
            "Requirement already satisfied: llama-cloud-services>=0.6.4 in /usr/local/lib/python3.11/dist-packages (from llama-parse==0.6.4.post1->-r https://raw.githubusercontent.com/teddylee777/langchain-kr/main/requirements.txt (line 62)) (0.6.21)\n",
            "Requirement already satisfied: striprtf<0.0.27,>=0.0.26 in /usr/local/lib/python3.11/dist-packages (from llama-index-readers-file==0.2.2->-r https://raw.githubusercontent.com/teddylee777/langchain-kr/main/requirements.txt (line 63)) (0.0.26)\n",
            "Requirement already satisfied: pyclipper>=1.2.0 in /usr/local/lib/python3.11/dist-packages (from rapidocr-onnxruntime==1.4.4->-r https://raw.githubusercontent.com/teddylee777/langchain-kr/main/requirements.txt (line 67)) (1.3.0.post6)\n",
            "Requirement already satisfied: opencv-python>=4.5.1.48 in /usr/local/lib/python3.11/dist-packages (from rapidocr-onnxruntime==1.4.4->-r https://raw.githubusercontent.com/teddylee777/langchain-kr/main/requirements.txt (line 67)) (4.11.0.86)\n",
            "Requirement already satisfied: six>=1.15.0 in /usr/local/lib/python3.11/dist-packages (from rapidocr-onnxruntime==1.4.4->-r https://raw.githubusercontent.com/teddylee777/langchain-kr/main/requirements.txt (line 67)) (1.17.0)\n",
            "Requirement already satisfied: Shapely!=2.0.4,>=1.7.1 in /usr/local/lib/python3.11/dist-packages (from rapidocr-onnxruntime==1.4.4->-r https://raw.githubusercontent.com/teddylee777/langchain-kr/main/requirements.txt (line 67)) (2.1.1)\n",
            "Requirement already satisfied: absl-py in /usr/local/lib/python3.11/dist-packages (from rouge-score==0.1.2->-r https://raw.githubusercontent.com/teddylee777/langchain-kr/main/requirements.txt (line 70)) (1.4.0)\n",
            "Requirement already satisfied: ollama<1,>=0.4.4 in /usr/local/lib/python3.11/dist-packages (from langchain-ollama==0.2.3->-r https://raw.githubusercontent.com/teddylee777/langchain-kr/main/requirements.txt (line 71)) (0.5.3)\n",
            "Requirement already satisfied: mypy_extensions>=1.0.0 in /usr/local/lib/python3.11/dist-packages (from mypy==1.15.0->-r https://raw.githubusercontent.com/teddylee777/langchain-kr/main/requirements.txt (line 72)) (1.1.0)\n",
            "Requirement already satisfied: certifi>=2019.11.17 in /usr/local/lib/python3.11/dist-packages (from pinecone==5.4.2->-r https://raw.githubusercontent.com/teddylee777/langchain-kr/main/requirements.txt (line 73)) (2025.8.3)\n",
            "Requirement already satisfied: pinecone-plugin-inference<4.0.0,>=2.0.0 in /usr/local/lib/python3.11/dist-packages (from pinecone==5.4.2->-r https://raw.githubusercontent.com/teddylee777/langchain-kr/main/requirements.txt (line 73)) (3.1.0)\n",
            "Requirement already satisfied: pinecone-plugin-interface<0.0.8,>=0.0.7 in /usr/local/lib/python3.11/dist-packages (from pinecone==5.4.2->-r https://raw.githubusercontent.com/teddylee777/langchain-kr/main/requirements.txt (line 73)) (0.0.7)\n",
            "Requirement already satisfied: urllib3>=1.26.0 in /usr/local/lib/python3.11/dist-packages (from pinecone==5.4.2->-r https://raw.githubusercontent.com/teddylee777/langchain-kr/main/requirements.txt (line 73)) (2.5.0)\n",
            "Requirement already satisfied: scipy>=1.6.0 in /usr/local/lib/python3.11/dist-packages (from scikit-learn==1.6.1->-r https://raw.githubusercontent.com/teddylee777/langchain-kr/main/requirements.txt (line 75)) (1.16.1)\n",
            "Requirement already satisfied: joblib>=1.2.0 in /usr/local/lib/python3.11/dist-packages (from scikit-learn==1.6.1->-r https://raw.githubusercontent.com/teddylee777/langchain-kr/main/requirements.txt (line 75)) (1.5.1)\n",
            "Requirement already satisfied: threadpoolctl>=3.1.0 in /usr/local/lib/python3.11/dist-packages (from scikit-learn==1.6.1->-r https://raw.githubusercontent.com/teddylee777/langchain-kr/main/requirements.txt (line 75)) (3.6.0)\n",
            "Requirement already satisfied: mpmath<1.4,>=1.1.0 in /usr/local/lib/python3.11/dist-packages (from sympy==1.13.1->torch==2.6.0->-r https://raw.githubusercontent.com/teddylee777/langchain-kr/main/requirements.txt (line 42)) (1.3.0)\n",
            "Requirement already satisfied: aiohappyeyeballs>=2.5.0 in /usr/local/lib/python3.11/dist-packages (from aiohttp<4.0.0,>=3.8.3->langchain-community==0.3.20->-r https://raw.githubusercontent.com/teddylee777/langchain-kr/main/requirements.txt (line 4)) (2.6.1)\n",
            "Requirement already satisfied: aiosignal>=1.4.0 in /usr/local/lib/python3.11/dist-packages (from aiohttp<4.0.0,>=3.8.3->langchain-community==0.3.20->-r https://raw.githubusercontent.com/teddylee777/langchain-kr/main/requirements.txt (line 4)) (1.4.0)\n",
            "Requirement already satisfied: attrs>=17.3.0 in /usr/local/lib/python3.11/dist-packages (from aiohttp<4.0.0,>=3.8.3->langchain-community==0.3.20->-r https://raw.githubusercontent.com/teddylee777/langchain-kr/main/requirements.txt (line 4)) (25.3.0)\n",
            "Requirement already satisfied: frozenlist>=1.1.1 in /usr/local/lib/python3.11/dist-packages (from aiohttp<4.0.0,>=3.8.3->langchain-community==0.3.20->-r https://raw.githubusercontent.com/teddylee777/langchain-kr/main/requirements.txt (line 4)) (1.7.0)\n",
            "Requirement already satisfied: multidict<7.0,>=4.5 in /usr/local/lib/python3.11/dist-packages (from aiohttp<4.0.0,>=3.8.3->langchain-community==0.3.20->-r https://raw.githubusercontent.com/teddylee777/langchain-kr/main/requirements.txt (line 4)) (6.6.3)\n",
            "Requirement already satisfied: propcache>=0.2.0 in /usr/local/lib/python3.11/dist-packages (from aiohttp<4.0.0,>=3.8.3->langchain-community==0.3.20->-r https://raw.githubusercontent.com/teddylee777/langchain-kr/main/requirements.txt (line 4)) (0.3.2)\n",
            "Requirement already satisfied: yarl<2.0,>=1.17.0 in /usr/local/lib/python3.11/dist-packages (from aiohttp<4.0.0,>=3.8.3->langchain-community==0.3.20->-r https://raw.githubusercontent.com/teddylee777/langchain-kr/main/requirements.txt (line 4)) (1.20.1)\n",
            "Requirement already satisfied: jsonschema>=3.0 in /usr/local/lib/python3.11/dist-packages (from altair<6,>=4.0->streamlit==1.43.2->-r https://raw.githubusercontent.com/teddylee777/langchain-kr/main/requirements.txt (line 38)) (4.25.0)\n",
            "Requirement already satisfied: narwhals>=1.14.2 in /usr/local/lib/python3.11/dist-packages (from altair<6,>=4.0->streamlit==1.43.2->-r https://raw.githubusercontent.com/teddylee777/langchain-kr/main/requirements.txt (line 38)) (2.0.1)\n",
            "Requirement already satisfied: idna>=2.8 in /usr/local/lib/python3.11/dist-packages (from anyio<5,>=3.5.0->openai==1.67.0->-r https://raw.githubusercontent.com/teddylee777/langchain-kr/main/requirements.txt (line 20)) (3.10)\n",
            "Requirement already satisfied: isodate>=0.6.1 in /usr/local/lib/python3.11/dist-packages (from azure-ai-inference<2.0.0,>=1.0.0b7->azure-ai-inference[opentelemetry]<2.0.0,>=1.0.0b7->langchain-azure-ai==0.1.2->-r https://raw.githubusercontent.com/teddylee777/langchain-kr/main/requirements.txt (line 14)) (0.7.2)\n",
            "Requirement already satisfied: azure-core-tracing-opentelemetry in /usr/local/lib/python3.11/dist-packages (from azure-ai-inference[opentelemetry]<2.0.0,>=1.0.0b7->langchain-azure-ai==0.1.2->-r https://raw.githubusercontent.com/teddylee777/langchain-kr/main/requirements.txt (line 14)) (1.0.0b12)\n",
            "Requirement already satisfied: msal>=1.30.0 in /usr/local/lib/python3.11/dist-packages (from azure-identity<2.0.0,>=1.15.0->langchain-azure-ai==0.1.2->-r https://raw.githubusercontent.com/teddylee777/langchain-kr/main/requirements.txt (line 14)) (1.33.0)\n",
            "Requirement already satisfied: msal-extensions>=1.2.0 in /usr/local/lib/python3.11/dist-packages (from azure-identity<2.0.0,>=1.15.0->langchain-azure-ai==0.1.2->-r https://raw.githubusercontent.com/teddylee777/langchain-kr/main/requirements.txt (line 14)) (1.3.1)\n",
            "Requirement already satisfied: soupsieve>1.2 in /usr/local/lib/python3.11/dist-packages (from beautifulsoup4->unstructured==0.17.0->-r https://raw.githubusercontent.com/teddylee777/langchain-kr/main/requirements.txt (line 53)) (2.7)\n",
            "Requirement already satisfied: pyproject_hooks in /usr/local/lib/python3.11/dist-packages (from build>=1.0.3->chromadb==0.6.3->-r https://raw.githubusercontent.com/teddylee777/langchain-kr/main/requirements.txt (line 29)) (1.2.0)\n",
            "Requirement already satisfied: fastavro<2.0.0,>=1.9.4 in /usr/local/lib/python3.11/dist-packages (from cohere<6.0,>=5.12.0->langchain-cohere==0.4.3->-r https://raw.githubusercontent.com/teddylee777/langchain-kr/main/requirements.txt (line 10)) (1.12.0)\n",
            "Requirement already satisfied: cffi>=1.12 in /usr/local/lib/python3.11/dist-packages (from cryptography>=36.0.0->pdfminer-six==20231228->-r https://raw.githubusercontent.com/teddylee777/langchain-kr/main/requirements.txt (line 34)) (1.17.1)\n",
            "Requirement already satisfied: marshmallow<4.0.0,>=3.18.0 in /usr/local/lib/python3.11/dist-packages (from dataclasses-json<0.7,>=0.5.7->langchain-community==0.3.20->-r https://raw.githubusercontent.com/teddylee777/langchain-kr/main/requirements.txt (line 4)) (3.26.1)\n",
            "Requirement already satisfied: elastic-transport<9,>=8.15.1 in /usr/local/lib/python3.11/dist-packages (from elasticsearch<9.0.0,>=8.13.1->elasticsearch[vectorstore-mmr]<9.0.0,>=8.13.1->langchain-elasticsearch==0.3.2->-r https://raw.githubusercontent.com/teddylee777/langchain-kr/main/requirements.txt (line 8)) (8.17.1)\n",
            "Requirement already satisfied: starlette<0.48.0,>=0.40.0 in /usr/local/lib/python3.11/dist-packages (from fastapi>=0.95.2->chromadb==0.6.3->-r https://raw.githubusercontent.com/teddylee777/langchain-kr/main/requirements.txt (line 29)) (0.47.2)\n",
            "Requirement already satisfied: sgmllib3k in /usr/local/lib/python3.11/dist-packages (from feedparser->langchain-teddynote==0.3.44->-r https://raw.githubusercontent.com/teddylee777/langchain-kr/main/requirements.txt (line 15)) (1.0.0)\n",
            "Requirement already satisfied: gitdb<5,>=4.0.1 in /usr/local/lib/python3.11/dist-packages (from gitpython!=3.1.19,<4,>=3.0.7->streamlit==1.43.2->-r https://raw.githubusercontent.com/teddylee777/langchain-kr/main/requirements.txt (line 38)) (4.0.12)\n",
            "Requirement already satisfied: google-api-core!=2.0.*,!=2.1.*,!=2.10.*,!=2.2.*,!=2.3.*,!=2.4.*,!=2.5.*,!=2.6.*,!=2.7.*,!=2.8.*,!=2.9.*,<3.0.0,>=1.34.1 in /usr/local/lib/python3.11/dist-packages (from google-api-core[grpc]!=2.0.*,!=2.1.*,!=2.10.*,!=2.2.*,!=2.3.*,!=2.4.*,!=2.5.*,!=2.6.*,!=2.7.*,!=2.8.*,!=2.9.*,<3.0.0,>=1.34.1->google-ai-generativelanguage<0.7.0,>=0.6.16->langchain-google-genai==2.1.0->-r https://raw.githubusercontent.com/teddylee777/langchain-kr/main/requirements.txt (line 12)) (1.34.1)\n",
            "Requirement already satisfied: google-auth!=2.24.0,!=2.25.0,<3.0.0,>=2.14.1 in /usr/local/lib/python3.11/dist-packages (from google-ai-generativelanguage<0.7.0,>=0.6.16->langchain-google-genai==2.1.0->-r https://raw.githubusercontent.com/teddylee777/langchain-kr/main/requirements.txt (line 12)) (2.38.0)\n",
            "Requirement already satisfied: proto-plus<2.0.0,>=1.22.3 in /usr/local/lib/python3.11/dist-packages (from google-ai-generativelanguage<0.7.0,>=0.6.16->langchain-google-genai==2.1.0->-r https://raw.githubusercontent.com/teddylee777/langchain-kr/main/requirements.txt (line 12)) (1.26.1)\n",
            "Requirement already satisfied: httpcore==1.* in /usr/local/lib/python3.11/dist-packages (from httpx<1,>=0.23.0->langsmith==0.3.18->-r https://raw.githubusercontent.com/teddylee777/langchain-kr/main/requirements.txt (line 18)) (1.0.9)\n",
            "Requirement already satisfied: h11>=0.16 in /usr/local/lib/python3.11/dist-packages (from httpcore==1.*->httpx<1,>=0.23.0->langsmith==0.3.18->-r https://raw.githubusercontent.com/teddylee777/langchain-kr/main/requirements.txt (line 18)) (0.16.0)\n",
            "Requirement already satisfied: jsonpointer>=1.9 in /usr/local/lib/python3.11/dist-packages (from jsonpatch<2.0,>=1.33->langchain-core==0.3.46->-r https://raw.githubusercontent.com/teddylee777/langchain-kr/main/requirements.txt (line 2)) (3.0.0)\n",
            "Requirement already satisfied: argon2-cffi>=21.1 in /usr/local/lib/python3.11/dist-packages (from jupyter-server<3,>=2.4.0->notebook==7.3.3->-r https://raw.githubusercontent.com/teddylee777/langchain-kr/main/requirements.txt (line 40)) (25.1.0)\n",
            "Requirement already satisfied: jupyter-client>=7.4.4 in /usr/local/lib/python3.11/dist-packages (from jupyter-server<3,>=2.4.0->notebook==7.3.3->-r https://raw.githubusercontent.com/teddylee777/langchain-kr/main/requirements.txt (line 40)) (8.6.3)\n",
            "Requirement already satisfied: jupyter-core!=5.0.*,>=4.12 in /usr/local/lib/python3.11/dist-packages (from jupyter-server<3,>=2.4.0->notebook==7.3.3->-r https://raw.githubusercontent.com/teddylee777/langchain-kr/main/requirements.txt (line 40)) (5.8.1)\n",
            "Requirement already satisfied: jupyter-events>=0.11.0 in /usr/local/lib/python3.11/dist-packages (from jupyter-server<3,>=2.4.0->notebook==7.3.3->-r https://raw.githubusercontent.com/teddylee777/langchain-kr/main/requirements.txt (line 40)) (0.12.0)\n",
            "Requirement already satisfied: jupyter-server-terminals>=0.4.4 in /usr/local/lib/python3.11/dist-packages (from jupyter-server<3,>=2.4.0->notebook==7.3.3->-r https://raw.githubusercontent.com/teddylee777/langchain-kr/main/requirements.txt (line 40)) (0.5.3)\n",
            "Requirement already satisfied: nbformat>=5.3.0 in /usr/local/lib/python3.11/dist-packages (from jupyter-server<3,>=2.4.0->notebook==7.3.3->-r https://raw.githubusercontent.com/teddylee777/langchain-kr/main/requirements.txt (line 40)) (5.10.4)\n",
            "Requirement already satisfied: prometheus-client>=0.9 in /usr/local/lib/python3.11/dist-packages (from jupyter-server<3,>=2.4.0->notebook==7.3.3->-r https://raw.githubusercontent.com/teddylee777/langchain-kr/main/requirements.txt (line 40)) (0.22.1)\n",
            "Requirement already satisfied: pyzmq>=24 in /usr/local/lib/python3.11/dist-packages (from jupyter-server<3,>=2.4.0->notebook==7.3.3->-r https://raw.githubusercontent.com/teddylee777/langchain-kr/main/requirements.txt (line 40)) (26.2.1)\n",
            "Requirement already satisfied: send2trash>=1.8.2 in /usr/local/lib/python3.11/dist-packages (from jupyter-server<3,>=2.4.0->notebook==7.3.3->-r https://raw.githubusercontent.com/teddylee777/langchain-kr/main/requirements.txt (line 40)) (1.8.3)\n",
            "Requirement already satisfied: terminado>=0.8.3 in /usr/local/lib/python3.11/dist-packages (from jupyter-server<3,>=2.4.0->notebook==7.3.3->-r https://raw.githubusercontent.com/teddylee777/langchain-kr/main/requirements.txt (line 40)) (0.18.1)\n",
            "Requirement already satisfied: traitlets>=5.6.0 in /usr/local/lib/python3.11/dist-packages (from jupyter-server<3,>=2.4.0->notebook==7.3.3->-r https://raw.githubusercontent.com/teddylee777/langchain-kr/main/requirements.txt (line 40)) (5.7.1)\n",
            "Requirement already satisfied: websocket-client>=1.7 in /usr/local/lib/python3.11/dist-packages (from jupyter-server<3,>=2.4.0->notebook==7.3.3->-r https://raw.githubusercontent.com/teddylee777/langchain-kr/main/requirements.txt (line 40)) (1.8.0)\n",
            "Requirement already satisfied: MarkupSafe>=2.0 in /usr/local/lib/python3.11/dist-packages (from jinja2->torch==2.6.0->-r https://raw.githubusercontent.com/teddylee777/langchain-kr/main/requirements.txt (line 42)) (3.0.2)\n",
            "Requirement already satisfied: async-lru>=1.0.0 in /usr/local/lib/python3.11/dist-packages (from jupyterlab->jupyter==1.1.1->-r https://raw.githubusercontent.com/teddylee777/langchain-kr/main/requirements.txt (line 39)) (2.0.5)\n",
            "Requirement already satisfied: jupyter-lsp>=2.0.0 in /usr/local/lib/python3.11/dist-packages (from jupyterlab->jupyter==1.1.1->-r https://raw.githubusercontent.com/teddylee777/langchain-kr/main/requirements.txt (line 39)) (2.2.6)\n",
            "Requirement already satisfied: debugpy>=1.0 in /usr/local/lib/python3.11/dist-packages (from ipykernel->jupyter==1.1.1->-r https://raw.githubusercontent.com/teddylee777/langchain-kr/main/requirements.txt (line 39)) (1.8.15)\n",
            "Requirement already satisfied: ipython>=7.23.1 in /usr/local/lib/python3.11/dist-packages (from ipykernel->jupyter==1.1.1->-r https://raw.githubusercontent.com/teddylee777/langchain-kr/main/requirements.txt (line 39)) (7.34.0)\n",
            "Requirement already satisfied: matplotlib-inline>=0.1 in /usr/local/lib/python3.11/dist-packages (from ipykernel->jupyter==1.1.1->-r https://raw.githubusercontent.com/teddylee777/langchain-kr/main/requirements.txt (line 39)) (0.1.7)\n",
            "Requirement already satisfied: babel>=2.10 in /usr/local/lib/python3.11/dist-packages (from jupyterlab-server<3,>=2.27.1->notebook==7.3.3->-r https://raw.githubusercontent.com/teddylee777/langchain-kr/main/requirements.txt (line 40)) (2.17.0)\n",
            "Requirement already satisfied: json5>=0.9.0 in /usr/local/lib/python3.11/dist-packages (from jupyterlab-server<3,>=2.27.1->notebook==7.3.3->-r https://raw.githubusercontent.com/teddylee777/langchain-kr/main/requirements.txt (line 40)) (0.12.0)\n",
            "Requirement already satisfied: requests-oauthlib in /usr/local/lib/python3.11/dist-packages (from kubernetes>=28.1.0->chromadb==0.6.3->-r https://raw.githubusercontent.com/teddylee777/langchain-kr/main/requirements.txt (line 29)) (2.0.0)\n",
            "Requirement already satisfied: oauthlib>=3.2.2 in /usr/local/lib/python3.11/dist-packages (from kubernetes>=28.1.0->chromadb==0.6.3->-r https://raw.githubusercontent.com/teddylee777/langchain-kr/main/requirements.txt (line 29)) (3.3.1)\n",
            "Requirement already satisfied: durationpy>=0.7 in /usr/local/lib/python3.11/dist-packages (from kubernetes>=28.1.0->chromadb==0.6.3->-r https://raw.githubusercontent.com/teddylee777/langchain-kr/main/requirements.txt (line 29)) (0.10)\n",
            "Requirement already satisfied: ormsgpack>=1.10.0 in /usr/local/lib/python3.11/dist-packages (from langgraph-checkpoint<3.0.0,>=2.0.10->langgraph==0.3.18->-r https://raw.githubusercontent.com/teddylee777/langchain-kr/main/requirements.txt (line 17)) (1.10.0)\n",
            "Requirement already satisfied: llama-cloud==0.1.19 in /usr/local/lib/python3.11/dist-packages (from llama-cloud-services>=0.6.4->llama-parse==0.6.4.post1->-r https://raw.githubusercontent.com/teddylee777/langchain-kr/main/requirements.txt (line 62)) (0.1.19)\n",
            "Requirement already satisfied: platformdirs<5.0.0,>=4.3.7 in /usr/local/lib/python3.11/dist-packages (from llama-cloud-services>=0.6.4->llama-parse==0.6.4.post1->-r https://raw.githubusercontent.com/teddylee777/langchain-kr/main/requirements.txt (line 62)) (4.3.8)\n",
            "Requirement already satisfied: bleach!=5.0.0 in /usr/local/lib/python3.11/dist-packages (from bleach[css]!=5.0.0->nbconvert->jupyter==1.1.1->-r https://raw.githubusercontent.com/teddylee777/langchain-kr/main/requirements.txt (line 39)) (6.2.0)\n",
            "Requirement already satisfied: defusedxml in /usr/local/lib/python3.11/dist-packages (from nbconvert->jupyter==1.1.1->-r https://raw.githubusercontent.com/teddylee777/langchain-kr/main/requirements.txt (line 39)) (0.7.1)\n",
            "Requirement already satisfied: jupyterlab-pygments in /usr/local/lib/python3.11/dist-packages (from nbconvert->jupyter==1.1.1->-r https://raw.githubusercontent.com/teddylee777/langchain-kr/main/requirements.txt (line 39)) (0.3.0)\n",
            "Requirement already satisfied: mistune<4,>=2.0.3 in /usr/local/lib/python3.11/dist-packages (from nbconvert->jupyter==1.1.1->-r https://raw.githubusercontent.com/teddylee777/langchain-kr/main/requirements.txt (line 39)) (3.1.3)\n",
            "Requirement already satisfied: nbclient>=0.5.0 in /usr/local/lib/python3.11/dist-packages (from nbconvert->jupyter==1.1.1->-r https://raw.githubusercontent.com/teddylee777/langchain-kr/main/requirements.txt (line 39)) (0.10.2)\n",
            "Requirement already satisfied: pandocfilters>=1.4.1 in /usr/local/lib/python3.11/dist-packages (from nbconvert->jupyter==1.1.1->-r https://raw.githubusercontent.com/teddylee777/langchain-kr/main/requirements.txt (line 39)) (1.5.1)\n",
            "Requirement already satisfied: pygments>=2.4.1 in /usr/local/lib/python3.11/dist-packages (from nbconvert->jupyter==1.1.1->-r https://raw.githubusercontent.com/teddylee777/langchain-kr/main/requirements.txt (line 39)) (2.19.2)\n",
            "Requirement already satisfied: coloredlogs in /usr/local/lib/python3.11/dist-packages (from onnxruntime>=1.14.1->chromadb==0.6.3->-r https://raw.githubusercontent.com/teddylee777/langchain-kr/main/requirements.txt (line 29)) (15.0.1)\n",
            "Requirement already satisfied: flatbuffers in /usr/local/lib/python3.11/dist-packages (from onnxruntime>=1.14.1->chromadb==0.6.3->-r https://raw.githubusercontent.com/teddylee777/langchain-kr/main/requirements.txt (line 29)) (25.2.10)\n",
            "Requirement already satisfied: importlib-metadata<=8.4.0,>=6.0 in /usr/local/lib/python3.11/dist-packages (from opentelemetry-api>=1.2.0->chromadb==0.6.3->-r https://raw.githubusercontent.com/teddylee777/langchain-kr/main/requirements.txt (line 29)) (8.4.0)\n",
            "Requirement already satisfied: googleapis-common-protos~=1.52 in /usr/local/lib/python3.11/dist-packages (from opentelemetry-exporter-otlp-proto-grpc>=1.2.0->chromadb==0.6.3->-r https://raw.githubusercontent.com/teddylee777/langchain-kr/main/requirements.txt (line 29)) (1.70.0)\n",
            "Requirement already satisfied: opentelemetry-exporter-otlp-proto-common==1.27.0 in /usr/local/lib/python3.11/dist-packages (from opentelemetry-exporter-otlp-proto-grpc>=1.2.0->chromadb==0.6.3->-r https://raw.githubusercontent.com/teddylee777/langchain-kr/main/requirements.txt (line 29)) (1.27.0)\n",
            "Requirement already satisfied: opentelemetry-proto==1.27.0 in /usr/local/lib/python3.11/dist-packages (from opentelemetry-exporter-otlp-proto-grpc>=1.2.0->chromadb==0.6.3->-r https://raw.githubusercontent.com/teddylee777/langchain-kr/main/requirements.txt (line 29)) (1.27.0)\n",
            "Requirement already satisfied: opentelemetry-instrumentation-asgi==0.48b0 in /usr/local/lib/python3.11/dist-packages (from opentelemetry-instrumentation-fastapi>=0.41b0->chromadb==0.6.3->-r https://raw.githubusercontent.com/teddylee777/langchain-kr/main/requirements.txt (line 29)) (0.48b0)\n",
            "Requirement already satisfied: opentelemetry-instrumentation==0.48b0 in /usr/local/lib/python3.11/dist-packages (from opentelemetry-instrumentation-fastapi>=0.41b0->chromadb==0.6.3->-r https://raw.githubusercontent.com/teddylee777/langchain-kr/main/requirements.txt (line 29)) (0.48b0)\n",
            "Requirement already satisfied: opentelemetry-semantic-conventions==0.48b0 in /usr/local/lib/python3.11/dist-packages (from opentelemetry-instrumentation-fastapi>=0.41b0->chromadb==0.6.3->-r https://raw.githubusercontent.com/teddylee777/langchain-kr/main/requirements.txt (line 29)) (0.48b0)\n",
            "Requirement already satisfied: opentelemetry-util-http==0.48b0 in /usr/local/lib/python3.11/dist-packages (from opentelemetry-instrumentation-fastapi>=0.41b0->chromadb==0.6.3->-r https://raw.githubusercontent.com/teddylee777/langchain-kr/main/requirements.txt (line 29)) (0.48b0)\n",
            "Requirement already satisfied: asgiref~=3.0 in /usr/local/lib/python3.11/dist-packages (from opentelemetry-instrumentation-asgi==0.48b0->opentelemetry-instrumentation-fastapi>=0.41b0->chromadb==0.6.3->-r https://raw.githubusercontent.com/teddylee777/langchain-kr/main/requirements.txt (line 29)) (3.9.1)\n",
            "Requirement already satisfied: typing-inspection>=0.4.0 in /usr/local/lib/python3.11/dist-packages (from pydantic-settings<3.0.0,>=2.4.0->langchain-community==0.3.20->-r https://raw.githubusercontent.com/teddylee777/langchain-kr/main/requirements.txt (line 4)) (0.4.1)\n",
            "Requirement already satisfied: dnspython<3.0.0,>=1.16.0 in /usr/local/lib/python3.11/dist-packages (from pymongo<5.0.0,>=4.5.0->langchain-azure-ai==0.1.2->-r https://raw.githubusercontent.com/teddylee777/langchain-kr/main/requirements.txt (line 14)) (2.7.0)\n",
            "Requirement already satisfied: markdown-it-py>=2.2.0 in /usr/local/lib/python3.11/dist-packages (from rich>=10.11.0->chromadb==0.6.3->-r https://raw.githubusercontent.com/teddylee777/langchain-kr/main/requirements.txt (line 29)) (3.0.0)\n",
            "Requirement already satisfied: shellingham>=1.3.0 in /usr/local/lib/python3.11/dist-packages (from typer>=0.9.0->chromadb==0.6.3->-r https://raw.githubusercontent.com/teddylee777/langchain-kr/main/requirements.txt (line 29)) (1.5.4)\n",
            "Requirement already satisfied: httptools>=0.6.3 in /usr/local/lib/python3.11/dist-packages (from uvicorn[standard]>=0.18.3->chromadb==0.6.3->-r https://raw.githubusercontent.com/teddylee777/langchain-kr/main/requirements.txt (line 29)) (0.6.4)\n",
            "Requirement already satisfied: uvloop>=0.15.1 in /usr/local/lib/python3.11/dist-packages (from uvicorn[standard]>=0.18.3->chromadb==0.6.3->-r https://raw.githubusercontent.com/teddylee777/langchain-kr/main/requirements.txt (line 29)) (0.21.0)\n",
            "Requirement already satisfied: watchfiles>=0.13 in /usr/local/lib/python3.11/dist-packages (from uvicorn[standard]>=0.18.3->chromadb==0.6.3->-r https://raw.githubusercontent.com/teddylee777/langchain-kr/main/requirements.txt (line 29)) (1.1.0)\n",
            "Requirement already satisfied: websockets>=10.4 in /usr/local/lib/python3.11/dist-packages (from uvicorn[standard]>=0.18.3->chromadb==0.6.3->-r https://raw.githubusercontent.com/teddylee777/langchain-kr/main/requirements.txt (line 29)) (15.0.1)\n",
            "Requirement already satisfied: dill<0.3.9,>=0.3.0 in /usr/local/lib/python3.11/dist-packages (from datasets->ragas==0.2.14->-r https://raw.githubusercontent.com/teddylee777/langchain-kr/main/requirements.txt (line 52)) (0.3.8)\n",
            "Requirement already satisfied: xxhash in /usr/local/lib/python3.11/dist-packages (from datasets->ragas==0.2.14->-r https://raw.githubusercontent.com/teddylee777/langchain-kr/main/requirements.txt (line 52)) (3.5.0)\n",
            "Requirement already satisfied: multiprocess<0.70.17 in /usr/local/lib/python3.11/dist-packages (from datasets->ragas==0.2.14->-r https://raw.githubusercontent.com/teddylee777/langchain-kr/main/requirements.txt (line 52)) (0.70.16)\n",
            "Requirement already satisfied: wcwidth in /usr/local/lib/python3.11/dist-packages (from ftfy->open-clip-torch==2.31.0->-r https://raw.githubusercontent.com/teddylee777/langchain-kr/main/requirements.txt (line 45)) (0.2.13)\n",
            "Requirement already satisfied: webencodings in /usr/local/lib/python3.11/dist-packages (from html5lib->unstructured==0.17.0->-r https://raw.githubusercontent.com/teddylee777/langchain-kr/main/requirements.txt (line 53)) (0.5.1)\n",
            "Requirement already satisfied: ipython-genutils~=0.2.0 in /usr/local/lib/python3.11/dist-packages (from ipywidgets->jupyter==1.1.1->-r https://raw.githubusercontent.com/teddylee777/langchain-kr/main/requirements.txt (line 39)) (0.2.0)\n",
            "Requirement already satisfied: widgetsnbextension~=3.6.0 in /usr/local/lib/python3.11/dist-packages (from ipywidgets->jupyter==1.1.1->-r https://raw.githubusercontent.com/teddylee777/langchain-kr/main/requirements.txt (line 39)) (3.6.10)\n",
            "Requirement already satisfied: jupyterlab-widgets>=1.0.0 in /usr/local/lib/python3.11/dist-packages (from ipywidgets->jupyter==1.1.1->-r https://raw.githubusercontent.com/teddylee777/langchain-kr/main/requirements.txt (line 39)) (3.0.15)\n",
            "Requirement already satisfied: prompt-toolkit!=3.0.0,!=3.0.1,<3.1.0,>=2.0.0 in /usr/local/lib/python3.11/dist-packages (from jupyter-console->jupyter==1.1.1->-r https://raw.githubusercontent.com/teddylee777/langchain-kr/main/requirements.txt (line 39)) (3.0.51)\n",
            "Requirement already satisfied: grpc-gateway-protoc-gen-openapiv2==0.1.0 in /usr/local/lib/python3.11/dist-packages (from pinecone-client[grpc]->langchain-teddynote==0.3.44->-r https://raw.githubusercontent.com/teddylee777/langchain-kr/main/requirements.txt (line 15)) (0.1.0)\n",
            "Requirement already satisfied: lz4>=3.1.3 in /usr/local/lib/python3.11/dist-packages (from pinecone-client[grpc]->langchain-teddynote==0.3.44->-r https://raw.githubusercontent.com/teddylee777/langchain-kr/main/requirements.txt (line 15)) (4.4.4)\n",
            "Requirement already satisfied: aiofiles>=24.1.0 in /usr/local/lib/python3.11/dist-packages (from unstructured-client->unstructured==0.17.0->-r https://raw.githubusercontent.com/teddylee777/langchain-kr/main/requirements.txt (line 53)) (24.1.0)\n",
            "Requirement already satisfied: eval-type-backport>=0.2.0 in /usr/local/lib/python3.11/dist-packages (from unstructured-client->unstructured==0.17.0->-r https://raw.githubusercontent.com/teddylee777/langchain-kr/main/requirements.txt (line 53)) (0.2.2)\n",
            "Requirement already satisfied: argon2-cffi-bindings in /usr/local/lib/python3.11/dist-packages (from argon2-cffi>=21.1->jupyter-server<3,>=2.4.0->notebook==7.3.3->-r https://raw.githubusercontent.com/teddylee777/langchain-kr/main/requirements.txt (line 40)) (25.1.0)\n",
            "Requirement already satisfied: tinycss2<1.5,>=1.1.0 in /usr/local/lib/python3.11/dist-packages (from bleach[css]!=5.0.0->nbconvert->jupyter==1.1.1->-r https://raw.githubusercontent.com/teddylee777/langchain-kr/main/requirements.txt (line 39)) (1.4.0)\n",
            "Requirement already satisfied: pycparser in /usr/local/lib/python3.11/dist-packages (from cffi>=1.12->cryptography>=36.0.0->pdfminer-six==20231228->-r https://raw.githubusercontent.com/teddylee777/langchain-kr/main/requirements.txt (line 34)) (2.22)\n",
            "Requirement already satisfied: smmap<6,>=3.0.1 in /usr/local/lib/python3.11/dist-packages (from gitdb<5,>=4.0.1->gitpython!=3.1.19,<4,>=3.0.7->streamlit==1.43.2->-r https://raw.githubusercontent.com/teddylee777/langchain-kr/main/requirements.txt (line 38)) (5.0.2)\n",
            "Requirement already satisfied: grpcio-status<2.0dev,>=1.33.2 in /usr/local/lib/python3.11/dist-packages (from google-api-core[grpc]!=2.0.*,!=2.1.*,!=2.10.*,!=2.2.*,!=2.3.*,!=2.4.*,!=2.5.*,!=2.6.*,!=2.7.*,!=2.8.*,!=2.9.*,<3.0.0,>=1.34.1->google-ai-generativelanguage<0.7.0,>=0.6.16->langchain-google-genai==2.1.0->-r https://raw.githubusercontent.com/teddylee777/langchain-kr/main/requirements.txt (line 12)) (1.48.2)\n",
            "Requirement already satisfied: pyasn1-modules>=0.2.1 in /usr/local/lib/python3.11/dist-packages (from google-auth!=2.24.0,!=2.25.0,<3.0.0,>=2.14.1->google-ai-generativelanguage<0.7.0,>=0.6.16->langchain-google-genai==2.1.0->-r https://raw.githubusercontent.com/teddylee777/langchain-kr/main/requirements.txt (line 12)) (0.4.2)\n",
            "Requirement already satisfied: rsa<5,>=3.1.4 in /usr/local/lib/python3.11/dist-packages (from google-auth!=2.24.0,!=2.25.0,<3.0.0,>=2.14.1->google-ai-generativelanguage<0.7.0,>=0.6.16->langchain-google-genai==2.1.0->-r https://raw.githubusercontent.com/teddylee777/langchain-kr/main/requirements.txt (line 12)) (4.9.1)\n",
            "Requirement already satisfied: zipp>=0.5 in /usr/local/lib/python3.11/dist-packages (from importlib-metadata<=8.4.0,>=6.0->opentelemetry-api>=1.2.0->chromadb==0.6.3->-r https://raw.githubusercontent.com/teddylee777/langchain-kr/main/requirements.txt (line 29)) (3.23.0)\n",
            "Requirement already satisfied: jedi>=0.16 in /usr/local/lib/python3.11/dist-packages (from ipython>=7.23.1->ipykernel->jupyter==1.1.1->-r https://raw.githubusercontent.com/teddylee777/langchain-kr/main/requirements.txt (line 39)) (0.19.2)\n",
            "Requirement already satisfied: decorator in /usr/local/lib/python3.11/dist-packages (from ipython>=7.23.1->ipykernel->jupyter==1.1.1->-r https://raw.githubusercontent.com/teddylee777/langchain-kr/main/requirements.txt (line 39)) (4.4.2)\n",
            "Requirement already satisfied: pickleshare in /usr/local/lib/python3.11/dist-packages (from ipython>=7.23.1->ipykernel->jupyter==1.1.1->-r https://raw.githubusercontent.com/teddylee777/langchain-kr/main/requirements.txt (line 39)) (0.7.5)\n",
            "Requirement already satisfied: backcall in /usr/local/lib/python3.11/dist-packages (from ipython>=7.23.1->ipykernel->jupyter==1.1.1->-r https://raw.githubusercontent.com/teddylee777/langchain-kr/main/requirements.txt (line 39)) (0.2.0)\n",
            "Requirement already satisfied: pexpect>4.3 in /usr/local/lib/python3.11/dist-packages (from ipython>=7.23.1->ipykernel->jupyter==1.1.1->-r https://raw.githubusercontent.com/teddylee777/langchain-kr/main/requirements.txt (line 39)) (4.9.0)\n",
            "Requirement already satisfied: jsonschema-specifications>=2023.03.6 in /usr/local/lib/python3.11/dist-packages (from jsonschema>=3.0->altair<6,>=4.0->streamlit==1.43.2->-r https://raw.githubusercontent.com/teddylee777/langchain-kr/main/requirements.txt (line 38)) (2025.4.1)\n",
            "Requirement already satisfied: referencing>=0.28.4 in /usr/local/lib/python3.11/dist-packages (from jsonschema>=3.0->altair<6,>=4.0->streamlit==1.43.2->-r https://raw.githubusercontent.com/teddylee777/langchain-kr/main/requirements.txt (line 38)) (0.36.2)\n",
            "Requirement already satisfied: rpds-py>=0.7.1 in /usr/local/lib/python3.11/dist-packages (from jsonschema>=3.0->altair<6,>=4.0->streamlit==1.43.2->-r https://raw.githubusercontent.com/teddylee777/langchain-kr/main/requirements.txt (line 38)) (0.26.0)\n",
            "Requirement already satisfied: python-json-logger>=2.0.4 in /usr/local/lib/python3.11/dist-packages (from jupyter-events>=0.11.0->jupyter-server<3,>=2.4.0->notebook==7.3.3->-r https://raw.githubusercontent.com/teddylee777/langchain-kr/main/requirements.txt (line 40)) (3.3.0)\n",
            "Requirement already satisfied: rfc3339-validator in /usr/local/lib/python3.11/dist-packages (from jupyter-events>=0.11.0->jupyter-server<3,>=2.4.0->notebook==7.3.3->-r https://raw.githubusercontent.com/teddylee777/langchain-kr/main/requirements.txt (line 40)) (0.1.4)\n",
            "Requirement already satisfied: rfc3986-validator>=0.1.1 in /usr/local/lib/python3.11/dist-packages (from jupyter-events>=0.11.0->jupyter-server<3,>=2.4.0->notebook==7.3.3->-r https://raw.githubusercontent.com/teddylee777/langchain-kr/main/requirements.txt (line 40)) (0.1.1)\n",
            "Requirement already satisfied: mdurl~=0.1 in /usr/local/lib/python3.11/dist-packages (from markdown-it-py>=2.2.0->rich>=10.11.0->chromadb==0.6.3->-r https://raw.githubusercontent.com/teddylee777/langchain-kr/main/requirements.txt (line 29)) (0.1.2)\n",
            "Requirement already satisfied: PyJWT<3,>=1.0.0 in /usr/local/lib/python3.11/dist-packages (from PyJWT[crypto]<3,>=1.0.0->msal>=1.30.0->azure-identity<2.0.0,>=1.15.0->langchain-azure-ai==0.1.2->-r https://raw.githubusercontent.com/teddylee777/langchain-kr/main/requirements.txt (line 14)) (2.10.1)\n",
            "Requirement already satisfied: fastjsonschema>=2.15 in /usr/local/lib/python3.11/dist-packages (from nbformat>=5.3.0->jupyter-server<3,>=2.4.0->notebook==7.3.3->-r https://raw.githubusercontent.com/teddylee777/langchain-kr/main/requirements.txt (line 40)) (2.21.1)\n",
            "Requirement already satisfied: ptyprocess in /usr/local/lib/python3.11/dist-packages (from terminado>=0.8.3->jupyter-server<3,>=2.4.0->notebook==7.3.3->-r https://raw.githubusercontent.com/teddylee777/langchain-kr/main/requirements.txt (line 40)) (0.7.0)\n",
            "Requirement already satisfied: humanfriendly>=9.1 in /usr/local/lib/python3.11/dist-packages (from coloredlogs->onnxruntime>=1.14.1->chromadb==0.6.3->-r https://raw.githubusercontent.com/teddylee777/langchain-kr/main/requirements.txt (line 29)) (10.0)\n",
            "Requirement already satisfied: parso<0.9.0,>=0.8.4 in /usr/local/lib/python3.11/dist-packages (from jedi>=0.16->ipython>=7.23.1->ipykernel->jupyter==1.1.1->-r https://raw.githubusercontent.com/teddylee777/langchain-kr/main/requirements.txt (line 39)) (0.8.4)\n",
            "Requirement already satisfied: fqdn in /usr/local/lib/python3.11/dist-packages (from jsonschema[format-nongpl]>=4.18.0->jupyter-events>=0.11.0->jupyter-server<3,>=2.4.0->notebook==7.3.3->-r https://raw.githubusercontent.com/teddylee777/langchain-kr/main/requirements.txt (line 40)) (1.5.1)\n",
            "Requirement already satisfied: isoduration in /usr/local/lib/python3.11/dist-packages (from jsonschema[format-nongpl]>=4.18.0->jupyter-events>=0.11.0->jupyter-server<3,>=2.4.0->notebook==7.3.3->-r https://raw.githubusercontent.com/teddylee777/langchain-kr/main/requirements.txt (line 40)) (20.11.0)\n",
            "Requirement already satisfied: rfc3987-syntax>=1.1.0 in /usr/local/lib/python3.11/dist-packages (from jsonschema[format-nongpl]>=4.18.0->jupyter-events>=0.11.0->jupyter-server<3,>=2.4.0->notebook==7.3.3->-r https://raw.githubusercontent.com/teddylee777/langchain-kr/main/requirements.txt (line 40)) (1.1.0)\n",
            "Requirement already satisfied: uri-template in /usr/local/lib/python3.11/dist-packages (from jsonschema[format-nongpl]>=4.18.0->jupyter-events>=0.11.0->jupyter-server<3,>=2.4.0->notebook==7.3.3->-r https://raw.githubusercontent.com/teddylee777/langchain-kr/main/requirements.txt (line 40)) (1.3.0)\n",
            "Requirement already satisfied: webcolors>=24.6.0 in /usr/local/lib/python3.11/dist-packages (from jsonschema[format-nongpl]>=4.18.0->jupyter-events>=0.11.0->jupyter-server<3,>=2.4.0->notebook==7.3.3->-r https://raw.githubusercontent.com/teddylee777/langchain-kr/main/requirements.txt (line 40)) (24.11.1)\n",
            "Requirement already satisfied: pyasn1<0.7.0,>=0.6.1 in /usr/local/lib/python3.11/dist-packages (from pyasn1-modules>=0.2.1->google-auth!=2.24.0,!=2.25.0,<3.0.0,>=2.14.1->google-ai-generativelanguage<0.7.0,>=0.6.16->langchain-google-genai==2.1.0->-r https://raw.githubusercontent.com/teddylee777/langchain-kr/main/requirements.txt (line 12)) (0.6.1)\n",
            "Requirement already satisfied: arrow>=0.15.0 in /usr/local/lib/python3.11/dist-packages (from isoduration->jsonschema[format-nongpl]>=4.18.0->jupyter-events>=0.11.0->jupyter-server<3,>=2.4.0->notebook==7.3.3->-r https://raw.githubusercontent.com/teddylee777/langchain-kr/main/requirements.txt (line 40)) (1.3.0)\n",
            "Requirement already satisfied: types-python-dateutil>=2.8.10 in /usr/local/lib/python3.11/dist-packages (from arrow>=0.15.0->isoduration->jsonschema[format-nongpl]>=4.18.0->jupyter-events>=0.11.0->jupyter-server<3,>=2.4.0->notebook==7.3.3->-r https://raw.githubusercontent.com/teddylee777/langchain-kr/main/requirements.txt (line 40)) (2.9.0.20250809)\n"
          ]
        }
      ],
      "source": [
        "# LangChain 업데이트\n",
        "!pip install -r https://raw.githubusercontent.com/teddylee777/langchain-kr/main/requirements.txt"
      ]
    },
    {
      "cell_type": "code",
      "source": [
        "!pip install python-dotenv"
      ],
      "metadata": {
        "colab": {
          "base_uri": "https://localhost:8080/"
        },
        "id": "jZMfO_6MqrH6",
        "outputId": "a3b17d1a-f90a-4c51-9b92-f6aff1853cae"
      },
      "execution_count": 4,
      "outputs": [
        {
          "output_type": "stream",
          "name": "stdout",
          "text": [
            "Requirement already satisfied: python-dotenv in /usr/local/lib/python3.11/dist-packages (1.0.1)\n"
          ]
        }
      ]
    },
    {
      "cell_type": "code",
      "execution_count": 5,
      "metadata": {
        "colab": {
          "base_uri": "https://localhost:8080/"
        },
        "id": "g3cyFGkVe3wj",
        "outputId": "331cdb99-08ff-44cf-ec12-66d1cc1a5b4e"
      },
      "outputs": [
        {
          "output_type": "execute_result",
          "data": {
            "text/plain": [
              "True"
            ]
          },
          "metadata": {},
          "execution_count": 5
        }
      ],
      "source": [
        "# API KEY를 환경변수로 관리하기 위한 설정 파일\n",
        "from dotenv import load_dotenv\n",
        "\n",
        "# API KEY 정보로드\n",
        "load_dotenv()"
      ]
    },
    {
      "cell_type": "markdown",
      "metadata": {
        "id": "0JoNFGnve3wk"
      },
      "source": [
        "API Key 가 잘 설정되었는지 확인합니다.\n"
      ]
    },
    {
      "cell_type": "code",
      "execution_count": null,
      "metadata": {
        "id": "52NjJJANe3wk"
      },
      "outputs": [],
      "source": [
        "import os\n",
        "\n",
        "print(f\"[API KEY]\\n{os.environ['OPENAI_API_KEY'][:-15]}\" + \"*\" * 15)"
      ]
    },
    {
      "cell_type": "markdown",
      "metadata": {
        "id": "ejPnLaPIe3wl"
      },
      "source": [
        "설치된 LangChain 버전을 확인합니다."
      ]
    },
    {
      "cell_type": "code",
      "execution_count": 7,
      "metadata": {
        "colab": {
          "base_uri": "https://localhost:8080/"
        },
        "id": "SVqsiwFse3wm",
        "outputId": "43233f95-681a-4e2a-ef9a-0b3e799341e9"
      },
      "outputs": [
        {
          "output_type": "stream",
          "name": "stdout",
          "text": [
            "[LangChain 관련 패키지 버전]\n",
            "langchain: 0.3.21\n",
            "langchain-core: 0.3.46\n",
            "langchain-experimental: 0.3.4\n",
            "langchain-community: 0.3.20\n",
            "langchain-openai: 0.3.9\n",
            "langchain-teddynote: 0.3.44\n",
            "langchain-huggingface: 0.1.2\n",
            "langchain-google-genai: 2.1.0\n",
            "langchain-anthropic: 0.3.10\n",
            "langchain-cohere: 0.4.3\n",
            "langchain-chroma: 0.2.2\n",
            "langchain-elasticsearch: 0.3.2\n",
            "langchain-upstage: 설치되지 않음\n",
            "langchain-cohere: 0.4.3\n",
            "langchain-milvus: 0.1.8\n",
            "langchain-text-splitters: 0.3.7\n"
          ]
        }
      ],
      "source": [
        "from importlib.metadata import version\n",
        "\n",
        "print(\"[LangChain 관련 패키지 버전]\")\n",
        "for package_name in [\n",
        "    \"langchain\",\n",
        "    \"langchain-core\",\n",
        "    \"langchain-experimental\",\n",
        "    \"langchain-community\",\n",
        "    \"langchain-openai\",\n",
        "    \"langchain-teddynote\",\n",
        "    \"langchain-huggingface\",\n",
        "    \"langchain-google-genai\",\n",
        "    \"langchain-anthropic\",\n",
        "    \"langchain-cohere\",\n",
        "    \"langchain-chroma\",\n",
        "    \"langchain-elasticsearch\",\n",
        "    \"langchain-upstage\",\n",
        "    \"langchain-cohere\",\n",
        "    \"langchain-milvus\",\n",
        "    \"langchain-text-splitters\",\n",
        "]:\n",
        "    try:\n",
        "        package_version = version(package_name)\n",
        "        print(f\"{package_name}: {package_version}\")\n",
        "    except ImportError:\n",
        "        print(f\"{package_name}: 설치되지 않음\")"
      ]
    },
    {
      "cell_type": "code",
      "source": [
        "!pip install langchain-elasticsearch"
      ],
      "metadata": {
        "colab": {
          "base_uri": "https://localhost:8080/"
        },
        "id": "fNxqX0o_rmDm",
        "outputId": "92a4301b-c3de-4cac-fe52-291dbe9075eb"
      },
      "execution_count": 8,
      "outputs": [
        {
          "output_type": "stream",
          "name": "stdout",
          "text": [
            "Requirement already satisfied: langchain-elasticsearch in /usr/local/lib/python3.11/dist-packages (0.3.2)\n",
            "Requirement already satisfied: elasticsearch<9.0.0,>=8.13.1 in /usr/local/lib/python3.11/dist-packages (from elasticsearch[vectorstore-mmr]<9.0.0,>=8.13.1->langchain-elasticsearch) (8.19.0)\n",
            "Requirement already satisfied: langchain-core<0.4.0,>=0.3.0 in /usr/local/lib/python3.11/dist-packages (from langchain-elasticsearch) (0.3.46)\n",
            "Requirement already satisfied: elastic-transport<9,>=8.15.1 in /usr/local/lib/python3.11/dist-packages (from elasticsearch<9.0.0,>=8.13.1->elasticsearch[vectorstore-mmr]<9.0.0,>=8.13.1->langchain-elasticsearch) (8.17.1)\n",
            "Requirement already satisfied: python-dateutil in /usr/local/lib/python3.11/dist-packages (from elasticsearch<9.0.0,>=8.13.1->elasticsearch[vectorstore-mmr]<9.0.0,>=8.13.1->langchain-elasticsearch) (2.9.0.post0)\n",
            "Requirement already satisfied: typing-extensions in /usr/local/lib/python3.11/dist-packages (from elasticsearch<9.0.0,>=8.13.1->elasticsearch[vectorstore-mmr]<9.0.0,>=8.13.1->langchain-elasticsearch) (4.14.1)\n",
            "Requirement already satisfied: numpy>=1 in /usr/local/lib/python3.11/dist-packages (from elasticsearch[vectorstore-mmr]<9.0.0,>=8.13.1->langchain-elasticsearch) (1.26.4)\n",
            "Requirement already satisfied: simsimd>=3 in /usr/local/lib/python3.11/dist-packages (from elasticsearch[vectorstore-mmr]<9.0.0,>=8.13.1->langchain-elasticsearch) (6.5.0)\n",
            "Requirement already satisfied: langsmith<0.4,>=0.1.125 in /usr/local/lib/python3.11/dist-packages (from langchain-core<0.4.0,>=0.3.0->langchain-elasticsearch) (0.3.18)\n",
            "Requirement already satisfied: tenacity!=8.4.0,<10.0.0,>=8.1.0 in /usr/local/lib/python3.11/dist-packages (from langchain-core<0.4.0,>=0.3.0->langchain-elasticsearch) (8.5.0)\n",
            "Requirement already satisfied: jsonpatch<2.0,>=1.33 in /usr/local/lib/python3.11/dist-packages (from langchain-core<0.4.0,>=0.3.0->langchain-elasticsearch) (1.33)\n",
            "Requirement already satisfied: PyYAML>=5.3 in /usr/local/lib/python3.11/dist-packages (from langchain-core<0.4.0,>=0.3.0->langchain-elasticsearch) (6.0.2)\n",
            "Requirement already satisfied: packaging<25,>=23.2 in /usr/local/lib/python3.11/dist-packages (from langchain-core<0.4.0,>=0.3.0->langchain-elasticsearch) (24.2)\n",
            "Requirement already satisfied: pydantic<3.0.0,>=2.5.2 in /usr/local/lib/python3.11/dist-packages (from langchain-core<0.4.0,>=0.3.0->langchain-elasticsearch) (2.10.6)\n",
            "Requirement already satisfied: urllib3<3,>=1.26.2 in /usr/local/lib/python3.11/dist-packages (from elastic-transport<9,>=8.15.1->elasticsearch<9.0.0,>=8.13.1->elasticsearch[vectorstore-mmr]<9.0.0,>=8.13.1->langchain-elasticsearch) (2.5.0)\n",
            "Requirement already satisfied: certifi in /usr/local/lib/python3.11/dist-packages (from elastic-transport<9,>=8.15.1->elasticsearch<9.0.0,>=8.13.1->elasticsearch[vectorstore-mmr]<9.0.0,>=8.13.1->langchain-elasticsearch) (2025.8.3)\n",
            "Requirement already satisfied: jsonpointer>=1.9 in /usr/local/lib/python3.11/dist-packages (from jsonpatch<2.0,>=1.33->langchain-core<0.4.0,>=0.3.0->langchain-elasticsearch) (3.0.0)\n",
            "Requirement already satisfied: httpx<1,>=0.23.0 in /usr/local/lib/python3.11/dist-packages (from langsmith<0.4,>=0.1.125->langchain-core<0.4.0,>=0.3.0->langchain-elasticsearch) (0.28.1)\n",
            "Requirement already satisfied: orjson<4.0.0,>=3.9.14 in /usr/local/lib/python3.11/dist-packages (from langsmith<0.4,>=0.1.125->langchain-core<0.4.0,>=0.3.0->langchain-elasticsearch) (3.11.1)\n",
            "Requirement already satisfied: requests<3,>=2 in /usr/local/lib/python3.11/dist-packages (from langsmith<0.4,>=0.1.125->langchain-core<0.4.0,>=0.3.0->langchain-elasticsearch) (2.32.3)\n",
            "Requirement already satisfied: requests-toolbelt<2.0.0,>=1.0.0 in /usr/local/lib/python3.11/dist-packages (from langsmith<0.4,>=0.1.125->langchain-core<0.4.0,>=0.3.0->langchain-elasticsearch) (1.0.0)\n",
            "Requirement already satisfied: zstandard<0.24.0,>=0.23.0 in /usr/local/lib/python3.11/dist-packages (from langsmith<0.4,>=0.1.125->langchain-core<0.4.0,>=0.3.0->langchain-elasticsearch) (0.23.0)\n",
            "Requirement already satisfied: annotated-types>=0.6.0 in /usr/local/lib/python3.11/dist-packages (from pydantic<3.0.0,>=2.5.2->langchain-core<0.4.0,>=0.3.0->langchain-elasticsearch) (0.7.0)\n",
            "Requirement already satisfied: pydantic-core==2.27.2 in /usr/local/lib/python3.11/dist-packages (from pydantic<3.0.0,>=2.5.2->langchain-core<0.4.0,>=0.3.0->langchain-elasticsearch) (2.27.2)\n",
            "Requirement already satisfied: six>=1.5 in /usr/local/lib/python3.11/dist-packages (from python-dateutil->elasticsearch<9.0.0,>=8.13.1->elasticsearch[vectorstore-mmr]<9.0.0,>=8.13.1->langchain-elasticsearch) (1.17.0)\n",
            "Requirement already satisfied: anyio in /usr/local/lib/python3.11/dist-packages (from httpx<1,>=0.23.0->langsmith<0.4,>=0.1.125->langchain-core<0.4.0,>=0.3.0->langchain-elasticsearch) (4.10.0)\n",
            "Requirement already satisfied: httpcore==1.* in /usr/local/lib/python3.11/dist-packages (from httpx<1,>=0.23.0->langsmith<0.4,>=0.1.125->langchain-core<0.4.0,>=0.3.0->langchain-elasticsearch) (1.0.9)\n",
            "Requirement already satisfied: idna in /usr/local/lib/python3.11/dist-packages (from httpx<1,>=0.23.0->langsmith<0.4,>=0.1.125->langchain-core<0.4.0,>=0.3.0->langchain-elasticsearch) (3.10)\n",
            "Requirement already satisfied: h11>=0.16 in /usr/local/lib/python3.11/dist-packages (from httpcore==1.*->httpx<1,>=0.23.0->langsmith<0.4,>=0.1.125->langchain-core<0.4.0,>=0.3.0->langchain-elasticsearch) (0.16.0)\n",
            "Requirement already satisfied: charset-normalizer<4,>=2 in /usr/local/lib/python3.11/dist-packages (from requests<3,>=2->langsmith<0.4,>=0.1.125->langchain-core<0.4.0,>=0.3.0->langchain-elasticsearch) (3.4.2)\n",
            "Requirement already satisfied: sniffio>=1.1 in /usr/local/lib/python3.11/dist-packages (from anyio->httpx<1,>=0.23.0->langsmith<0.4,>=0.1.125->langchain-core<0.4.0,>=0.3.0->langchain-elasticsearch) (1.3.1)\n"
          ]
        }
      ]
    },
    {
      "cell_type": "code",
      "execution_count": 12,
      "metadata": {
        "id": "xPHlz3jGgJr8",
        "outputId": "8f7e95a4-401d-4364-b8e7-623cdb8128d9",
        "colab": {
          "base_uri": "https://localhost:8080/"
        }
      },
      "outputs": [
        {
          "output_type": "execute_result",
          "data": {
            "text/plain": [
              "True"
            ]
          },
          "metadata": {},
          "execution_count": 12
        }
      ],
      "source": [
        "# API KEY를 환경변수로 관리하기 위한 설정 파일\n",
        "from dotenv import load_dotenv\n",
        "\n",
        "# API KEY 정보로드\n",
        "load_dotenv()"
      ]
    },
    {
      "cell_type": "code",
      "execution_count": 13,
      "metadata": {
        "id": "LL0afuaygJr-",
        "colab": {
          "base_uri": "https://localhost:8080/"
        },
        "outputId": "583873fe-5c3b-4257-886a-b1b986a04b55"
      },
      "outputs": [
        {
          "output_type": "stream",
          "name": "stdout",
          "text": [
            "\u001b[?25l   \u001b[90m━━━━━━━━━━━━━━━━━━━━━━━━━━━━━━━━━━━━━━━━\u001b[0m \u001b[32m0.0/50.6 kB\u001b[0m \u001b[31m?\u001b[0m eta \u001b[36m-:--:--\u001b[0m\r\u001b[2K   \u001b[90m━━━━━━━━━━━━━━━━━━━━━━━━━━━━━━━━━━━━━━━━\u001b[0m \u001b[32m50.6/50.6 kB\u001b[0m \u001b[31m3.1 MB/s\u001b[0m eta \u001b[36m0:00:00\u001b[0m\n",
            "\u001b[?25hLangSmith 추적을 시작합니다.\n",
            "[프로젝트명]\n",
            "LangChain_20250812\n"
          ]
        }
      ],
      "source": [
        "# LangSmith 추적을 설정합니다. https://smith.langchain.com\n",
        "!pip install -qU langchain-teddynote\n",
        "from langchain_teddynote import logging\n",
        "\n",
        "# 프로젝트 이름을 입력합니다.\n",
        "logging.langsmith(\"LangChain_20250812\")"
      ]
    },
    {
      "cell_type": "markdown",
      "metadata": {
        "id": "C6QMR1--gJr-"
      },
      "source": [
        "## 프롬프트 템플릿의 활용\n",
        "\n",
        "`PromptTemplate`\n",
        "\n",
        "- 사용자의 입력 변수를 사용하여 완전한 프롬프트 문자열을 만드는 데 사용되는 템플릿입니다\n",
        "- 사용법\n",
        "  - `template`: 템플릿 문자열입니다. 이 문자열 내에서 중괄호 `{}`는 변수를 나타냅니다.\n",
        "  - `input_variables`: 중괄호 안에 들어갈 변수의 이름을 리스트로 정의합니다.\n",
        "\n",
        "`input_variables`\n",
        "\n",
        "- input_variables는 PromptTemplate에서 사용되는 변수의 이름을 정의하는 리스트입니다."
      ]
    },
    {
      "cell_type": "code",
      "execution_count": 14,
      "metadata": {
        "id": "R1qNaAu4gJr-"
      },
      "outputs": [],
      "source": [
        "from langchain_teddynote.messages import stream_response  # 스트리밍 출력\n",
        "from langchain_core.prompts import PromptTemplate"
      ]
    },
    {
      "cell_type": "markdown",
      "metadata": {
        "id": "p5xFNpm7gJr-"
      },
      "source": [
        "`from_template()` 메소드를 사용하여 PromptTemplate 객체 생성\n"
      ]
    },
    {
      "cell_type": "code",
      "execution_count": 15,
      "metadata": {
        "id": "n4YDnU0XgJr_",
        "colab": {
          "base_uri": "https://localhost:8080/"
        },
        "outputId": "6480deff-266f-4675-bd42-79fe175e9d5a"
      },
      "outputs": [
        {
          "output_type": "execute_result",
          "data": {
            "text/plain": [
              "PromptTemplate(input_variables=['country'], input_types={}, partial_variables={}, template='{country}의 수도는 어디인가요?')"
            ]
          },
          "metadata": {},
          "execution_count": 15
        }
      ],
      "source": [
        "# template 정의\n",
        "template = \"{country}의 수도는 어디인가요?\"\n",
        "\n",
        "# from_template 메소드를 이용하여 PromptTemplate 객체 생성\n",
        "prompt_template = PromptTemplate.from_template(template)\n",
        "prompt_template"
      ]
    },
    {
      "cell_type": "code",
      "execution_count": 16,
      "metadata": {
        "id": "2KJZJZj4gJr_",
        "colab": {
          "base_uri": "https://localhost:8080/",
          "height": 35
        },
        "outputId": "f46dc99b-c1e8-4424-ccae-236b916a4725"
      },
      "outputs": [
        {
          "output_type": "execute_result",
          "data": {
            "text/plain": [
              "'대한민국의 수도는 어디인가요?'"
            ],
            "application/vnd.google.colaboratory.intrinsic+json": {
              "type": "string"
            }
          },
          "metadata": {},
          "execution_count": 16
        }
      ],
      "source": [
        "# prompt 생성\n",
        "prompt = prompt_template.format(country=\"대한민국\")\n",
        "prompt"
      ]
    },
    {
      "cell_type": "code",
      "execution_count": 17,
      "metadata": {
        "id": "NgVGfZMBgJr_",
        "colab": {
          "base_uri": "https://localhost:8080/",
          "height": 35
        },
        "outputId": "fff3d20f-55ea-4112-a39d-34c507031b00"
      },
      "outputs": [
        {
          "output_type": "execute_result",
          "data": {
            "text/plain": [
              "'미국의 수도는 어디인가요?'"
            ],
            "application/vnd.google.colaboratory.intrinsic+json": {
              "type": "string"
            }
          },
          "metadata": {},
          "execution_count": 17
        }
      ],
      "source": [
        "# prompt 생성\n",
        "prompt = prompt_template.format(country=\"미국\")\n",
        "prompt"
      ]
    },
    {
      "cell_type": "code",
      "execution_count": 18,
      "metadata": {
        "id": "wt1t7mFqgJr_"
      },
      "outputs": [],
      "source": [
        "from langchain_openai import ChatOpenAI\n",
        "\n",
        "model = ChatOpenAI(\n",
        "    model=\"gpt-4.1-nano\",\n",
        "    temperature=0.1,\n",
        ")"
      ]
    },
    {
      "cell_type": "code",
      "execution_count": 19,
      "metadata": {
        "id": "-w28wFH-gJsA"
      },
      "outputs": [],
      "source": [
        "# prompt 를 PromptTemplate 객체로 생성합니다.\n",
        "prompt = PromptTemplate.from_template(\"{topic} 에 대해 쉽게 설명해주세요.\")\n",
        "\n",
        "model = ChatOpenAI(model=\"gpt-4.1-nano\", temperature=0.1)\n",
        "\n",
        "chain = prompt | model"
      ]
    },
    {
      "cell_type": "markdown",
      "metadata": {
        "id": "sarW0OIegJsA"
      },
      "source": [
        "### invoke() 호출\n",
        "\n",
        "- python 딕셔너리 형태로 입력값을 전달합니다.(키: 값)\n",
        "- invoke() 함수 호출 시, 입력값을 전달합니다."
      ]
    },
    {
      "cell_type": "code",
      "execution_count": 20,
      "metadata": {
        "id": "ykaYuoC6gJsA"
      },
      "outputs": [],
      "source": [
        "# input 딕셔너리에 주제를 '인공지능 모델의 학습 원리'으로 설정합니다.\n",
        "input = {\"topic\": \"인공지능 모델의 학습 원리\"}"
      ]
    },
    {
      "cell_type": "code",
      "execution_count": 21,
      "metadata": {
        "id": "-4vEwyt9gJsA",
        "colab": {
          "base_uri": "https://localhost:8080/"
        },
        "outputId": "5722a979-397c-4dc7-958c-825fbb06e4ae"
      },
      "outputs": [
        {
          "output_type": "execute_result",
          "data": {
            "text/plain": [
              "AIMessage(content=\"물론입니다! 인공지능 모델의 학습 원리를 쉽게 설명해 드릴게요.\\n\\n1. **데이터 수집**: 먼저, 인공지능이 배우기 위해 많은 예제(데이터)를 모아요. 예를 들어, 고양이 사진과 강아지 사진을 모으는 거죠.\\n\\n2. **모델 설계**: 그런 다음, 이 데이터를 이해하고 분류할 수 있도록 인공지능의 '뇌' 역할을 하는 모델을 만듭니다. 이 모델은 수학적 계산을 하는 여러 작은 부분(뉴런과 연결)로 이루어져 있어요.\\n\\n3. **학습 과정**:\\n   - **예측하기**: 모델은 처음에는 아무것도 모르기 때문에 무작위로 예측을 해요. 예를 들어, 사진이 고양이인지 강아지인지 맞추려고 시도하는 거죠.\\n   - **오차 계산**: 그리고 모델이 만든 예측이 실제와 얼마나 다른지(오차)를 계산해요.\\n   - **조정하기**: 오차가 크면, 모델의 내부 값(가중치)을 조금씩 바꿔서 다음번에는 더 정확히 맞추도록 학습하는 거예요. 이 과정을 반복하면서 점점 더 정확한 예측을 하게 됩니다.\\n\\n4. **반복과 개선**: 이 과정을 수천, 수만 번 반복하면서 모델은 점점 더 똑똑해지고, 새로운 데이터에 대해서도 잘 맞출 수 있게 돼요.\\n\\n요약하자면, 인공지능은 많은 데이터를 보고, 예측을 하고, 틀린 부분을 수정하면서 점점 더 똑똑해지는 과정으로 학습합니다.\", additional_kwargs={'refusal': None}, response_metadata={'token_usage': {'completion_tokens': 370, 'prompt_tokens': 22, 'total_tokens': 392, 'completion_tokens_details': {'accepted_prediction_tokens': 0, 'audio_tokens': 0, 'reasoning_tokens': 0, 'rejected_prediction_tokens': 0}, 'prompt_tokens_details': {'audio_tokens': 0, 'cached_tokens': 0}}, 'model_name': 'gpt-4.1-nano-2025-04-14', 'system_fingerprint': 'fp_f12167b370', 'id': 'chatcmpl-C3bgvxNxbodfpq4PlGeh2TcfWH7wD', 'finish_reason': 'stop', 'logprobs': None}, id='run-b3f3966d-cb2a-4f02-8a1e-90d2a59ee3c2-0', usage_metadata={'input_tokens': 22, 'output_tokens': 370, 'total_tokens': 392, 'input_token_details': {'audio': 0, 'cache_read': 0}, 'output_token_details': {'audio': 0, 'reasoning': 0}})"
            ]
          },
          "metadata": {},
          "execution_count": 21
        }
      ],
      "source": [
        "# prompt 객체와 model 객체를 파이프(|) 연산자로 연결하고 invoke 메서드를 사용하여 input을 전달합니다.\n",
        "# 이를 통해 AI 모델이 생성한 메시지를 반환합니다.\n",
        "chain.invoke(input)"
      ]
    },
    {
      "cell_type": "markdown",
      "metadata": {
        "id": "A_lBgHgZgJsA"
      },
      "source": [
        "아래는 스트리밍을 출력하는 예시 입니다."
      ]
    },
    {
      "cell_type": "code",
      "execution_count": 22,
      "metadata": {
        "id": "_mme4NkIgJsA",
        "colab": {
          "base_uri": "https://localhost:8080/"
        },
        "outputId": "8eec3b2a-46f7-4387-ca19-3d0eea1fdbdd"
      },
      "outputs": [
        {
          "output_type": "stream",
          "name": "stdout",
          "text": [
            "물론입니다! 인공지능 모델의 학습 원리를 쉽게 설명해 드릴게요.\n",
            "\n",
            "1. **데이터 수집**: 먼저, 인공지능이 배우기 위해 많은 예제(데이터)를 모아요. 예를 들어, 고양이 사진과 강아지 사진을 많이 모으는 거죠.\n",
            "\n",
            "2. **모델 설계**: 그 다음, 이 데이터를 이해하고 분류할 수 있도록 인공지능의 '뇌' 역할을 하는 모델을 만듭니다. 이 모델은 여러 층으로 이루어진 신경망일 수 있어요.\n",
            "\n",
            "3. **학습 과정**:\n",
            "   - **예측하기**: 모델은 처음에는 아무것도 모르기 때문에 무작위로 예측을 해요.\n",
            "   - **오차 계산**: 그리고 그 예측이 실제와 얼마나 다른지(오차)를 계산해요.\n",
            "   - **조정하기**: 오차를 줄이기 위해 모델의 내부 값(가중치)을 조금씩 수정해요. 이 과정을 반복하면서 점점 더 정확한 예측을 하게 되는 거죠.\n",
            "\n",
            "4. **반복 학습**: 이 과정을 여러 번 반복하면서 모델은 점점 더 데이터를 잘 이해하고, 새로운 데이터에 대해서도 올바르게 예측할 수 있게 돼요.\n",
            "\n",
            "요약하자면, 인공지능은 많은 데이터를 보고, 예측을 하고, 그 차이를 바탕으로 계속 수정하면서 배우는 과정입니다. 이렇게 해서 점점 더 똑똑해지는 거죠!"
          ]
        }
      ],
      "source": [
        "# 스트리밍 출력을 위한 요청\n",
        "answer = chain.stream(input)\n",
        "# 스트리밍 출력\n",
        "stream_response(answer)"
      ]
    },
    {
      "cell_type": "markdown",
      "metadata": {
        "id": "EpGaNHrjgJsA"
      },
      "source": [
        "### 출력파서(Output Parser)\n"
      ]
    },
    {
      "cell_type": "code",
      "execution_count": 23,
      "metadata": {
        "id": "DkNJGNw5gJsA"
      },
      "outputs": [],
      "source": [
        "from langchain_core.output_parsers import StrOutputParser\n",
        "\n",
        "output_parser = StrOutputParser()"
      ]
    },
    {
      "cell_type": "markdown",
      "metadata": {
        "id": "OzUxYUDwgJsA"
      },
      "source": [
        "Chain 에 출력파서를 추가합니다."
      ]
    },
    {
      "cell_type": "code",
      "execution_count": 24,
      "metadata": {
        "id": "iWGNzMzDgJsA"
      },
      "outputs": [],
      "source": [
        "# 프롬프트, 모델, 출력 파서를 연결하여 처리 체인을 구성합니다.\n",
        "chain = prompt | model | output_parser"
      ]
    },
    {
      "cell_type": "code",
      "execution_count": 25,
      "metadata": {
        "id": "1iGalQWggJsB",
        "colab": {
          "base_uri": "https://localhost:8080/",
          "height": 109
        },
        "outputId": "890efa65-47a4-42ce-d60c-858e57ea9260"
      },
      "outputs": [
        {
          "output_type": "execute_result",
          "data": {
            "text/plain": [
              "\"물론입니다! 인공지능 모델의 학습 원리를 쉽게 설명해 드릴게요.\\n\\n1. **데이터 수집**: 먼저, 인공지능이 배울 수 있도록 많은 예제(데이터)를 모아요. 예를 들어, 고양이 사진과 강아지 사진을 모으는 거죠.\\n\\n2. **모델 설계**: 그런 데이터를 이해하고 분류할 수 있도록 인공지능의 '뇌' 역할을 하는 모델을 만듭니다. 이 모델은 여러 층으로 이루어진 신경망일 수 있어요.\\n\\n3. **학습 과정**:\\n   - **예측하기**: 모델은 처음에는 아무것도 모르기 때문에, 입력된 데이터를 보고 어떤 결과를 내놓을지 예측해요.\\n   - **오차 계산**: 그리고 실제 정답(예를 들어, 사진이 고양이인지 강아지인지)과 비교해서 얼마나 틀렸는지 계산해요.\\n   - **조정하기**: 틀린 정도(오차)를 줄이기 위해 모델의 내부 값(가중치)을 조금씩 수정해요. 이 과정을 반복하면서 점점 더 정확한 예측을 하게 되는 거죠.\\n\\n4. **반복 학습**: 이 과정을 수많은 데이터와 반복을 통해 계속 반복하면서, 모델은 점점 더 똑똑해지고, 새로운 데이터도 잘 맞출 수 있게 돼요.\\n\\n요약하자면, 인공지능은 많은 데이터를 보고, 예측하고, 틀린 부분을 고치면서 점점 더 똑똑해지는 '학습' 과정을 거치는 거예요.\""
            ],
            "application/vnd.google.colaboratory.intrinsic+json": {
              "type": "string"
            }
          },
          "metadata": {},
          "execution_count": 25
        }
      ],
      "source": [
        "# chain 객체의 invoke 메서드를 사용하여 input을 전달합니다.\n",
        "input = {\"topic\": \"인공지능 모델의 학습 원리\"}\n",
        "chain.invoke(input)"
      ]
    },
    {
      "cell_type": "code",
      "execution_count": 26,
      "metadata": {
        "id": "LmiOERW_gJsB",
        "colab": {
          "base_uri": "https://localhost:8080/"
        },
        "outputId": "0c1301ee-a229-4847-a574-e4d58c371e75"
      },
      "outputs": [
        {
          "output_type": "stream",
          "name": "stdout",
          "text": [
            "물론입니다! 인공지능 모델의 학습 원리를 쉽게 설명해 드릴게요.\n",
            "\n",
            "1. **데이터 수집**: 먼저, 인공지능이 배우기 위해 많은 예제(데이터)를 모아요. 예를 들어, 고양이 사진을 많이 보여주는 거죠.\n",
            "\n",
            "2. **모델 설계**: 그런 다음, 이 데이터를 이해하고 학습할 수 있는 '모델'이라는 수학적 구조를 만듭니다. 이 모델은 사람의 뇌처럼 여러 '뉴런'이 연결된 것처럼 생각할 수 있어요.\n",
            "\n",
            "3. **학습 과정**:\n",
            "   - 모델은 처음에는 아무것도 모르기 때문에, 입력(예: 사진)을 넣으면 무작위로 결과를 내놓아요.\n",
            "   - 그 결과가 정답(예: '이것은 고양이입니다')와 얼마나 맞는지 비교해서 '오차'를 계산해요.\n",
            "   - 오차를 줄이기 위해 모델 내부의 '설정값' 또는 '가중치'라는 것을 조정해요. 이 과정을 여러 번 반복하면서 점점 더 정확한 답을 내놓도록 학습하는 거예요.\n",
            "\n",
            "4. **최적화**: 이 과정에서 오차를 최소화하는 방법(알고리즘)을 사용해서, 모델이 점점 더 정답에 가까워지도록 만들어줍니다.\n",
            "\n",
            "5. **완성**: 충분히 학습이 되면, 모델은 새로운 데이터(예를 들어, 새로운 고양이 사진)가 들어왔을 때도 올바르게 판단할 수 있게 돼요.\n",
            "\n",
            "요약하자면, 인공지능 모델은 많은 데이터를 보고, 정답과 비교하며, 그 차이를 줄이기 위해 내부 설정값을 계속 조정하는 과정을 반복해서 배우는 거예요."
          ]
        }
      ],
      "source": [
        "# 스트리밍 출력을 위한 요청\n",
        "answer = chain.stream(input)\n",
        "# 스트리밍 출력\n",
        "stream_response(answer)"
      ]
    },
    {
      "cell_type": "markdown",
      "metadata": {
        "id": "gd8V58GtgJsB"
      },
      "source": [
        "### 템플릿을 변경하여 적용\n",
        "\n",
        "- 아래의 프롬프트 내용을 얼마든지 **변경** 하여 테스트 해볼 수 있습니다.\n",
        "- `model_name` 역시 변경하여 테스트가 가능합니다."
      ]
    },
    {
      "cell_type": "code",
      "execution_count": 27,
      "metadata": {
        "id": "2p6JiYNMgJsB"
      },
      "outputs": [],
      "source": [
        "template = \"\"\"\n",
        "당신은 영어를 가르치는 10년차 영어 선생님입니다. 주어진 상황에 맞는 영어 회화를 작성해 주세요.\n",
        "양식은 [FORMAT]을 참고하여 작성해 주세요.\n",
        "\n",
        "#상황:\n",
        "{question}\n",
        "\n",
        "#FORMAT:\n",
        "- 영어 회화:\n",
        "- 한글 해석:\n",
        "\"\"\"\n",
        "\n",
        "# 프롬프트 템플릿을 이용하여 프롬프트를 생성합니다.\n",
        "prompt = PromptTemplate.from_template(template)\n",
        "\n",
        "# ChatOpenAI 챗모델을 초기화합니다.\n",
        "model = ChatOpenAI(model_name=\"gpt-4.1-nano\")\n",
        "\n",
        "# 문자열 출력 파서를 초기화합니다.\n",
        "output_parser = StrOutputParser()"
      ]
    },
    {
      "cell_type": "code",
      "execution_count": 28,
      "metadata": {
        "id": "fwCtxZiLgJsB"
      },
      "outputs": [],
      "source": [
        "# 체인을 구성합니다.\n",
        "chain = prompt | model | output_parser"
      ]
    },
    {
      "cell_type": "code",
      "execution_count": 29,
      "metadata": {
        "id": "gGUeiLUqgJsB",
        "colab": {
          "base_uri": "https://localhost:8080/"
        },
        "outputId": "06155486-5bea-464d-960e-a51b8c12dbb3"
      },
      "outputs": [
        {
          "output_type": "stream",
          "name": "stdout",
          "text": [
            "- 영어 회화:  \n",
            "\"Hello. I’d like to order a table for two, please.\"  \n",
            "\"Could I see the menu, please?\"  \n",
            "\"I’ll have the grilled chicken with rice.\"  \n",
            "\"Can I get that without onions?\"  \n",
            "\"Thank you. Could you bring the bill, please?\"  \n",
            "\n",
            "- 한글 해석:  \n",
            "\"안녕하세요. 두 명 자리로 주문하고 싶어요.\"  \n",
            "\"메뉴판 좀 보여주시겠어요?\"  \n",
            "\"그릴 치킨과 밥으로 할게요.\"  \n",
            "\"양파 빼고 그걸로 해도 될까요?\"  \n",
            "\"감사합니다. 계산서 가져다 주세요.\"\n"
          ]
        }
      ],
      "source": [
        "# 완성된 Chain을 실행하여 답변을 얻습니다.\n",
        "print(chain.invoke({\"question\": \"저는 식당에 가서 음식을 주문하고 싶어요\"}))"
      ]
    },
    {
      "cell_type": "code",
      "execution_count": 30,
      "metadata": {
        "id": "5vJMc2bwgJsB",
        "colab": {
          "base_uri": "https://localhost:8080/"
        },
        "outputId": "80d340a8-78ad-4c79-a1a6-bad8f02a7c0d"
      },
      "outputs": [
        {
          "output_type": "stream",
          "name": "stdout",
          "text": [
            "- 영어 회화:  \n",
            "\"Hi, I’d like to order a table for one, please.\"  \n",
            "\"Could I see the menu, please?\"  \n",
            "\"I’d like to order the grilled chicken with rice.\"  \n",
            "\"Can I get that without spicy sauce?\"  \n",
            "\"Thank you. That will be all for now.\"\n",
            "\n",
            "- 한글 해석:  \n",
            "\"안녕하세요, 테이블 하나 주문하려고 합니다.\"  \n",
            "\"메뉴판 좀 보여주시겠어요?\"  \n",
            "\"그릴 치킨과 밥을 주문할게요.\"  \n",
            "\"그것 매운 소스 빼고 받을 수 있나요?\"  \n",
            "\"감사합니다. 이상입니다.\""
          ]
        }
      ],
      "source": [
        "# 완성된 Chain을 실행하여 답변을 얻습니다.\n",
        "# 스트리밍 출력을 위한 요청\n",
        "answer = chain.stream({\"question\": \"저는 식당에 가서 음식을 주문하고 싶어요\"})\n",
        "# 스트리밍 출력\n",
        "stream_response(answer)"
      ]
    },
    {
      "cell_type": "code",
      "execution_count": 31,
      "metadata": {
        "id": "IXt_v9gFgJsB",
        "colab": {
          "base_uri": "https://localhost:8080/"
        },
        "outputId": "7a9103d5-74e0-4e50-e92a-671193542255"
      },
      "outputs": [
        {
          "output_type": "stream",
          "name": "stdout",
          "text": [
            "- 영어 회화:\n",
            "Customer: Hi, I’d like to order a large pepperoni pizza for delivery, please.\n",
            "Employee: Sure! Would you like anything else with your order?\n",
            "Customer: Yes, can I also get a side of garlic bread?\n",
            "Employee: Of course. May I have your address, please?\n",
            "Customer: It’s 123 Maple Street, Apt. 4B.\n",
            "Employee: Great. Your total comes to $20.50. It should arrive in about 30 minutes. Thank you!\n",
            "Customer: Thank you!\n",
            "\n",
            "- 한글 해석:\n",
            "고객: 안녕하세요, 피자 한 판 큰 페퍼로니 피자를 배달로 주문하고 싶어요.\n",
            "직원: 네! 다른 것도 함께 주문하시겠어요?\n",
            "고객: 네, 마늘빵도 하나 주세요.\n",
            "직원: 알겠습니다. 주소를 알려주시겠어요?\n",
            "고객: 123 메이플 스트리트, 아파트 4B예요.\n",
            "직원: 알겠습니다. 총 금액은 20.50달러입니다. 약 30분 후에 배달될 거예요. 감사합니다!\n",
            "고객: 감사합니다!"
          ]
        }
      ],
      "source": [
        "# 이번에는 question 을 '미국에서 피자 주문'으로 설정하여 실행합니다.\n",
        "# 스트리밍 출력을 위한 요청\n",
        "answer = chain.stream({\"question\": \"미국에서 피자 주문\"})\n",
        "# 스트리밍 출력\n",
        "stream_response(answer)"
      ]
    }
  ],
  "metadata": {
    "kernelspec": {
      "display_name": "py-test",
      "language": "python",
      "name": "python3"
    },
    "language_info": {
      "codemirror_mode": {
        "name": "ipython",
        "version": 3
      },
      "file_extension": ".py",
      "mimetype": "text/x-python",
      "name": "python",
      "nbconvert_exporter": "python",
      "pygments_lexer": "ipython3",
      "version": "3.10.13"
    },
    "colab": {
      "provenance": [],
      "include_colab_link": true
    }
  },
  "nbformat": 4,
  "nbformat_minor": 0
}