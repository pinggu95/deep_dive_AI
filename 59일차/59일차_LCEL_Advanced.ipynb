{
  "cells": [
    {
      "cell_type": "markdown",
      "metadata": {
        "id": "view-in-github",
        "colab_type": "text"
      },
      "source": [
        "<a href=\"https://colab.research.google.com/github/pinggu95/deep_dive_AI/blob/main/59%EC%9D%BC%EC%B0%A8/59%EC%9D%BC%EC%B0%A8_LCEL_Advanced.ipynb\" target=\"_parent\"><img src=\"https://colab.research.google.com/assets/colab-badge.svg\" alt=\"Open In Colab\"/></a>"
      ]
    },
    {
      "cell_type": "code",
      "source": [
        "!pip install -r https://raw.githubusercontent.com/teddylee777/langchain-kr/main/requirements.txt"
      ],
      "metadata": {
        "colab": {
          "base_uri": "https://localhost:8080/"
        },
        "id": "XU8K62qTxaRS",
        "outputId": "eab2c432-f72c-43dc-82a0-8f872f3218a7"
      },
      "id": "XU8K62qTxaRS",
      "execution_count": 1,
      "outputs": [
        {
          "output_type": "stream",
          "name": "stdout",
          "text": [
            "Requirement already satisfied: langchain==0.3.21 in /usr/local/lib/python3.11/dist-packages (from -r https://raw.githubusercontent.com/teddylee777/langchain-kr/main/requirements.txt (line 1)) (0.3.21)\n",
            "Requirement already satisfied: langchain-core==0.3.46 in /usr/local/lib/python3.11/dist-packages (from -r https://raw.githubusercontent.com/teddylee777/langchain-kr/main/requirements.txt (line 2)) (0.3.46)\n",
            "Requirement already satisfied: langchain-experimental==0.3.4 in /usr/local/lib/python3.11/dist-packages (from -r https://raw.githubusercontent.com/teddylee777/langchain-kr/main/requirements.txt (line 3)) (0.3.4)\n",
            "Requirement already satisfied: langchain-community==0.3.20 in /usr/local/lib/python3.11/dist-packages (from -r https://raw.githubusercontent.com/teddylee777/langchain-kr/main/requirements.txt (line 4)) (0.3.20)\n",
            "Requirement already satisfied: langchain-openai==0.3.9 in /usr/local/lib/python3.11/dist-packages (from -r https://raw.githubusercontent.com/teddylee777/langchain-kr/main/requirements.txt (line 5)) (0.3.9)\n",
            "Requirement already satisfied: langchain-anthropic==0.3.10 in /usr/local/lib/python3.11/dist-packages (from -r https://raw.githubusercontent.com/teddylee777/langchain-kr/main/requirements.txt (line 6)) (0.3.10)\n",
            "Requirement already satisfied: langchain-text-splitters==0.3.7 in /usr/local/lib/python3.11/dist-packages (from -r https://raw.githubusercontent.com/teddylee777/langchain-kr/main/requirements.txt (line 7)) (0.3.7)\n",
            "Requirement already satisfied: langchain-elasticsearch==0.3.2 in /usr/local/lib/python3.11/dist-packages (from -r https://raw.githubusercontent.com/teddylee777/langchain-kr/main/requirements.txt (line 8)) (0.3.2)\n",
            "Requirement already satisfied: langchain-chroma==0.2.2 in /usr/local/lib/python3.11/dist-packages (from -r https://raw.githubusercontent.com/teddylee777/langchain-kr/main/requirements.txt (line 9)) (0.2.2)\n",
            "Requirement already satisfied: langchain-cohere==0.4.3 in /usr/local/lib/python3.11/dist-packages (from -r https://raw.githubusercontent.com/teddylee777/langchain-kr/main/requirements.txt (line 10)) (0.4.3)\n",
            "Requirement already satisfied: langchain-milvus==0.1.8 in /usr/local/lib/python3.11/dist-packages (from -r https://raw.githubusercontent.com/teddylee777/langchain-kr/main/requirements.txt (line 11)) (0.1.8)\n",
            "Requirement already satisfied: langchain-google-genai==2.1.0 in /usr/local/lib/python3.11/dist-packages (from -r https://raw.githubusercontent.com/teddylee777/langchain-kr/main/requirements.txt (line 12)) (2.1.0)\n",
            "Requirement already satisfied: langchain-huggingface==0.1.2 in /usr/local/lib/python3.11/dist-packages (from -r https://raw.githubusercontent.com/teddylee777/langchain-kr/main/requirements.txt (line 13)) (0.1.2)\n",
            "Requirement already satisfied: langchain-azure-ai==0.1.2 in /usr/local/lib/python3.11/dist-packages (from -r https://raw.githubusercontent.com/teddylee777/langchain-kr/main/requirements.txt (line 14)) (0.1.2)\n",
            "Requirement already satisfied: langchain-teddynote==0.3.44 in /usr/local/lib/python3.11/dist-packages (from -r https://raw.githubusercontent.com/teddylee777/langchain-kr/main/requirements.txt (line 15)) (0.3.44)\n",
            "Requirement already satisfied: langchainhub==0.1.21 in /usr/local/lib/python3.11/dist-packages (from -r https://raw.githubusercontent.com/teddylee777/langchain-kr/main/requirements.txt (line 16)) (0.1.21)\n",
            "Requirement already satisfied: langgraph==0.3.18 in /usr/local/lib/python3.11/dist-packages (from -r https://raw.githubusercontent.com/teddylee777/langchain-kr/main/requirements.txt (line 17)) (0.3.18)\n",
            "Requirement already satisfied: langsmith==0.3.18 in /usr/local/lib/python3.11/dist-packages (from -r https://raw.githubusercontent.com/teddylee777/langchain-kr/main/requirements.txt (line 18)) (0.3.18)\n",
            "Requirement already satisfied: huggingface-hub==0.29.3 in /usr/local/lib/python3.11/dist-packages (from -r https://raw.githubusercontent.com/teddylee777/langchain-kr/main/requirements.txt (line 19)) (0.29.3)\n",
            "Requirement already satisfied: openai==1.67.0 in /usr/local/lib/python3.11/dist-packages (from -r https://raw.githubusercontent.com/teddylee777/langchain-kr/main/requirements.txt (line 20)) (1.67.0)\n",
            "Requirement already satisfied: deepl==1.21.1 in /usr/local/lib/python3.11/dist-packages (from -r https://raw.githubusercontent.com/teddylee777/langchain-kr/main/requirements.txt (line 21)) (1.21.1)\n",
            "Requirement already satisfied: kiwipiepy==0.20.4 in /usr/local/lib/python3.11/dist-packages (from -r https://raw.githubusercontent.com/teddylee777/langchain-kr/main/requirements.txt (line 22)) (0.20.4)\n",
            "Requirement already satisfied: konlpy==0.6.0 in /usr/local/lib/python3.11/dist-packages (from -r https://raw.githubusercontent.com/teddylee777/langchain-kr/main/requirements.txt (line 23)) (0.6.0)\n",
            "Requirement already satisfied: pandas==2.2.3 in /usr/local/lib/python3.11/dist-packages (from -r https://raw.githubusercontent.com/teddylee777/langchain-kr/main/requirements.txt (line 25)) (2.2.3)\n",
            "Requirement already satisfied: rank-bm25==0.2.2 in /usr/local/lib/python3.11/dist-packages (from -r https://raw.githubusercontent.com/teddylee777/langchain-kr/main/requirements.txt (line 26)) (0.2.2)\n",
            "Requirement already satisfied: redis==5.2.1 in /usr/local/lib/python3.11/dist-packages (from -r https://raw.githubusercontent.com/teddylee777/langchain-kr/main/requirements.txt (line 28)) (5.2.1)\n",
            "Requirement already satisfied: chromadb==0.6.3 in /usr/local/lib/python3.11/dist-packages (from -r https://raw.githubusercontent.com/teddylee777/langchain-kr/main/requirements.txt (line 29)) (0.6.3)\n",
            "Requirement already satisfied: pymupdf==1.25.4 in /usr/local/lib/python3.11/dist-packages (from -r https://raw.githubusercontent.com/teddylee777/langchain-kr/main/requirements.txt (line 31)) (1.25.4)\n",
            "Requirement already satisfied: pypdf==4.3.1 in /usr/local/lib/python3.11/dist-packages (from -r https://raw.githubusercontent.com/teddylee777/langchain-kr/main/requirements.txt (line 32)) (4.3.1)\n",
            "Requirement already satisfied: pdfplumber==0.11.5 in /usr/local/lib/python3.11/dist-packages (from -r https://raw.githubusercontent.com/teddylee777/langchain-kr/main/requirements.txt (line 33)) (0.11.5)\n",
            "Requirement already satisfied: pdfminer-six==20231228 in /usr/local/lib/python3.11/dist-packages (from -r https://raw.githubusercontent.com/teddylee777/langchain-kr/main/requirements.txt (line 34)) (20231228)\n",
            "Requirement already satisfied: pymupdf4llm==0.0.17 in /usr/local/lib/python3.11/dist-packages (from -r https://raw.githubusercontent.com/teddylee777/langchain-kr/main/requirements.txt (line 35)) (0.0.17)\n",
            "Requirement already satisfied: matplotlib==3.10.1 in /usr/local/lib/python3.11/dist-packages (from -r https://raw.githubusercontent.com/teddylee777/langchain-kr/main/requirements.txt (line 37)) (3.10.1)\n",
            "Requirement already satisfied: streamlit==1.43.2 in /usr/local/lib/python3.11/dist-packages (from -r https://raw.githubusercontent.com/teddylee777/langchain-kr/main/requirements.txt (line 38)) (1.43.2)\n",
            "Requirement already satisfied: jupyter==1.1.1 in /usr/local/lib/python3.11/dist-packages (from -r https://raw.githubusercontent.com/teddylee777/langchain-kr/main/requirements.txt (line 39)) (1.1.1)\n",
            "Requirement already satisfied: notebook==7.3.3 in /usr/local/lib/python3.11/dist-packages (from -r https://raw.githubusercontent.com/teddylee777/langchain-kr/main/requirements.txt (line 40)) (7.3.3)\n",
            "Requirement already satisfied: torch==2.6.0 in /usr/local/lib/python3.11/dist-packages (from -r https://raw.githubusercontent.com/teddylee777/langchain-kr/main/requirements.txt (line 42)) (2.6.0+cu124)\n",
            "Requirement already satisfied: torchvision==0.21.0 in /usr/local/lib/python3.11/dist-packages (from -r https://raw.githubusercontent.com/teddylee777/langchain-kr/main/requirements.txt (line 43)) (0.21.0+cu124)\n",
            "Requirement already satisfied: faiss-cpu==1.10.0 in /usr/local/lib/python3.11/dist-packages (from -r https://raw.githubusercontent.com/teddylee777/langchain-kr/main/requirements.txt (line 44)) (1.10.0)\n",
            "Requirement already satisfied: open-clip-torch==2.31.0 in /usr/local/lib/python3.11/dist-packages (from -r https://raw.githubusercontent.com/teddylee777/langchain-kr/main/requirements.txt (line 45)) (2.31.0)\n",
            "Requirement already satisfied: python-dotenv==1.0.1 in /usr/local/lib/python3.11/dist-packages (from -r https://raw.githubusercontent.com/teddylee777/langchain-kr/main/requirements.txt (line 47)) (1.0.1)\n",
            "Requirement already satisfied: pydantic==2.10.6 in /usr/local/lib/python3.11/dist-packages (from -r https://raw.githubusercontent.com/teddylee777/langchain-kr/main/requirements.txt (line 48)) (2.10.6)\n",
            "Requirement already satisfied: lxml==5.3.1 in /usr/local/lib/python3.11/dist-packages (from -r https://raw.githubusercontent.com/teddylee777/langchain-kr/main/requirements.txt (line 49)) (5.3.1)\n",
            "Requirement already satisfied: pillow==10.4.0 in /usr/local/lib/python3.11/dist-packages (from -r https://raw.githubusercontent.com/teddylee777/langchain-kr/main/requirements.txt (line 50)) (10.4.0)\n",
            "Requirement already satisfied: lark==1.2.2 in /usr/local/lib/python3.11/dist-packages (from -r https://raw.githubusercontent.com/teddylee777/langchain-kr/main/requirements.txt (line 51)) (1.2.2)\n",
            "Requirement already satisfied: ragas==0.2.14 in /usr/local/lib/python3.11/dist-packages (from -r https://raw.githubusercontent.com/teddylee777/langchain-kr/main/requirements.txt (line 52)) (0.2.14)\n",
            "Requirement already satisfied: unstructured==0.17.0 in /usr/local/lib/python3.11/dist-packages (from -r https://raw.githubusercontent.com/teddylee777/langchain-kr/main/requirements.txt (line 53)) (0.17.0)\n",
            "Requirement already satisfied: arxiv==2.1.3 in /usr/local/lib/python3.11/dist-packages (from -r https://raw.githubusercontent.com/teddylee777/langchain-kr/main/requirements.txt (line 54)) (2.1.3)\n",
            "Requirement already satisfied: tiktoken==0.9.0 in /usr/local/lib/python3.11/dist-packages (from -r https://raw.githubusercontent.com/teddylee777/langchain-kr/main/requirements.txt (line 55)) (0.9.0)\n",
            "Requirement already satisfied: tenacity==8.5.0 in /usr/local/lib/python3.11/dist-packages (from -r https://raw.githubusercontent.com/teddylee777/langchain-kr/main/requirements.txt (line 56)) (8.5.0)\n",
            "Requirement already satisfied: pymilvus==2.5.5 in /usr/local/lib/python3.11/dist-packages (from -r https://raw.githubusercontent.com/teddylee777/langchain-kr/main/requirements.txt (line 57)) (2.5.5)\n",
            "Requirement already satisfied: google-search-results==2.4.2 in /usr/local/lib/python3.11/dist-packages (from -r https://raw.githubusercontent.com/teddylee777/langchain-kr/main/requirements.txt (line 58)) (2.4.2)\n",
            "Requirement already satisfied: protobuf==3.20.3 in /usr/local/lib/python3.11/dist-packages (from -r https://raw.githubusercontent.com/teddylee777/langchain-kr/main/requirements.txt (line 59)) (3.20.3)\n",
            "Requirement already satisfied: sqlalchemy==2.0.39 in /usr/local/lib/python3.11/dist-packages (from -r https://raw.githubusercontent.com/teddylee777/langchain-kr/main/requirements.txt (line 60)) (2.0.39)\n",
            "Requirement already satisfied: llama-index-core==0.11.23 in /usr/local/lib/python3.11/dist-packages (from -r https://raw.githubusercontent.com/teddylee777/langchain-kr/main/requirements.txt (line 61)) (0.11.23)\n",
            "Requirement already satisfied: llama-parse==0.6.4.post1 in /usr/local/lib/python3.11/dist-packages (from -r https://raw.githubusercontent.com/teddylee777/langchain-kr/main/requirements.txt (line 62)) (0.6.4.post1)\n",
            "Requirement already satisfied: llama-index-readers-file==0.2.2 in /usr/local/lib/python3.11/dist-packages (from -r https://raw.githubusercontent.com/teddylee777/langchain-kr/main/requirements.txt (line 63)) (0.2.2)\n",
            "Requirement already satisfied: flashrank==0.2.10 in /usr/local/lib/python3.11/dist-packages (from -r https://raw.githubusercontent.com/teddylee777/langchain-kr/main/requirements.txt (line 64)) (0.2.10)\n",
            "Requirement already satisfied: docx2txt==0.8 in /usr/local/lib/python3.11/dist-packages (from -r https://raw.githubusercontent.com/teddylee777/langchain-kr/main/requirements.txt (line 65)) (0.8)\n",
            "Requirement already satisfied: nest-asyncio==1.6.0 in /usr/local/lib/python3.11/dist-packages (from -r https://raw.githubusercontent.com/teddylee777/langchain-kr/main/requirements.txt (line 66)) (1.6.0)\n",
            "Requirement already satisfied: rapidocr-onnxruntime==1.4.4 in /usr/local/lib/python3.11/dist-packages (from -r https://raw.githubusercontent.com/teddylee777/langchain-kr/main/requirements.txt (line 67)) (1.4.4)\n",
            "Requirement already satisfied: seaborn==0.13.2 in /usr/local/lib/python3.11/dist-packages (from -r https://raw.githubusercontent.com/teddylee777/langchain-kr/main/requirements.txt (line 68)) (0.13.2)\n",
            "Requirement already satisfied: grandalf==0.8 in /usr/local/lib/python3.11/dist-packages (from -r https://raw.githubusercontent.com/teddylee777/langchain-kr/main/requirements.txt (line 69)) (0.8)\n",
            "Requirement already satisfied: rouge-score==0.1.2 in /usr/local/lib/python3.11/dist-packages (from -r https://raw.githubusercontent.com/teddylee777/langchain-kr/main/requirements.txt (line 70)) (0.1.2)\n",
            "Requirement already satisfied: langchain-ollama==0.2.3 in /usr/local/lib/python3.11/dist-packages (from -r https://raw.githubusercontent.com/teddylee777/langchain-kr/main/requirements.txt (line 71)) (0.2.3)\n",
            "Requirement already satisfied: mypy==1.15.0 in /usr/local/lib/python3.11/dist-packages (from -r https://raw.githubusercontent.com/teddylee777/langchain-kr/main/requirements.txt (line 72)) (1.15.0)\n",
            "Requirement already satisfied: pinecone==5.4.2 in /usr/local/lib/python3.11/dist-packages (from -r https://raw.githubusercontent.com/teddylee777/langchain-kr/main/requirements.txt (line 73)) (5.4.2)\n",
            "Requirement already satisfied: wikipedia==1.4.0 in /usr/local/lib/python3.11/dist-packages (from -r https://raw.githubusercontent.com/teddylee777/langchain-kr/main/requirements.txt (line 74)) (1.4.0)\n",
            "Requirement already satisfied: scikit-learn==1.6.1 in /usr/local/lib/python3.11/dist-packages (from -r https://raw.githubusercontent.com/teddylee777/langchain-kr/main/requirements.txt (line 75)) (1.6.1)\n",
            "Requirement already satisfied: requests<3,>=2 in /usr/local/lib/python3.11/dist-packages (from langchain==0.3.21->-r https://raw.githubusercontent.com/teddylee777/langchain-kr/main/requirements.txt (line 1)) (2.32.3)\n",
            "Requirement already satisfied: PyYAML>=5.3 in /usr/local/lib/python3.11/dist-packages (from langchain==0.3.21->-r https://raw.githubusercontent.com/teddylee777/langchain-kr/main/requirements.txt (line 1)) (6.0.2)\n",
            "Requirement already satisfied: jsonpatch<2.0,>=1.33 in /usr/local/lib/python3.11/dist-packages (from langchain-core==0.3.46->-r https://raw.githubusercontent.com/teddylee777/langchain-kr/main/requirements.txt (line 2)) (1.33)\n",
            "Requirement already satisfied: packaging<25,>=23.2 in /usr/local/lib/python3.11/dist-packages (from langchain-core==0.3.46->-r https://raw.githubusercontent.com/teddylee777/langchain-kr/main/requirements.txt (line 2)) (24.2)\n",
            "Requirement already satisfied: typing-extensions>=4.7 in /usr/local/lib/python3.11/dist-packages (from langchain-core==0.3.46->-r https://raw.githubusercontent.com/teddylee777/langchain-kr/main/requirements.txt (line 2)) (4.14.1)\n",
            "Requirement already satisfied: aiohttp<4.0.0,>=3.8.3 in /usr/local/lib/python3.11/dist-packages (from langchain-community==0.3.20->-r https://raw.githubusercontent.com/teddylee777/langchain-kr/main/requirements.txt (line 4)) (3.12.15)\n",
            "Requirement already satisfied: dataclasses-json<0.7,>=0.5.7 in /usr/local/lib/python3.11/dist-packages (from langchain-community==0.3.20->-r https://raw.githubusercontent.com/teddylee777/langchain-kr/main/requirements.txt (line 4)) (0.6.7)\n",
            "Requirement already satisfied: pydantic-settings<3.0.0,>=2.4.0 in /usr/local/lib/python3.11/dist-packages (from langchain-community==0.3.20->-r https://raw.githubusercontent.com/teddylee777/langchain-kr/main/requirements.txt (line 4)) (2.10.1)\n",
            "Requirement already satisfied: httpx-sse<1.0.0,>=0.4.0 in /usr/local/lib/python3.11/dist-packages (from langchain-community==0.3.20->-r https://raw.githubusercontent.com/teddylee777/langchain-kr/main/requirements.txt (line 4)) (0.4.0)\n",
            "Requirement already satisfied: numpy<3,>=1.26.2 in /usr/local/lib/python3.11/dist-packages (from langchain-community==0.3.20->-r https://raw.githubusercontent.com/teddylee777/langchain-kr/main/requirements.txt (line 4)) (1.26.4)\n",
            "Requirement already satisfied: anthropic<1,>=0.49.0 in /usr/local/lib/python3.11/dist-packages (from langchain-anthropic==0.3.10->-r https://raw.githubusercontent.com/teddylee777/langchain-kr/main/requirements.txt (line 6)) (0.62.0)\n",
            "Requirement already satisfied: elasticsearch<9.0.0,>=8.13.1 in /usr/local/lib/python3.11/dist-packages (from elasticsearch[vectorstore-mmr]<9.0.0,>=8.13.1->langchain-elasticsearch==0.3.2->-r https://raw.githubusercontent.com/teddylee777/langchain-kr/main/requirements.txt (line 8)) (8.19.0)\n",
            "Requirement already satisfied: cohere<6.0,>=5.12.0 in /usr/local/lib/python3.11/dist-packages (from langchain-cohere==0.4.3->-r https://raw.githubusercontent.com/teddylee777/langchain-kr/main/requirements.txt (line 10)) (5.16.3)\n",
            "Requirement already satisfied: types-pyyaml<7.0.0.0,>=6.0.12.20240917 in /usr/local/lib/python3.11/dist-packages (from langchain-cohere==0.4.3->-r https://raw.githubusercontent.com/teddylee777/langchain-kr/main/requirements.txt (line 10)) (6.0.12.20250809)\n",
            "Requirement already satisfied: filetype<2.0.0,>=1.2.0 in /usr/local/lib/python3.11/dist-packages (from langchain-google-genai==2.1.0->-r https://raw.githubusercontent.com/teddylee777/langchain-kr/main/requirements.txt (line 12)) (1.2.0)\n",
            "Requirement already satisfied: google-ai-generativelanguage<0.7.0,>=0.6.16 in /usr/local/lib/python3.11/dist-packages (from langchain-google-genai==2.1.0->-r https://raw.githubusercontent.com/teddylee777/langchain-kr/main/requirements.txt (line 12)) (0.6.18)\n",
            "Requirement already satisfied: sentence-transformers>=2.6.0 in /usr/local/lib/python3.11/dist-packages (from langchain-huggingface==0.1.2->-r https://raw.githubusercontent.com/teddylee777/langchain-kr/main/requirements.txt (line 13)) (5.0.0)\n",
            "Requirement already satisfied: tokenizers>=0.19.1 in /usr/local/lib/python3.11/dist-packages (from langchain-huggingface==0.1.2->-r https://raw.githubusercontent.com/teddylee777/langchain-kr/main/requirements.txt (line 13)) (0.21.4)\n",
            "Requirement already satisfied: transformers>=4.39.0 in /usr/local/lib/python3.11/dist-packages (from langchain-huggingface==0.1.2->-r https://raw.githubusercontent.com/teddylee777/langchain-kr/main/requirements.txt (line 13)) (4.50.3)\n",
            "Requirement already satisfied: azure-ai-inference<2.0.0,>=1.0.0b7 in /usr/local/lib/python3.11/dist-packages (from azure-ai-inference[opentelemetry]<2.0.0,>=1.0.0b7->langchain-azure-ai==0.1.2->-r https://raw.githubusercontent.com/teddylee777/langchain-kr/main/requirements.txt (line 14)) (1.0.0b9)\n",
            "Requirement already satisfied: azure-core<2.0.0,>=1.32.0 in /usr/local/lib/python3.11/dist-packages (from langchain-azure-ai==0.1.2->-r https://raw.githubusercontent.com/teddylee777/langchain-kr/main/requirements.txt (line 14)) (1.35.0)\n",
            "Requirement already satisfied: azure-cosmos<5.0.0,>=4.9.0 in /usr/local/lib/python3.11/dist-packages (from langchain-azure-ai==0.1.2->-r https://raw.githubusercontent.com/teddylee777/langchain-kr/main/requirements.txt (line 14)) (4.9.0)\n",
            "Requirement already satisfied: azure-identity<2.0.0,>=1.15.0 in /usr/local/lib/python3.11/dist-packages (from langchain-azure-ai==0.1.2->-r https://raw.githubusercontent.com/teddylee777/langchain-kr/main/requirements.txt (line 14)) (1.24.0)\n",
            "Requirement already satisfied: pymongo<5.0.0,>=4.5.0 in /usr/local/lib/python3.11/dist-packages (from langchain-azure-ai==0.1.2->-r https://raw.githubusercontent.com/teddylee777/langchain-kr/main/requirements.txt (line 14)) (4.14.0)\n",
            "Requirement already satisfied: simsimd<7.0.0,>=6.0.0 in /usr/local/lib/python3.11/dist-packages (from langchain-azure-ai==0.1.2->-r https://raw.githubusercontent.com/teddylee777/langchain-kr/main/requirements.txt (line 14)) (6.5.0)\n",
            "Requirement already satisfied: pinecone-client[grpc] in /usr/local/lib/python3.11/dist-packages (from langchain-teddynote==0.3.44->-r https://raw.githubusercontent.com/teddylee777/langchain-kr/main/requirements.txt (line 15)) (3.2.2)\n",
            "Requirement already satisfied: pinecone-text in /usr/local/lib/python3.11/dist-packages (from langchain-teddynote==0.3.44->-r https://raw.githubusercontent.com/teddylee777/langchain-kr/main/requirements.txt (line 15)) (0.11.0)\n",
            "Requirement already satisfied: olefile in /usr/local/lib/python3.11/dist-packages (from langchain-teddynote==0.3.44->-r https://raw.githubusercontent.com/teddylee777/langchain-kr/main/requirements.txt (line 15)) (0.47)\n",
            "Requirement already satisfied: pdf2image in /usr/local/lib/python3.11/dist-packages (from langchain-teddynote==0.3.44->-r https://raw.githubusercontent.com/teddylee777/langchain-kr/main/requirements.txt (line 15)) (1.17.0)\n",
            "Requirement already satisfied: feedparser in /usr/local/lib/python3.11/dist-packages (from langchain-teddynote==0.3.44->-r https://raw.githubusercontent.com/teddylee777/langchain-kr/main/requirements.txt (line 15)) (6.0.11)\n",
            "Requirement already satisfied: tavily-python in /usr/local/lib/python3.11/dist-packages (from langchain-teddynote==0.3.44->-r https://raw.githubusercontent.com/teddylee777/langchain-kr/main/requirements.txt (line 15)) (0.7.10)\n",
            "Requirement already satisfied: types-requests<3.0.0.0,>=2.31.0.2 in /usr/local/lib/python3.11/dist-packages (from langchainhub==0.1.21->-r https://raw.githubusercontent.com/teddylee777/langchain-kr/main/requirements.txt (line 16)) (2.32.4.20250809)\n",
            "Requirement already satisfied: langgraph-checkpoint<3.0.0,>=2.0.10 in /usr/local/lib/python3.11/dist-packages (from langgraph==0.3.18->-r https://raw.githubusercontent.com/teddylee777/langchain-kr/main/requirements.txt (line 17)) (2.1.1)\n",
            "Requirement already satisfied: langgraph-prebuilt<0.2,>=0.1.1 in /usr/local/lib/python3.11/dist-packages (from langgraph==0.3.18->-r https://raw.githubusercontent.com/teddylee777/langchain-kr/main/requirements.txt (line 17)) (0.1.8)\n",
            "Requirement already satisfied: langgraph-sdk<0.2.0,>=0.1.42 in /usr/local/lib/python3.11/dist-packages (from langgraph==0.3.18->-r https://raw.githubusercontent.com/teddylee777/langchain-kr/main/requirements.txt (line 17)) (0.1.74)\n",
            "Requirement already satisfied: httpx<1,>=0.23.0 in /usr/local/lib/python3.11/dist-packages (from langsmith==0.3.18->-r https://raw.githubusercontent.com/teddylee777/langchain-kr/main/requirements.txt (line 18)) (0.28.1)\n",
            "Requirement already satisfied: orjson<4.0.0,>=3.9.14 in /usr/local/lib/python3.11/dist-packages (from langsmith==0.3.18->-r https://raw.githubusercontent.com/teddylee777/langchain-kr/main/requirements.txt (line 18)) (3.11.1)\n",
            "Requirement already satisfied: requests-toolbelt<2.0.0,>=1.0.0 in /usr/local/lib/python3.11/dist-packages (from langsmith==0.3.18->-r https://raw.githubusercontent.com/teddylee777/langchain-kr/main/requirements.txt (line 18)) (1.0.0)\n",
            "Requirement already satisfied: zstandard<0.24.0,>=0.23.0 in /usr/local/lib/python3.11/dist-packages (from langsmith==0.3.18->-r https://raw.githubusercontent.com/teddylee777/langchain-kr/main/requirements.txt (line 18)) (0.23.0)\n",
            "Requirement already satisfied: filelock in /usr/local/lib/python3.11/dist-packages (from huggingface-hub==0.29.3->-r https://raw.githubusercontent.com/teddylee777/langchain-kr/main/requirements.txt (line 19)) (3.18.0)\n",
            "Requirement already satisfied: fsspec>=2023.5.0 in /usr/local/lib/python3.11/dist-packages (from huggingface-hub==0.29.3->-r https://raw.githubusercontent.com/teddylee777/langchain-kr/main/requirements.txt (line 19)) (2025.3.0)\n",
            "Requirement already satisfied: tqdm>=4.42.1 in /usr/local/lib/python3.11/dist-packages (from huggingface-hub==0.29.3->-r https://raw.githubusercontent.com/teddylee777/langchain-kr/main/requirements.txt (line 19)) (4.67.1)\n",
            "Requirement already satisfied: anyio<5,>=3.5.0 in /usr/local/lib/python3.11/dist-packages (from openai==1.67.0->-r https://raw.githubusercontent.com/teddylee777/langchain-kr/main/requirements.txt (line 20)) (4.10.0)\n",
            "Requirement already satisfied: distro<2,>=1.7.0 in /usr/local/lib/python3.11/dist-packages (from openai==1.67.0->-r https://raw.githubusercontent.com/teddylee777/langchain-kr/main/requirements.txt (line 20)) (1.9.0)\n",
            "Requirement already satisfied: jiter<1,>=0.4.0 in /usr/local/lib/python3.11/dist-packages (from openai==1.67.0->-r https://raw.githubusercontent.com/teddylee777/langchain-kr/main/requirements.txt (line 20)) (0.10.0)\n",
            "Requirement already satisfied: sniffio in /usr/local/lib/python3.11/dist-packages (from openai==1.67.0->-r https://raw.githubusercontent.com/teddylee777/langchain-kr/main/requirements.txt (line 20)) (1.3.1)\n",
            "Requirement already satisfied: kiwipiepy_model<0.21,>=0.20 in /usr/local/lib/python3.11/dist-packages (from kiwipiepy==0.20.4->-r https://raw.githubusercontent.com/teddylee777/langchain-kr/main/requirements.txt (line 22)) (0.20.0)\n",
            "Requirement already satisfied: JPype1>=0.7.0 in /usr/local/lib/python3.11/dist-packages (from konlpy==0.6.0->-r https://raw.githubusercontent.com/teddylee777/langchain-kr/main/requirements.txt (line 23)) (1.6.0)\n",
            "Requirement already satisfied: python-dateutil>=2.8.2 in /usr/local/lib/python3.11/dist-packages (from pandas==2.2.3->-r https://raw.githubusercontent.com/teddylee777/langchain-kr/main/requirements.txt (line 25)) (2.9.0.post0)\n",
            "Requirement already satisfied: pytz>=2020.1 in /usr/local/lib/python3.11/dist-packages (from pandas==2.2.3->-r https://raw.githubusercontent.com/teddylee777/langchain-kr/main/requirements.txt (line 25)) (2025.2)\n",
            "Requirement already satisfied: tzdata>=2022.7 in /usr/local/lib/python3.11/dist-packages (from pandas==2.2.3->-r https://raw.githubusercontent.com/teddylee777/langchain-kr/main/requirements.txt (line 25)) (2025.2)\n",
            "Requirement already satisfied: build>=1.0.3 in /usr/local/lib/python3.11/dist-packages (from chromadb==0.6.3->-r https://raw.githubusercontent.com/teddylee777/langchain-kr/main/requirements.txt (line 29)) (1.3.0)\n",
            "Requirement already satisfied: chroma-hnswlib==0.7.6 in /usr/local/lib/python3.11/dist-packages (from chromadb==0.6.3->-r https://raw.githubusercontent.com/teddylee777/langchain-kr/main/requirements.txt (line 29)) (0.7.6)\n",
            "Requirement already satisfied: fastapi>=0.95.2 in /usr/local/lib/python3.11/dist-packages (from chromadb==0.6.3->-r https://raw.githubusercontent.com/teddylee777/langchain-kr/main/requirements.txt (line 29)) (0.116.1)\n",
            "Requirement already satisfied: uvicorn>=0.18.3 in /usr/local/lib/python3.11/dist-packages (from uvicorn[standard]>=0.18.3->chromadb==0.6.3->-r https://raw.githubusercontent.com/teddylee777/langchain-kr/main/requirements.txt (line 29)) (0.35.0)\n",
            "Requirement already satisfied: posthog>=2.4.0 in /usr/local/lib/python3.11/dist-packages (from chromadb==0.6.3->-r https://raw.githubusercontent.com/teddylee777/langchain-kr/main/requirements.txt (line 29)) (6.5.0)\n",
            "Requirement already satisfied: onnxruntime>=1.14.1 in /usr/local/lib/python3.11/dist-packages (from chromadb==0.6.3->-r https://raw.githubusercontent.com/teddylee777/langchain-kr/main/requirements.txt (line 29)) (1.22.1)\n",
            "Requirement already satisfied: opentelemetry-api>=1.2.0 in /usr/local/lib/python3.11/dist-packages (from chromadb==0.6.3->-r https://raw.githubusercontent.com/teddylee777/langchain-kr/main/requirements.txt (line 29)) (1.27.0)\n",
            "Requirement already satisfied: opentelemetry-exporter-otlp-proto-grpc>=1.2.0 in /usr/local/lib/python3.11/dist-packages (from chromadb==0.6.3->-r https://raw.githubusercontent.com/teddylee777/langchain-kr/main/requirements.txt (line 29)) (1.27.0)\n",
            "Requirement already satisfied: opentelemetry-instrumentation-fastapi>=0.41b0 in /usr/local/lib/python3.11/dist-packages (from chromadb==0.6.3->-r https://raw.githubusercontent.com/teddylee777/langchain-kr/main/requirements.txt (line 29)) (0.48b0)\n",
            "Requirement already satisfied: opentelemetry-sdk>=1.2.0 in /usr/local/lib/python3.11/dist-packages (from chromadb==0.6.3->-r https://raw.githubusercontent.com/teddylee777/langchain-kr/main/requirements.txt (line 29)) (1.27.0)\n",
            "Requirement already satisfied: pypika>=0.48.9 in /usr/local/lib/python3.11/dist-packages (from chromadb==0.6.3->-r https://raw.githubusercontent.com/teddylee777/langchain-kr/main/requirements.txt (line 29)) (0.48.9)\n",
            "Requirement already satisfied: overrides>=7.3.1 in /usr/local/lib/python3.11/dist-packages (from chromadb==0.6.3->-r https://raw.githubusercontent.com/teddylee777/langchain-kr/main/requirements.txt (line 29)) (7.7.0)\n",
            "Requirement already satisfied: importlib-resources in /usr/local/lib/python3.11/dist-packages (from chromadb==0.6.3->-r https://raw.githubusercontent.com/teddylee777/langchain-kr/main/requirements.txt (line 29)) (6.5.2)\n",
            "Requirement already satisfied: grpcio>=1.58.0 in /usr/local/lib/python3.11/dist-packages (from chromadb==0.6.3->-r https://raw.githubusercontent.com/teddylee777/langchain-kr/main/requirements.txt (line 29)) (1.67.1)\n",
            "Requirement already satisfied: bcrypt>=4.0.1 in /usr/local/lib/python3.11/dist-packages (from chromadb==0.6.3->-r https://raw.githubusercontent.com/teddylee777/langchain-kr/main/requirements.txt (line 29)) (4.3.0)\n",
            "Requirement already satisfied: typer>=0.9.0 in /usr/local/lib/python3.11/dist-packages (from chromadb==0.6.3->-r https://raw.githubusercontent.com/teddylee777/langchain-kr/main/requirements.txt (line 29)) (0.16.0)\n",
            "Requirement already satisfied: kubernetes>=28.1.0 in /usr/local/lib/python3.11/dist-packages (from chromadb==0.6.3->-r https://raw.githubusercontent.com/teddylee777/langchain-kr/main/requirements.txt (line 29)) (33.1.0)\n",
            "Requirement already satisfied: mmh3>=4.0.1 in /usr/local/lib/python3.11/dist-packages (from chromadb==0.6.3->-r https://raw.githubusercontent.com/teddylee777/langchain-kr/main/requirements.txt (line 29)) (4.1.0)\n",
            "Requirement already satisfied: rich>=10.11.0 in /usr/local/lib/python3.11/dist-packages (from chromadb==0.6.3->-r https://raw.githubusercontent.com/teddylee777/langchain-kr/main/requirements.txt (line 29)) (13.9.4)\n",
            "Requirement already satisfied: pypdfium2>=4.18.0 in /usr/local/lib/python3.11/dist-packages (from pdfplumber==0.11.5->-r https://raw.githubusercontent.com/teddylee777/langchain-kr/main/requirements.txt (line 33)) (4.30.0)\n",
            "Requirement already satisfied: charset-normalizer>=2.0.0 in /usr/local/lib/python3.11/dist-packages (from pdfminer-six==20231228->-r https://raw.githubusercontent.com/teddylee777/langchain-kr/main/requirements.txt (line 34)) (3.4.2)\n",
            "Requirement already satisfied: cryptography>=36.0.0 in /usr/local/lib/python3.11/dist-packages (from pdfminer-six==20231228->-r https://raw.githubusercontent.com/teddylee777/langchain-kr/main/requirements.txt (line 34)) (43.0.3)\n",
            "Requirement already satisfied: contourpy>=1.0.1 in /usr/local/lib/python3.11/dist-packages (from matplotlib==3.10.1->-r https://raw.githubusercontent.com/teddylee777/langchain-kr/main/requirements.txt (line 37)) (1.3.3)\n",
            "Requirement already satisfied: cycler>=0.10 in /usr/local/lib/python3.11/dist-packages (from matplotlib==3.10.1->-r https://raw.githubusercontent.com/teddylee777/langchain-kr/main/requirements.txt (line 37)) (0.12.1)\n",
            "Requirement already satisfied: fonttools>=4.22.0 in /usr/local/lib/python3.11/dist-packages (from matplotlib==3.10.1->-r https://raw.githubusercontent.com/teddylee777/langchain-kr/main/requirements.txt (line 37)) (4.59.0)\n",
            "Requirement already satisfied: kiwisolver>=1.3.1 in /usr/local/lib/python3.11/dist-packages (from matplotlib==3.10.1->-r https://raw.githubusercontent.com/teddylee777/langchain-kr/main/requirements.txt (line 37)) (1.4.8)\n",
            "Requirement already satisfied: pyparsing>=2.3.1 in /usr/local/lib/python3.11/dist-packages (from matplotlib==3.10.1->-r https://raw.githubusercontent.com/teddylee777/langchain-kr/main/requirements.txt (line 37)) (3.2.3)\n",
            "Requirement already satisfied: altair<6,>=4.0 in /usr/local/lib/python3.11/dist-packages (from streamlit==1.43.2->-r https://raw.githubusercontent.com/teddylee777/langchain-kr/main/requirements.txt (line 38)) (5.5.0)\n",
            "Requirement already satisfied: blinker<2,>=1.0.0 in /usr/local/lib/python3.11/dist-packages (from streamlit==1.43.2->-r https://raw.githubusercontent.com/teddylee777/langchain-kr/main/requirements.txt (line 38)) (1.9.0)\n",
            "Requirement already satisfied: cachetools<6,>=4.0 in /usr/local/lib/python3.11/dist-packages (from streamlit==1.43.2->-r https://raw.githubusercontent.com/teddylee777/langchain-kr/main/requirements.txt (line 38)) (5.5.2)\n",
            "Requirement already satisfied: click<9,>=7.0 in /usr/local/lib/python3.11/dist-packages (from streamlit==1.43.2->-r https://raw.githubusercontent.com/teddylee777/langchain-kr/main/requirements.txt (line 38)) (8.2.1)\n",
            "Requirement already satisfied: pyarrow>=7.0 in /usr/local/lib/python3.11/dist-packages (from streamlit==1.43.2->-r https://raw.githubusercontent.com/teddylee777/langchain-kr/main/requirements.txt (line 38)) (18.1.0)\n",
            "Requirement already satisfied: toml<2,>=0.10.1 in /usr/local/lib/python3.11/dist-packages (from streamlit==1.43.2->-r https://raw.githubusercontent.com/teddylee777/langchain-kr/main/requirements.txt (line 38)) (0.10.2)\n",
            "Requirement already satisfied: watchdog<7,>=2.1.5 in /usr/local/lib/python3.11/dist-packages (from streamlit==1.43.2->-r https://raw.githubusercontent.com/teddylee777/langchain-kr/main/requirements.txt (line 38)) (6.0.0)\n",
            "Requirement already satisfied: gitpython!=3.1.19,<4,>=3.0.7 in /usr/local/lib/python3.11/dist-packages (from streamlit==1.43.2->-r https://raw.githubusercontent.com/teddylee777/langchain-kr/main/requirements.txt (line 38)) (3.1.45)\n",
            "Requirement already satisfied: pydeck<1,>=0.8.0b4 in /usr/local/lib/python3.11/dist-packages (from streamlit==1.43.2->-r https://raw.githubusercontent.com/teddylee777/langchain-kr/main/requirements.txt (line 38)) (0.9.1)\n",
            "Requirement already satisfied: tornado<7,>=6.0.3 in /usr/local/lib/python3.11/dist-packages (from streamlit==1.43.2->-r https://raw.githubusercontent.com/teddylee777/langchain-kr/main/requirements.txt (line 38)) (6.4.2)\n",
            "Requirement already satisfied: jupyter-console in /usr/local/lib/python3.11/dist-packages (from jupyter==1.1.1->-r https://raw.githubusercontent.com/teddylee777/langchain-kr/main/requirements.txt (line 39)) (6.1.0)\n",
            "Requirement already satisfied: nbconvert in /usr/local/lib/python3.11/dist-packages (from jupyter==1.1.1->-r https://raw.githubusercontent.com/teddylee777/langchain-kr/main/requirements.txt (line 39)) (7.16.6)\n",
            "Requirement already satisfied: ipykernel in /usr/local/lib/python3.11/dist-packages (from jupyter==1.1.1->-r https://raw.githubusercontent.com/teddylee777/langchain-kr/main/requirements.txt (line 39)) (6.17.1)\n",
            "Requirement already satisfied: ipywidgets in /usr/local/lib/python3.11/dist-packages (from jupyter==1.1.1->-r https://raw.githubusercontent.com/teddylee777/langchain-kr/main/requirements.txt (line 39)) (7.7.1)\n",
            "Requirement already satisfied: jupyterlab in /usr/local/lib/python3.11/dist-packages (from jupyter==1.1.1->-r https://raw.githubusercontent.com/teddylee777/langchain-kr/main/requirements.txt (line 39)) (4.3.8)\n",
            "Requirement already satisfied: jupyter-server<3,>=2.4.0 in /usr/local/lib/python3.11/dist-packages (from notebook==7.3.3->-r https://raw.githubusercontent.com/teddylee777/langchain-kr/main/requirements.txt (line 40)) (2.16.0)\n",
            "Requirement already satisfied: jupyterlab-server<3,>=2.27.1 in /usr/local/lib/python3.11/dist-packages (from notebook==7.3.3->-r https://raw.githubusercontent.com/teddylee777/langchain-kr/main/requirements.txt (line 40)) (2.27.3)\n",
            "Requirement already satisfied: notebook-shim<0.3,>=0.2 in /usr/local/lib/python3.11/dist-packages (from notebook==7.3.3->-r https://raw.githubusercontent.com/teddylee777/langchain-kr/main/requirements.txt (line 40)) (0.2.4)\n",
            "Requirement already satisfied: networkx in /usr/local/lib/python3.11/dist-packages (from torch==2.6.0->-r https://raw.githubusercontent.com/teddylee777/langchain-kr/main/requirements.txt (line 42)) (3.5)\n",
            "Requirement already satisfied: jinja2 in /usr/local/lib/python3.11/dist-packages (from torch==2.6.0->-r https://raw.githubusercontent.com/teddylee777/langchain-kr/main/requirements.txt (line 42)) (3.1.6)\n",
            "Requirement already satisfied: nvidia-cuda-nvrtc-cu12==12.4.127 in /usr/local/lib/python3.11/dist-packages (from torch==2.6.0->-r https://raw.githubusercontent.com/teddylee777/langchain-kr/main/requirements.txt (line 42)) (12.4.127)\n",
            "Requirement already satisfied: nvidia-cuda-runtime-cu12==12.4.127 in /usr/local/lib/python3.11/dist-packages (from torch==2.6.0->-r https://raw.githubusercontent.com/teddylee777/langchain-kr/main/requirements.txt (line 42)) (12.4.127)\n",
            "Requirement already satisfied: nvidia-cuda-cupti-cu12==12.4.127 in /usr/local/lib/python3.11/dist-packages (from torch==2.6.0->-r https://raw.githubusercontent.com/teddylee777/langchain-kr/main/requirements.txt (line 42)) (12.4.127)\n",
            "Requirement already satisfied: nvidia-cudnn-cu12==9.1.0.70 in /usr/local/lib/python3.11/dist-packages (from torch==2.6.0->-r https://raw.githubusercontent.com/teddylee777/langchain-kr/main/requirements.txt (line 42)) (9.1.0.70)\n",
            "Requirement already satisfied: nvidia-cublas-cu12==12.4.5.8 in /usr/local/lib/python3.11/dist-packages (from torch==2.6.0->-r https://raw.githubusercontent.com/teddylee777/langchain-kr/main/requirements.txt (line 42)) (12.4.5.8)\n",
            "Requirement already satisfied: nvidia-cufft-cu12==11.2.1.3 in /usr/local/lib/python3.11/dist-packages (from torch==2.6.0->-r https://raw.githubusercontent.com/teddylee777/langchain-kr/main/requirements.txt (line 42)) (11.2.1.3)\n",
            "Requirement already satisfied: nvidia-curand-cu12==10.3.5.147 in /usr/local/lib/python3.11/dist-packages (from torch==2.6.0->-r https://raw.githubusercontent.com/teddylee777/langchain-kr/main/requirements.txt (line 42)) (10.3.5.147)\n",
            "Requirement already satisfied: nvidia-cusolver-cu12==11.6.1.9 in /usr/local/lib/python3.11/dist-packages (from torch==2.6.0->-r https://raw.githubusercontent.com/teddylee777/langchain-kr/main/requirements.txt (line 42)) (11.6.1.9)\n",
            "Requirement already satisfied: nvidia-cusparse-cu12==12.3.1.170 in /usr/local/lib/python3.11/dist-packages (from torch==2.6.0->-r https://raw.githubusercontent.com/teddylee777/langchain-kr/main/requirements.txt (line 42)) (12.3.1.170)\n",
            "Requirement already satisfied: nvidia-cusparselt-cu12==0.6.2 in /usr/local/lib/python3.11/dist-packages (from torch==2.6.0->-r https://raw.githubusercontent.com/teddylee777/langchain-kr/main/requirements.txt (line 42)) (0.6.2)\n",
            "Requirement already satisfied: nvidia-nccl-cu12==2.21.5 in /usr/local/lib/python3.11/dist-packages (from torch==2.6.0->-r https://raw.githubusercontent.com/teddylee777/langchain-kr/main/requirements.txt (line 42)) (2.21.5)\n",
            "Requirement already satisfied: nvidia-nvtx-cu12==12.4.127 in /usr/local/lib/python3.11/dist-packages (from torch==2.6.0->-r https://raw.githubusercontent.com/teddylee777/langchain-kr/main/requirements.txt (line 42)) (12.4.127)\n",
            "Requirement already satisfied: nvidia-nvjitlink-cu12==12.4.127 in /usr/local/lib/python3.11/dist-packages (from torch==2.6.0->-r https://raw.githubusercontent.com/teddylee777/langchain-kr/main/requirements.txt (line 42)) (12.4.127)\n",
            "Requirement already satisfied: triton==3.2.0 in /usr/local/lib/python3.11/dist-packages (from torch==2.6.0->-r https://raw.githubusercontent.com/teddylee777/langchain-kr/main/requirements.txt (line 42)) (3.2.0)\n",
            "Requirement already satisfied: sympy==1.13.1 in /usr/local/lib/python3.11/dist-packages (from torch==2.6.0->-r https://raw.githubusercontent.com/teddylee777/langchain-kr/main/requirements.txt (line 42)) (1.13.1)\n",
            "Requirement already satisfied: regex in /usr/local/lib/python3.11/dist-packages (from open-clip-torch==2.31.0->-r https://raw.githubusercontent.com/teddylee777/langchain-kr/main/requirements.txt (line 45)) (2024.11.6)\n",
            "Requirement already satisfied: ftfy in /usr/local/lib/python3.11/dist-packages (from open-clip-torch==2.31.0->-r https://raw.githubusercontent.com/teddylee777/langchain-kr/main/requirements.txt (line 45)) (6.3.1)\n",
            "Requirement already satisfied: safetensors in /usr/local/lib/python3.11/dist-packages (from open-clip-torch==2.31.0->-r https://raw.githubusercontent.com/teddylee777/langchain-kr/main/requirements.txt (line 45)) (0.6.1)\n",
            "Requirement already satisfied: timm in /usr/local/lib/python3.11/dist-packages (from open-clip-torch==2.31.0->-r https://raw.githubusercontent.com/teddylee777/langchain-kr/main/requirements.txt (line 45)) (1.0.19)\n",
            "Requirement already satisfied: annotated-types>=0.6.0 in /usr/local/lib/python3.11/dist-packages (from pydantic==2.10.6->-r https://raw.githubusercontent.com/teddylee777/langchain-kr/main/requirements.txt (line 48)) (0.7.0)\n",
            "Requirement already satisfied: pydantic-core==2.27.2 in /usr/local/lib/python3.11/dist-packages (from pydantic==2.10.6->-r https://raw.githubusercontent.com/teddylee777/langchain-kr/main/requirements.txt (line 48)) (2.27.2)\n",
            "Requirement already satisfied: datasets in /usr/local/lib/python3.11/dist-packages (from ragas==0.2.14->-r https://raw.githubusercontent.com/teddylee777/langchain-kr/main/requirements.txt (line 52)) (4.0.0)\n",
            "Requirement already satisfied: appdirs in /usr/local/lib/python3.11/dist-packages (from ragas==0.2.14->-r https://raw.githubusercontent.com/teddylee777/langchain-kr/main/requirements.txt (line 52)) (1.4.4)\n",
            "Requirement already satisfied: diskcache>=5.6.3 in /usr/local/lib/python3.11/dist-packages (from ragas==0.2.14->-r https://raw.githubusercontent.com/teddylee777/langchain-kr/main/requirements.txt (line 52)) (5.6.3)\n",
            "Requirement already satisfied: chardet in /usr/local/lib/python3.11/dist-packages (from unstructured==0.17.0->-r https://raw.githubusercontent.com/teddylee777/langchain-kr/main/requirements.txt (line 53)) (5.2.0)\n",
            "Requirement already satisfied: python-magic in /usr/local/lib/python3.11/dist-packages (from unstructured==0.17.0->-r https://raw.githubusercontent.com/teddylee777/langchain-kr/main/requirements.txt (line 53)) (0.4.27)\n",
            "Requirement already satisfied: nltk in /usr/local/lib/python3.11/dist-packages (from unstructured==0.17.0->-r https://raw.githubusercontent.com/teddylee777/langchain-kr/main/requirements.txt (line 53)) (3.9.1)\n",
            "Requirement already satisfied: beautifulsoup4 in /usr/local/lib/python3.11/dist-packages (from unstructured==0.17.0->-r https://raw.githubusercontent.com/teddylee777/langchain-kr/main/requirements.txt (line 53)) (4.13.4)\n",
            "Requirement already satisfied: emoji in /usr/local/lib/python3.11/dist-packages (from unstructured==0.17.0->-r https://raw.githubusercontent.com/teddylee777/langchain-kr/main/requirements.txt (line 53)) (2.14.1)\n",
            "Requirement already satisfied: python-iso639 in /usr/local/lib/python3.11/dist-packages (from unstructured==0.17.0->-r https://raw.githubusercontent.com/teddylee777/langchain-kr/main/requirements.txt (line 53)) (2025.2.18)\n",
            "Requirement already satisfied: langdetect in /usr/local/lib/python3.11/dist-packages (from unstructured==0.17.0->-r https://raw.githubusercontent.com/teddylee777/langchain-kr/main/requirements.txt (line 53)) (1.0.9)\n",
            "Requirement already satisfied: rapidfuzz in /usr/local/lib/python3.11/dist-packages (from unstructured==0.17.0->-r https://raw.githubusercontent.com/teddylee777/langchain-kr/main/requirements.txt (line 53)) (3.13.0)\n",
            "Requirement already satisfied: backoff in /usr/local/lib/python3.11/dist-packages (from unstructured==0.17.0->-r https://raw.githubusercontent.com/teddylee777/langchain-kr/main/requirements.txt (line 53)) (2.2.1)\n",
            "Requirement already satisfied: unstructured-client in /usr/local/lib/python3.11/dist-packages (from unstructured==0.17.0->-r https://raw.githubusercontent.com/teddylee777/langchain-kr/main/requirements.txt (line 53)) (0.32.3)\n",
            "Requirement already satisfied: wrapt in /usr/local/lib/python3.11/dist-packages (from unstructured==0.17.0->-r https://raw.githubusercontent.com/teddylee777/langchain-kr/main/requirements.txt (line 53)) (1.17.2)\n",
            "Requirement already satisfied: psutil in /usr/local/lib/python3.11/dist-packages (from unstructured==0.17.0->-r https://raw.githubusercontent.com/teddylee777/langchain-kr/main/requirements.txt (line 53)) (5.9.5)\n",
            "Requirement already satisfied: python-oxmsg in /usr/local/lib/python3.11/dist-packages (from unstructured==0.17.0->-r https://raw.githubusercontent.com/teddylee777/langchain-kr/main/requirements.txt (line 53)) (0.0.2)\n",
            "Requirement already satisfied: html5lib in /usr/local/lib/python3.11/dist-packages (from unstructured==0.17.0->-r https://raw.githubusercontent.com/teddylee777/langchain-kr/main/requirements.txt (line 53)) (1.1)\n",
            "Requirement already satisfied: setuptools>69 in /usr/local/lib/python3.11/dist-packages (from pymilvus==2.5.5->-r https://raw.githubusercontent.com/teddylee777/langchain-kr/main/requirements.txt (line 57)) (75.2.0)\n",
            "Requirement already satisfied: ujson>=2.0.0 in /usr/local/lib/python3.11/dist-packages (from pymilvus==2.5.5->-r https://raw.githubusercontent.com/teddylee777/langchain-kr/main/requirements.txt (line 57)) (5.10.0)\n",
            "Requirement already satisfied: milvus-lite>=2.4.0 in /usr/local/lib/python3.11/dist-packages (from pymilvus==2.5.5->-r https://raw.githubusercontent.com/teddylee777/langchain-kr/main/requirements.txt (line 57)) (2.5.1)\n",
            "Requirement already satisfied: greenlet!=0.4.17 in /usr/local/lib/python3.11/dist-packages (from sqlalchemy==2.0.39->-r https://raw.githubusercontent.com/teddylee777/langchain-kr/main/requirements.txt (line 60)) (3.2.3)\n",
            "Requirement already satisfied: deprecated>=1.2.9.3 in /usr/local/lib/python3.11/dist-packages (from llama-index-core==0.11.23->-r https://raw.githubusercontent.com/teddylee777/langchain-kr/main/requirements.txt (line 61)) (1.2.18)\n",
            "Requirement already satisfied: dirtyjson<2.0.0,>=1.0.8 in /usr/local/lib/python3.11/dist-packages (from llama-index-core==0.11.23->-r https://raw.githubusercontent.com/teddylee777/langchain-kr/main/requirements.txt (line 61)) (1.0.8)\n",
            "Requirement already satisfied: typing-inspect>=0.8.0 in /usr/local/lib/python3.11/dist-packages (from llama-index-core==0.11.23->-r https://raw.githubusercontent.com/teddylee777/langchain-kr/main/requirements.txt (line 61)) (0.9.0)\n",
            "Requirement already satisfied: llama-cloud-services>=0.6.4 in /usr/local/lib/python3.11/dist-packages (from llama-parse==0.6.4.post1->-r https://raw.githubusercontent.com/teddylee777/langchain-kr/main/requirements.txt (line 62)) (0.6.21)\n",
            "Requirement already satisfied: striprtf<0.0.27,>=0.0.26 in /usr/local/lib/python3.11/dist-packages (from llama-index-readers-file==0.2.2->-r https://raw.githubusercontent.com/teddylee777/langchain-kr/main/requirements.txt (line 63)) (0.0.26)\n",
            "Requirement already satisfied: pyclipper>=1.2.0 in /usr/local/lib/python3.11/dist-packages (from rapidocr-onnxruntime==1.4.4->-r https://raw.githubusercontent.com/teddylee777/langchain-kr/main/requirements.txt (line 67)) (1.3.0.post6)\n",
            "Requirement already satisfied: opencv-python>=4.5.1.48 in /usr/local/lib/python3.11/dist-packages (from rapidocr-onnxruntime==1.4.4->-r https://raw.githubusercontent.com/teddylee777/langchain-kr/main/requirements.txt (line 67)) (4.11.0.86)\n",
            "Requirement already satisfied: six>=1.15.0 in /usr/local/lib/python3.11/dist-packages (from rapidocr-onnxruntime==1.4.4->-r https://raw.githubusercontent.com/teddylee777/langchain-kr/main/requirements.txt (line 67)) (1.17.0)\n",
            "Requirement already satisfied: Shapely!=2.0.4,>=1.7.1 in /usr/local/lib/python3.11/dist-packages (from rapidocr-onnxruntime==1.4.4->-r https://raw.githubusercontent.com/teddylee777/langchain-kr/main/requirements.txt (line 67)) (2.1.1)\n",
            "Requirement already satisfied: absl-py in /usr/local/lib/python3.11/dist-packages (from rouge-score==0.1.2->-r https://raw.githubusercontent.com/teddylee777/langchain-kr/main/requirements.txt (line 70)) (1.4.0)\n",
            "Requirement already satisfied: ollama<1,>=0.4.4 in /usr/local/lib/python3.11/dist-packages (from langchain-ollama==0.2.3->-r https://raw.githubusercontent.com/teddylee777/langchain-kr/main/requirements.txt (line 71)) (0.5.3)\n",
            "Requirement already satisfied: mypy_extensions>=1.0.0 in /usr/local/lib/python3.11/dist-packages (from mypy==1.15.0->-r https://raw.githubusercontent.com/teddylee777/langchain-kr/main/requirements.txt (line 72)) (1.1.0)\n",
            "Requirement already satisfied: certifi>=2019.11.17 in /usr/local/lib/python3.11/dist-packages (from pinecone==5.4.2->-r https://raw.githubusercontent.com/teddylee777/langchain-kr/main/requirements.txt (line 73)) (2025.8.3)\n",
            "Requirement already satisfied: pinecone-plugin-inference<4.0.0,>=2.0.0 in /usr/local/lib/python3.11/dist-packages (from pinecone==5.4.2->-r https://raw.githubusercontent.com/teddylee777/langchain-kr/main/requirements.txt (line 73)) (3.1.0)\n",
            "Requirement already satisfied: pinecone-plugin-interface<0.0.8,>=0.0.7 in /usr/local/lib/python3.11/dist-packages (from pinecone==5.4.2->-r https://raw.githubusercontent.com/teddylee777/langchain-kr/main/requirements.txt (line 73)) (0.0.7)\n",
            "Requirement already satisfied: urllib3>=1.26.0 in /usr/local/lib/python3.11/dist-packages (from pinecone==5.4.2->-r https://raw.githubusercontent.com/teddylee777/langchain-kr/main/requirements.txt (line 73)) (2.5.0)\n",
            "Requirement already satisfied: scipy>=1.6.0 in /usr/local/lib/python3.11/dist-packages (from scikit-learn==1.6.1->-r https://raw.githubusercontent.com/teddylee777/langchain-kr/main/requirements.txt (line 75)) (1.16.1)\n",
            "Requirement already satisfied: joblib>=1.2.0 in /usr/local/lib/python3.11/dist-packages (from scikit-learn==1.6.1->-r https://raw.githubusercontent.com/teddylee777/langchain-kr/main/requirements.txt (line 75)) (1.5.1)\n",
            "Requirement already satisfied: threadpoolctl>=3.1.0 in /usr/local/lib/python3.11/dist-packages (from scikit-learn==1.6.1->-r https://raw.githubusercontent.com/teddylee777/langchain-kr/main/requirements.txt (line 75)) (3.6.0)\n",
            "Requirement already satisfied: mpmath<1.4,>=1.1.0 in /usr/local/lib/python3.11/dist-packages (from sympy==1.13.1->torch==2.6.0->-r https://raw.githubusercontent.com/teddylee777/langchain-kr/main/requirements.txt (line 42)) (1.3.0)\n",
            "Requirement already satisfied: aiohappyeyeballs>=2.5.0 in /usr/local/lib/python3.11/dist-packages (from aiohttp<4.0.0,>=3.8.3->langchain-community==0.3.20->-r https://raw.githubusercontent.com/teddylee777/langchain-kr/main/requirements.txt (line 4)) (2.6.1)\n",
            "Requirement already satisfied: aiosignal>=1.4.0 in /usr/local/lib/python3.11/dist-packages (from aiohttp<4.0.0,>=3.8.3->langchain-community==0.3.20->-r https://raw.githubusercontent.com/teddylee777/langchain-kr/main/requirements.txt (line 4)) (1.4.0)\n",
            "Requirement already satisfied: attrs>=17.3.0 in /usr/local/lib/python3.11/dist-packages (from aiohttp<4.0.0,>=3.8.3->langchain-community==0.3.20->-r https://raw.githubusercontent.com/teddylee777/langchain-kr/main/requirements.txt (line 4)) (25.3.0)\n",
            "Requirement already satisfied: frozenlist>=1.1.1 in /usr/local/lib/python3.11/dist-packages (from aiohttp<4.0.0,>=3.8.3->langchain-community==0.3.20->-r https://raw.githubusercontent.com/teddylee777/langchain-kr/main/requirements.txt (line 4)) (1.7.0)\n",
            "Requirement already satisfied: multidict<7.0,>=4.5 in /usr/local/lib/python3.11/dist-packages (from aiohttp<4.0.0,>=3.8.3->langchain-community==0.3.20->-r https://raw.githubusercontent.com/teddylee777/langchain-kr/main/requirements.txt (line 4)) (6.6.3)\n",
            "Requirement already satisfied: propcache>=0.2.0 in /usr/local/lib/python3.11/dist-packages (from aiohttp<4.0.0,>=3.8.3->langchain-community==0.3.20->-r https://raw.githubusercontent.com/teddylee777/langchain-kr/main/requirements.txt (line 4)) (0.3.2)\n",
            "Requirement already satisfied: yarl<2.0,>=1.17.0 in /usr/local/lib/python3.11/dist-packages (from aiohttp<4.0.0,>=3.8.3->langchain-community==0.3.20->-r https://raw.githubusercontent.com/teddylee777/langchain-kr/main/requirements.txt (line 4)) (1.20.1)\n",
            "Requirement already satisfied: jsonschema>=3.0 in /usr/local/lib/python3.11/dist-packages (from altair<6,>=4.0->streamlit==1.43.2->-r https://raw.githubusercontent.com/teddylee777/langchain-kr/main/requirements.txt (line 38)) (4.25.0)\n",
            "Requirement already satisfied: narwhals>=1.14.2 in /usr/local/lib/python3.11/dist-packages (from altair<6,>=4.0->streamlit==1.43.2->-r https://raw.githubusercontent.com/teddylee777/langchain-kr/main/requirements.txt (line 38)) (2.0.1)\n",
            "Requirement already satisfied: idna>=2.8 in /usr/local/lib/python3.11/dist-packages (from anyio<5,>=3.5.0->openai==1.67.0->-r https://raw.githubusercontent.com/teddylee777/langchain-kr/main/requirements.txt (line 20)) (3.10)\n",
            "Requirement already satisfied: isodate>=0.6.1 in /usr/local/lib/python3.11/dist-packages (from azure-ai-inference<2.0.0,>=1.0.0b7->azure-ai-inference[opentelemetry]<2.0.0,>=1.0.0b7->langchain-azure-ai==0.1.2->-r https://raw.githubusercontent.com/teddylee777/langchain-kr/main/requirements.txt (line 14)) (0.7.2)\n",
            "Requirement already satisfied: azure-core-tracing-opentelemetry in /usr/local/lib/python3.11/dist-packages (from azure-ai-inference[opentelemetry]<2.0.0,>=1.0.0b7->langchain-azure-ai==0.1.2->-r https://raw.githubusercontent.com/teddylee777/langchain-kr/main/requirements.txt (line 14)) (1.0.0b12)\n",
            "Requirement already satisfied: msal>=1.30.0 in /usr/local/lib/python3.11/dist-packages (from azure-identity<2.0.0,>=1.15.0->langchain-azure-ai==0.1.2->-r https://raw.githubusercontent.com/teddylee777/langchain-kr/main/requirements.txt (line 14)) (1.33.0)\n",
            "Requirement already satisfied: msal-extensions>=1.2.0 in /usr/local/lib/python3.11/dist-packages (from azure-identity<2.0.0,>=1.15.0->langchain-azure-ai==0.1.2->-r https://raw.githubusercontent.com/teddylee777/langchain-kr/main/requirements.txt (line 14)) (1.3.1)\n",
            "Requirement already satisfied: soupsieve>1.2 in /usr/local/lib/python3.11/dist-packages (from beautifulsoup4->unstructured==0.17.0->-r https://raw.githubusercontent.com/teddylee777/langchain-kr/main/requirements.txt (line 53)) (2.7)\n",
            "Requirement already satisfied: pyproject_hooks in /usr/local/lib/python3.11/dist-packages (from build>=1.0.3->chromadb==0.6.3->-r https://raw.githubusercontent.com/teddylee777/langchain-kr/main/requirements.txt (line 29)) (1.2.0)\n",
            "Requirement already satisfied: fastavro<2.0.0,>=1.9.4 in /usr/local/lib/python3.11/dist-packages (from cohere<6.0,>=5.12.0->langchain-cohere==0.4.3->-r https://raw.githubusercontent.com/teddylee777/langchain-kr/main/requirements.txt (line 10)) (1.12.0)\n",
            "Requirement already satisfied: cffi>=1.12 in /usr/local/lib/python3.11/dist-packages (from cryptography>=36.0.0->pdfminer-six==20231228->-r https://raw.githubusercontent.com/teddylee777/langchain-kr/main/requirements.txt (line 34)) (1.17.1)\n",
            "Requirement already satisfied: marshmallow<4.0.0,>=3.18.0 in /usr/local/lib/python3.11/dist-packages (from dataclasses-json<0.7,>=0.5.7->langchain-community==0.3.20->-r https://raw.githubusercontent.com/teddylee777/langchain-kr/main/requirements.txt (line 4)) (3.26.1)\n",
            "Requirement already satisfied: elastic-transport<9,>=8.15.1 in /usr/local/lib/python3.11/dist-packages (from elasticsearch<9.0.0,>=8.13.1->elasticsearch[vectorstore-mmr]<9.0.0,>=8.13.1->langchain-elasticsearch==0.3.2->-r https://raw.githubusercontent.com/teddylee777/langchain-kr/main/requirements.txt (line 8)) (8.17.1)\n",
            "Requirement already satisfied: starlette<0.48.0,>=0.40.0 in /usr/local/lib/python3.11/dist-packages (from fastapi>=0.95.2->chromadb==0.6.3->-r https://raw.githubusercontent.com/teddylee777/langchain-kr/main/requirements.txt (line 29)) (0.47.2)\n",
            "Requirement already satisfied: sgmllib3k in /usr/local/lib/python3.11/dist-packages (from feedparser->langchain-teddynote==0.3.44->-r https://raw.githubusercontent.com/teddylee777/langchain-kr/main/requirements.txt (line 15)) (1.0.0)\n",
            "Requirement already satisfied: gitdb<5,>=4.0.1 in /usr/local/lib/python3.11/dist-packages (from gitpython!=3.1.19,<4,>=3.0.7->streamlit==1.43.2->-r https://raw.githubusercontent.com/teddylee777/langchain-kr/main/requirements.txt (line 38)) (4.0.12)\n",
            "Requirement already satisfied: google-api-core!=2.0.*,!=2.1.*,!=2.10.*,!=2.2.*,!=2.3.*,!=2.4.*,!=2.5.*,!=2.6.*,!=2.7.*,!=2.8.*,!=2.9.*,<3.0.0,>=1.34.1 in /usr/local/lib/python3.11/dist-packages (from google-api-core[grpc]!=2.0.*,!=2.1.*,!=2.10.*,!=2.2.*,!=2.3.*,!=2.4.*,!=2.5.*,!=2.6.*,!=2.7.*,!=2.8.*,!=2.9.*,<3.0.0,>=1.34.1->google-ai-generativelanguage<0.7.0,>=0.6.16->langchain-google-genai==2.1.0->-r https://raw.githubusercontent.com/teddylee777/langchain-kr/main/requirements.txt (line 12)) (1.34.1)\n",
            "Requirement already satisfied: google-auth!=2.24.0,!=2.25.0,<3.0.0,>=2.14.1 in /usr/local/lib/python3.11/dist-packages (from google-ai-generativelanguage<0.7.0,>=0.6.16->langchain-google-genai==2.1.0->-r https://raw.githubusercontent.com/teddylee777/langchain-kr/main/requirements.txt (line 12)) (2.38.0)\n",
            "Requirement already satisfied: proto-plus<2.0.0,>=1.22.3 in /usr/local/lib/python3.11/dist-packages (from google-ai-generativelanguage<0.7.0,>=0.6.16->langchain-google-genai==2.1.0->-r https://raw.githubusercontent.com/teddylee777/langchain-kr/main/requirements.txt (line 12)) (1.26.1)\n",
            "Requirement already satisfied: httpcore==1.* in /usr/local/lib/python3.11/dist-packages (from httpx<1,>=0.23.0->langsmith==0.3.18->-r https://raw.githubusercontent.com/teddylee777/langchain-kr/main/requirements.txt (line 18)) (1.0.9)\n",
            "Requirement already satisfied: h11>=0.16 in /usr/local/lib/python3.11/dist-packages (from httpcore==1.*->httpx<1,>=0.23.0->langsmith==0.3.18->-r https://raw.githubusercontent.com/teddylee777/langchain-kr/main/requirements.txt (line 18)) (0.16.0)\n",
            "Requirement already satisfied: jsonpointer>=1.9 in /usr/local/lib/python3.11/dist-packages (from jsonpatch<2.0,>=1.33->langchain-core==0.3.46->-r https://raw.githubusercontent.com/teddylee777/langchain-kr/main/requirements.txt (line 2)) (3.0.0)\n",
            "Requirement already satisfied: argon2-cffi>=21.1 in /usr/local/lib/python3.11/dist-packages (from jupyter-server<3,>=2.4.0->notebook==7.3.3->-r https://raw.githubusercontent.com/teddylee777/langchain-kr/main/requirements.txt (line 40)) (25.1.0)\n",
            "Requirement already satisfied: jupyter-client>=7.4.4 in /usr/local/lib/python3.11/dist-packages (from jupyter-server<3,>=2.4.0->notebook==7.3.3->-r https://raw.githubusercontent.com/teddylee777/langchain-kr/main/requirements.txt (line 40)) (8.6.3)\n",
            "Requirement already satisfied: jupyter-core!=5.0.*,>=4.12 in /usr/local/lib/python3.11/dist-packages (from jupyter-server<3,>=2.4.0->notebook==7.3.3->-r https://raw.githubusercontent.com/teddylee777/langchain-kr/main/requirements.txt (line 40)) (5.8.1)\n",
            "Requirement already satisfied: jupyter-events>=0.11.0 in /usr/local/lib/python3.11/dist-packages (from jupyter-server<3,>=2.4.0->notebook==7.3.3->-r https://raw.githubusercontent.com/teddylee777/langchain-kr/main/requirements.txt (line 40)) (0.12.0)\n",
            "Requirement already satisfied: jupyter-server-terminals>=0.4.4 in /usr/local/lib/python3.11/dist-packages (from jupyter-server<3,>=2.4.0->notebook==7.3.3->-r https://raw.githubusercontent.com/teddylee777/langchain-kr/main/requirements.txt (line 40)) (0.5.3)\n",
            "Requirement already satisfied: nbformat>=5.3.0 in /usr/local/lib/python3.11/dist-packages (from jupyter-server<3,>=2.4.0->notebook==7.3.3->-r https://raw.githubusercontent.com/teddylee777/langchain-kr/main/requirements.txt (line 40)) (5.10.4)\n",
            "Requirement already satisfied: prometheus-client>=0.9 in /usr/local/lib/python3.11/dist-packages (from jupyter-server<3,>=2.4.0->notebook==7.3.3->-r https://raw.githubusercontent.com/teddylee777/langchain-kr/main/requirements.txt (line 40)) (0.22.1)\n",
            "Requirement already satisfied: pyzmq>=24 in /usr/local/lib/python3.11/dist-packages (from jupyter-server<3,>=2.4.0->notebook==7.3.3->-r https://raw.githubusercontent.com/teddylee777/langchain-kr/main/requirements.txt (line 40)) (26.2.1)\n",
            "Requirement already satisfied: send2trash>=1.8.2 in /usr/local/lib/python3.11/dist-packages (from jupyter-server<3,>=2.4.0->notebook==7.3.3->-r https://raw.githubusercontent.com/teddylee777/langchain-kr/main/requirements.txt (line 40)) (1.8.3)\n",
            "Requirement already satisfied: terminado>=0.8.3 in /usr/local/lib/python3.11/dist-packages (from jupyter-server<3,>=2.4.0->notebook==7.3.3->-r https://raw.githubusercontent.com/teddylee777/langchain-kr/main/requirements.txt (line 40)) (0.18.1)\n",
            "Requirement already satisfied: traitlets>=5.6.0 in /usr/local/lib/python3.11/dist-packages (from jupyter-server<3,>=2.4.0->notebook==7.3.3->-r https://raw.githubusercontent.com/teddylee777/langchain-kr/main/requirements.txt (line 40)) (5.7.1)\n",
            "Requirement already satisfied: websocket-client>=1.7 in /usr/local/lib/python3.11/dist-packages (from jupyter-server<3,>=2.4.0->notebook==7.3.3->-r https://raw.githubusercontent.com/teddylee777/langchain-kr/main/requirements.txt (line 40)) (1.8.0)\n",
            "Requirement already satisfied: MarkupSafe>=2.0 in /usr/local/lib/python3.11/dist-packages (from jinja2->torch==2.6.0->-r https://raw.githubusercontent.com/teddylee777/langchain-kr/main/requirements.txt (line 42)) (3.0.2)\n",
            "Requirement already satisfied: async-lru>=1.0.0 in /usr/local/lib/python3.11/dist-packages (from jupyterlab->jupyter==1.1.1->-r https://raw.githubusercontent.com/teddylee777/langchain-kr/main/requirements.txt (line 39)) (2.0.5)\n",
            "Requirement already satisfied: jupyter-lsp>=2.0.0 in /usr/local/lib/python3.11/dist-packages (from jupyterlab->jupyter==1.1.1->-r https://raw.githubusercontent.com/teddylee777/langchain-kr/main/requirements.txt (line 39)) (2.2.6)\n",
            "Requirement already satisfied: debugpy>=1.0 in /usr/local/lib/python3.11/dist-packages (from ipykernel->jupyter==1.1.1->-r https://raw.githubusercontent.com/teddylee777/langchain-kr/main/requirements.txt (line 39)) (1.8.15)\n",
            "Requirement already satisfied: ipython>=7.23.1 in /usr/local/lib/python3.11/dist-packages (from ipykernel->jupyter==1.1.1->-r https://raw.githubusercontent.com/teddylee777/langchain-kr/main/requirements.txt (line 39)) (7.34.0)\n",
            "Requirement already satisfied: matplotlib-inline>=0.1 in /usr/local/lib/python3.11/dist-packages (from ipykernel->jupyter==1.1.1->-r https://raw.githubusercontent.com/teddylee777/langchain-kr/main/requirements.txt (line 39)) (0.1.7)\n",
            "Requirement already satisfied: babel>=2.10 in /usr/local/lib/python3.11/dist-packages (from jupyterlab-server<3,>=2.27.1->notebook==7.3.3->-r https://raw.githubusercontent.com/teddylee777/langchain-kr/main/requirements.txt (line 40)) (2.17.0)\n",
            "Requirement already satisfied: json5>=0.9.0 in /usr/local/lib/python3.11/dist-packages (from jupyterlab-server<3,>=2.27.1->notebook==7.3.3->-r https://raw.githubusercontent.com/teddylee777/langchain-kr/main/requirements.txt (line 40)) (0.12.0)\n",
            "Requirement already satisfied: requests-oauthlib in /usr/local/lib/python3.11/dist-packages (from kubernetes>=28.1.0->chromadb==0.6.3->-r https://raw.githubusercontent.com/teddylee777/langchain-kr/main/requirements.txt (line 29)) (2.0.0)\n",
            "Requirement already satisfied: oauthlib>=3.2.2 in /usr/local/lib/python3.11/dist-packages (from kubernetes>=28.1.0->chromadb==0.6.3->-r https://raw.githubusercontent.com/teddylee777/langchain-kr/main/requirements.txt (line 29)) (3.3.1)\n",
            "Requirement already satisfied: durationpy>=0.7 in /usr/local/lib/python3.11/dist-packages (from kubernetes>=28.1.0->chromadb==0.6.3->-r https://raw.githubusercontent.com/teddylee777/langchain-kr/main/requirements.txt (line 29)) (0.10)\n",
            "Requirement already satisfied: ormsgpack>=1.10.0 in /usr/local/lib/python3.11/dist-packages (from langgraph-checkpoint<3.0.0,>=2.0.10->langgraph==0.3.18->-r https://raw.githubusercontent.com/teddylee777/langchain-kr/main/requirements.txt (line 17)) (1.10.0)\n",
            "Requirement already satisfied: llama-cloud==0.1.19 in /usr/local/lib/python3.11/dist-packages (from llama-cloud-services>=0.6.4->llama-parse==0.6.4.post1->-r https://raw.githubusercontent.com/teddylee777/langchain-kr/main/requirements.txt (line 62)) (0.1.19)\n",
            "Requirement already satisfied: platformdirs<5.0.0,>=4.3.7 in /usr/local/lib/python3.11/dist-packages (from llama-cloud-services>=0.6.4->llama-parse==0.6.4.post1->-r https://raw.githubusercontent.com/teddylee777/langchain-kr/main/requirements.txt (line 62)) (4.3.8)\n",
            "Requirement already satisfied: bleach!=5.0.0 in /usr/local/lib/python3.11/dist-packages (from bleach[css]!=5.0.0->nbconvert->jupyter==1.1.1->-r https://raw.githubusercontent.com/teddylee777/langchain-kr/main/requirements.txt (line 39)) (6.2.0)\n",
            "Requirement already satisfied: defusedxml in /usr/local/lib/python3.11/dist-packages (from nbconvert->jupyter==1.1.1->-r https://raw.githubusercontent.com/teddylee777/langchain-kr/main/requirements.txt (line 39)) (0.7.1)\n",
            "Requirement already satisfied: jupyterlab-pygments in /usr/local/lib/python3.11/dist-packages (from nbconvert->jupyter==1.1.1->-r https://raw.githubusercontent.com/teddylee777/langchain-kr/main/requirements.txt (line 39)) (0.3.0)\n",
            "Requirement already satisfied: mistune<4,>=2.0.3 in /usr/local/lib/python3.11/dist-packages (from nbconvert->jupyter==1.1.1->-r https://raw.githubusercontent.com/teddylee777/langchain-kr/main/requirements.txt (line 39)) (3.1.3)\n",
            "Requirement already satisfied: nbclient>=0.5.0 in /usr/local/lib/python3.11/dist-packages (from nbconvert->jupyter==1.1.1->-r https://raw.githubusercontent.com/teddylee777/langchain-kr/main/requirements.txt (line 39)) (0.10.2)\n",
            "Requirement already satisfied: pandocfilters>=1.4.1 in /usr/local/lib/python3.11/dist-packages (from nbconvert->jupyter==1.1.1->-r https://raw.githubusercontent.com/teddylee777/langchain-kr/main/requirements.txt (line 39)) (1.5.1)\n",
            "Requirement already satisfied: pygments>=2.4.1 in /usr/local/lib/python3.11/dist-packages (from nbconvert->jupyter==1.1.1->-r https://raw.githubusercontent.com/teddylee777/langchain-kr/main/requirements.txt (line 39)) (2.19.2)\n",
            "Requirement already satisfied: coloredlogs in /usr/local/lib/python3.11/dist-packages (from onnxruntime>=1.14.1->chromadb==0.6.3->-r https://raw.githubusercontent.com/teddylee777/langchain-kr/main/requirements.txt (line 29)) (15.0.1)\n",
            "Requirement already satisfied: flatbuffers in /usr/local/lib/python3.11/dist-packages (from onnxruntime>=1.14.1->chromadb==0.6.3->-r https://raw.githubusercontent.com/teddylee777/langchain-kr/main/requirements.txt (line 29)) (25.2.10)\n",
            "Requirement already satisfied: importlib-metadata<=8.4.0,>=6.0 in /usr/local/lib/python3.11/dist-packages (from opentelemetry-api>=1.2.0->chromadb==0.6.3->-r https://raw.githubusercontent.com/teddylee777/langchain-kr/main/requirements.txt (line 29)) (8.4.0)\n",
            "Requirement already satisfied: googleapis-common-protos~=1.52 in /usr/local/lib/python3.11/dist-packages (from opentelemetry-exporter-otlp-proto-grpc>=1.2.0->chromadb==0.6.3->-r https://raw.githubusercontent.com/teddylee777/langchain-kr/main/requirements.txt (line 29)) (1.70.0)\n",
            "Requirement already satisfied: opentelemetry-exporter-otlp-proto-common==1.27.0 in /usr/local/lib/python3.11/dist-packages (from opentelemetry-exporter-otlp-proto-grpc>=1.2.0->chromadb==0.6.3->-r https://raw.githubusercontent.com/teddylee777/langchain-kr/main/requirements.txt (line 29)) (1.27.0)\n",
            "Requirement already satisfied: opentelemetry-proto==1.27.0 in /usr/local/lib/python3.11/dist-packages (from opentelemetry-exporter-otlp-proto-grpc>=1.2.0->chromadb==0.6.3->-r https://raw.githubusercontent.com/teddylee777/langchain-kr/main/requirements.txt (line 29)) (1.27.0)\n",
            "Requirement already satisfied: opentelemetry-instrumentation-asgi==0.48b0 in /usr/local/lib/python3.11/dist-packages (from opentelemetry-instrumentation-fastapi>=0.41b0->chromadb==0.6.3->-r https://raw.githubusercontent.com/teddylee777/langchain-kr/main/requirements.txt (line 29)) (0.48b0)\n",
            "Requirement already satisfied: opentelemetry-instrumentation==0.48b0 in /usr/local/lib/python3.11/dist-packages (from opentelemetry-instrumentation-fastapi>=0.41b0->chromadb==0.6.3->-r https://raw.githubusercontent.com/teddylee777/langchain-kr/main/requirements.txt (line 29)) (0.48b0)\n",
            "Requirement already satisfied: opentelemetry-semantic-conventions==0.48b0 in /usr/local/lib/python3.11/dist-packages (from opentelemetry-instrumentation-fastapi>=0.41b0->chromadb==0.6.3->-r https://raw.githubusercontent.com/teddylee777/langchain-kr/main/requirements.txt (line 29)) (0.48b0)\n",
            "Requirement already satisfied: opentelemetry-util-http==0.48b0 in /usr/local/lib/python3.11/dist-packages (from opentelemetry-instrumentation-fastapi>=0.41b0->chromadb==0.6.3->-r https://raw.githubusercontent.com/teddylee777/langchain-kr/main/requirements.txt (line 29)) (0.48b0)\n",
            "Requirement already satisfied: asgiref~=3.0 in /usr/local/lib/python3.11/dist-packages (from opentelemetry-instrumentation-asgi==0.48b0->opentelemetry-instrumentation-fastapi>=0.41b0->chromadb==0.6.3->-r https://raw.githubusercontent.com/teddylee777/langchain-kr/main/requirements.txt (line 29)) (3.9.1)\n",
            "Requirement already satisfied: typing-inspection>=0.4.0 in /usr/local/lib/python3.11/dist-packages (from pydantic-settings<3.0.0,>=2.4.0->langchain-community==0.3.20->-r https://raw.githubusercontent.com/teddylee777/langchain-kr/main/requirements.txt (line 4)) (0.4.1)\n",
            "Requirement already satisfied: dnspython<3.0.0,>=1.16.0 in /usr/local/lib/python3.11/dist-packages (from pymongo<5.0.0,>=4.5.0->langchain-azure-ai==0.1.2->-r https://raw.githubusercontent.com/teddylee777/langchain-kr/main/requirements.txt (line 14)) (2.7.0)\n",
            "Requirement already satisfied: markdown-it-py>=2.2.0 in /usr/local/lib/python3.11/dist-packages (from rich>=10.11.0->chromadb==0.6.3->-r https://raw.githubusercontent.com/teddylee777/langchain-kr/main/requirements.txt (line 29)) (3.0.0)\n",
            "Requirement already satisfied: shellingham>=1.3.0 in /usr/local/lib/python3.11/dist-packages (from typer>=0.9.0->chromadb==0.6.3->-r https://raw.githubusercontent.com/teddylee777/langchain-kr/main/requirements.txt (line 29)) (1.5.4)\n",
            "Requirement already satisfied: httptools>=0.6.3 in /usr/local/lib/python3.11/dist-packages (from uvicorn[standard]>=0.18.3->chromadb==0.6.3->-r https://raw.githubusercontent.com/teddylee777/langchain-kr/main/requirements.txt (line 29)) (0.6.4)\n",
            "Requirement already satisfied: uvloop>=0.15.1 in /usr/local/lib/python3.11/dist-packages (from uvicorn[standard]>=0.18.3->chromadb==0.6.3->-r https://raw.githubusercontent.com/teddylee777/langchain-kr/main/requirements.txt (line 29)) (0.21.0)\n",
            "Requirement already satisfied: watchfiles>=0.13 in /usr/local/lib/python3.11/dist-packages (from uvicorn[standard]>=0.18.3->chromadb==0.6.3->-r https://raw.githubusercontent.com/teddylee777/langchain-kr/main/requirements.txt (line 29)) (1.1.0)\n",
            "Requirement already satisfied: websockets>=10.4 in /usr/local/lib/python3.11/dist-packages (from uvicorn[standard]>=0.18.3->chromadb==0.6.3->-r https://raw.githubusercontent.com/teddylee777/langchain-kr/main/requirements.txt (line 29)) (15.0.1)\n",
            "Requirement already satisfied: dill<0.3.9,>=0.3.0 in /usr/local/lib/python3.11/dist-packages (from datasets->ragas==0.2.14->-r https://raw.githubusercontent.com/teddylee777/langchain-kr/main/requirements.txt (line 52)) (0.3.8)\n",
            "Requirement already satisfied: xxhash in /usr/local/lib/python3.11/dist-packages (from datasets->ragas==0.2.14->-r https://raw.githubusercontent.com/teddylee777/langchain-kr/main/requirements.txt (line 52)) (3.5.0)\n",
            "Requirement already satisfied: multiprocess<0.70.17 in /usr/local/lib/python3.11/dist-packages (from datasets->ragas==0.2.14->-r https://raw.githubusercontent.com/teddylee777/langchain-kr/main/requirements.txt (line 52)) (0.70.16)\n",
            "Requirement already satisfied: wcwidth in /usr/local/lib/python3.11/dist-packages (from ftfy->open-clip-torch==2.31.0->-r https://raw.githubusercontent.com/teddylee777/langchain-kr/main/requirements.txt (line 45)) (0.2.13)\n",
            "Requirement already satisfied: webencodings in /usr/local/lib/python3.11/dist-packages (from html5lib->unstructured==0.17.0->-r https://raw.githubusercontent.com/teddylee777/langchain-kr/main/requirements.txt (line 53)) (0.5.1)\n",
            "Requirement already satisfied: ipython-genutils~=0.2.0 in /usr/local/lib/python3.11/dist-packages (from ipywidgets->jupyter==1.1.1->-r https://raw.githubusercontent.com/teddylee777/langchain-kr/main/requirements.txt (line 39)) (0.2.0)\n",
            "Requirement already satisfied: widgetsnbextension~=3.6.0 in /usr/local/lib/python3.11/dist-packages (from ipywidgets->jupyter==1.1.1->-r https://raw.githubusercontent.com/teddylee777/langchain-kr/main/requirements.txt (line 39)) (3.6.10)\n",
            "Requirement already satisfied: jupyterlab-widgets>=1.0.0 in /usr/local/lib/python3.11/dist-packages (from ipywidgets->jupyter==1.1.1->-r https://raw.githubusercontent.com/teddylee777/langchain-kr/main/requirements.txt (line 39)) (3.0.15)\n",
            "Requirement already satisfied: prompt-toolkit!=3.0.0,!=3.0.1,<3.1.0,>=2.0.0 in /usr/local/lib/python3.11/dist-packages (from jupyter-console->jupyter==1.1.1->-r https://raw.githubusercontent.com/teddylee777/langchain-kr/main/requirements.txt (line 39)) (3.0.51)\n",
            "Requirement already satisfied: grpc-gateway-protoc-gen-openapiv2==0.1.0 in /usr/local/lib/python3.11/dist-packages (from pinecone-client[grpc]->langchain-teddynote==0.3.44->-r https://raw.githubusercontent.com/teddylee777/langchain-kr/main/requirements.txt (line 15)) (0.1.0)\n",
            "Requirement already satisfied: lz4>=3.1.3 in /usr/local/lib/python3.11/dist-packages (from pinecone-client[grpc]->langchain-teddynote==0.3.44->-r https://raw.githubusercontent.com/teddylee777/langchain-kr/main/requirements.txt (line 15)) (4.4.4)\n",
            "Requirement already satisfied: aiofiles>=24.1.0 in /usr/local/lib/python3.11/dist-packages (from unstructured-client->unstructured==0.17.0->-r https://raw.githubusercontent.com/teddylee777/langchain-kr/main/requirements.txt (line 53)) (24.1.0)\n",
            "Requirement already satisfied: eval-type-backport>=0.2.0 in /usr/local/lib/python3.11/dist-packages (from unstructured-client->unstructured==0.17.0->-r https://raw.githubusercontent.com/teddylee777/langchain-kr/main/requirements.txt (line 53)) (0.2.2)\n",
            "Requirement already satisfied: argon2-cffi-bindings in /usr/local/lib/python3.11/dist-packages (from argon2-cffi>=21.1->jupyter-server<3,>=2.4.0->notebook==7.3.3->-r https://raw.githubusercontent.com/teddylee777/langchain-kr/main/requirements.txt (line 40)) (25.1.0)\n",
            "Requirement already satisfied: tinycss2<1.5,>=1.1.0 in /usr/local/lib/python3.11/dist-packages (from bleach[css]!=5.0.0->nbconvert->jupyter==1.1.1->-r https://raw.githubusercontent.com/teddylee777/langchain-kr/main/requirements.txt (line 39)) (1.4.0)\n",
            "Requirement already satisfied: pycparser in /usr/local/lib/python3.11/dist-packages (from cffi>=1.12->cryptography>=36.0.0->pdfminer-six==20231228->-r https://raw.githubusercontent.com/teddylee777/langchain-kr/main/requirements.txt (line 34)) (2.22)\n",
            "Requirement already satisfied: smmap<6,>=3.0.1 in /usr/local/lib/python3.11/dist-packages (from gitdb<5,>=4.0.1->gitpython!=3.1.19,<4,>=3.0.7->streamlit==1.43.2->-r https://raw.githubusercontent.com/teddylee777/langchain-kr/main/requirements.txt (line 38)) (5.0.2)\n",
            "Requirement already satisfied: grpcio-status<2.0dev,>=1.33.2 in /usr/local/lib/python3.11/dist-packages (from google-api-core[grpc]!=2.0.*,!=2.1.*,!=2.10.*,!=2.2.*,!=2.3.*,!=2.4.*,!=2.5.*,!=2.6.*,!=2.7.*,!=2.8.*,!=2.9.*,<3.0.0,>=1.34.1->google-ai-generativelanguage<0.7.0,>=0.6.16->langchain-google-genai==2.1.0->-r https://raw.githubusercontent.com/teddylee777/langchain-kr/main/requirements.txt (line 12)) (1.48.2)\n",
            "Requirement already satisfied: pyasn1-modules>=0.2.1 in /usr/local/lib/python3.11/dist-packages (from google-auth!=2.24.0,!=2.25.0,<3.0.0,>=2.14.1->google-ai-generativelanguage<0.7.0,>=0.6.16->langchain-google-genai==2.1.0->-r https://raw.githubusercontent.com/teddylee777/langchain-kr/main/requirements.txt (line 12)) (0.4.2)\n",
            "Requirement already satisfied: rsa<5,>=3.1.4 in /usr/local/lib/python3.11/dist-packages (from google-auth!=2.24.0,!=2.25.0,<3.0.0,>=2.14.1->google-ai-generativelanguage<0.7.0,>=0.6.16->langchain-google-genai==2.1.0->-r https://raw.githubusercontent.com/teddylee777/langchain-kr/main/requirements.txt (line 12)) (4.9.1)\n",
            "Requirement already satisfied: zipp>=0.5 in /usr/local/lib/python3.11/dist-packages (from importlib-metadata<=8.4.0,>=6.0->opentelemetry-api>=1.2.0->chromadb==0.6.3->-r https://raw.githubusercontent.com/teddylee777/langchain-kr/main/requirements.txt (line 29)) (3.23.0)\n",
            "Requirement already satisfied: jedi>=0.16 in /usr/local/lib/python3.11/dist-packages (from ipython>=7.23.1->ipykernel->jupyter==1.1.1->-r https://raw.githubusercontent.com/teddylee777/langchain-kr/main/requirements.txt (line 39)) (0.19.2)\n",
            "Requirement already satisfied: decorator in /usr/local/lib/python3.11/dist-packages (from ipython>=7.23.1->ipykernel->jupyter==1.1.1->-r https://raw.githubusercontent.com/teddylee777/langchain-kr/main/requirements.txt (line 39)) (4.4.2)\n",
            "Requirement already satisfied: pickleshare in /usr/local/lib/python3.11/dist-packages (from ipython>=7.23.1->ipykernel->jupyter==1.1.1->-r https://raw.githubusercontent.com/teddylee777/langchain-kr/main/requirements.txt (line 39)) (0.7.5)\n",
            "Requirement already satisfied: backcall in /usr/local/lib/python3.11/dist-packages (from ipython>=7.23.1->ipykernel->jupyter==1.1.1->-r https://raw.githubusercontent.com/teddylee777/langchain-kr/main/requirements.txt (line 39)) (0.2.0)\n",
            "Requirement already satisfied: pexpect>4.3 in /usr/local/lib/python3.11/dist-packages (from ipython>=7.23.1->ipykernel->jupyter==1.1.1->-r https://raw.githubusercontent.com/teddylee777/langchain-kr/main/requirements.txt (line 39)) (4.9.0)\n",
            "Requirement already satisfied: jsonschema-specifications>=2023.03.6 in /usr/local/lib/python3.11/dist-packages (from jsonschema>=3.0->altair<6,>=4.0->streamlit==1.43.2->-r https://raw.githubusercontent.com/teddylee777/langchain-kr/main/requirements.txt (line 38)) (2025.4.1)\n",
            "Requirement already satisfied: referencing>=0.28.4 in /usr/local/lib/python3.11/dist-packages (from jsonschema>=3.0->altair<6,>=4.0->streamlit==1.43.2->-r https://raw.githubusercontent.com/teddylee777/langchain-kr/main/requirements.txt (line 38)) (0.36.2)\n",
            "Requirement already satisfied: rpds-py>=0.7.1 in /usr/local/lib/python3.11/dist-packages (from jsonschema>=3.0->altair<6,>=4.0->streamlit==1.43.2->-r https://raw.githubusercontent.com/teddylee777/langchain-kr/main/requirements.txt (line 38)) (0.26.0)\n",
            "Requirement already satisfied: python-json-logger>=2.0.4 in /usr/local/lib/python3.11/dist-packages (from jupyter-events>=0.11.0->jupyter-server<3,>=2.4.0->notebook==7.3.3->-r https://raw.githubusercontent.com/teddylee777/langchain-kr/main/requirements.txt (line 40)) (3.3.0)\n",
            "Requirement already satisfied: rfc3339-validator in /usr/local/lib/python3.11/dist-packages (from jupyter-events>=0.11.0->jupyter-server<3,>=2.4.0->notebook==7.3.3->-r https://raw.githubusercontent.com/teddylee777/langchain-kr/main/requirements.txt (line 40)) (0.1.4)\n",
            "Requirement already satisfied: rfc3986-validator>=0.1.1 in /usr/local/lib/python3.11/dist-packages (from jupyter-events>=0.11.0->jupyter-server<3,>=2.4.0->notebook==7.3.3->-r https://raw.githubusercontent.com/teddylee777/langchain-kr/main/requirements.txt (line 40)) (0.1.1)\n",
            "Requirement already satisfied: mdurl~=0.1 in /usr/local/lib/python3.11/dist-packages (from markdown-it-py>=2.2.0->rich>=10.11.0->chromadb==0.6.3->-r https://raw.githubusercontent.com/teddylee777/langchain-kr/main/requirements.txt (line 29)) (0.1.2)\n",
            "Requirement already satisfied: PyJWT<3,>=1.0.0 in /usr/local/lib/python3.11/dist-packages (from PyJWT[crypto]<3,>=1.0.0->msal>=1.30.0->azure-identity<2.0.0,>=1.15.0->langchain-azure-ai==0.1.2->-r https://raw.githubusercontent.com/teddylee777/langchain-kr/main/requirements.txt (line 14)) (2.10.1)\n",
            "Requirement already satisfied: fastjsonschema>=2.15 in /usr/local/lib/python3.11/dist-packages (from nbformat>=5.3.0->jupyter-server<3,>=2.4.0->notebook==7.3.3->-r https://raw.githubusercontent.com/teddylee777/langchain-kr/main/requirements.txt (line 40)) (2.21.1)\n",
            "Requirement already satisfied: ptyprocess in /usr/local/lib/python3.11/dist-packages (from terminado>=0.8.3->jupyter-server<3,>=2.4.0->notebook==7.3.3->-r https://raw.githubusercontent.com/teddylee777/langchain-kr/main/requirements.txt (line 40)) (0.7.0)\n",
            "Requirement already satisfied: humanfriendly>=9.1 in /usr/local/lib/python3.11/dist-packages (from coloredlogs->onnxruntime>=1.14.1->chromadb==0.6.3->-r https://raw.githubusercontent.com/teddylee777/langchain-kr/main/requirements.txt (line 29)) (10.0)\n",
            "Requirement already satisfied: parso<0.9.0,>=0.8.4 in /usr/local/lib/python3.11/dist-packages (from jedi>=0.16->ipython>=7.23.1->ipykernel->jupyter==1.1.1->-r https://raw.githubusercontent.com/teddylee777/langchain-kr/main/requirements.txt (line 39)) (0.8.4)\n",
            "Requirement already satisfied: fqdn in /usr/local/lib/python3.11/dist-packages (from jsonschema[format-nongpl]>=4.18.0->jupyter-events>=0.11.0->jupyter-server<3,>=2.4.0->notebook==7.3.3->-r https://raw.githubusercontent.com/teddylee777/langchain-kr/main/requirements.txt (line 40)) (1.5.1)\n",
            "Requirement already satisfied: isoduration in /usr/local/lib/python3.11/dist-packages (from jsonschema[format-nongpl]>=4.18.0->jupyter-events>=0.11.0->jupyter-server<3,>=2.4.0->notebook==7.3.3->-r https://raw.githubusercontent.com/teddylee777/langchain-kr/main/requirements.txt (line 40)) (20.11.0)\n",
            "Requirement already satisfied: rfc3987-syntax>=1.1.0 in /usr/local/lib/python3.11/dist-packages (from jsonschema[format-nongpl]>=4.18.0->jupyter-events>=0.11.0->jupyter-server<3,>=2.4.0->notebook==7.3.3->-r https://raw.githubusercontent.com/teddylee777/langchain-kr/main/requirements.txt (line 40)) (1.1.0)\n",
            "Requirement already satisfied: uri-template in /usr/local/lib/python3.11/dist-packages (from jsonschema[format-nongpl]>=4.18.0->jupyter-events>=0.11.0->jupyter-server<3,>=2.4.0->notebook==7.3.3->-r https://raw.githubusercontent.com/teddylee777/langchain-kr/main/requirements.txt (line 40)) (1.3.0)\n",
            "Requirement already satisfied: webcolors>=24.6.0 in /usr/local/lib/python3.11/dist-packages (from jsonschema[format-nongpl]>=4.18.0->jupyter-events>=0.11.0->jupyter-server<3,>=2.4.0->notebook==7.3.3->-r https://raw.githubusercontent.com/teddylee777/langchain-kr/main/requirements.txt (line 40)) (24.11.1)\n",
            "Requirement already satisfied: pyasn1<0.7.0,>=0.6.1 in /usr/local/lib/python3.11/dist-packages (from pyasn1-modules>=0.2.1->google-auth!=2.24.0,!=2.25.0,<3.0.0,>=2.14.1->google-ai-generativelanguage<0.7.0,>=0.6.16->langchain-google-genai==2.1.0->-r https://raw.githubusercontent.com/teddylee777/langchain-kr/main/requirements.txt (line 12)) (0.6.1)\n",
            "Requirement already satisfied: arrow>=0.15.0 in /usr/local/lib/python3.11/dist-packages (from isoduration->jsonschema[format-nongpl]>=4.18.0->jupyter-events>=0.11.0->jupyter-server<3,>=2.4.0->notebook==7.3.3->-r https://raw.githubusercontent.com/teddylee777/langchain-kr/main/requirements.txt (line 40)) (1.3.0)\n",
            "Requirement already satisfied: types-python-dateutil>=2.8.10 in /usr/local/lib/python3.11/dist-packages (from arrow>=0.15.0->isoduration->jsonschema[format-nongpl]>=4.18.0->jupyter-events>=0.11.0->jupyter-server<3,>=2.4.0->notebook==7.3.3->-r https://raw.githubusercontent.com/teddylee777/langchain-kr/main/requirements.txt (line 40)) (2.9.0.20250809)\n"
          ]
        }
      ]
    },
    {
      "cell_type": "code",
      "source": [
        "from importlib.metadata import version\n",
        "\n",
        "print(\"[LangChain 관련 패키지 버전]\")\n",
        "for package_name in [\n",
        "    \"langchain\",\n",
        "    \"langchain-core\",\n",
        "    \"langchain-experimental\",\n",
        "    \"langchain-community\",\n",
        "    \"langchain-openai\",\n",
        "    \"langchain-teddynote\",\n",
        "    \"langchain-huggingface\",\n",
        "    \"langchain-google-genai\",\n",
        "    \"langchain-anthropic\",\n",
        "    \"langchain-cohere\",\n",
        "    \"langchain-chroma\",\n",
        "    \"langchain-elasticsearch\",\n",
        "    \"langchain-upstage\",\n",
        "    \"langchain-cohere\",\n",
        "    \"langchain-milvus\",\n",
        "    \"langchain-text-splitters\",\n",
        "]:\n",
        "    try:\n",
        "        package_version = version(package_name)\n",
        "        print(f\"{package_name}: {package_version}\")\n",
        "    except ImportError:\n",
        "        print(f\"{package_name}: 설치되지 않음\")"
      ],
      "metadata": {
        "colab": {
          "base_uri": "https://localhost:8080/"
        },
        "id": "cnzWiN7NxeY_",
        "outputId": "50c6fea9-d991-4545-921e-ecb19631167f"
      },
      "id": "cnzWiN7NxeY_",
      "execution_count": 6,
      "outputs": [
        {
          "output_type": "stream",
          "name": "stdout",
          "text": [
            "[LangChain 관련 패키지 버전]\n",
            "langchain: 0.3.21\n",
            "langchain-core: 0.3.46\n",
            "langchain-experimental: 0.3.4\n",
            "langchain-community: 0.3.20\n",
            "langchain-openai: 0.3.9\n",
            "langchain-teddynote: 0.3.44\n",
            "langchain-huggingface: 0.1.2\n",
            "langchain-google-genai: 2.1.0\n",
            "langchain-anthropic: 0.3.10\n",
            "langchain-cohere: 0.4.3\n",
            "langchain-chroma: 0.2.2\n",
            "langchain-elasticsearch: 0.3.2\n",
            "langchain-upstage: 0.7.1\n",
            "langchain-cohere: 0.4.3\n",
            "langchain-milvus: 0.1.8\n",
            "langchain-text-splitters: 0.3.7\n"
          ]
        }
      ]
    },
    {
      "cell_type": "code",
      "source": [
        "!pip install langchain-upstage"
      ],
      "metadata": {
        "colab": {
          "base_uri": "https://localhost:8080/"
        },
        "id": "3SZOOHpm4zVP",
        "outputId": "3fce7c7c-4917-4455-d1ac-b49b85689af8"
      },
      "id": "3SZOOHpm4zVP",
      "execution_count": 5,
      "outputs": [
        {
          "output_type": "stream",
          "name": "stdout",
          "text": [
            "Collecting langchain-upstage\n",
            "  Downloading langchain_upstage-0.7.1-py3-none-any.whl.metadata (3.3 kB)\n",
            "Requirement already satisfied: langchain-core<0.4.0,>=0.3.29 in /usr/local/lib/python3.11/dist-packages (from langchain-upstage) (0.3.46)\n",
            "Requirement already satisfied: langchain-openai<0.4,>=0.3 in /usr/local/lib/python3.11/dist-packages (from langchain-upstage) (0.3.9)\n",
            "Requirement already satisfied: pypdf<5.0.0,>=4.2.0 in /usr/local/lib/python3.11/dist-packages (from langchain-upstage) (4.3.1)\n",
            "Requirement already satisfied: requests<3.0.0,>=2.31.0 in /usr/local/lib/python3.11/dist-packages (from langchain-upstage) (2.32.3)\n",
            "Collecting tokenizers<0.21.0,>=0.20.0 (from langchain-upstage)\n",
            "  Downloading tokenizers-0.20.3-cp311-cp311-manylinux_2_17_x86_64.manylinux2014_x86_64.whl.metadata (6.7 kB)\n",
            "Requirement already satisfied: langsmith<0.4,>=0.1.125 in /usr/local/lib/python3.11/dist-packages (from langchain-core<0.4.0,>=0.3.29->langchain-upstage) (0.3.18)\n",
            "Requirement already satisfied: tenacity!=8.4.0,<10.0.0,>=8.1.0 in /usr/local/lib/python3.11/dist-packages (from langchain-core<0.4.0,>=0.3.29->langchain-upstage) (8.5.0)\n",
            "Requirement already satisfied: jsonpatch<2.0,>=1.33 in /usr/local/lib/python3.11/dist-packages (from langchain-core<0.4.0,>=0.3.29->langchain-upstage) (1.33)\n",
            "Requirement already satisfied: PyYAML>=5.3 in /usr/local/lib/python3.11/dist-packages (from langchain-core<0.4.0,>=0.3.29->langchain-upstage) (6.0.2)\n",
            "Requirement already satisfied: packaging<25,>=23.2 in /usr/local/lib/python3.11/dist-packages (from langchain-core<0.4.0,>=0.3.29->langchain-upstage) (24.2)\n",
            "Requirement already satisfied: typing-extensions>=4.7 in /usr/local/lib/python3.11/dist-packages (from langchain-core<0.4.0,>=0.3.29->langchain-upstage) (4.14.1)\n",
            "Requirement already satisfied: pydantic<3.0.0,>=2.5.2 in /usr/local/lib/python3.11/dist-packages (from langchain-core<0.4.0,>=0.3.29->langchain-upstage) (2.10.6)\n",
            "Requirement already satisfied: openai<2.0.0,>=1.66.3 in /usr/local/lib/python3.11/dist-packages (from langchain-openai<0.4,>=0.3->langchain-upstage) (1.67.0)\n",
            "Requirement already satisfied: tiktoken<1,>=0.7 in /usr/local/lib/python3.11/dist-packages (from langchain-openai<0.4,>=0.3->langchain-upstage) (0.9.0)\n",
            "Requirement already satisfied: charset-normalizer<4,>=2 in /usr/local/lib/python3.11/dist-packages (from requests<3.0.0,>=2.31.0->langchain-upstage) (3.4.2)\n",
            "Requirement already satisfied: idna<4,>=2.5 in /usr/local/lib/python3.11/dist-packages (from requests<3.0.0,>=2.31.0->langchain-upstage) (3.10)\n",
            "Requirement already satisfied: urllib3<3,>=1.21.1 in /usr/local/lib/python3.11/dist-packages (from requests<3.0.0,>=2.31.0->langchain-upstage) (2.5.0)\n",
            "Requirement already satisfied: certifi>=2017.4.17 in /usr/local/lib/python3.11/dist-packages (from requests<3.0.0,>=2.31.0->langchain-upstage) (2025.8.3)\n",
            "Requirement already satisfied: huggingface-hub<1.0,>=0.16.4 in /usr/local/lib/python3.11/dist-packages (from tokenizers<0.21.0,>=0.20.0->langchain-upstage) (0.29.3)\n",
            "Requirement already satisfied: filelock in /usr/local/lib/python3.11/dist-packages (from huggingface-hub<1.0,>=0.16.4->tokenizers<0.21.0,>=0.20.0->langchain-upstage) (3.18.0)\n",
            "Requirement already satisfied: fsspec>=2023.5.0 in /usr/local/lib/python3.11/dist-packages (from huggingface-hub<1.0,>=0.16.4->tokenizers<0.21.0,>=0.20.0->langchain-upstage) (2025.3.0)\n",
            "Requirement already satisfied: tqdm>=4.42.1 in /usr/local/lib/python3.11/dist-packages (from huggingface-hub<1.0,>=0.16.4->tokenizers<0.21.0,>=0.20.0->langchain-upstage) (4.67.1)\n",
            "Requirement already satisfied: jsonpointer>=1.9 in /usr/local/lib/python3.11/dist-packages (from jsonpatch<2.0,>=1.33->langchain-core<0.4.0,>=0.3.29->langchain-upstage) (3.0.0)\n",
            "Requirement already satisfied: httpx<1,>=0.23.0 in /usr/local/lib/python3.11/dist-packages (from langsmith<0.4,>=0.1.125->langchain-core<0.4.0,>=0.3.29->langchain-upstage) (0.28.1)\n",
            "Requirement already satisfied: orjson<4.0.0,>=3.9.14 in /usr/local/lib/python3.11/dist-packages (from langsmith<0.4,>=0.1.125->langchain-core<0.4.0,>=0.3.29->langchain-upstage) (3.11.1)\n",
            "Requirement already satisfied: requests-toolbelt<2.0.0,>=1.0.0 in /usr/local/lib/python3.11/dist-packages (from langsmith<0.4,>=0.1.125->langchain-core<0.4.0,>=0.3.29->langchain-upstage) (1.0.0)\n",
            "Requirement already satisfied: zstandard<0.24.0,>=0.23.0 in /usr/local/lib/python3.11/dist-packages (from langsmith<0.4,>=0.1.125->langchain-core<0.4.0,>=0.3.29->langchain-upstage) (0.23.0)\n",
            "Requirement already satisfied: anyio<5,>=3.5.0 in /usr/local/lib/python3.11/dist-packages (from openai<2.0.0,>=1.66.3->langchain-openai<0.4,>=0.3->langchain-upstage) (4.10.0)\n",
            "Requirement already satisfied: distro<2,>=1.7.0 in /usr/local/lib/python3.11/dist-packages (from openai<2.0.0,>=1.66.3->langchain-openai<0.4,>=0.3->langchain-upstage) (1.9.0)\n",
            "Requirement already satisfied: jiter<1,>=0.4.0 in /usr/local/lib/python3.11/dist-packages (from openai<2.0.0,>=1.66.3->langchain-openai<0.4,>=0.3->langchain-upstage) (0.10.0)\n",
            "Requirement already satisfied: sniffio in /usr/local/lib/python3.11/dist-packages (from openai<2.0.0,>=1.66.3->langchain-openai<0.4,>=0.3->langchain-upstage) (1.3.1)\n",
            "Requirement already satisfied: annotated-types>=0.6.0 in /usr/local/lib/python3.11/dist-packages (from pydantic<3.0.0,>=2.5.2->langchain-core<0.4.0,>=0.3.29->langchain-upstage) (0.7.0)\n",
            "Requirement already satisfied: pydantic-core==2.27.2 in /usr/local/lib/python3.11/dist-packages (from pydantic<3.0.0,>=2.5.2->langchain-core<0.4.0,>=0.3.29->langchain-upstage) (2.27.2)\n",
            "Requirement already satisfied: regex>=2022.1.18 in /usr/local/lib/python3.11/dist-packages (from tiktoken<1,>=0.7->langchain-openai<0.4,>=0.3->langchain-upstage) (2024.11.6)\n",
            "Requirement already satisfied: httpcore==1.* in /usr/local/lib/python3.11/dist-packages (from httpx<1,>=0.23.0->langsmith<0.4,>=0.1.125->langchain-core<0.4.0,>=0.3.29->langchain-upstage) (1.0.9)\n",
            "Requirement already satisfied: h11>=0.16 in /usr/local/lib/python3.11/dist-packages (from httpcore==1.*->httpx<1,>=0.23.0->langsmith<0.4,>=0.1.125->langchain-core<0.4.0,>=0.3.29->langchain-upstage) (0.16.0)\n",
            "Downloading langchain_upstage-0.7.1-py3-none-any.whl (20 kB)\n",
            "Downloading tokenizers-0.20.3-cp311-cp311-manylinux_2_17_x86_64.manylinux2014_x86_64.whl (3.0 MB)\n",
            "\u001b[2K   \u001b[90m━━━━━━━━━━━━━━━━━━━━━━━━━━━━━━━━━━━━━━━━\u001b[0m \u001b[32m3.0/3.0 MB\u001b[0m \u001b[31m31.4 MB/s\u001b[0m eta \u001b[36m0:00:00\u001b[0m\n",
            "\u001b[?25hInstalling collected packages: tokenizers, langchain-upstage\n",
            "  Attempting uninstall: tokenizers\n",
            "    Found existing installation: tokenizers 0.21.4\n",
            "    Uninstalling tokenizers-0.21.4:\n",
            "      Successfully uninstalled tokenizers-0.21.4\n",
            "\u001b[31mERROR: pip's dependency resolver does not currently take into account all the packages that are installed. This behaviour is the source of the following dependency conflicts.\n",
            "transformers 4.50.3 requires tokenizers<0.22,>=0.21, but you have tokenizers 0.20.3 which is incompatible.\u001b[0m\u001b[31m\n",
            "\u001b[0mSuccessfully installed langchain-upstage-0.7.1 tokenizers-0.20.3\n"
          ]
        }
      ]
    },
    {
      "cell_type": "markdown",
      "id": "50650ed4",
      "metadata": {
        "id": "50650ed4"
      },
      "source": [
        "## LCEL 인터페이스\n"
      ]
    },
    {
      "cell_type": "code",
      "source": [
        "!pip install langchain-elasticsearch"
      ],
      "metadata": {
        "colab": {
          "base_uri": "https://localhost:8080/"
        },
        "id": "KQlLs1pUw1_9",
        "outputId": "98417d64-4a60-42be-cfd1-42f85dc009ea"
      },
      "id": "KQlLs1pUw1_9",
      "execution_count": 2,
      "outputs": [
        {
          "output_type": "stream",
          "name": "stdout",
          "text": [
            "Collecting langchain-elasticsearch\n",
            "  Downloading langchain_elasticsearch-0.3.2-py3-none-any.whl.metadata (8.3 kB)\n",
            "Collecting elasticsearch<9.0.0,>=8.13.1 (from elasticsearch[vectorstore-mmr]<9.0.0,>=8.13.1->langchain-elasticsearch)\n",
            "  Downloading elasticsearch-8.19.0-py3-none-any.whl.metadata (9.2 kB)\n",
            "Requirement already satisfied: langchain-core<0.4.0,>=0.3.0 in /usr/local/lib/python3.11/dist-packages (from langchain-elasticsearch) (0.3.72)\n",
            "Collecting elastic-transport<9,>=8.15.1 (from elasticsearch<9.0.0,>=8.13.1->elasticsearch[vectorstore-mmr]<9.0.0,>=8.13.1->langchain-elasticsearch)\n",
            "  Downloading elastic_transport-8.17.1-py3-none-any.whl.metadata (3.8 kB)\n",
            "Requirement already satisfied: python-dateutil in /usr/local/lib/python3.11/dist-packages (from elasticsearch<9.0.0,>=8.13.1->elasticsearch[vectorstore-mmr]<9.0.0,>=8.13.1->langchain-elasticsearch) (2.9.0.post0)\n",
            "Requirement already satisfied: typing-extensions in /usr/local/lib/python3.11/dist-packages (from elasticsearch<9.0.0,>=8.13.1->elasticsearch[vectorstore-mmr]<9.0.0,>=8.13.1->langchain-elasticsearch) (4.14.1)\n",
            "Requirement already satisfied: numpy>=1 in /usr/local/lib/python3.11/dist-packages (from elasticsearch[vectorstore-mmr]<9.0.0,>=8.13.1->langchain-elasticsearch) (2.0.2)\n",
            "Requirement already satisfied: simsimd>=3 in /usr/local/lib/python3.11/dist-packages (from elasticsearch[vectorstore-mmr]<9.0.0,>=8.13.1->langchain-elasticsearch) (6.5.0)\n",
            "Requirement already satisfied: langsmith>=0.3.45 in /usr/local/lib/python3.11/dist-packages (from langchain-core<0.4.0,>=0.3.0->langchain-elasticsearch) (0.4.12)\n",
            "Requirement already satisfied: tenacity!=8.4.0,<10.0.0,>=8.1.0 in /usr/local/lib/python3.11/dist-packages (from langchain-core<0.4.0,>=0.3.0->langchain-elasticsearch) (8.5.0)\n",
            "Requirement already satisfied: jsonpatch<2.0,>=1.33 in /usr/local/lib/python3.11/dist-packages (from langchain-core<0.4.0,>=0.3.0->langchain-elasticsearch) (1.33)\n",
            "Requirement already satisfied: PyYAML>=5.3 in /usr/local/lib/python3.11/dist-packages (from langchain-core<0.4.0,>=0.3.0->langchain-elasticsearch) (6.0.2)\n",
            "Requirement already satisfied: packaging>=23.2 in /usr/local/lib/python3.11/dist-packages (from langchain-core<0.4.0,>=0.3.0->langchain-elasticsearch) (25.0)\n",
            "Requirement already satisfied: pydantic>=2.7.4 in /usr/local/lib/python3.11/dist-packages (from langchain-core<0.4.0,>=0.3.0->langchain-elasticsearch) (2.11.7)\n",
            "Requirement already satisfied: urllib3<3,>=1.26.2 in /usr/local/lib/python3.11/dist-packages (from elastic-transport<9,>=8.15.1->elasticsearch<9.0.0,>=8.13.1->elasticsearch[vectorstore-mmr]<9.0.0,>=8.13.1->langchain-elasticsearch) (2.5.0)\n",
            "Requirement already satisfied: certifi in /usr/local/lib/python3.11/dist-packages (from elastic-transport<9,>=8.15.1->elasticsearch<9.0.0,>=8.13.1->elasticsearch[vectorstore-mmr]<9.0.0,>=8.13.1->langchain-elasticsearch) (2025.8.3)\n",
            "Requirement already satisfied: jsonpointer>=1.9 in /usr/local/lib/python3.11/dist-packages (from jsonpatch<2.0,>=1.33->langchain-core<0.4.0,>=0.3.0->langchain-elasticsearch) (3.0.0)\n",
            "Requirement already satisfied: httpx<1,>=0.23.0 in /usr/local/lib/python3.11/dist-packages (from langsmith>=0.3.45->langchain-core<0.4.0,>=0.3.0->langchain-elasticsearch) (0.28.1)\n",
            "Requirement already satisfied: orjson>=3.9.14 in /usr/local/lib/python3.11/dist-packages (from langsmith>=0.3.45->langchain-core<0.4.0,>=0.3.0->langchain-elasticsearch) (3.11.1)\n",
            "Requirement already satisfied: requests-toolbelt>=1.0.0 in /usr/local/lib/python3.11/dist-packages (from langsmith>=0.3.45->langchain-core<0.4.0,>=0.3.0->langchain-elasticsearch) (1.0.0)\n",
            "Requirement already satisfied: requests>=2.0.0 in /usr/local/lib/python3.11/dist-packages (from langsmith>=0.3.45->langchain-core<0.4.0,>=0.3.0->langchain-elasticsearch) (2.32.3)\n",
            "Requirement already satisfied: zstandard>=0.23.0 in /usr/local/lib/python3.11/dist-packages (from langsmith>=0.3.45->langchain-core<0.4.0,>=0.3.0->langchain-elasticsearch) (0.23.0)\n",
            "Requirement already satisfied: annotated-types>=0.6.0 in /usr/local/lib/python3.11/dist-packages (from pydantic>=2.7.4->langchain-core<0.4.0,>=0.3.0->langchain-elasticsearch) (0.7.0)\n",
            "Requirement already satisfied: pydantic-core==2.33.2 in /usr/local/lib/python3.11/dist-packages (from pydantic>=2.7.4->langchain-core<0.4.0,>=0.3.0->langchain-elasticsearch) (2.33.2)\n",
            "Requirement already satisfied: typing-inspection>=0.4.0 in /usr/local/lib/python3.11/dist-packages (from pydantic>=2.7.4->langchain-core<0.4.0,>=0.3.0->langchain-elasticsearch) (0.4.1)\n",
            "Requirement already satisfied: six>=1.5 in /usr/local/lib/python3.11/dist-packages (from python-dateutil->elasticsearch<9.0.0,>=8.13.1->elasticsearch[vectorstore-mmr]<9.0.0,>=8.13.1->langchain-elasticsearch) (1.17.0)\n",
            "Requirement already satisfied: anyio in /usr/local/lib/python3.11/dist-packages (from httpx<1,>=0.23.0->langsmith>=0.3.45->langchain-core<0.4.0,>=0.3.0->langchain-elasticsearch) (4.10.0)\n",
            "Requirement already satisfied: httpcore==1.* in /usr/local/lib/python3.11/dist-packages (from httpx<1,>=0.23.0->langsmith>=0.3.45->langchain-core<0.4.0,>=0.3.0->langchain-elasticsearch) (1.0.9)\n",
            "Requirement already satisfied: idna in /usr/local/lib/python3.11/dist-packages (from httpx<1,>=0.23.0->langsmith>=0.3.45->langchain-core<0.4.0,>=0.3.0->langchain-elasticsearch) (3.10)\n",
            "Requirement already satisfied: h11>=0.16 in /usr/local/lib/python3.11/dist-packages (from httpcore==1.*->httpx<1,>=0.23.0->langsmith>=0.3.45->langchain-core<0.4.0,>=0.3.0->langchain-elasticsearch) (0.16.0)\n",
            "Requirement already satisfied: charset-normalizer<4,>=2 in /usr/local/lib/python3.11/dist-packages (from requests>=2.0.0->langsmith>=0.3.45->langchain-core<0.4.0,>=0.3.0->langchain-elasticsearch) (3.4.2)\n",
            "Requirement already satisfied: sniffio>=1.1 in /usr/local/lib/python3.11/dist-packages (from anyio->httpx<1,>=0.23.0->langsmith>=0.3.45->langchain-core<0.4.0,>=0.3.0->langchain-elasticsearch) (1.3.1)\n",
            "Downloading langchain_elasticsearch-0.3.2-py3-none-any.whl (45 kB)\n",
            "\u001b[2K   \u001b[90m━━━━━━━━━━━━━━━━━━━━━━━━━━━━━━━━━━━━━━━━\u001b[0m \u001b[32m46.0/46.0 kB\u001b[0m \u001b[31m2.1 MB/s\u001b[0m eta \u001b[36m0:00:00\u001b[0m\n",
            "\u001b[?25hDownloading elasticsearch-8.19.0-py3-none-any.whl (926 kB)\n",
            "\u001b[2K   \u001b[90m━━━━━━━━━━━━━━━━━━━━━━━━━━━━━━━━━━━━━━━━\u001b[0m \u001b[32m926.9/926.9 kB\u001b[0m \u001b[31m17.4 MB/s\u001b[0m eta \u001b[36m0:00:00\u001b[0m\n",
            "\u001b[?25hDownloading elastic_transport-8.17.1-py3-none-any.whl (64 kB)\n",
            "\u001b[2K   \u001b[90m━━━━━━━━━━━━━━━━━━━━━━━━━━━━━━━━━━━━━━━━\u001b[0m \u001b[32m65.0/65.0 kB\u001b[0m \u001b[31m4.6 MB/s\u001b[0m eta \u001b[36m0:00:00\u001b[0m\n",
            "\u001b[?25hInstalling collected packages: elastic-transport, elasticsearch, langchain-elasticsearch\n",
            "Successfully installed elastic-transport-8.17.1 elasticsearch-8.19.0 langchain-elasticsearch-0.3.2\n"
          ]
        }
      ]
    },
    {
      "cell_type": "code",
      "execution_count": 7,
      "id": "b5a5ffc2",
      "metadata": {
        "colab": {
          "base_uri": "https://localhost:8080/"
        },
        "id": "b5a5ffc2",
        "outputId": "c337f350-6ba1-40c5-8550-647b9ac03307"
      },
      "outputs": [
        {
          "output_type": "execute_result",
          "data": {
            "text/plain": [
              "True"
            ]
          },
          "metadata": {},
          "execution_count": 7
        }
      ],
      "source": [
        "# API KEY를 환경변수로 관리하기 위한 설정 파일\n",
        "from dotenv import load_dotenv\n",
        "\n",
        "# API KEY 정보로드\n",
        "load_dotenv()"
      ]
    },
    {
      "cell_type": "code",
      "source": [
        "!pip install -qU langchain-teddynote"
      ],
      "metadata": {
        "id": "FDgHiC8vw4g3"
      },
      "id": "FDgHiC8vw4g3",
      "execution_count": 8,
      "outputs": []
    },
    {
      "cell_type": "code",
      "execution_count": 9,
      "id": "a4ccea96",
      "metadata": {
        "colab": {
          "base_uri": "https://localhost:8080/"
        },
        "id": "a4ccea96",
        "outputId": "25cecd49-3758-4d6a-aa2a-f679d2ffe548"
      },
      "outputs": [
        {
          "output_type": "stream",
          "name": "stdout",
          "text": [
            "LangSmith 추적을 시작합니다.\n",
            "[프로젝트명]\n",
            "LangChain_20250812\n"
          ]
        }
      ],
      "source": [
        "# LangSmith 추적을 설정합니다. https://smith.langchain.com\n",
        "\n",
        "from langchain_teddynote import logging\n",
        "\n",
        "# 프로젝트 이름을 입력합니다.\n",
        "logging.langsmith(\"LangChain_20250812\")"
      ]
    },
    {
      "cell_type": "markdown",
      "id": "a59f2751",
      "metadata": {
        "id": "a59f2751"
      },
      "source": [
        "LCEL 문법을 사용하여 chain 을 생성합니다."
      ]
    },
    {
      "cell_type": "code",
      "execution_count": 10,
      "id": "735d72ca",
      "metadata": {
        "id": "735d72ca"
      },
      "outputs": [],
      "source": [
        "from langchain_openai import ChatOpenAI\n",
        "from langchain_core.prompts import PromptTemplate\n",
        "from langchain_core.output_parsers import StrOutputParser\n",
        "\n",
        "# ChatOpenAI 모델을 인스턴스화합니다.\n",
        "model = ChatOpenAI()\n",
        "# 주어진 토픽에 대한 농담을 요청하는 프롬프트 템플릿을 생성합니다.\n",
        "prompt = PromptTemplate.from_template(\"{topic} 에 대하여 3문장으로 설명해줘.\")\n",
        "# 프롬프트와 모델을 연결하여 대화 체인을 생성합니다.\n",
        "chain = prompt | model | StrOutputParser()"
      ]
    },
    {
      "cell_type": "markdown",
      "id": "eb57eb05",
      "metadata": {
        "id": "eb57eb05"
      },
      "source": [
        "## stream: 실시간 출력\n"
      ]
    },
    {
      "cell_type": "code",
      "execution_count": 11,
      "id": "f6304f90",
      "metadata": {
        "colab": {
          "base_uri": "https://localhost:8080/"
        },
        "id": "f6304f90",
        "outputId": "0ef8c4e4-c8fe-48c5-f976-10b857ee9b4f"
      },
      "outputs": [
        {
          "output_type": "stream",
          "name": "stdout",
          "text": [
            "멀티모달은 여러 가지 다른 형태의 통신 매체를 결합하여 정보를 전달하거나 받는 방식을 의미합니다. 예를 들어, 음성, 이미지, 텍스트 등을 함께 사용하여 정보를 전달하거나 수신할 수 있습니다. 멀티모달은 사용자가 정보에 노출되는 방식을 다양화시켜 더욱 효과적인 커뮤니케이션을 가능케 합니다."
          ]
        }
      ],
      "source": [
        "# chain.stream 메서드를 사용하여 '멀티모달' 토픽에 대한 스트림을 생성하고 반복합니다.\n",
        "for token in chain.stream({\"topic\": \"멀티모달\"}):\n",
        "    # 스트림에서 받은 데이터의 내용을 출력합니다. 줄바꿈 없이 이어서 출력하고, 버퍼를 즉시 비웁니다.\n",
        "    print(token, end=\"\", flush=True)"
      ]
    },
    {
      "cell_type": "markdown",
      "id": "0e6d71cf",
      "metadata": {
        "id": "0e6d71cf"
      },
      "source": [
        "## invoke: 호출\n"
      ]
    },
    {
      "cell_type": "code",
      "execution_count": 12,
      "id": "6fb8bf06",
      "metadata": {
        "colab": {
          "base_uri": "https://localhost:8080/",
          "height": 54
        },
        "id": "6fb8bf06",
        "outputId": "5a385ad6-b471-49c8-e062-bee7f6b345b0"
      },
      "outputs": [
        {
          "output_type": "execute_result",
          "data": {
            "text/plain": [
              "'ChatGPT는 자연어 처리 기술을 사용하여 대화를 나누는 인공지능 챗봇 서비스입니다. 높은 수준의 문맥 이해와 자연스러운 대화를 제공하여 사용자들에게 맞춤형 지원을 제공합니다. 다양한 주제에 대해 대화를 나눌 수 있어 정보 제공부터 감정적 지원까지 다양한 용도로 활용됩니다.'"
            ],
            "application/vnd.google.colaboratory.intrinsic+json": {
              "type": "string"
            }
          },
          "metadata": {},
          "execution_count": 12
        }
      ],
      "source": [
        "# chain 객체의 invoke 메서드를 호출하고, 'ChatGPT'라는 주제로 딕셔너리를 전달합니다.\n",
        "chain.invoke({\"topic\": \"ChatGPT\"})"
      ]
    },
    {
      "cell_type": "markdown",
      "id": "a6618b9d",
      "metadata": {
        "id": "a6618b9d"
      },
      "source": [
        "## batch: 배치(단위 실행)\n"
      ]
    },
    {
      "cell_type": "code",
      "execution_count": 13,
      "id": "687d223d",
      "metadata": {
        "colab": {
          "base_uri": "https://localhost:8080/"
        },
        "id": "687d223d",
        "outputId": "b8938a2f-3f77-4f85-c800-e594fc6f4996"
      },
      "outputs": [
        {
          "output_type": "execute_result",
          "data": {
            "text/plain": [
              "['ChatGPT는 자연어 처리 기술을 활용한 대화형 AI 모델로, 사람과의 자유로운 대화를 통해 다양한 주제에 대해 대화할 수 있다. 사용자의 입력을 이해하고 그에 적절한 응답을 생성하여 자연스러운 대화를 제공한다. 다양한 분야에서 활용되며, 학습한 데이터에 따라 다양한 주제에 대해 높은 수준의 대화 가능성을 보여준다.',\n",
              " '인스타그램은 사진과 영상을 공유하는 소셜 미디어 플랫폼으로, 사용자들은 자신의 일상이나 취향을 공유하며 소통할 수 있습니다. 해시태그를 통해 관심사나 주제별로 포스트를 검색할 수 있고, 팔로워와 팔로잉을 통해 다른 사람들의 활동을 쉽게 확인할 수 있습니다. 또한 인스타그램 스토리 기능을 통해 일시적인 콘텐츠를 공유할 수 있어 소통과 엔터테인먼트의 장으로 활용되고 있습니다.']"
            ]
          },
          "metadata": {},
          "execution_count": 13
        }
      ],
      "source": [
        "# 주어진 토픽 리스트를 batch 처리하는 함수 호출\n",
        "chain.batch([{\"topic\": \"ChatGPT\"}, {\"topic\": \"Instagram\"}])"
      ]
    },
    {
      "cell_type": "code",
      "execution_count": 14,
      "id": "2d5398d9",
      "metadata": {
        "colab": {
          "base_uri": "https://localhost:8080/"
        },
        "id": "2d5398d9",
        "outputId": "7aa425be-13aa-4088-a859-5cfd1ad77d1d"
      },
      "outputs": [
        {
          "output_type": "execute_result",
          "data": {
            "text/plain": [
              "['ChatGPT는 인공지능 챗봇으로, 사람과 대화를 나누고 다양한 질문에 대답할 수 있습니다. 자연어 처리 기술을 기반으로 작동하며, 사용자들이 이용하는 언어에 맞춰 정확한 답변을 제공합니다. ChatGPT는 상황에 맞는 정보를 제공하고 사용자와의 상호작용을 통해 학습하며 더욱 발전해나가고 있습니다.',\n",
              " 'Instagram은 소셜 미디어 서비스로, 사용자들이 사진이나 동영상을 공유하고 다른 사람들과 소통하는 플랫폼이다. 유명인이나 브랜드, 일반 사용자들이 인스타그램을 통해 콘텐츠를 공유하며 팔로워들과 소통한다. 해시태그를 이용해 특정 주제나 관심사에 대해 검색하거나 다양한 콘텐츠를 탐색할 수 있다.',\n",
              " '멀티모달은 여러 가지 다른 형태의 통신 수단, 예를 들어 음성, 이미지, 텍스트 등을 결합하여 정보를 전달하는 방식을 말합니다. 이는 사용자들이 다양한 방법으로 정보를 이해하고 상호작용할 수 있도록 돕는다. 멀티모달은 인간과 기계, 기계 간의 상호작용을 더욱 효과적으로 만들어주는 중요한 기술이다.',\n",
              " '프로그래밍은 컴퓨터에게 명령을 내리고 원하는 작업을 수행하도록 하는 작업을 말합니다. 이를 위해 프로그래밍 언어를 사용하여 알고리즘을 구현하고 코드를 작성합니다. 프로그래밍을 통해 문제를 해결하고 새로운 소프트웨어를 개발할 수 있습니다.',\n",
              " '기계 학습은 컴퓨터 시스템이 데이터로부터 학습하고 패턴을 발견하여 예측이나 의사 결정을 내리는 인공 지능의 한 분야입니다. 이를 통해 컴퓨터는 반복 학습을 통해 최적의 솔루션을 도출하며, 사람의 개입이 줄어들어 보다 효율적인 문제 해결이 가능해집니다. 머신러닝은 다양한 분야에서 활용되며, 이미지 인식, 언어 번역, 금융 예측 등 다양한 영역에서 혁신적인 변화를 가져오고 있습니다.']"
            ]
          },
          "metadata": {},
          "execution_count": 14
        }
      ],
      "source": [
        "chain.batch(\n",
        "    [\n",
        "        {\"topic\": \"ChatGPT\"},\n",
        "        {\"topic\": \"Instagram\"},\n",
        "        {\"topic\": \"멀티모달\"},\n",
        "        {\"topic\": \"프로그래밍\"},\n",
        "        {\"topic\": \"머신러닝\"},\n",
        "    ],\n",
        "    config={\"max_concurrency\": 3},\n",
        ")"
      ]
    },
    {
      "cell_type": "markdown",
      "id": "ec64e4fd",
      "metadata": {
        "id": "ec64e4fd"
      },
      "source": [
        "## async stream: 비동기 스트림\n"
      ]
    },
    {
      "cell_type": "code",
      "execution_count": 15,
      "id": "3f8a9e91",
      "metadata": {
        "colab": {
          "base_uri": "https://localhost:8080/"
        },
        "id": "3f8a9e91",
        "outputId": "33e81e0a-9be7-467a-e97e-81bfa30a9d23"
      },
      "outputs": [
        {
          "output_type": "stream",
          "name": "stdout",
          "text": [
            "YouTube는 전 세계에서 가장 대중적인 동영상 공유 플랫폼으로, 사용자들이 자신의 동영상을 업로드하고 시청할 수 있는 서비스이다. 다양한 콘텐츠를 제공하며 음악, 미디어, 교육, 블로그 등 각종 장르의 동영상을 시청할 수 있다. 또한 유명한 크리에이터들이 활동하는 곳으로, 수많은 팬들이 그들의 컨텐츠를 구독하고 응원한다."
          ]
        }
      ],
      "source": [
        "# 비동기 스트림을 사용하여 'YouTube' 토픽의 메시지를 처리합니다.\n",
        "async for token in chain.astream({\"topic\": \"YouTube\"}):\n",
        "    # 메시지 내용을 출력합니다. 줄바꿈 없이 바로 출력하고 버퍼를 비웁니다.\n",
        "    print(token, end=\"\", flush=True)"
      ]
    },
    {
      "cell_type": "markdown",
      "id": "a33cb7e9",
      "metadata": {
        "id": "a33cb7e9"
      },
      "source": [
        "## async invoke: 비동기 호출\n"
      ]
    },
    {
      "cell_type": "code",
      "execution_count": 16,
      "id": "2038557a",
      "metadata": {
        "id": "2038557a"
      },
      "outputs": [],
      "source": [
        "# 비동기 체인 객체의 'ainvoke' 메서드를 호출하여 'NVDA' 토픽을 처리합니다.\n",
        "my_process = chain.ainvoke({\"topic\": \"NVDA\"})"
      ]
    },
    {
      "cell_type": "code",
      "execution_count": 17,
      "id": "ea8077cb",
      "metadata": {
        "colab": {
          "base_uri": "https://localhost:8080/",
          "height": 54
        },
        "id": "ea8077cb",
        "outputId": "013458f5-c871-49fe-f5db-dd8885b64c61"
      },
      "outputs": [
        {
          "output_type": "execute_result",
          "data": {
            "text/plain": [
              "'NVDA는 NVIDIA Corporation의 주식 코드이며, 미국의 반도체 기업으로 GPU 제조 및 판매를 주력으로 하고 있다.\\n\\nNVDA 주식은 기술주 중 하나로, 인공지능, 자율주행차, 가상현실 및 게임 분야에서 주요한 기술을 제공하고 있다.\\n\\nNVDA는 시장에서 안정적인 실적을 보이며 기존 대형 기술기업과의 경쟁력을 갖추고 있다.'"
            ],
            "application/vnd.google.colaboratory.intrinsic+json": {
              "type": "string"
            }
          },
          "metadata": {},
          "execution_count": 17
        }
      ],
      "source": [
        "# 비동기로 처리되는 프로세스가 완료될 때까지 기다립니다.\n",
        "await my_process"
      ]
    },
    {
      "cell_type": "markdown",
      "id": "1c466177",
      "metadata": {
        "id": "1c466177"
      },
      "source": [
        "## async batch: 비동기 배치\n"
      ]
    },
    {
      "cell_type": "code",
      "execution_count": 18,
      "id": "53a00116",
      "metadata": {
        "id": "53a00116"
      },
      "outputs": [],
      "source": [
        "# 주어진 토픽에 대해 비동기적으로 일괄 처리를 수행합니다.\n",
        "my_abatch_process = chain.abatch(\n",
        "    [{\"topic\": \"YouTube\"}, {\"topic\": \"Instagram\"}, {\"topic\": \"Facebook\"}]\n",
        ")"
      ]
    },
    {
      "cell_type": "code",
      "execution_count": 19,
      "id": "8823211b",
      "metadata": {
        "colab": {
          "base_uri": "https://localhost:8080/"
        },
        "id": "8823211b",
        "outputId": "e34f079e-b454-4af2-8ad5-bfa4545a56d3"
      },
      "outputs": [
        {
          "output_type": "execute_result",
          "data": {
            "text/plain": [
              "['유튜브는 구글이 소유하고 있는 동영상 공유 플랫폼으로, 온라인에서 다양한 동영상 컨텐츠를 시청할 수 있다. 사용자들은 자신의 채널을 만들어 동영상을 업로드하고 공유할 수 있으며, 댓글을 통해 소통할 수도 있다. 유튜브는 글로벌하게 인기 있는 온라인 동영상 플랫폼으로, 다양한 장르와 주제의 동영상을 즐길 수 있다.',\n",
              " '\"Instagram은 사진과 동영상을 공유하고 소셜 네트워크를 형성하는 플랫폼입니다.\"\\n\"사용자는 팔로우, 좋아요, 댓글 등을 통해 다른 사용자들과 소통할 수 있습니다.\"\\n\"인기 있는 인플루언서들이 활발하게 활동하는 곳으로도 유명하며, 광고 및 마케팅에도 많이 활용됩니다.\"',\n",
              " 'Facebook은 전 세계적으로 가장 인기 있는 소셜 네트워킹 서비스 중 하나이며, 사람들이 친구들과 가족과 소통하고 정보를 공유하는데 사용됩니다. 사용자들은 개인 프로필을 만들어 자신의 생활 이야기를 공유하고, 그룹에 가입하여 공통의 관심사를 공유할 수 있습니다. 또한 광고주에게는 효과적인 마케팅 플랫폼으로 활용되고 있습니다.']"
            ]
          },
          "metadata": {},
          "execution_count": 19
        }
      ],
      "source": [
        "# 비동기로 처리되는 일괄 처리 프로세스가 완료될 때까지 기다립니다.\n",
        "await my_abatch_process"
      ]
    },
    {
      "cell_type": "markdown",
      "id": "fe0b9377",
      "metadata": {
        "id": "fe0b9377"
      },
      "source": [
        "## Parallel: 병렬성\n"
      ]
    },
    {
      "cell_type": "code",
      "execution_count": 20,
      "id": "c2b42d05",
      "metadata": {
        "id": "c2b42d05"
      },
      "outputs": [],
      "source": [
        "from langchain_core.runnables import RunnableParallel\n",
        "\n",
        "# {country} 의 수도를 물어보는 체인을 생성합니다.\n",
        "chain1 = (\n",
        "    PromptTemplate.from_template(\"{country} 의 수도는 어디야?\")\n",
        "    | model\n",
        "    | StrOutputParser()\n",
        ")\n",
        "\n",
        "# {country} 의 면적을 물어보는 체인을 생성합니다.\n",
        "chain2 = (\n",
        "    PromptTemplate.from_template(\"{country} 의 면적은 얼마야?\")\n",
        "    | model\n",
        "    | StrOutputParser()\n",
        ")\n",
        "\n",
        "# 위의 2개 체인을 동시에 생성하는 병렬 실행 체인을 생성합니다.\n",
        "combined = RunnableParallel(capital=chain1, area=chain2)"
      ]
    },
    {
      "cell_type": "code",
      "execution_count": 21,
      "id": "f04dbce0",
      "metadata": {
        "colab": {
          "base_uri": "https://localhost:8080/",
          "height": 35
        },
        "id": "f04dbce0",
        "outputId": "54e18246-7587-4e71-8452-7af2a05cf2f0"
      },
      "outputs": [
        {
          "output_type": "execute_result",
          "data": {
            "text/plain": [
              "'대한민국의 수도는 서울이다.'"
            ],
            "application/vnd.google.colaboratory.intrinsic+json": {
              "type": "string"
            }
          },
          "metadata": {},
          "execution_count": 21
        }
      ],
      "source": [
        "# chain1 를 실행합니다.\n",
        "chain1.invoke({\"country\": \"대한민국\"})"
      ]
    },
    {
      "cell_type": "code",
      "execution_count": 22,
      "id": "5b055566",
      "metadata": {
        "colab": {
          "base_uri": "https://localhost:8080/",
          "height": 35
        },
        "id": "5b055566",
        "outputId": "7504f45c-1c91-467b-9224-bb78700b5cc2"
      },
      "outputs": [
        {
          "output_type": "execute_result",
          "data": {
            "text/plain": [
              "'미국의 총 면적은 약 9,833,520 km² 입니다.'"
            ],
            "application/vnd.google.colaboratory.intrinsic+json": {
              "type": "string"
            }
          },
          "metadata": {},
          "execution_count": 22
        }
      ],
      "source": [
        "# chain2 를 실행합니다.\n",
        "chain2.invoke({\"country\": \"미국\"})"
      ]
    },
    {
      "cell_type": "code",
      "execution_count": 23,
      "id": "6fa82d78",
      "metadata": {
        "colab": {
          "base_uri": "https://localhost:8080/"
        },
        "id": "6fa82d78",
        "outputId": "0ba94126-c364-4b5b-cb96-34d3c1c0ddfb"
      },
      "outputs": [
        {
          "output_type": "execute_result",
          "data": {
            "text/plain": [
              "{'capital': '대한민국의 수도는 서울이다.', 'area': '대한민국의 면적은 약 100,363 km² 입니다.'}"
            ]
          },
          "metadata": {},
          "execution_count": 23
        }
      ],
      "source": [
        "# 병렬 실행 체인을 실행합니다.\n",
        "combined.invoke({\"country\": \"대한민국\"})"
      ]
    },
    {
      "cell_type": "code",
      "execution_count": 24,
      "id": "0754e0ae",
      "metadata": {
        "colab": {
          "base_uri": "https://localhost:8080/"
        },
        "id": "0754e0ae",
        "outputId": "2a287abe-d29e-44dc-9338-e367d07e516b"
      },
      "outputs": [
        {
          "output_type": "execute_result",
          "data": {
            "text/plain": [
              "['대한민국의 수도는 서울입니다.', '미국의 수도는 워싱턴 D.C.입니다.']"
            ]
          },
          "metadata": {},
          "execution_count": 24
        }
      ],
      "source": [
        "# 배치 처리를 수행합니다.\n",
        "chain1.batch([{\"country\": \"대한민국\"}, {\"country\": \"미국\"}])"
      ]
    },
    {
      "cell_type": "code",
      "execution_count": 25,
      "id": "1f076b08",
      "metadata": {
        "colab": {
          "base_uri": "https://localhost:8080/"
        },
        "id": "1f076b08",
        "outputId": "9ba3f85c-450e-453e-fd28-d2500808ce31"
      },
      "outputs": [
        {
          "output_type": "execute_result",
          "data": {
            "text/plain": [
              "['대한민국의 면적은 약 100,363 제곱킬로미터입니다.', '미국의 면적은 대략 9,826,675 km² 입니다.']"
            ]
          },
          "metadata": {},
          "execution_count": 25
        }
      ],
      "source": [
        "# 배치 처리를 수행합니다.\n",
        "chain2.batch([{\"country\": \"대한민국\"}, {\"country\": \"미국\"}])"
      ]
    },
    {
      "cell_type": "code",
      "execution_count": 26,
      "id": "aeec745e",
      "metadata": {
        "colab": {
          "base_uri": "https://localhost:8080/"
        },
        "id": "aeec745e",
        "outputId": "fcb3a53d-3f85-4692-ca92-c4a8ec625efe"
      },
      "outputs": [
        {
          "output_type": "execute_result",
          "data": {
            "text/plain": [
              "[{'capital': '대한민국의 수도는 서울이야.', 'area': '대한민국의 면적은 약 100,363 제곱 킬로미터입니다.'},\n",
              " {'capital': '미국의 수도는 워싱턴 D.C.입니다.', 'area': '미국의 면적은 약 9,834만 제곱 킬로미터입니다.'}]"
            ]
          },
          "metadata": {},
          "execution_count": 26
        }
      ],
      "source": [
        "# 주어진 데이터를 배치로 처리합니다.\n",
        "combined.batch([{\"country\": \"대한민국\"}, {\"country\": \"미국\"}])"
      ]
    },
    {
      "cell_type": "code",
      "source": [],
      "metadata": {
        "id": "36QQTD275Z6x"
      },
      "id": "36QQTD275Z6x",
      "execution_count": null,
      "outputs": []
    },
    {
      "cell_type": "markdown",
      "metadata": {
        "id": "dRXAhfkSfSwI"
      },
      "source": [
        "## 데이터를 효과적으로 전달하는 방법\n",
        "\n",
        "- `RunnablePassthrough` 는 입력을 변경하지 않거나 추가 키를 더하여 전달할 수 있습니다.\n",
        "- `RunnablePassthrough()` 가 단독으로 호출되면, 단순히 입력을 받아 그대로 전달합니다.\n",
        "- `RunnablePassthrough.assign(...)` 방식으로 호출되면, 입력을 받아 assign 함수에 전달된 추가 인수를 추가합니다."
      ],
      "id": "dRXAhfkSfSwI"
    },
    {
      "cell_type": "markdown",
      "metadata": {
        "id": "XnCrqs_xfSwM"
      },
      "source": [
        "### RunnablePassthrough\n"
      ],
      "id": "XnCrqs_xfSwM"
    },
    {
      "cell_type": "code",
      "execution_count": 27,
      "metadata": {
        "id": "SETA3Ez-fSwM"
      },
      "outputs": [],
      "source": [
        "from langchain_core.prompts import PromptTemplate\n",
        "from langchain_openai import ChatOpenAI\n",
        "\n",
        "\n",
        "# prompt 와 llm 을 생성합니다.\n",
        "prompt = PromptTemplate.from_template(\"{num} 의 10배는?\")\n",
        "llm = ChatOpenAI(temperature=0)\n",
        "\n",
        "# chain 을 생성합니다.\n",
        "chain = prompt | llm"
      ],
      "id": "SETA3Ez-fSwM"
    },
    {
      "cell_type": "code",
      "execution_count": 28,
      "metadata": {
        "id": "lenY1FH_fSwN",
        "colab": {
          "base_uri": "https://localhost:8080/"
        },
        "outputId": "12f0867e-f5fc-47fc-e0bc-710687a81858"
      },
      "outputs": [
        {
          "output_type": "execute_result",
          "data": {
            "text/plain": [
              "AIMessage(content='50입니다.', additional_kwargs={'refusal': None}, response_metadata={'token_usage': {'completion_tokens': 3, 'prompt_tokens': 16, 'total_tokens': 19, 'completion_tokens_details': {'accepted_prediction_tokens': 0, 'audio_tokens': 0, 'reasoning_tokens': 0, 'rejected_prediction_tokens': 0}, 'prompt_tokens_details': {'audio_tokens': 0, 'cached_tokens': 0}}, 'model_name': 'gpt-3.5-turbo-0125', 'system_fingerprint': None, 'id': 'chatcmpl-C3cULNhEpSdzEmLpCVIfLyVXTUSvZ', 'finish_reason': 'stop', 'logprobs': None}, id='run-f47b478c-b1a5-4b55-9af3-036139930d77-0', usage_metadata={'input_tokens': 16, 'output_tokens': 3, 'total_tokens': 19, 'input_token_details': {'audio': 0, 'cache_read': 0}, 'output_token_details': {'audio': 0, 'reasoning': 0}})"
            ]
          },
          "metadata": {},
          "execution_count": 28
        }
      ],
      "source": [
        "# chain 을 실행합니다.\n",
        "chain.invoke({\"num\": 5})"
      ],
      "id": "lenY1FH_fSwN"
    },
    {
      "cell_type": "code",
      "execution_count": 29,
      "metadata": {
        "id": "GDhU2swyfSwP",
        "colab": {
          "base_uri": "https://localhost:8080/"
        },
        "outputId": "252186e1-a167-4042-f2f4-2995750bfa6c"
      },
      "outputs": [
        {
          "output_type": "execute_result",
          "data": {
            "text/plain": [
              "AIMessage(content='50', additional_kwargs={'refusal': None}, response_metadata={'token_usage': {'completion_tokens': 1, 'prompt_tokens': 16, 'total_tokens': 17, 'completion_tokens_details': {'accepted_prediction_tokens': 0, 'audio_tokens': 0, 'reasoning_tokens': 0, 'rejected_prediction_tokens': 0}, 'prompt_tokens_details': {'audio_tokens': 0, 'cached_tokens': 0}}, 'model_name': 'gpt-3.5-turbo-0125', 'system_fingerprint': None, 'id': 'chatcmpl-C3cUNSdnEVzMGcEfqpIgZEY9RV40H', 'finish_reason': 'stop', 'logprobs': None}, id='run-5d22a8f4-2f77-4161-a8e3-6070dfba3131-0', usage_metadata={'input_tokens': 16, 'output_tokens': 1, 'total_tokens': 17, 'input_token_details': {'audio': 0, 'cache_read': 0}, 'output_token_details': {'audio': 0, 'reasoning': 0}})"
            ]
          },
          "metadata": {},
          "execution_count": 29
        }
      ],
      "source": [
        "# chain 을 실행합니다.\n",
        "chain.invoke(5)"
      ],
      "id": "GDhU2swyfSwP"
    },
    {
      "cell_type": "code",
      "execution_count": 30,
      "metadata": {
        "id": "ijGEdgNnfSwP",
        "colab": {
          "base_uri": "https://localhost:8080/"
        },
        "outputId": "c0f9de9c-b9fb-406a-d379-944eb758864c"
      },
      "outputs": [
        {
          "output_type": "execute_result",
          "data": {
            "text/plain": [
              "{'num': 10}"
            ]
          },
          "metadata": {},
          "execution_count": 30
        }
      ],
      "source": [
        "from langchain_core.runnables import RunnablePassthrough\n",
        "\n",
        "# runnable\n",
        "RunnablePassthrough().invoke({\"num\": 10})"
      ],
      "id": "ijGEdgNnfSwP"
    },
    {
      "cell_type": "code",
      "execution_count": 31,
      "metadata": {
        "id": "LXM584MxfSwQ",
        "colab": {
          "base_uri": "https://localhost:8080/"
        },
        "outputId": "c0bdd3a3-2502-4d47-cb85-06676cb9b1c3"
      },
      "outputs": [
        {
          "output_type": "execute_result",
          "data": {
            "text/plain": [
              "AIMessage(content='10의 10배는 100입니다.', additional_kwargs={'refusal': None}, response_metadata={'token_usage': {'completion_tokens': 11, 'prompt_tokens': 16, 'total_tokens': 27, 'completion_tokens_details': {'accepted_prediction_tokens': 0, 'audio_tokens': 0, 'reasoning_tokens': 0, 'rejected_prediction_tokens': 0}, 'prompt_tokens_details': {'audio_tokens': 0, 'cached_tokens': 0}}, 'model_name': 'gpt-3.5-turbo-0125', 'system_fingerprint': None, 'id': 'chatcmpl-C3cUQP6tPf4gUtp5zpCsHjfxcAFWS', 'finish_reason': 'stop', 'logprobs': None}, id='run-302180cf-53d2-4132-b20a-591608851687-0', usage_metadata={'input_tokens': 16, 'output_tokens': 11, 'total_tokens': 27, 'input_token_details': {'audio': 0, 'cache_read': 0}, 'output_token_details': {'audio': 0, 'reasoning': 0}})"
            ]
          },
          "metadata": {},
          "execution_count": 31
        }
      ],
      "source": [
        "runnable_chain = {\"num\": RunnablePassthrough()} | prompt | ChatOpenAI()\n",
        "\n",
        "# dict 값이 RunnablePassthrough() 로 변경되었습니다.\n",
        "runnable_chain.invoke(10)"
      ],
      "id": "LXM584MxfSwQ"
    },
    {
      "cell_type": "code",
      "execution_count": 32,
      "metadata": {
        "id": "Tj4DSwPofSwR",
        "colab": {
          "base_uri": "https://localhost:8080/"
        },
        "outputId": "2aa8a5db-75bd-467e-ac87-9b0b252f5462"
      },
      "outputs": [
        {
          "output_type": "execute_result",
          "data": {
            "text/plain": [
              "{'num': 1}"
            ]
          },
          "metadata": {},
          "execution_count": 32
        }
      ],
      "source": [
        "RunnablePassthrough().invoke({\"num\": 1})"
      ],
      "id": "Tj4DSwPofSwR"
    },
    {
      "cell_type": "code",
      "execution_count": 33,
      "metadata": {
        "id": "LziOzWt4fSwS",
        "colab": {
          "base_uri": "https://localhost:8080/"
        },
        "outputId": "8fe228fe-4a43-402d-8059-ec24a7181665"
      },
      "outputs": [
        {
          "output_type": "execute_result",
          "data": {
            "text/plain": [
              "{'num': 1, 'new_num': 3}"
            ]
          },
          "metadata": {},
          "execution_count": 33
        }
      ],
      "source": [
        "# 입력 키: num, 할당(assign) 키: new_num\n",
        "(RunnablePassthrough.assign(new_num=lambda x: x[\"num\"] * 3)).invoke({\"num\": 1})"
      ],
      "id": "LziOzWt4fSwS"
    },
    {
      "cell_type": "markdown",
      "metadata": {
        "id": "uL3AT8K_fSwS"
      },
      "source": [
        "## RunnableParallel"
      ],
      "id": "uL3AT8K_fSwS"
    },
    {
      "cell_type": "code",
      "execution_count": 34,
      "metadata": {
        "id": "0BEpCkfwfSwS",
        "colab": {
          "base_uri": "https://localhost:8080/"
        },
        "outputId": "3659e780-0a78-42d0-d845-a9541e3f6f7f"
      },
      "outputs": [
        {
          "output_type": "execute_result",
          "data": {
            "text/plain": [
              "{'passed': {'num': 1}, 'extra': {'num': 1, 'mult': 3}, 'modified': 2}"
            ]
          },
          "metadata": {},
          "execution_count": 34
        }
      ],
      "source": [
        "from langchain_core.runnables import RunnableParallel\n",
        "\n",
        "# RunnableParallel 인스턴스를 생성합니다. 이 인스턴스는 여러 Runnable 인스턴스를 병렬로 실행할 수 있습니다.\n",
        "runnable = RunnableParallel(\n",
        "    # RunnablePassthrough 인스턴스를 'passed' 키워드 인자로 전달합니다. 이는 입력된 데이터를 그대로 통과시키는 역할을 합니다.\n",
        "    passed=RunnablePassthrough(),\n",
        "    # 'extra' 키워드 인자로 RunnablePassthrough.assign을 사용하여, 'mult' 람다 함수를 할당합니다. 이 함수는 입력된 딕셔너리의 'num' 키에 해당하는 값을 3배로 증가시킵니다.\n",
        "    extra=RunnablePassthrough.assign(mult=lambda x: x[\"num\"] * 3),\n",
        "    # 'modified' 키워드 인자로 람다 함수를 전달합니다. 이 함수는 입력된 딕셔너리의 'num' 키에 해당하는 값에 1을 더합니다.\n",
        "    modified=lambda x: x[\"num\"] + 1,\n",
        ")\n",
        "\n",
        "# runnable 인스턴스에 {'num': 1} 딕셔너리를 입력으로 전달하여 invoke 메소드를 호출합니다.\n",
        "runnable.invoke({\"num\": 1})"
      ],
      "id": "0BEpCkfwfSwS"
    },
    {
      "cell_type": "code",
      "execution_count": 35,
      "metadata": {
        "id": "iC_Beoy5fSwS"
      },
      "outputs": [],
      "source": [
        "chain1 = (\n",
        "    {\"country\": RunnablePassthrough()}\n",
        "    | PromptTemplate.from_template(\"{country} 의 수도는?\")\n",
        "    | ChatOpenAI()\n",
        ")\n",
        "chain2 = (\n",
        "    {\"country\": RunnablePassthrough()}\n",
        "    | PromptTemplate.from_template(\"{country} 의 면적은?\")\n",
        "    | ChatOpenAI()\n",
        ")"
      ],
      "id": "iC_Beoy5fSwS"
    },
    {
      "cell_type": "code",
      "execution_count": 36,
      "metadata": {
        "id": "BZOiHdd0fSwT",
        "colab": {
          "base_uri": "https://localhost:8080/"
        },
        "outputId": "d230112e-18ca-464b-8588-32b24687f773"
      },
      "outputs": [
        {
          "output_type": "execute_result",
          "data": {
            "text/plain": [
              "{'capital': AIMessage(content='서울특별시입니다.', additional_kwargs={'refusal': None}, response_metadata={'token_usage': {'completion_tokens': 10, 'prompt_tokens': 19, 'total_tokens': 29, 'completion_tokens_details': {'accepted_prediction_tokens': 0, 'audio_tokens': 0, 'reasoning_tokens': 0, 'rejected_prediction_tokens': 0}, 'prompt_tokens_details': {'audio_tokens': 0, 'cached_tokens': 0}}, 'model_name': 'gpt-3.5-turbo-0125', 'system_fingerprint': None, 'id': 'chatcmpl-C3cUXtspT37TS9Lkvhax5JLAd1u8m', 'finish_reason': 'stop', 'logprobs': None}, id='run-16acb64a-d8b9-4a5e-b2e1-382f83acab3a-0', usage_metadata={'input_tokens': 19, 'output_tokens': 10, 'total_tokens': 29, 'input_token_details': {'audio': 0, 'cache_read': 0}, 'output_token_details': {'audio': 0, 'reasoning': 0}}),\n",
              " 'area': AIMessage(content='대한민국의 총 면적은 약 100,363 제곱킬로미터입니다.', additional_kwargs={'refusal': None}, response_metadata={'token_usage': {'completion_tokens': 30, 'prompt_tokens': 20, 'total_tokens': 50, 'completion_tokens_details': {'accepted_prediction_tokens': 0, 'audio_tokens': 0, 'reasoning_tokens': 0, 'rejected_prediction_tokens': 0}, 'prompt_tokens_details': {'audio_tokens': 0, 'cached_tokens': 0}}, 'model_name': 'gpt-3.5-turbo-0125', 'system_fingerprint': None, 'id': 'chatcmpl-C3cUXpn2oWkXb4AU6JsMwmpdd8fwO', 'finish_reason': 'stop', 'logprobs': None}, id='run-6bfff30e-54e5-4b8a-a3e3-7444e63dc6b5-0', usage_metadata={'input_tokens': 20, 'output_tokens': 30, 'total_tokens': 50, 'input_token_details': {'audio': 0, 'cache_read': 0}, 'output_token_details': {'audio': 0, 'reasoning': 0}})}"
            ]
          },
          "metadata": {},
          "execution_count": 36
        }
      ],
      "source": [
        "combined_chain = RunnableParallel(capital=chain1, area=chain2)\n",
        "combined_chain.invoke(\"대한민국\")"
      ],
      "id": "BZOiHdd0fSwT"
    },
    {
      "cell_type": "markdown",
      "metadata": {
        "id": "8Aa5U4kZfSwT"
      },
      "source": [
        "## RunnableLambda\n",
        "\n",
        "\n"
      ],
      "id": "8Aa5U4kZfSwT"
    },
    {
      "cell_type": "code",
      "execution_count": 37,
      "metadata": {
        "id": "D6QwPgZdfSwT",
        "colab": {
          "base_uri": "https://localhost:8080/",
          "height": 35
        },
        "outputId": "d2ce6c83-9d00-456d-a2ce-1c28cfef2b4a"
      },
      "outputs": [
        {
          "output_type": "execute_result",
          "data": {
            "text/plain": [
              "'Aug-12'"
            ],
            "application/vnd.google.colaboratory.intrinsic+json": {
              "type": "string"
            }
          },
          "metadata": {},
          "execution_count": 37
        }
      ],
      "source": [
        "from langchain_core.output_parsers import StrOutputParser\n",
        "from langchain_core.prompts import PromptTemplate\n",
        "from langchain_openai import ChatOpenAI\n",
        "from datetime import datetime\n",
        "\n",
        "\n",
        "def get_today(a):\n",
        "    # 오늘 날짜를 가져오기\n",
        "    return datetime.today().strftime(\"%b-%d\")\n",
        "\n",
        "\n",
        "# 오늘 날짜를 출력\n",
        "get_today(None)"
      ],
      "id": "D6QwPgZdfSwT"
    },
    {
      "cell_type": "code",
      "execution_count": 38,
      "metadata": {
        "id": "ecaD8QLkfSwT"
      },
      "outputs": [],
      "source": [
        "from langchain_core.runnables import RunnableLambda, RunnablePassthrough\n",
        "\n",
        "# prompt 와 llm 을 생성합니다.\n",
        "prompt = PromptTemplate.from_template(\n",
        "    \"{today} 가 생일인 유명인 {n} 명을 나열하세요. 생년월일을 표기해 주세요.\"\n",
        ")\n",
        "llm = ChatOpenAI(temperature=0, model_name=\"gpt-4.1-mini\")\n",
        "\n",
        "# chain 을 생성합니다.\n",
        "chain = (\n",
        "    {\"today\": RunnableLambda(get_today), \"n\": RunnablePassthrough()}\n",
        "    | prompt\n",
        "    | llm\n",
        "    | StrOutputParser()\n",
        ")"
      ],
      "id": "ecaD8QLkfSwT"
    },
    {
      "cell_type": "code",
      "execution_count": 39,
      "metadata": {
        "id": "wGt58xXAfSwT",
        "colab": {
          "base_uri": "https://localhost:8080/"
        },
        "outputId": "1662ac97-fa4b-4d96-8430-1c6044f0834f"
      },
      "outputs": [
        {
          "output_type": "stream",
          "name": "stdout",
          "text": [
            "다음은 8월 12일이 생일인 유명인 3명입니다:\n",
            "\n",
            "1. 제니퍼 컨넬리 (Jennifer Connelly) - 1970년 8월 12일  \n",
            "2. 피터 폰다 (Peter Fonda) - 1940년 8월 12일  \n",
            "3. 헤일리 스테인펠드 (Hailee Steinfeld) - 1996년 8월 12일\n"
          ]
        }
      ],
      "source": [
        "# 출력\n",
        "print(chain.invoke(3))"
      ],
      "id": "wGt58xXAfSwT"
    },
    {
      "cell_type": "code",
      "execution_count": 40,
      "metadata": {
        "id": "QZoYkqOefSwU"
      },
      "outputs": [],
      "source": [
        "from operator import itemgetter\n",
        "\n",
        "from langchain_core.prompts import ChatPromptTemplate\n",
        "from langchain_core.runnables import RunnableLambda\n",
        "from langchain_openai import ChatOpenAI\n",
        "\n",
        "\n",
        "# 문장의 길이를 반환하는 함수입니다.\n",
        "def length_function(text):\n",
        "    return len(text)\n",
        "\n",
        "\n",
        "# 두 문장의 길이를 곱한 값을 반환하는 함수입니다.\n",
        "def _multiple_length_function(text1, text2):\n",
        "    return len(text1) * len(text2)\n",
        "\n",
        "\n",
        "# _multiple_length_function 함수를 사용하여 두 문장의 길이를 곱한 값을 반환하는 함수입니다.\n",
        "def multiple_length_function(_dict):\n",
        "    return _multiple_length_function(_dict[\"text1\"], _dict[\"text2\"])\n",
        "\n",
        "\n",
        "prompt = ChatPromptTemplate.from_template(\"{a} + {b} 는 무엇인가요?\")\n",
        "model = ChatOpenAI()\n",
        "\n",
        "chain1 = prompt | model\n",
        "\n",
        "chain = (\n",
        "    {\n",
        "        \"a\": itemgetter(\"word1\") | RunnableLambda(length_function),\n",
        "        \"b\": {\"text1\": itemgetter(\"word1\"), \"text2\": itemgetter(\"word2\")}\n",
        "        | RunnableLambda(multiple_length_function),\n",
        "    }\n",
        "    | prompt\n",
        "    | model\n",
        ")"
      ],
      "id": "QZoYkqOefSwU"
    },
    {
      "cell_type": "code",
      "execution_count": 41,
      "metadata": {
        "id": "OvDzWWjufSwU",
        "colab": {
          "base_uri": "https://localhost:8080/"
        },
        "outputId": "aff090b0-e9c8-4637-c210-0c6bdc44666e"
      },
      "outputs": [
        {
          "output_type": "execute_result",
          "data": {
            "text/plain": [
              "AIMessage(content='5 + 25는 30입니다.', additional_kwargs={'refusal': None}, response_metadata={'token_usage': {'completion_tokens': 9, 'prompt_tokens': 22, 'total_tokens': 31, 'completion_tokens_details': {'accepted_prediction_tokens': 0, 'audio_tokens': 0, 'reasoning_tokens': 0, 'rejected_prediction_tokens': 0}, 'prompt_tokens_details': {'audio_tokens': 0, 'cached_tokens': 0}}, 'model_name': 'gpt-3.5-turbo-0125', 'system_fingerprint': None, 'id': 'chatcmpl-C3cUfZpx313uVYGK29ijXwOOhWb4F', 'finish_reason': 'stop', 'logprobs': None}, id='run-362f6d2a-5605-4c78-830a-fdfa1c98645e-0', usage_metadata={'input_tokens': 22, 'output_tokens': 9, 'total_tokens': 31, 'input_token_details': {'audio': 0, 'cache_read': 0}, 'output_token_details': {'audio': 0, 'reasoning': 0}})"
            ]
          },
          "metadata": {},
          "execution_count": 41
        }
      ],
      "source": [
        "chain.invoke({\"word1\": \"hello\", \"word2\": \"world\"})"
      ],
      "id": "OvDzWWjufSwU"
    }
  ],
  "metadata": {
    "kernelspec": {
      "display_name": "py-test",
      "language": "python",
      "name": "python3"
    },
    "language_info": {
      "codemirror_mode": {
        "name": "ipython",
        "version": 3
      },
      "file_extension": ".py",
      "mimetype": "text/x-python",
      "name": "python",
      "nbconvert_exporter": "python",
      "pygments_lexer": "ipython3",
      "version": "3.10.13"
    },
    "colab": {
      "provenance": [],
      "include_colab_link": true
    }
  },
  "nbformat": 4,
  "nbformat_minor": 5
}