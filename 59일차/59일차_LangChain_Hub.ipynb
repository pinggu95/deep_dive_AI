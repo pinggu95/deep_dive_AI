{
  "cells": [
    {
      "cell_type": "markdown",
      "metadata": {
        "id": "view-in-github",
        "colab_type": "text"
      },
      "source": [
        "<a href=\"https://colab.research.google.com/github/pinggu95/deep_dive_AI/blob/main/59%EC%9D%BC%EC%B0%A8/59%EC%9D%BC%EC%B0%A8_LangChain_Hub.ipynb\" target=\"_parent\"><img src=\"https://colab.research.google.com/assets/colab-badge.svg\" alt=\"Open In Colab\"/></a>"
      ]
    },
    {
      "cell_type": "markdown",
      "metadata": {
        "id": "eua7dkyM6oHP"
      },
      "source": [
        "## Hub로부터 Prompt 받아오기\n"
      ]
    },
    {
      "cell_type": "code",
      "source": [
        "!pip install -qU langsmith openai langchain_core"
      ],
      "metadata": {
        "id": "j0UHrKH3AAYn"
      },
      "execution_count": 1,
      "outputs": []
    },
    {
      "cell_type": "code",
      "source": [
        "!pip install python-dotenv"
      ],
      "metadata": {
        "colab": {
          "base_uri": "https://localhost:8080/"
        },
        "id": "d5U4sKiT_xmn",
        "outputId": "47df0834-58b8-48da-ca57-5b98d3cb66f8"
      },
      "execution_count": 2,
      "outputs": [
        {
          "output_type": "stream",
          "name": "stdout",
          "text": [
            "Requirement already satisfied: python-dotenv in /usr/local/lib/python3.11/dist-packages (1.1.1)\n"
          ]
        }
      ]
    },
    {
      "cell_type": "code",
      "source": [
        "from dotenv import load_dotenv\n",
        "\n",
        "load_dotenv()"
      ],
      "metadata": {
        "colab": {
          "base_uri": "https://localhost:8080/"
        },
        "id": "H7EuYhkyA14y",
        "outputId": "645023e5-f4f0-4e8a-cae5-00c983dd1537"
      },
      "execution_count": 3,
      "outputs": [
        {
          "output_type": "execute_result",
          "data": {
            "text/plain": [
              "True"
            ]
          },
          "metadata": {},
          "execution_count": 3
        }
      ]
    },
    {
      "cell_type": "code",
      "execution_count": 4,
      "metadata": {
        "id": "W5gbXWE26oHQ"
      },
      "outputs": [],
      "source": [
        "from langchain import hub\n",
        "\n",
        "# 가장 최신 버전의 프롬프트를 가져옵니다.\n",
        "prompt = hub.pull(\"rlm/rag-prompt\")"
      ]
    },
    {
      "cell_type": "code",
      "execution_count": 5,
      "metadata": {
        "colab": {
          "base_uri": "https://localhost:8080/"
        },
        "id": "-ZDExEpq6oHS",
        "outputId": "c4c06f89-df08-46c2-838b-12d5920a3ca9"
      },
      "outputs": [
        {
          "output_type": "stream",
          "name": "stdout",
          "text": [
            "input_variables=['context', 'question'] input_types={} partial_variables={} metadata={'lc_hub_owner': 'rlm', 'lc_hub_repo': 'rag-prompt', 'lc_hub_commit_hash': '50442af133e61576e74536c6556cefe1fac147cad032f4377b60c436e6cdcb6e'} messages=[HumanMessagePromptTemplate(prompt=PromptTemplate(input_variables=['context', 'question'], input_types={}, partial_variables={}, template=\"You are an assistant for question-answering tasks. Use the following pieces of retrieved context to answer the question. If you don't know the answer, just say that you don't know. Use three sentences maximum and keep the answer concise.\\nQuestion: {question} \\nContext: {context} \\nAnswer:\"), additional_kwargs={})]\n"
          ]
        }
      ],
      "source": [
        "# 프롬프트 내용 출력\n",
        "print(prompt)"
      ]
    },
    {
      "cell_type": "code",
      "execution_count": 6,
      "metadata": {
        "colab": {
          "base_uri": "https://localhost:8080/"
        },
        "id": "_qB-Qy_66oHS",
        "outputId": "c593a86e-2b22-45eb-a9da-b4e3a7859cb8"
      },
      "outputs": [
        {
          "output_type": "execute_result",
          "data": {
            "text/plain": [
              "ChatPromptTemplate(input_variables=['context', 'question'], input_types={}, partial_variables={}, metadata={'lc_hub_owner': 'rlm', 'lc_hub_repo': 'rag-prompt', 'lc_hub_commit_hash': '50442af133e61576e74536c6556cefe1fac147cad032f4377b60c436e6cdcb6e'}, messages=[HumanMessagePromptTemplate(prompt=PromptTemplate(input_variables=['context', 'question'], input_types={}, partial_variables={}, template=\"You are an assistant for question-answering tasks. Use the following pieces of retrieved context to answer the question. If you don't know the answer, just say that you don't know. Use three sentences maximum and keep the answer concise.\\nQuestion: {question} \\nContext: {context} \\nAnswer:\"), additional_kwargs={})])"
            ]
          },
          "metadata": {},
          "execution_count": 6
        }
      ],
      "source": [
        "# 특정 버전의 프롬프트를 가져오려면 버전 해시를 지정하세요\n",
        "prompt = hub.pull(\"rlm/rag-prompt:50442af1\")\n",
        "prompt"
      ]
    },
    {
      "cell_type": "markdown",
      "metadata": {
        "id": "Yq8sll1e6oHT"
      },
      "source": [
        "## Prompt Hub 에 자신의 프롬프트 등록\n"
      ]
    },
    {
      "cell_type": "code",
      "execution_count": 7,
      "metadata": {
        "colab": {
          "base_uri": "https://localhost:8080/"
        },
        "id": "wakCo0Za6oHT",
        "outputId": "5f71d1ef-4d80-4c4b-8280-c8e29c7f3f96"
      },
      "outputs": [
        {
          "output_type": "execute_result",
          "data": {
            "text/plain": [
              "ChatPromptTemplate(input_variables=['context'], input_types={}, partial_variables={}, messages=[HumanMessagePromptTemplate(prompt=PromptTemplate(input_variables=['context'], input_types={}, partial_variables={}, template='주어진 내용을 바탕으로 다음 문장을 요약하세요. 답변은 반드시 한글로 작성하세요\\n\\nCONTEXT: {context}\\n\\nSUMMARY:'), additional_kwargs={})])"
            ]
          },
          "metadata": {},
          "execution_count": 7
        }
      ],
      "source": [
        "from langchain.prompts import ChatPromptTemplate\n",
        "\n",
        "\n",
        "prompt = ChatPromptTemplate.from_template(\n",
        "    \"주어진 내용을 바탕으로 다음 문장을 요약하세요. 답변은 반드시 한글로 작성하세요\\n\\nCONTEXT: {context}\\n\\nSUMMARY:\"\n",
        ")\n",
        "prompt"
      ]
    },
    {
      "cell_type": "code",
      "source": [
        "import os\n",
        "os.environ[\"LANGSMITH_API_KEY\"] = \"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\"\n",
        "os.environ[\"LANGCHAIN_API_KEY\"] = os.environ[\"LANGSMITH_API_KEY\"]  # 호환용\n",
        "os.environ[\"LANGSMITH_ENDPOINT\"] = \"https://api.smith.langchain.com\""
      ],
      "metadata": {
        "id": "5xIGUlQjHUsw"
      },
      "execution_count": 8,
      "outputs": []
    },
    {
      "cell_type": "code",
      "execution_count": 15,
      "metadata": {
        "colab": {
          "base_uri": "https://localhost:8080/"
        },
        "id": "_qcAUB7J6oHV",
        "outputId": "eaa9fe09-9294-4bdb-b6d8-a4b784f5661b"
      },
      "outputs": [
        {
          "output_type": "stream",
          "name": "stdout",
          "text": [
            "https://smith.langchain.com/prompts/simple-summary-korean/ccf1dc3e?organizationId=c2ca201e-c511-4bb5-9ce4-b8f20a873b46\n"
          ]
        }
      ],
      "source": [
        "url = hub.push(\n",
        "    \"pinggunote/simple-summary-korean\",\n",
        "    prompt,\n",
        "    new_repo_is_public=True,\n",
        "    new_repo_description=\"Korean simple summary\"\n",
        ")\n",
        "print(url)"
      ]
    },
    {
      "cell_type": "markdown",
      "metadata": {
        "id": "LpEt6_d36oHV"
      },
      "source": [
        "다음은 Hub 에 성공적으로 업로드 된 후 출력입니다.\n",
        "\n",
        "`프롬프트명/해시`\n",
        "비공개 프롬프트는 핸들이 필요없다"
      ]
    },
    {
      "cell_type": "markdown",
      "metadata": {
        "id": "Ge3E0vVn6oHW"
      },
      "source": [
        "> 출력: 'https://smith.langchain.com/prompts/simple-summary-korean/ccf1dc3e?organizationId=c2ca201e-c511-4bb5-9ce4-b8f20a873b46'\n"
      ]
    },
    {
      "cell_type": "code",
      "execution_count": 16,
      "metadata": {
        "id": "JGIvXD3t6oHW"
      },
      "outputs": [],
      "source": [
        "from langchain import hub\n",
        "\n",
        "# 프롬프트를 허브로부터 가져옵니다.\n",
        "pulled_prompt = hub.pull(\"summary-korean\")"
      ]
    },
    {
      "cell_type": "code",
      "execution_count": 17,
      "metadata": {
        "colab": {
          "base_uri": "https://localhost:8080/"
        },
        "id": "K2MmXzuN6oHX",
        "outputId": "ae9cd00e-ce4f-42fe-8f13-f8c97df862c9"
      },
      "outputs": [
        {
          "output_type": "stream",
          "name": "stdout",
          "text": [
            "input_variables=['context'] input_types={} partial_variables={} metadata={'lc_hub_owner': '-', 'lc_hub_repo': 'summary-korean', 'lc_hub_commit_hash': 'de93adb6bb86de943383a02bd60acdcaa6a5d6f7876d2901439bbb30a5e90918'} messages=[HumanMessagePromptTemplate(prompt=PromptTemplate(input_variables=['context'], input_types={}, partial_variables={}, template='주어진 내용을 바탕으로 다음 문장을 요약하세요. 답변은 반드시 한글로 작성하세요\\n\\nCONTEXT: {context}\\n\\nSUMMARY:'), additional_kwargs={})]\n"
          ]
        }
      ],
      "source": [
        "# 프롬프트 내용 출력\n",
        "print(pulled_prompt)"
      ]
    },
    {
      "cell_type": "markdown",
      "source": [
        "# Personal-Prompts"
      ],
      "metadata": {
        "id": "II2LXagQSxOC"
      }
    },
    {
      "cell_type": "markdown",
      "metadata": {
        "id": "--hOJBYNSmmt"
      },
      "source": [
        "LangChain 아이디를 입력합니다.\n"
      ]
    },
    {
      "cell_type": "code",
      "execution_count": 18,
      "metadata": {
        "id": "-pYK4eMESmmv"
      },
      "outputs": [],
      "source": [
        "# Owner 지정\n",
        "PROMPT_OWNER = \"pinggunote\""
      ]
    },
    {
      "cell_type": "markdown",
      "metadata": {
        "id": "q9KLDg47Smmw"
      },
      "source": [
        "## 요약: Stuff Documents\n"
      ]
    },
    {
      "cell_type": "code",
      "execution_count": 19,
      "metadata": {
        "id": "Sec18hsfSmmw",
        "colab": {
          "base_uri": "https://localhost:8080/"
        },
        "outputId": "2bcec977-35f5-490e-9e41-fc2ade9f0aaf"
      },
      "outputs": [
        {
          "output_type": "execute_result",
          "data": {
            "text/plain": [
              "PromptTemplate(input_variables=['context'], input_types={}, partial_variables={}, template='Please summarize the sentence according to the following REQUEST.\\nREQUEST:\\n1. Summarize the main points in bullet points.\\n2. Each summarized sentence must start with an emoji that fits the meaning of the each sentence.\\n3. Use various emojis to make the summary more interesting.\\n4. DO NOT include any unnecessary information.\\n\\nCONTEXT:\\n{context}\\n\\nSUMMARY:\"\\n')"
            ]
          },
          "metadata": {},
          "execution_count": 19
        }
      ],
      "source": [
        "from langchain import hub\n",
        "from langchain.prompts import PromptTemplate\n",
        "\n",
        "prompt_title = \"summary-stuff-documents\"\n",
        "\n",
        "# 요약문을 작성하기 위한 프롬프트 정의 (직접 프롬프트를 작성하는 경우)\n",
        "prompt_template = \"\"\"Please summarize the sentence according to the following REQUEST.\n",
        "REQUEST:\n",
        "1. Summarize the main points in bullet points.\n",
        "2. Each summarized sentence must start with an emoji that fits the meaning of the each sentence.\n",
        "3. Use various emojis to make the summary more interesting.\n",
        "4. DO NOT include any unnecessary information.\n",
        "\n",
        "CONTEXT:\n",
        "{context}\n",
        "\n",
        "SUMMARY:\"\n",
        "\"\"\"\n",
        "prompt = PromptTemplate.from_template(prompt_template)\n",
        "prompt"
      ]
    },
    {
      "cell_type": "code",
      "execution_count": 20,
      "metadata": {
        "id": "r6C2n7LSSmmx",
        "colab": {
          "base_uri": "https://localhost:8080/",
          "height": 35
        },
        "outputId": "bb85026d-0c78-4337-e3db-9ce12c70a8f2"
      },
      "outputs": [
        {
          "output_type": "execute_result",
          "data": {
            "text/plain": [
              "'https://smith.langchain.com/prompts/summary-stuff-documents/ccf1dc3e?organizationId=c2ca201e-c511-4bb5-9ce4-b8f20a873b46'"
            ],
            "application/vnd.google.colaboratory.intrinsic+json": {
              "type": "string"
            }
          },
          "metadata": {},
          "execution_count": 20
        }
      ],
      "source": [
        "hub.push(f\"{PROMPT_OWNER}/{prompt_title}\", prompt,new_repo_is_public=True)"
      ]
    },
    {
      "cell_type": "markdown",
      "metadata": {
        "id": "mtzDw9iySmmy"
      },
      "source": [
        "## Map Prompt\n"
      ]
    },
    {
      "cell_type": "code",
      "execution_count": 21,
      "metadata": {
        "id": "lkyhS8yNSmmy",
        "colab": {
          "base_uri": "https://localhost:8080/"
        },
        "outputId": "424b5940-730c-4e7f-e415-fdff43cedfc0"
      },
      "outputs": [
        {
          "output_type": "execute_result",
          "data": {
            "text/plain": [
              "PromptTemplate(input_variables=['docs'], input_types={}, partial_variables={}, template='You are a helpful expert journalist in extracting the main themes from a GIVEN DOCUMENTS below.\\nPlease provide a comprehensive summary of the GIVEN DOCUMENTS in numbered list format.\\nThe summary should cover all the key points and main ideas presented in the original text, while also condensing the information into a concise and easy-to-understand format.\\nPlease ensure that the summary includes relevant details and examples that support the main ideas, while avoiding any unnecessary information or repetition.\\nThe length of the summary should be appropriate for the length and complexity of the original text, providing a clear and accurate overview without omitting any important information.\\n\\nGIVEN DOCUMENTS:\\n{docs}\\n\\nFORMAT:\\n1. main theme 1\\n2. main theme 2\\n3. main theme 3\\n...\\n\\nCAUTION:\\n- DO NOT list more than 5 main themes.\\n\\nHelpful Answer:\\n')"
            ]
          },
          "metadata": {},
          "execution_count": 21
        }
      ],
      "source": [
        "from langchain import hub\n",
        "from langchain.prompts import PromptTemplate\n",
        "\n",
        "prompt_title = \"map-prompt\"\n",
        "\n",
        "# 요약문을 작성하기 위한 프롬프트 정의 (직접 프롬프트를 작성하는 경우)\n",
        "prompt_template = \"\"\"You are a helpful expert journalist in extracting the main themes from a GIVEN DOCUMENTS below.\n",
        "Please provide a comprehensive summary of the GIVEN DOCUMENTS in numbered list format.\n",
        "The summary should cover all the key points and main ideas presented in the original text, while also condensing the information into a concise and easy-to-understand format.\n",
        "Please ensure that the summary includes relevant details and examples that support the main ideas, while avoiding any unnecessary information or repetition.\n",
        "The length of the summary should be appropriate for the length and complexity of the original text, providing a clear and accurate overview without omitting any important information.\n",
        "\n",
        "GIVEN DOCUMENTS:\n",
        "{docs}\n",
        "\n",
        "FORMAT:\n",
        "1. main theme 1\n",
        "2. main theme 2\n",
        "3. main theme 3\n",
        "...\n",
        "\n",
        "CAUTION:\n",
        "- DO NOT list more than 5 main themes.\n",
        "\n",
        "Helpful Answer:\n",
        "\"\"\"\n",
        "prompt = PromptTemplate.from_template(prompt_template)\n",
        "prompt"
      ]
    },
    {
      "cell_type": "code",
      "execution_count": 22,
      "metadata": {
        "id": "zhyP-IdaSmmz",
        "colab": {
          "base_uri": "https://localhost:8080/",
          "height": 35
        },
        "outputId": "b5e25283-6c8d-49c9-fb5d-be0fced71038"
      },
      "outputs": [
        {
          "output_type": "execute_result",
          "data": {
            "text/plain": [
              "'https://smith.langchain.com/prompts/map-prompt/812d4f62?organizationId=c2ca201e-c511-4bb5-9ce4-b8f20a873b46'"
            ],
            "application/vnd.google.colaboratory.intrinsic+json": {
              "type": "string"
            }
          },
          "metadata": {},
          "execution_count": 22
        }
      ],
      "source": [
        "hub.push(f\"{PROMPT_OWNER}/{prompt_title}\", prompt,new_repo_is_public=True)"
      ]
    },
    {
      "cell_type": "markdown",
      "metadata": {
        "id": "yTntFdhvSmm0"
      },
      "source": [
        "## Reduce Prompt\n"
      ]
    },
    {
      "cell_type": "code",
      "execution_count": 30,
      "metadata": {
        "id": "cFjYEWC4Smm0",
        "colab": {
          "base_uri": "https://localhost:8080/"
        },
        "outputId": "e0658f67-68a0-4b82-ed40-c827d848f027"
      },
      "outputs": [
        {
          "output_type": "execute_result",
          "data": {
            "text/plain": [
              "PromptTemplate(input_variables=['doc_summaries'], input_types={}, partial_variables={}, template='You are a helpful expert in summary writing.\\nYou are given numbered lists of summaries.\\nExtract top 10 most important insights from the summaries.\\nThen, write a summary of the insights in KOREAN.\\n\\nLIST OF SUMMARIES:\\n{doc_summaries}\\n\\nHelpful Answer:\\n')"
            ]
          },
          "metadata": {},
          "execution_count": 30
        }
      ],
      "source": [
        "from langchain import hub\n",
        "from langchain.prompts import PromptTemplate\n",
        "\n",
        "prompt_title = \"reduce-prompt\"\n",
        "\n",
        "# 요약문을 작성하기 위한 프롬프트 정의 (직접 프롬프트를 작성하는 경우)\n",
        "prompt_template = \"\"\"You are a helpful expert in summary writing.\n",
        "You are given numbered lists of summaries.\n",
        "Extract top 10 most important insights from the summaries.\n",
        "Then, write a summary of the insights in KOREAN.\n",
        "\n",
        "LIST OF SUMMARIES:\n",
        "{doc_summaries}\n",
        "\n",
        "Helpful Answer:\n",
        "\"\"\"\n",
        "prompt = PromptTemplate.from_template(prompt_template)\n",
        "prompt"
      ]
    },
    {
      "cell_type": "code",
      "execution_count": 31,
      "metadata": {
        "id": "M7gpVEXoSmm0",
        "colab": {
          "base_uri": "https://localhost:8080/",
          "height": 35
        },
        "outputId": "3a1089b9-6c7b-48b6-8453-adb27442cb28"
      },
      "outputs": [
        {
          "output_type": "execute_result",
          "data": {
            "text/plain": [
              "'https://smith.langchain.com/prompts/reduce-prompt/5c5d853c?organizationId=c2ca201e-c511-4bb5-9ce4-b8f20a873b46'"
            ],
            "application/vnd.google.colaboratory.intrinsic+json": {
              "type": "string"
            }
          },
          "metadata": {},
          "execution_count": 31
        }
      ],
      "source": [
        "hub.push(f\"{PROMPT_OWNER}/{prompt_title}\", prompt,new_repo_is_public=True)"
      ]
    },
    {
      "cell_type": "code",
      "execution_count": 32,
      "metadata": {
        "id": "_Enn9tgFSmm1",
        "colab": {
          "base_uri": "https://localhost:8080/"
        },
        "outputId": "4b26d205-15f4-48c4-fb19-73b295dc59cb"
      },
      "outputs": [
        {
          "output_type": "execute_result",
          "data": {
            "text/plain": [
              "PromptTemplate(input_variables=['doc_summaries'], input_types={}, partial_variables={}, template='You are a helpful expert in summary writing. You are given lists of summaries.\\nPlease sum up previously summarized sentences according to the following REQUEST.\\nREQUEST:\\n1. Summarize the main points in bullet points in KOREAN.\\n2. Each summarized sentence must start with an emoji that fits the meaning of the each sentence.\\n3. Use various emojis to make the summary more interesting.\\n4. MOST IMPORTANT points should be organized at the top of the list.\\n5. DO NOT include any unnecessary information.\\n\\nLIST OF SUMMARIES:\\n{doc_summaries}\\n\\nHelpful Answer: ')"
            ]
          },
          "metadata": {},
          "execution_count": 32
        }
      ],
      "source": [
        "from langchain import hub\n",
        "from langchain.prompts import PromptTemplate\n",
        "\n",
        "prompt_title = \"chain-of-density-reduce-korean\"\n",
        "\n",
        "# 요약문을 작성하기 위한 프롬프트 정의 (직접 프롬프트를 작성하는 경우)\n",
        "prompt_template = \"\"\"You are a helpful expert in summary writing. You are given lists of summaries.\n",
        "Please sum up previously summarized sentences according to the following REQUEST.\n",
        "REQUEST:\n",
        "1. Summarize the main points in bullet points in KOREAN.\n",
        "2. Each summarized sentence must start with an emoji that fits the meaning of the each sentence.\n",
        "3. Use various emojis to make the summary more interesting.\n",
        "4. MOST IMPORTANT points should be organized at the top of the list.\n",
        "5. DO NOT include any unnecessary information.\n",
        "\n",
        "LIST OF SUMMARIES:\n",
        "{doc_summaries}\n",
        "\n",
        "Helpful Answer: \"\"\"\n",
        "prompt = PromptTemplate.from_template(prompt_template)\n",
        "prompt"
      ]
    },
    {
      "cell_type": "code",
      "execution_count": 33,
      "metadata": {
        "id": "2HFllJ6sSmm1",
        "colab": {
          "base_uri": "https://localhost:8080/",
          "height": 35
        },
        "outputId": "3827baa9-9c24-4668-84e8-5a1187f244f8"
      },
      "outputs": [
        {
          "output_type": "execute_result",
          "data": {
            "text/plain": [
              "'https://smith.langchain.com/prompts/chain-of-density-reduce-korean/45d0ab93?organizationId=c2ca201e-c511-4bb5-9ce4-b8f20a873b46'"
            ],
            "application/vnd.google.colaboratory.intrinsic+json": {
              "type": "string"
            }
          },
          "metadata": {},
          "execution_count": 33
        }
      ],
      "source": [
        "hub.push(f\"{PROMPT_OWNER}/{prompt_title}\", prompt,new_repo_is_public=True)"
      ]
    },
    {
      "cell_type": "markdown",
      "metadata": {
        "id": "38NNmr2bSmm1"
      },
      "source": [
        "## Metadata Tagger\n"
      ]
    },
    {
      "cell_type": "code",
      "execution_count": 34,
      "metadata": {
        "id": "qkyEq8_ISmm2",
        "colab": {
          "base_uri": "https://localhost:8080/"
        },
        "outputId": "30e6604c-4eeb-46ce-9858-0271b2341076"
      },
      "outputs": [
        {
          "output_type": "execute_result",
          "data": {
            "text/plain": [
              "ChatPromptTemplate(input_variables=['input'], input_types={}, partial_variables={}, messages=[HumanMessagePromptTemplate(prompt=PromptTemplate(input_variables=['input'], input_types={}, partial_variables={}, template=\"Given the following product review, conduct a comprehensive analysis to extract key aspects mentioned by the customer, with a focus on evaluating the product's design and distinguishing between positive aspects and areas for improvement.\\nIdentify primary features or attributes of the product that the customer appreciated or highlighted, specifically looking for mentions related to the feel of the keys, sound produced by the keys, overall user experience, charging aspect, and the design of the product, etc.\\nAssess the overall tone of the review (positive, neutral, or negative) based on the sentiment expressed about these attributes.\\nAdditionally, provide a detailed evaluation of the design, outline the positive aspects that the customer enjoyed, and note any areas of improvement or disappointment mentioned.\\nExtract the customer's rating of the product on a scale of 1 to 5, as indicated at the beginning of the review.\\nSummarize your findings in a structured JSON format, including an array of keywords, evaluations for design, satisfaction points, improvement areas, the assessed tone, and the numerical rating.\\n\\nINPUT:\\n{input}\\n\\n\"), additional_kwargs={})])"
            ]
          },
          "metadata": {},
          "execution_count": 34
        }
      ],
      "source": [
        "from langchain import hub\n",
        "from langchain.prompts import ChatPromptTemplate\n",
        "\n",
        "prompt_title = \"metadata-tagger\"\n",
        "\n",
        "# 요약문을 작성하기 위한 프롬프트 정의 (직접 프롬프트를 작성하는 경우)\n",
        "prompt_template = \"\"\"Given the following product review, conduct a comprehensive analysis to extract key aspects mentioned by the customer, with a focus on evaluating the product's design and distinguishing between positive aspects and areas for improvement.\n",
        "Identify primary features or attributes of the product that the customer appreciated or highlighted, specifically looking for mentions related to the feel of the keys, sound produced by the keys, overall user experience, charging aspect, and the design of the product, etc.\n",
        "Assess the overall tone of the review (positive, neutral, or negative) based on the sentiment expressed about these attributes.\n",
        "Additionally, provide a detailed evaluation of the design, outline the positive aspects that the customer enjoyed, and note any areas of improvement or disappointment mentioned.\n",
        "Extract the customer's rating of the product on a scale of 1 to 5, as indicated at the beginning of the review.\n",
        "Summarize your findings in a structured JSON format, including an array of keywords, evaluations for design, satisfaction points, improvement areas, the assessed tone, and the numerical rating.\n",
        "\n",
        "INPUT:\n",
        "{input}\n",
        "\n",
        "\"\"\"\n",
        "prompt = ChatPromptTemplate.from_template(prompt_template)\n",
        "prompt"
      ]
    },
    {
      "cell_type": "code",
      "execution_count": 35,
      "metadata": {
        "id": "pxqFF_7hSmm2",
        "colab": {
          "base_uri": "https://localhost:8080/",
          "height": 35
        },
        "outputId": "647ee684-7507-48b7-974f-60ce47b00811"
      },
      "outputs": [
        {
          "output_type": "execute_result",
          "data": {
            "text/plain": [
              "'https://smith.langchain.com/prompts/metadata-tagger/29f57eb7?organizationId=c2ca201e-c511-4bb5-9ce4-b8f20a873b46'"
            ],
            "application/vnd.google.colaboratory.intrinsic+json": {
              "type": "string"
            }
          },
          "metadata": {},
          "execution_count": 35
        }
      ],
      "source": [
        "hub.push(f\"{PROMPT_OWNER}/{prompt_title}\", prompt,new_repo_is_public=True)"
      ]
    },
    {
      "cell_type": "markdown",
      "metadata": {
        "id": "eGAaLSLpSmm2"
      },
      "source": [
        "## Chain of Density 요약"
      ]
    },
    {
      "cell_type": "code",
      "execution_count": 36,
      "metadata": {
        "id": "3SfsmWF7Smm2"
      },
      "outputs": [],
      "source": [
        "from langchain import hub\n",
        "from langchain.prompts import ChatPromptTemplate\n",
        "\n",
        "prompt_title = \"chain-of-density-korean\"\n",
        "\n",
        "# 요약문을 작성하기 위한 프롬프트 정의 (직접 프롬프트를 작성하는 경우)\n",
        "prompt = ChatPromptTemplate.from_template(\n",
        "    \"\"\"Article: {ARTICLE}\n",
        "You will generate increasingly concise, entity-dense summaries of the above article.\n",
        "\n",
        "Repeat the following 2 steps 5 times.\n",
        "\n",
        "Step 1. Identify 1-3 informative entities (\";\" delimited) from the article which are missing from the previously generated summary.\n",
        "Step 2. Write a new, denser summary of identical length which covers every entity and detail from the previous summary plus the missing entities.\n",
        "\n",
        "A missing entity is:\n",
        "- relevant to the main story,\n",
        "- specific yet concise (100 words or fewer),\n",
        "- novel (not in the previous summary),\n",
        "- faithful (present in the article),\n",
        "- anywhere (can be located anywhere in the article).\n",
        "\n",
        "Guidelines:\n",
        "\n",
        "- The first summary should be long (8-10 sentences, ~200 words) yet highly non-specific, containing little information beyond the entities marked as missing. Use overly verbose language and fillers (e.g., \"this article discusses\") to reach ~200 words.\n",
        "- Make every word count: rewrite the previous summary to improve flow and make space for additional entities.\n",
        "- Make space with fusion, compression, and removal of uninformative phrases like \"the article discusses\".\n",
        "- The summaries should become highly dense and concise yet self-contained, i.e., easily understood without the article.\n",
        "- Missing entities can appear anywhere in the new summary.\n",
        "- Never drop entities from the previous summary. If space cannot be made, add fewer new entities.\n",
        "\n",
        "Remember, use the exact same number of words for each summary.\n",
        "Answer in JSON. The JSON should be a list (length 5) of dictionaries whose keys are \"Missing_Entities\" and \"Denser_Summary\".\n",
        "Use only KOREAN language to reply.\"\"\"\n",
        ")"
      ]
    },
    {
      "cell_type": "code",
      "execution_count": 37,
      "metadata": {
        "id": "tWG2Nv-1Smm2",
        "colab": {
          "base_uri": "https://localhost:8080/",
          "height": 35
        },
        "outputId": "e81c1411-00c9-4e7f-ca0e-8d2b4b8b739e"
      },
      "outputs": [
        {
          "output_type": "execute_result",
          "data": {
            "text/plain": [
              "'https://smith.langchain.com/prompts/chain-of-density-korean/11c2a6be?organizationId=c2ca201e-c511-4bb5-9ce4-b8f20a873b46'"
            ],
            "application/vnd.google.colaboratory.intrinsic+json": {
              "type": "string"
            }
          },
          "metadata": {},
          "execution_count": 37
        }
      ],
      "source": [
        "hub.push(f\"{PROMPT_OWNER}/{prompt_title}\", prompt,new_repo_is_public=True)"
      ]
    },
    {
      "cell_type": "markdown",
      "metadata": {
        "id": "VHewY24WSmm3"
      },
      "source": [
        "## Chain of Density (Korean) - 2\n"
      ]
    },
    {
      "cell_type": "code",
      "execution_count": 38,
      "metadata": {
        "id": "nC0g2i4OSmm3"
      },
      "outputs": [],
      "source": [
        "from langchain import hub\n",
        "from langchain.prompts import ChatPromptTemplate\n",
        "\n",
        "prompt_title = \"chain-of-density-map-korean\"\n",
        "\n",
        "# 요약문을 작성하기 위한 프롬프트 정의 (직접 프롬프트를 작성하는 경우)\n",
        "prompt = ChatPromptTemplate.from_template(\n",
        "    \"\"\"Article: {ARTICLE}\n",
        "You will generate increasingly concise, entity-dense summaries of the above article.\n",
        "\n",
        "Repeat the following 2 steps 3 times.\n",
        "\n",
        "Step 1. Identify 1-3 informative entities (\";\" delimited) from the article which are missing from the previously generated summary.\n",
        "Step 2. Write a new, denser summary of identical length which covers every entity and detail from the previous summary plus the missing entities.\n",
        "\n",
        "A missing entity is:\n",
        "- relevant to the main story,\n",
        "- specific yet concise (100 words or fewer),\n",
        "- novel (not in the previous summary),\n",
        "- faithful (present in the article),\n",
        "- anywhere (can be located anywhere in the article).\n",
        "\n",
        "Guidelines:\n",
        "\n",
        "- The first summary should be long (8-10 sentences, ~200 words) yet highly non-specific, containing little information beyond the entities marked as missing. Use overly verbose language and fillers (e.g., \"this article discusses\") to reach ~200 words.\n",
        "- Make every word count: rewrite the previous summary to improve flow and make space for additional entities.\n",
        "- Make space with fusion, compression, and removal of uninformative phrases like \"the article discusses\".\n",
        "- The summaries should become highly dense and concise yet self-contained, i.e., easily understood without the article.\n",
        "- Missing entities can appear anywhere in the new summary.\n",
        "- Never drop entities from the previous summary. If space cannot be made, add fewer new entities.\n",
        "\n",
        "Remember, use the exact same number of words for each summary.\n",
        "Answer \"Missing Entities\" and \"Denser_Summary\" as in TEXT format.\n",
        "Use only KOREAN language to reply.\"\"\"\n",
        ")"
      ]
    },
    {
      "cell_type": "code",
      "execution_count": 39,
      "metadata": {
        "id": "ckK_sMt9Smm3",
        "colab": {
          "base_uri": "https://localhost:8080/",
          "height": 35
        },
        "outputId": "865c8b92-d96d-4a58-a858-fd3d2a65f0c1"
      },
      "outputs": [
        {
          "output_type": "execute_result",
          "data": {
            "text/plain": [
              "'https://smith.langchain.com/prompts/chain-of-density-map-korean/be25cff7?organizationId=c2ca201e-c511-4bb5-9ce4-b8f20a873b46'"
            ],
            "application/vnd.google.colaboratory.intrinsic+json": {
              "type": "string"
            }
          },
          "metadata": {},
          "execution_count": 39
        }
      ],
      "source": [
        "hub.push(f\"{PROMPT_OWNER}/{prompt_title}\", prompt,new_repo_is_public=True)"
      ]
    },
    {
      "cell_type": "markdown",
      "metadata": {
        "id": "Ql1J_eW1Smm3"
      },
      "source": [
        "## RAG 문서 프롬프트"
      ]
    },
    {
      "cell_type": "code",
      "execution_count": 40,
      "metadata": {
        "id": "89Q0ZPZ8Smm3"
      },
      "outputs": [],
      "source": [
        "prompt_title = \"rag-korean\""
      ]
    },
    {
      "cell_type": "code",
      "execution_count": 41,
      "metadata": {
        "id": "5_kxr0cASmm3"
      },
      "outputs": [],
      "source": [
        "system = \"\"\"당신은 질문-답변(Question-Answering)을 수행하는 친절한 AI 어시스턴트입니다. 당신의 임무는 주어진 문맥(context) 에서 주어진 질문(question) 에 답하는 것입니다.\n",
        "검색된 다음 문맥(context) 을 사용하여 질문(question) 에 답하세요. 만약, 주어진 문맥(context) 에서 답을 찾을 수 없다면, 답을 모른다면 `주어진 정보에서 질문에 대한 정보를 찾을 수 없습니다` 라고 답하세요.\n",
        "기술적인 용어나 이름은 번역하지 않고 그대로 사용해 주세요. 답변은 한글로 답변해 주세요.\"\"\"\n",
        "\n",
        "human = \"\"\"#Question:\n",
        "{question}\n",
        "\n",
        "#Context:\n",
        "{context}\n",
        "\n",
        "#Answer:\"\"\"\n",
        "\n",
        "from langchain.prompts import ChatPromptTemplate\n",
        "\n",
        "\n",
        "prompt = ChatPromptTemplate.from_messages([(\"system\", system), (\"human\", human)])"
      ]
    },
    {
      "cell_type": "code",
      "execution_count": 42,
      "metadata": {
        "id": "66VU_A5WSmm4",
        "colab": {
          "base_uri": "https://localhost:8080/",
          "height": 35
        },
        "outputId": "564ec0c5-bb14-4519-df72-574c7e504dd6"
      },
      "outputs": [
        {
          "output_type": "execute_result",
          "data": {
            "text/plain": [
              "'https://smith.langchain.com/prompts/rag-korean/73b53f5b?organizationId=c2ca201e-c511-4bb5-9ce4-b8f20a873b46'"
            ],
            "application/vnd.google.colaboratory.intrinsic+json": {
              "type": "string"
            }
          },
          "metadata": {},
          "execution_count": 42
        }
      ],
      "source": [
        "hub.push(f\"{PROMPT_OWNER}/{prompt_title}\", prompt, parent_commit_hash=\"latest\",new_repo_is_public=True)"
      ]
    },
    {
      "cell_type": "markdown",
      "metadata": {
        "id": "Ig-I_h_aSmm4"
      },
      "source": [
        "## RAG + 출처"
      ]
    },
    {
      "cell_type": "code",
      "execution_count": 43,
      "metadata": {
        "id": "8yixfzEDSmm4"
      },
      "outputs": [],
      "source": [
        "from langchain import hub\n",
        "from langchain.prompts import ChatPromptTemplate"
      ]
    },
    {
      "cell_type": "code",
      "execution_count": 44,
      "metadata": {
        "id": "AKWXKc7MSmm4"
      },
      "outputs": [],
      "source": [
        "prompt_title = \"rag-korean-with-source\""
      ]
    },
    {
      "cell_type": "code",
      "execution_count": 45,
      "metadata": {
        "id": "bfVY0viaSmm4"
      },
      "outputs": [],
      "source": [
        "system = \"\"\"당신은 질문-답변(Question-Answering)을 수행하는 친절한 AI 어시스턴트입니다. 당신의 임무는 주어진 문맥(context) 에서 주어진 질문(question) 에 답하는 것입니다.\n",
        "검색된 다음 문맥(context) 을 사용하여 질문(question) 에 답하세요. 만약, 주어진 문맥(context) 에서 답을 찾을 수 없다면, 답을 모른다면 `주어진 정보에서 질문에 대한 정보를 찾을 수 없습니다` 라고 답하세요.\n",
        "기술적인 용어나 이름은 번역하지 않고 그대로 사용해 주세요. 출처(page, source)를 답변헤 포함하세요. 답변은 한글로 답변해 주세요.\"\"\"\n",
        "\n",
        "human = \"\"\"#Question:\n",
        "{question}\n",
        "\n",
        "#Context:\n",
        "{context}\n",
        "\n",
        "#Answer:\"\"\"\n",
        "\n",
        "prompt = ChatPromptTemplate.from_messages([(\"system\", system), (\"human\", human)])"
      ]
    },
    {
      "cell_type": "code",
      "execution_count": 46,
      "metadata": {
        "id": "0KBKFwWXSmm5",
        "colab": {
          "base_uri": "https://localhost:8080/",
          "height": 35
        },
        "outputId": "c6fc6082-891d-4edf-88ce-d9c966891b4f"
      },
      "outputs": [
        {
          "output_type": "execute_result",
          "data": {
            "text/plain": [
              "'https://smith.langchain.com/prompts/rag-korean-with-source/6d91abe2?organizationId=c2ca201e-c511-4bb5-9ce4-b8f20a873b46'"
            ],
            "application/vnd.google.colaboratory.intrinsic+json": {
              "type": "string"
            }
          },
          "metadata": {},
          "execution_count": 46
        }
      ],
      "source": [
        "hub.push(f\"{PROMPT_OWNER}/{prompt_title}\", prompt, parent_commit_hash=\"latest\",new_repo_is_public=True)"
      ]
    }
  ],
  "metadata": {
    "kernelspec": {
      "display_name": "py-test",
      "language": "python",
      "name": "python3"
    },
    "language_info": {
      "codemirror_mode": {
        "name": "ipython",
        "version": 3
      },
      "file_extension": ".py",
      "mimetype": "text/x-python",
      "name": "python",
      "nbconvert_exporter": "python",
      "pygments_lexer": "ipython3",
      "version": "3.10.13"
    },
    "colab": {
      "provenance": [],
      "include_colab_link": true
    }
  },
  "nbformat": 4,
  "nbformat_minor": 0
}