{
  "nbformat": 4,
  "nbformat_minor": 0,
  "metadata": {
    "colab": {
      "provenance": [],
      "authorship_tag": "ABX9TyMatPAGUv2dck5+gTxucizc",
      "include_colab_link": true
    },
    "kernelspec": {
      "name": "python3",
      "display_name": "Python 3"
    },
    "language_info": {
      "name": "python"
    }
  },
  "cells": [
    {
      "cell_type": "markdown",
      "metadata": {
        "id": "view-in-github",
        "colab_type": "text"
      },
      "source": [
        "<a href=\"https://colab.research.google.com/github/pinggu95/deep_dive_AI/blob/main/%EA%B8%B0%EC%B4%88_%EC%88%98%ED%95%99_%EB%B2%A1%ED%84%B0%EC%9D%98_%EA%B8%B0%EB%B3%B8_%EC%97%B0%EC%82%B0.ipynb\" target=\"_parent\"><img src=\"https://colab.research.google.com/assets/colab-badge.svg\" alt=\"Open In Colab\"/></a>"
      ]
    },
    {
      "cell_type": "markdown",
      "source": [
        "# 1. 선형 방정식 계산\n",
        "\n",
        "### 2x + y = 5\n",
        "### x - y = 1"
      ],
      "metadata": {
        "id": "UdW1CEr9sCQX"
      }
    },
    {
      "cell_type": "code",
      "execution_count": 1,
      "metadata": {
        "colab": {
          "base_uri": "https://localhost:8080/"
        },
        "id": "Tgdpa5Tyr2zY",
        "outputId": "1ced33e6-4472-49f0-8c1b-3f48d7aca186"
      },
      "outputs": [
        {
          "output_type": "stream",
          "name": "stdout",
          "text": [
            "선형 방정식의 해: [2. 1.]\n"
          ]
        }
      ],
      "source": [
        "import numpy as np\n",
        "\n",
        "A = np.array([[2, 1], [1, -1]])\n",
        "B = np.array([5, 1])\n",
        "\n",
        "solution = np.linalg.solve(A, B)\n",
        "\n",
        "print(\"선형 방정식의 해:\", solution)  # [x, y]"
      ]
    },
    {
      "cell_type": "markdown",
      "source": [
        "# 벡터의 기본 연산 - 곱셈"
      ],
      "metadata": {
        "id": "xshImMhGsPFE"
      }
    },
    {
      "cell_type": "code",
      "source": [
        "v = np.array([1, 2, 3])\n",
        "scalar = 5\n",
        "result_mul = scalar * v\n",
        "\n",
        "print(\" 벡터 * 스칼라 결과:\", result_mul)"
      ],
      "metadata": {
        "colab": {
          "base_uri": "https://localhost:8080/"
        },
        "id": "HolKDIpUsPuQ",
        "outputId": "507918c6-3d35-4d2a-d725-c4c1ab12f6a8"
      },
      "execution_count": 2,
      "outputs": [
        {
          "output_type": "stream",
          "name": "stdout",
          "text": [
            " 벡터 * 스칼라 결과: [ 5 10 15]\n"
          ]
        }
      ]
    },
    {
      "cell_type": "markdown",
      "source": [
        "# 벡터의 기본 연산 - 덧셈"
      ],
      "metadata": {
        "id": "S7etnZJAsXKv"
      }
    },
    {
      "cell_type": "code",
      "source": [
        "v1 = np.array([1, 2, 3])\n",
        "v2 = np.array([4, 5, 6])\n",
        "result_add = v1 + v2\n",
        "\n",
        "print(\"벡터 덧셈 결과:\", result_add)"
      ],
      "metadata": {
        "colab": {
          "base_uri": "https://localhost:8080/"
        },
        "id": "YkWMf8EZsXdZ",
        "outputId": "5527cf56-db6f-4c0c-fc07-c0dbdaf10b47"
      },
      "execution_count": 3,
      "outputs": [
        {
          "output_type": "stream",
          "name": "stdout",
          "text": [
            "벡터 덧셈 결과: [5 7 9]\n"
          ]
        }
      ]
    },
    {
      "cell_type": "markdown",
      "source": [
        "#  벡터의 기본 연산 - 뺄셈"
      ],
      "metadata": {
        "id": "nFYVygULsfDC"
      }
    },
    {
      "cell_type": "code",
      "source": [
        "result_sub = v2 - v1\n",
        "\n",
        "print(\"벡터 뺄셈 결과:\", result_sub)"
      ],
      "metadata": {
        "colab": {
          "base_uri": "https://localhost:8080/"
        },
        "id": "s7nmvffXseXy",
        "outputId": "3aa63fcf-7ad7-4eb2-e02e-b0e9dfb96d88"
      },
      "execution_count": 4,
      "outputs": [
        {
          "output_type": "stream",
          "name": "stdout",
          "text": [
            "벡터 뺄셈 결과: [3 3 3]\n"
          ]
        }
      ]
    },
    {
      "cell_type": "markdown",
      "source": [
        "# 정규표현식으로 이메일 주소 추출"
      ],
      "metadata": {
        "id": "qSYMvDpqsl5r"
      }
    },
    {
      "cell_type": "code",
      "source": [
        "import re\n",
        "\n",
        "text = \"문의는 info@example.com 또는 help@domain.co.kr 로 보내주세요.\"\n",
        "\n",
        "emails = re.findall(r'[a-zA-Z0-9._%+-]+@[a-zA-Z0-9.-]+\\.[a-zA-Z]{2,}', text)\n",
        "\n",
        "print(\" 추출된 이메일 주소:\", emails)"
      ],
      "metadata": {
        "colab": {
          "base_uri": "https://localhost:8080/"
        },
        "id": "I5Ly1_1gsmNp",
        "outputId": "86ef6faa-01ea-47d5-ce74-d801e0535806"
      },
      "execution_count": 5,
      "outputs": [
        {
          "output_type": "stream",
          "name": "stdout",
          "text": [
            " 추출된 이메일 주소: ['info@example.com', 'help@domain.co.kr']\n"
          ]
        }
      ]
    }
  ]
}