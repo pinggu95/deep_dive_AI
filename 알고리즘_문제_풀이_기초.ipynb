{
  "nbformat": 4,
  "nbformat_minor": 0,
  "metadata": {
    "colab": {
      "provenance": [],
      "authorship_tag": "ABX9TyO3O4sTltgvgRVgPt0KmNZf",
      "include_colab_link": true
    },
    "kernelspec": {
      "name": "python3",
      "display_name": "Python 3"
    },
    "language_info": {
      "name": "python"
    }
  },
  "cells": [
    {
      "cell_type": "markdown",
      "metadata": {
        "id": "view-in-github",
        "colab_type": "text"
      },
      "source": [
        "<a href=\"https://colab.research.google.com/github/pinggu95/deep_dive_AI/blob/main/%EC%95%8C%EA%B3%A0%EB%A6%AC%EC%A6%98_%EB%AC%B8%EC%A0%9C_%ED%92%80%EC%9D%B4_%EA%B8%B0%EC%B4%88.ipynb\" target=\"_parent\"><img src=\"https://colab.research.google.com/assets/colab-badge.svg\" alt=\"Open In Colab\"/></a>"
      ]
    },
    {
      "cell_type": "markdown",
      "source": [
        "# 문서편집 (큐, 스택)\n",
        "<https://level.goorm.io/exam/347925/%EB%AC%B8%EC%84%9C-%ED%8E%B8%EC%A7%91%EA%B8%B0/quiz/1>"
      ],
      "metadata": {
        "id": "G6QWyMx5xIaT"
      }
    },
    {
      "cell_type": "code",
      "source": [
        "N, K = map(int, input().split())\n",
        "\n",
        "arr = []\n",
        "for _ in range(n):\n",
        "    row = list(map(int, input().split()))\n",
        "    arr.append(row)\n",
        "\n",
        "dx = [-1, -1, -1,  0, 0, 1, 1, 1]\n",
        "dy = [-1,  0,  1, -1, 1, -1, 0, 1]\n",
        "\n",
        "\n",
        "cnt = 0\n",
        "\n",
        "for i in range(n):\n",
        "    for j in range(m):\n",
        "        if arr[i][j] == 0:\n",
        "            total = 0\n",
        "            for d in range(8):\n",
        "                ni = i + dx[d]\n",
        "                nj = j + dy[d]\n",
        "                if 0 <= ni < n and 0 <= nj < m:\n",
        "                    total += arr[ni][nj]\n",
        "            if total == K:\n",
        "                cnt += 1\n",
        "\n",
        "print(cnt)"
      ],
      "metadata": {
        "id": "CbqNz4_NxH83"
      },
      "execution_count": null,
      "outputs": []
    },
    {
      "cell_type": "markdown",
      "source": [
        "#그래프 탐색 알고리즘 구현\n",
        "##bfs VS dfs\n",
        "<https://www.acmicpc.net/problem/1260>"
      ],
      "metadata": {
        "id": "AlkqVftixt91"
      }
    },
    {
      "cell_type": "code",
      "execution_count": null,
      "metadata": {
        "id": "suMbAvNEw8cZ"
      },
      "outputs": [],
      "source": [
        "from collections import deque\n",
        "\n",
        "N, M, V = map(int, input().split())\n",
        "\n",
        "graph = [[False] * (N + 1) for _ in range(N + 1)]\n",
        "\n",
        "for _ in range(M):\n",
        "    a, b = map(int, input().split())\n",
        "    graph[a][b] = True\n",
        "    graph[b][a] = True\n",
        "\n",
        "visited1 = [False] * (N + 1)  # dfs의 방문기록\n",
        "visited2 = [False] * (N + 1)  # bfs의 방문기록\n",
        "\n",
        "\n",
        "def bfs(V):\n",
        "    q = deque([V])  # pop메서드의 시간복잡도가 낮은 덱 내장 메서드를 이용한다\n",
        "    visited2[V] = True  # 해당 V 값을 방문처리\n",
        "    while q:  # q가 빌때까지 돈다.\n",
        "        V = q.popleft()  # 큐에 있는 첫번째 값 꺼낸다.\n",
        "        print(V, end=\" \")  # 해당 값 출력\n",
        "        for i in range(1, N + 1):  # 1부터 N까지 돈다\n",
        "            if not visited2[i] and graph[V][i]:  # 만약 해당 i값을 방문하지 않았고 V와 연결이 되어 있다면\n",
        "                q.append(i)  # 그 i 값을 추가\n",
        "                visited2[i] = True  # i 값을 방문처리\n",
        "\n",
        "\n",
        "def dfs(V):\n",
        "    visited1[V] = True  # 해당 V값 방문처리\n",
        "    print(V, end=\" \")\n",
        "    for i in range(1, N + 1):\n",
        "        if not visited1[i] and graph[V][i]:  # 만약 i값을 방문하지 않았고 V와 연결이 되어 있다면\n",
        "            dfs(i)  # 해당 i 값으로 dfs를 돈다.(더 깊이 탐색)\n",
        "\n",
        "\n",
        "dfs(V)\n",
        "print()\n",
        "bfs(V)"
      ]
    },
    {
      "cell_type": "markdown",
      "source": [
        "#재귀알고리즘\n",
        "## 트리 순회\n",
        "<https://www.acmicpc.net/problem/1991>"
      ],
      "metadata": {
        "id": "6aop4Oz6xUXt"
      }
    },
    {
      "cell_type": "code",
      "source": [
        "n = int(input())\n",
        "tree = {}\n",
        "for _ in range(n):\n",
        "    root, left, right = input().split()\n",
        "    tree[root] = [left, right]\n",
        "\n",
        "# root -> left -> right 순서\n",
        "def preorder(root):\n",
        "    if root != '.':\n",
        "        print(root, end='') # root\n",
        "        preorder(tree[root][0]) # left\n",
        "        preorder(tree[root][1]) # right\n",
        "# left -> root -> right 순서\n",
        "def inorder(root):\n",
        "    if root != '.':\n",
        "        inorder(tree[root][0]) # left\n",
        "        print(root, end='') # root\n",
        "        inorder(tree[root][1]) # right\n",
        "# left -> right -> root 순서\n",
        "def postorder(root):\n",
        "    if root != '.':\n",
        "        postorder(tree[root][0]) # left\n",
        "        postorder(tree[root][1]) # right\n",
        "        print(root, end='') # root\n",
        "\n",
        "preorder('A')\n",
        "print()\n",
        "inorder('A')\n",
        "print()\n",
        "postorder('A')"
      ],
      "metadata": {
        "id": "jn9jEfhRxtt0"
      },
      "execution_count": null,
      "outputs": []
    }
  ]
}